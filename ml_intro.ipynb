{
 "cells": [
  {
   "cell_type": "markdown",
   "metadata": {},
   "source": [
    "<div style=\"border:solid green 2px; padding: 20px\">\n",
    "<h2> Комментарий ревьюера </h2>\n",
    "    \n",
    "Привет :) Меня зовут Макеева Таня, и я буду делать ревью твоей работы. Предлагаю общаться на \"ты\", надеюсь, ты не против :)\n",
    "\n",
    "Мои комментарии ты сможешь найти по заголовку \"комментарий ревьюера\", а ещё они отмечены тремя цветами:   \n",
    " \n",
    "<div class=\"alert alert-danger\">\n",
    "<h2> Комментарий ревьюера </h2>\n",
    "    \n",
    "Красным цветом выделены более критические моменты, которые обязательно нужно исправить.\n",
    "    \n",
    "</div>\n",
    "\n",
    "<div class=\"alert alert-warning\">\n",
    "<h2> Комментарий ревьюера </h2>\n",
    "    \n",
    "Жёлтым цветом выделены некоторые недочёты, которые тоже стоит улучшить. Если они совсем незначительные и их немного, работа может быть принята.\n",
    "    \n",
    "</div>\n",
    "\n",
    "<div class=\"alert alert-success\">\n",
    "<h2> Комментарий ревьюера </h2>\n",
    "    \n",
    "И зелёным цветом выделены советы на будущее, а также места, которые получились у тебя лучше всего.\n",
    "    \n",
    "</div>\n",
    "\n",
    "\n",
    "Давай вести диалог через комментарии. Задавай вопросы, если такие будут, а также пиши об изменениях в ответ на мои комментарии. Пожалуйста, оставляй свои сообщения заметным цветом, отличным от моих, чтобы я ничего не упустила. \n",
    "\n",
    "<div class=\"alert alert-info\">\n",
    "<h2> Комментарий студента </h2>\n",
    "    \n",
    "Например, ты можешь оставлять свои сообщения так.\n",
    "    \n",
    "</div>\n",
    "\n",
    "И не удаляй комментарии, чтобы вся история общения была перед глазами :)"
   ]
  },
  {
   "cell_type": "markdown",
   "metadata": {},
   "source": [
    "<div class=\"alert alert-info\">\n",
    "Привет) Спасибо за ревью\n",
    "    \n",
    "</div>"
   ]
  },
  {
   "cell_type": "markdown",
   "metadata": {},
   "source": [
    "<div class=\"alert alert-success\">\n",
    "<h2> Комментарий ревьюера v2</h2>\n",
    "    \n",
    "Рада была проверить твою работу :)\n",
    "    \n",
    "Мои комментарии по второй версии будут с отметкой v2\n",
    "</div>"
   ]
  },
  {
   "cell_type": "markdown",
   "metadata": {},
   "source": [
    "# Рекомендация тарифов"
   ]
  },
  {
   "cell_type": "markdown",
   "metadata": {},
   "source": [
    "## Описание проекта"
   ]
  },
  {
   "cell_type": "markdown",
   "metadata": {},
   "source": [
    "Оператор мобильной связи «Мегалайн» выяснил: многие клиенты пользуются архивными тарифами. Они хотят построить систему, способную проанализировать поведение клиентов и предложить пользователям новый тариф: «Смарт» или «Ультра».\n",
    "\n",
    "В вашем распоряжении данные о поведении клиентов, которые уже перешли на эти тарифы (из проекта курса «Статистический анализ данных»). Нужно построить модель для задачи классификации, которая выберет подходящий тариф. Предобработка данных не понадобится — вы её уже сделали.\n",
    "\n",
    "Постройте модель с максимально большим значением *accuracy*. Чтобы сдать проект успешно, нужно довести долю правильных ответов по крайней мере до 0.75. Проверьте *accuracy* на тестовой выборке самостоятельно."
   ]
  },
  {
   "cell_type": "markdown",
   "metadata": {},
   "source": [
    "## Содержание\n",
    "* [1. Откройте и изучите файл](#open_file)\n",
    "* [2. Разбейте данные на выборки](#split_data)\n",
    "* [3. Исследуйте модели](#analyse_models)\n",
    "  * [Дерево решений](#analyse_models.decision_tree)\n",
    "  * [Случайный лес](#analyse_models.random_forest)\n",
    "  * [Логистическая регрессия](#analyse_models.logistic_regression)\n",
    "* [4. Проверьте модель на тестовой выборке](#test_models)\n",
    "* [5. Проверьте модели на адекватность](#models_adequacy)"
   ]
  },
  {
   "cell_type": "code",
   "execution_count": 1,
   "metadata": {},
   "outputs": [],
   "source": [
    "import pandas as pd \n",
    "import matplotlib.pyplot as plt\n",
    "\n",
    "from sklearn.model_selection import train_test_split\n",
    "\n",
    "from sklearn.tree import DecisionTreeClassifier\n",
    "from sklearn.ensemble import RandomForestClassifier\n",
    "from sklearn.linear_model import LogisticRegression\n",
    "\n",
    "from sklearn.metrics import accuracy_score\n",
    "\n",
    "from collections import namedtuple \n",
    "\n",
    "RANDOM_STATE = 12345\n",
    "\n",
    "def analyze_df(df):\n",
    "    rows_count, columns_count = df.shape\n",
    "    print('Количество стобцов:', columns_count)\n",
    "    print('Количество строк:', rows_count)\n",
    "    display(df.head(10))\n",
    "    display(df.describe())\n",
    "    df.info()\n",
    "\n",
    "def rows_ratio_for_dfs(first_df, second_df):\n",
    "    return first_df.shape[0] / second_df.shape[0]\n",
    "\n",
    "PredictionData = namedtuple('PredictionData', ('features_train', 'target_train', 'features_valid', 'target_valid'))\n",
    "\n",
    "class ScorePredictorFactory(object):\n",
    "    class ScorePredictor(object):\n",
    "        def __init__(self, prediction_data, model_class):\n",
    "            self._prediction_data = prediction_data\n",
    "            self._model_class = model_class\n",
    "            self._score = 0\n",
    "            self._params = {}\n",
    "\n",
    "        def predict_score(self, **params):\n",
    "            model = self._model_class(random_state=RANDOM_STATE, **params)\n",
    "            model.fit(self._prediction_data.features_train, self._prediction_data.target_train)\n",
    "            predictions_valid = model.predict(self._prediction_data.features_valid)\n",
    "            score = accuracy_score(self._prediction_data.target_valid, predictions_valid)  \n",
    "            \n",
    "            if score > self._score: \n",
    "                self._score = score\n",
    "                self._params = params\n",
    "            \n",
    "            return score\n",
    "        \n",
    "        @property\n",
    "        def score(self):\n",
    "            return self._score\n",
    "    \n",
    "        @property\n",
    "        def params(self):\n",
    "            return self._params\n",
    "    \n",
    "        def __str__(self):\n",
    "            return 'Лучшее значение кол-ва правильных ответов: {:.2%} при параметрах {}'.format(self.score, self.params)\n",
    "    \n",
    "    def __init__(self, features_train, target_train, features_valid, target_valid):\n",
    "        self._prediction_data = PredictionData(features_train, target_train, features_valid, target_valid)\n",
    "        \n",
    "    def new_predictor(self, model_class):\n",
    "        return self.ScorePredictor(self._prediction_data, model_class)"
   ]
  },
  {
   "cell_type": "markdown",
   "metadata": {},
   "source": [
    "<div class=\"alert alert-success\">\n",
    "<h2> Комментарий ревьюера </h2>\n",
    "    \n",
    "Отличное оформление кода! Я так понимаю, до практикума у тебя был опыт в программировании? :)\n",
    "   \n",
    "Как доп информация: ты сипользуешь accuracy_score() для расчёта точности модели, а ещё можно получить эту же метрику через model.score().\n",
    "    \n",
    "</div>"
   ]
  },
  {
   "cell_type": "markdown",
   "metadata": {},
   "source": [
    "<a name=\"open_file\"></a>\n",
    "## 1. Откройте и изучите файл"
   ]
  },
  {
   "cell_type": "markdown",
   "metadata": {},
   "source": [
    "**Описание данных**:\n",
    "- *сalls* — количество звонков\n",
    "- *minutes* — суммарная длительность звонков в минутах\n",
    "- *messages* — количество sms-сообщений\n",
    "- *mb_used* — израсходованный интернет-трафик в Мб\n",
    "- *is_ultra* — каким тарифом пользовался в течение месяца («Ультра» — 1, «Смарт» — 0)"
   ]
  },
  {
   "cell_type": "code",
   "execution_count": 2,
   "metadata": {},
   "outputs": [
    {
     "name": "stdout",
     "output_type": "stream",
     "text": [
      "Количество стобцов: 5\n",
      "Количество строк: 3214\n"
     ]
    },
    {
     "data": {
      "text/html": [
       "<div>\n",
       "<style scoped>\n",
       "    .dataframe tbody tr th:only-of-type {\n",
       "        vertical-align: middle;\n",
       "    }\n",
       "\n",
       "    .dataframe tbody tr th {\n",
       "        vertical-align: top;\n",
       "    }\n",
       "\n",
       "    .dataframe thead th {\n",
       "        text-align: right;\n",
       "    }\n",
       "</style>\n",
       "<table border=\"1\" class=\"dataframe\">\n",
       "  <thead>\n",
       "    <tr style=\"text-align: right;\">\n",
       "      <th></th>\n",
       "      <th>calls</th>\n",
       "      <th>minutes</th>\n",
       "      <th>messages</th>\n",
       "      <th>mb_used</th>\n",
       "      <th>is_ultra</th>\n",
       "    </tr>\n",
       "  </thead>\n",
       "  <tbody>\n",
       "    <tr>\n",
       "      <td>0</td>\n",
       "      <td>40.0</td>\n",
       "      <td>311.90</td>\n",
       "      <td>83.0</td>\n",
       "      <td>19915.42</td>\n",
       "      <td>0</td>\n",
       "    </tr>\n",
       "    <tr>\n",
       "      <td>1</td>\n",
       "      <td>85.0</td>\n",
       "      <td>516.75</td>\n",
       "      <td>56.0</td>\n",
       "      <td>22696.96</td>\n",
       "      <td>0</td>\n",
       "    </tr>\n",
       "    <tr>\n",
       "      <td>2</td>\n",
       "      <td>77.0</td>\n",
       "      <td>467.66</td>\n",
       "      <td>86.0</td>\n",
       "      <td>21060.45</td>\n",
       "      <td>0</td>\n",
       "    </tr>\n",
       "    <tr>\n",
       "      <td>3</td>\n",
       "      <td>106.0</td>\n",
       "      <td>745.53</td>\n",
       "      <td>81.0</td>\n",
       "      <td>8437.39</td>\n",
       "      <td>1</td>\n",
       "    </tr>\n",
       "    <tr>\n",
       "      <td>4</td>\n",
       "      <td>66.0</td>\n",
       "      <td>418.74</td>\n",
       "      <td>1.0</td>\n",
       "      <td>14502.75</td>\n",
       "      <td>0</td>\n",
       "    </tr>\n",
       "    <tr>\n",
       "      <td>5</td>\n",
       "      <td>58.0</td>\n",
       "      <td>344.56</td>\n",
       "      <td>21.0</td>\n",
       "      <td>15823.37</td>\n",
       "      <td>0</td>\n",
       "    </tr>\n",
       "    <tr>\n",
       "      <td>6</td>\n",
       "      <td>57.0</td>\n",
       "      <td>431.64</td>\n",
       "      <td>20.0</td>\n",
       "      <td>3738.90</td>\n",
       "      <td>1</td>\n",
       "    </tr>\n",
       "    <tr>\n",
       "      <td>7</td>\n",
       "      <td>15.0</td>\n",
       "      <td>132.40</td>\n",
       "      <td>6.0</td>\n",
       "      <td>21911.60</td>\n",
       "      <td>0</td>\n",
       "    </tr>\n",
       "    <tr>\n",
       "      <td>8</td>\n",
       "      <td>7.0</td>\n",
       "      <td>43.39</td>\n",
       "      <td>3.0</td>\n",
       "      <td>2538.67</td>\n",
       "      <td>1</td>\n",
       "    </tr>\n",
       "    <tr>\n",
       "      <td>9</td>\n",
       "      <td>90.0</td>\n",
       "      <td>665.41</td>\n",
       "      <td>38.0</td>\n",
       "      <td>17358.61</td>\n",
       "      <td>0</td>\n",
       "    </tr>\n",
       "  </tbody>\n",
       "</table>\n",
       "</div>"
      ],
      "text/plain": [
       "   calls  minutes  messages   mb_used  is_ultra\n",
       "0   40.0   311.90      83.0  19915.42         0\n",
       "1   85.0   516.75      56.0  22696.96         0\n",
       "2   77.0   467.66      86.0  21060.45         0\n",
       "3  106.0   745.53      81.0   8437.39         1\n",
       "4   66.0   418.74       1.0  14502.75         0\n",
       "5   58.0   344.56      21.0  15823.37         0\n",
       "6   57.0   431.64      20.0   3738.90         1\n",
       "7   15.0   132.40       6.0  21911.60         0\n",
       "8    7.0    43.39       3.0   2538.67         1\n",
       "9   90.0   665.41      38.0  17358.61         0"
      ]
     },
     "metadata": {},
     "output_type": "display_data"
    },
    {
     "data": {
      "text/html": [
       "<div>\n",
       "<style scoped>\n",
       "    .dataframe tbody tr th:only-of-type {\n",
       "        vertical-align: middle;\n",
       "    }\n",
       "\n",
       "    .dataframe tbody tr th {\n",
       "        vertical-align: top;\n",
       "    }\n",
       "\n",
       "    .dataframe thead th {\n",
       "        text-align: right;\n",
       "    }\n",
       "</style>\n",
       "<table border=\"1\" class=\"dataframe\">\n",
       "  <thead>\n",
       "    <tr style=\"text-align: right;\">\n",
       "      <th></th>\n",
       "      <th>calls</th>\n",
       "      <th>minutes</th>\n",
       "      <th>messages</th>\n",
       "      <th>mb_used</th>\n",
       "      <th>is_ultra</th>\n",
       "    </tr>\n",
       "  </thead>\n",
       "  <tbody>\n",
       "    <tr>\n",
       "      <td>count</td>\n",
       "      <td>3214.000000</td>\n",
       "      <td>3214.000000</td>\n",
       "      <td>3214.000000</td>\n",
       "      <td>3214.000000</td>\n",
       "      <td>3214.000000</td>\n",
       "    </tr>\n",
       "    <tr>\n",
       "      <td>mean</td>\n",
       "      <td>63.038892</td>\n",
       "      <td>438.208787</td>\n",
       "      <td>38.281269</td>\n",
       "      <td>17207.673836</td>\n",
       "      <td>0.306472</td>\n",
       "    </tr>\n",
       "    <tr>\n",
       "      <td>std</td>\n",
       "      <td>33.236368</td>\n",
       "      <td>234.569872</td>\n",
       "      <td>36.148326</td>\n",
       "      <td>7570.968246</td>\n",
       "      <td>0.461100</td>\n",
       "    </tr>\n",
       "    <tr>\n",
       "      <td>min</td>\n",
       "      <td>0.000000</td>\n",
       "      <td>0.000000</td>\n",
       "      <td>0.000000</td>\n",
       "      <td>0.000000</td>\n",
       "      <td>0.000000</td>\n",
       "    </tr>\n",
       "    <tr>\n",
       "      <td>25%</td>\n",
       "      <td>40.000000</td>\n",
       "      <td>274.575000</td>\n",
       "      <td>9.000000</td>\n",
       "      <td>12491.902500</td>\n",
       "      <td>0.000000</td>\n",
       "    </tr>\n",
       "    <tr>\n",
       "      <td>50%</td>\n",
       "      <td>62.000000</td>\n",
       "      <td>430.600000</td>\n",
       "      <td>30.000000</td>\n",
       "      <td>16943.235000</td>\n",
       "      <td>0.000000</td>\n",
       "    </tr>\n",
       "    <tr>\n",
       "      <td>75%</td>\n",
       "      <td>82.000000</td>\n",
       "      <td>571.927500</td>\n",
       "      <td>57.000000</td>\n",
       "      <td>21424.700000</td>\n",
       "      <td>1.000000</td>\n",
       "    </tr>\n",
       "    <tr>\n",
       "      <td>max</td>\n",
       "      <td>244.000000</td>\n",
       "      <td>1632.060000</td>\n",
       "      <td>224.000000</td>\n",
       "      <td>49745.730000</td>\n",
       "      <td>1.000000</td>\n",
       "    </tr>\n",
       "  </tbody>\n",
       "</table>\n",
       "</div>"
      ],
      "text/plain": [
       "             calls      minutes     messages       mb_used     is_ultra\n",
       "count  3214.000000  3214.000000  3214.000000   3214.000000  3214.000000\n",
       "mean     63.038892   438.208787    38.281269  17207.673836     0.306472\n",
       "std      33.236368   234.569872    36.148326   7570.968246     0.461100\n",
       "min       0.000000     0.000000     0.000000      0.000000     0.000000\n",
       "25%      40.000000   274.575000     9.000000  12491.902500     0.000000\n",
       "50%      62.000000   430.600000    30.000000  16943.235000     0.000000\n",
       "75%      82.000000   571.927500    57.000000  21424.700000     1.000000\n",
       "max     244.000000  1632.060000   224.000000  49745.730000     1.000000"
      ]
     },
     "metadata": {},
     "output_type": "display_data"
    },
    {
     "name": "stdout",
     "output_type": "stream",
     "text": [
      "<class 'pandas.core.frame.DataFrame'>\n",
      "RangeIndex: 3214 entries, 0 to 3213\n",
      "Data columns (total 5 columns):\n",
      "calls       3214 non-null float64\n",
      "minutes     3214 non-null float64\n",
      "messages    3214 non-null float64\n",
      "mb_used     3214 non-null float64\n",
      "is_ultra    3214 non-null int64\n",
      "dtypes: float64(4), int64(1)\n",
      "memory usage: 125.7 KB\n"
     ]
    }
   ],
   "source": [
    "users_df = pd.read_csv('/datasets/users_behavior.csv')\n",
    "analyze_df(users_df)"
   ]
  },
  {
   "cell_type": "markdown",
   "metadata": {},
   "source": [
    "**Выводы**:\n",
    "* Пропусков в данных нет \n",
    "* Строки названы верно \n",
    "* Тип `calls` можно поменять на `int` потому что этот столбец означает количество звонков\n",
    "* Тип `is_ultra` можно поменять на `bool`\n",
    "* Целевой признак - `is_ultra`, этот признак является категоральным "
   ]
  },
  {
   "cell_type": "code",
   "execution_count": 3,
   "metadata": {},
   "outputs": [
    {
     "name": "stdout",
     "output_type": "stream",
     "text": [
      "<class 'pandas.core.frame.DataFrame'>\n",
      "RangeIndex: 3214 entries, 0 to 3213\n",
      "Data columns (total 5 columns):\n",
      "calls       3214 non-null int64\n",
      "minutes     3214 non-null float64\n",
      "messages    3214 non-null float64\n",
      "mb_used     3214 non-null float64\n",
      "is_ultra    3214 non-null bool\n",
      "dtypes: bool(1), float64(3), int64(1)\n",
      "memory usage: 103.7 KB\n"
     ]
    }
   ],
   "source": [
    "users_df['calls'] = users_df['calls'].astype('int')\n",
    "users_df['is_ultra'] = users_df['is_ultra'].astype('bool')\n",
    "users_df.info()"
   ]
  },
  {
   "cell_type": "markdown",
   "metadata": {},
   "source": [
    "<div class=\"alert alert-warning\">\n",
    "<h2> Комментарий ревьюера </h2>\n",
    "    \n",
    "Давай уточним. calls - это не количество звонков, а суммарное количество минут. С этим учётом твой выбор изменения типа данных остаётся прежним? Приведи аргументы в ползу своего решения :)\n",
    "    \n",
    "</div>"
   ]
  },
  {
   "cell_type": "markdown",
   "metadata": {},
   "source": [
    "<div class=\"alert alert-info\">\n",
    "Если посмотреть на <b>описание данных</b>, то там написано, что <i>сalls</i> — количество звонков, а <i>minutes</i> — суммарная длительность звонков в минутах. Это правда, что к <i>int</i> можно приводить только количество звонков, потому что нецелого количества звонков не бывает. Но в нашем датасете для этого параметра вроде используется <i>calls</i> .\n",
    "</div>"
   ]
  },
  {
   "cell_type": "markdown",
   "metadata": {},
   "source": [
    "<div class=\"alert alert-success\">\n",
    "<h2> Комментарий ревьюера v2</h2>\n",
    "    \n",
    "Прошу прощения, перепутала столбцы. Ты всё сделал верно!\n",
    "    \n",
    "[Грустный ревьюер медленно катится под стол от неуместного комментария]\n",
    "</div>"
   ]
  },
  {
   "cell_type": "markdown",
   "metadata": {},
   "source": [
    "<a name=\"split_data\"></a>\n",
    "## 2. Разбейте данные на выборки"
   ]
  },
  {
   "cell_type": "markdown",
   "metadata": {},
   "source": [
    "Спрятанной тестовой выборки нет. Значит, данные нужно разбить на три части: обучающую, валидационную и тестовую. Размеры тестового и валидационного наборов обычно равны. Исходные данные разбивают в соотношении 3:1:1"
   ]
  },
  {
   "cell_type": "code",
   "execution_count": 4,
   "metadata": {},
   "outputs": [],
   "source": [
    "users_train_df, users_valid_df = train_test_split(users_df, test_size=0.4, random_state=RANDOM_STATE)\n",
    "users_valid_df, users_test_df = train_test_split(users_valid_df, test_size=0.5, random_state=RANDOM_STATE)"
   ]
  },
  {
   "cell_type": "markdown",
   "metadata": {},
   "source": [
    "Проверим, что разбили данные в правильном соотношении"
   ]
  },
  {
   "cell_type": "code",
   "execution_count": 5,
   "metadata": {},
   "outputs": [
    {
     "name": "stdout",
     "output_type": "stream",
     "text": [
      "59.99%\n",
      "20.01%\n",
      "20.01%\n"
     ]
    }
   ],
   "source": [
    "print('{:.2%}'.format(rows_ratio_for_dfs(users_train_df, users_df)))\n",
    "print('{:.2%}'.format(rows_ratio_for_dfs(users_valid_df, users_df)))\n",
    "print('{:.2%}'.format(rows_ratio_for_dfs(users_test_df, users_df)))"
   ]
  },
  {
   "cell_type": "markdown",
   "metadata": {},
   "source": [
    "<div class=\"alert alert-success\">\n",
    "<h2> Комментарий ревьюера </h2>\n",
    "    \n",
    "Выборки сформированы верно. Классно, что использовал функцию train_test_split для этого. Отлично :)\n",
    "    \n",
    "</div>"
   ]
  },
  {
   "cell_type": "markdown",
   "metadata": {},
   "source": [
    "<a name=\"analyse_models\"></a>\n",
    "## 3. Исследуйте модели"
   ]
  },
  {
   "cell_type": "markdown",
   "metadata": {},
   "source": [
    "Выделим фичи и целевой показатель `is_ultra` для обучающей и валидационной выборки"
   ]
  },
  {
   "cell_type": "code",
   "execution_count": 6,
   "metadata": {},
   "outputs": [],
   "source": [
    "features_train = users_train_df.drop(['is_ultra'], axis=1)\n",
    "target_train = users_train_df['is_ultra']\n",
    "\n",
    "features_valid = users_valid_df.drop(['is_ultra'], axis=1)\n",
    "target_valid = users_valid_df['is_ultra']\n",
    "\n",
    "users_score_predictor_factory = ScorePredictorFactory(features_train, target_train, features_valid, target_valid)"
   ]
  },
  {
   "cell_type": "markdown",
   "metadata": {},
   "source": [
    "<a name=\"analyse_models.decision_tree\"></a>\n",
    "### Дерево решений "
   ]
  },
  {
   "cell_type": "markdown",
   "metadata": {},
   "source": [
    "Будем перебирать гиперпараметр `max_depth`, который обозначает глубину решающего дерева "
   ]
  },
  {
   "cell_type": "code",
   "execution_count": 7,
   "metadata": {},
   "outputs": [
    {
     "data": {
      "image/png": "[encoded data removed]",
      "text/plain": [
       "<Figure size 720x360 with 1 Axes>"
      ]
     },
     "metadata": {
      "needs_background": "light"
     },
     "output_type": "display_data"
    },
    {
     "name": "stdout",
     "output_type": "stream",
     "text": [
      "Лучшее значение кол-ва правильных ответов: 78.54% при параметрах {'max_depth': 3}\n"
     ]
    }
   ],
   "source": [
    "decision_tree_predictor = users_score_predictor_factory.new_predictor(DecisionTreeClassifier)\n",
    "decision_tree_data = []\n",
    "\n",
    "for max_depth in range(1, 21, 1):\n",
    "    score = decision_tree_predictor.predict_score(max_depth=max_depth)\n",
    "    decision_tree_data.append((max_depth, score))\n",
    "\n",
    "pd.DataFrame(decision_tree_data).plot(x=0, y=1, grid=True, legend=False, xticks=range(1, 21), figsize=(10, 5)).set(xlabel='max_depth', ylabel = 'score')\n",
    "plt.show()\n",
    "print(decision_tree_predictor)"
   ]
  },
  {
   "cell_type": "markdown",
   "metadata": {},
   "source": [
    "**Вывод**: Наилучшее значение количества правильных ответов наблюдаем при значении `max_depth` = 3, после `max_depth` = 9 наблюдается переобучение."
   ]
  },
  {
   "cell_type": "markdown",
   "metadata": {},
   "source": [
    "<div class=\"alert alert-warning\">\n",
    "<h2> Комментарий ревьюера v2</h2>\n",
    "    \n",
    "Стоит добавить заголовок к графику и уточнить, на какой выборке считались метрики. Я так понимаю, что только на валидационной.\n",
    "</div>"
   ]
  },
  {
   "cell_type": "markdown",
   "metadata": {},
   "source": [
    "<div class=\"alert alert-success\">\n",
    "<h2> Комментарий ревьюера v2</h2>\n",
    "    \n",
    "Вывод по графику верный, но что бы быть в нём на 100% уверенным стоит дополнительно добавить сюда график метрики по обучающй выборке. Чтобы увидеть, что на обучающей всё просто супер, а здесь уже хуже.\n",
    "</div>"
   ]
  },
  {
   "cell_type": "markdown",
   "metadata": {},
   "source": [
    "<a name=\"analyse_models.random_forest\"></a>\n",
    "### Случайный лес "
   ]
  },
  {
   "cell_type": "markdown",
   "metadata": {},
   "source": [
    "Будем перебирать гиперпараметры `max_depth` и `n_estimators`, который обозначает количество деревьев для случайного леса"
   ]
  },
  {
   "cell_type": "code",
   "execution_count": 8,
   "metadata": {},
   "outputs": [
    {
     "data": {
      "text/html": [
       "<div>\n",
       "<style scoped>\n",
       "    .dataframe tbody tr th:only-of-type {\n",
       "        vertical-align: middle;\n",
       "    }\n",
       "\n",
       "    .dataframe tbody tr th {\n",
       "        vertical-align: top;\n",
       "    }\n",
       "\n",
       "    .dataframe thead th {\n",
       "        text-align: right;\n",
       "    }\n",
       "</style>\n",
       "<table border=\"1\" class=\"dataframe\">\n",
       "  <thead>\n",
       "    <tr style=\"text-align: right;\">\n",
       "      <th></th>\n",
       "      <th>max_depth</th>\n",
       "      <th>estim</th>\n",
       "      <th>score</th>\n",
       "    </tr>\n",
       "  </thead>\n",
       "  <tbody>\n",
       "    <tr>\n",
       "      <td>0</td>\n",
       "      <td>1</td>\n",
       "      <td>10</td>\n",
       "      <td>0.755832</td>\n",
       "    </tr>\n",
       "    <tr>\n",
       "      <td>1</td>\n",
       "      <td>1</td>\n",
       "      <td>20</td>\n",
       "      <td>0.766719</td>\n",
       "    </tr>\n",
       "    <tr>\n",
       "      <td>2</td>\n",
       "      <td>1</td>\n",
       "      <td>30</td>\n",
       "      <td>0.766719</td>\n",
       "    </tr>\n",
       "    <tr>\n",
       "      <td>3</td>\n",
       "      <td>1</td>\n",
       "      <td>40</td>\n",
       "      <td>0.776050</td>\n",
       "    </tr>\n",
       "    <tr>\n",
       "      <td>4</td>\n",
       "      <td>1</td>\n",
       "      <td>50</td>\n",
       "      <td>0.758942</td>\n",
       "    </tr>\n",
       "    <tr>\n",
       "      <td>5</td>\n",
       "      <td>2</td>\n",
       "      <td>10</td>\n",
       "      <td>0.777605</td>\n",
       "    </tr>\n",
       "    <tr>\n",
       "      <td>6</td>\n",
       "      <td>2</td>\n",
       "      <td>20</td>\n",
       "      <td>0.783826</td>\n",
       "    </tr>\n",
       "    <tr>\n",
       "      <td>7</td>\n",
       "      <td>2</td>\n",
       "      <td>30</td>\n",
       "      <td>0.783826</td>\n",
       "    </tr>\n",
       "    <tr>\n",
       "      <td>8</td>\n",
       "      <td>2</td>\n",
       "      <td>40</td>\n",
       "      <td>0.785381</td>\n",
       "    </tr>\n",
       "    <tr>\n",
       "      <td>9</td>\n",
       "      <td>2</td>\n",
       "      <td>50</td>\n",
       "      <td>0.783826</td>\n",
       "    </tr>\n",
       "    <tr>\n",
       "      <td>10</td>\n",
       "      <td>3</td>\n",
       "      <td>10</td>\n",
       "      <td>0.785381</td>\n",
       "    </tr>\n",
       "    <tr>\n",
       "      <td>11</td>\n",
       "      <td>3</td>\n",
       "      <td>20</td>\n",
       "      <td>0.786936</td>\n",
       "    </tr>\n",
       "    <tr>\n",
       "      <td>12</td>\n",
       "      <td>3</td>\n",
       "      <td>30</td>\n",
       "      <td>0.786936</td>\n",
       "    </tr>\n",
       "    <tr>\n",
       "      <td>13</td>\n",
       "      <td>3</td>\n",
       "      <td>40</td>\n",
       "      <td>0.786936</td>\n",
       "    </tr>\n",
       "    <tr>\n",
       "      <td>14</td>\n",
       "      <td>3</td>\n",
       "      <td>50</td>\n",
       "      <td>0.786936</td>\n",
       "    </tr>\n",
       "    <tr>\n",
       "      <td>15</td>\n",
       "      <td>4</td>\n",
       "      <td>10</td>\n",
       "      <td>0.790047</td>\n",
       "    </tr>\n",
       "    <tr>\n",
       "      <td>16</td>\n",
       "      <td>4</td>\n",
       "      <td>20</td>\n",
       "      <td>0.788491</td>\n",
       "    </tr>\n",
       "    <tr>\n",
       "      <td>17</td>\n",
       "      <td>4</td>\n",
       "      <td>30</td>\n",
       "      <td>0.786936</td>\n",
       "    </tr>\n",
       "    <tr>\n",
       "      <td>18</td>\n",
       "      <td>4</td>\n",
       "      <td>40</td>\n",
       "      <td>0.790047</td>\n",
       "    </tr>\n",
       "    <tr>\n",
       "      <td>19</td>\n",
       "      <td>4</td>\n",
       "      <td>50</td>\n",
       "      <td>0.786936</td>\n",
       "    </tr>\n",
       "    <tr>\n",
       "      <td>20</td>\n",
       "      <td>5</td>\n",
       "      <td>10</td>\n",
       "      <td>0.793157</td>\n",
       "    </tr>\n",
       "    <tr>\n",
       "      <td>21</td>\n",
       "      <td>5</td>\n",
       "      <td>20</td>\n",
       "      <td>0.790047</td>\n",
       "    </tr>\n",
       "    <tr>\n",
       "      <td>22</td>\n",
       "      <td>5</td>\n",
       "      <td>30</td>\n",
       "      <td>0.793157</td>\n",
       "    </tr>\n",
       "    <tr>\n",
       "      <td>23</td>\n",
       "      <td>5</td>\n",
       "      <td>40</td>\n",
       "      <td>0.794712</td>\n",
       "    </tr>\n",
       "    <tr>\n",
       "      <td>24</td>\n",
       "      <td>5</td>\n",
       "      <td>50</td>\n",
       "      <td>0.793157</td>\n",
       "    </tr>\n",
       "    <tr>\n",
       "      <td>25</td>\n",
       "      <td>6</td>\n",
       "      <td>10</td>\n",
       "      <td>0.800933</td>\n",
       "    </tr>\n",
       "    <tr>\n",
       "      <td>26</td>\n",
       "      <td>6</td>\n",
       "      <td>20</td>\n",
       "      <td>0.799378</td>\n",
       "    </tr>\n",
       "    <tr>\n",
       "      <td>27</td>\n",
       "      <td>6</td>\n",
       "      <td>30</td>\n",
       "      <td>0.800933</td>\n",
       "    </tr>\n",
       "    <tr>\n",
       "      <td>28</td>\n",
       "      <td>6</td>\n",
       "      <td>40</td>\n",
       "      <td>0.802488</td>\n",
       "    </tr>\n",
       "    <tr>\n",
       "      <td>29</td>\n",
       "      <td>6</td>\n",
       "      <td>50</td>\n",
       "      <td>0.799378</td>\n",
       "    </tr>\n",
       "    <tr>\n",
       "      <td>30</td>\n",
       "      <td>7</td>\n",
       "      <td>10</td>\n",
       "      <td>0.794712</td>\n",
       "    </tr>\n",
       "    <tr>\n",
       "      <td>31</td>\n",
       "      <td>7</td>\n",
       "      <td>20</td>\n",
       "      <td>0.800933</td>\n",
       "    </tr>\n",
       "    <tr>\n",
       "      <td>32</td>\n",
       "      <td>7</td>\n",
       "      <td>30</td>\n",
       "      <td>0.802488</td>\n",
       "    </tr>\n",
       "    <tr>\n",
       "      <td>33</td>\n",
       "      <td>7</td>\n",
       "      <td>40</td>\n",
       "      <td>0.802488</td>\n",
       "    </tr>\n",
       "    <tr>\n",
       "      <td>34</td>\n",
       "      <td>7</td>\n",
       "      <td>50</td>\n",
       "      <td>0.802488</td>\n",
       "    </tr>\n",
       "    <tr>\n",
       "      <td>35</td>\n",
       "      <td>8</td>\n",
       "      <td>10</td>\n",
       "      <td>0.796267</td>\n",
       "    </tr>\n",
       "    <tr>\n",
       "      <td>36</td>\n",
       "      <td>8</td>\n",
       "      <td>20</td>\n",
       "      <td>0.797823</td>\n",
       "    </tr>\n",
       "    <tr>\n",
       "      <td>37</td>\n",
       "      <td>8</td>\n",
       "      <td>30</td>\n",
       "      <td>0.799378</td>\n",
       "    </tr>\n",
       "    <tr>\n",
       "      <td>38</td>\n",
       "      <td>8</td>\n",
       "      <td>40</td>\n",
       "      <td>0.808709</td>\n",
       "    </tr>\n",
       "    <tr>\n",
       "      <td>39</td>\n",
       "      <td>8</td>\n",
       "      <td>50</td>\n",
       "      <td>0.807154</td>\n",
       "    </tr>\n",
       "    <tr>\n",
       "      <td>40</td>\n",
       "      <td>9</td>\n",
       "      <td>10</td>\n",
       "      <td>0.785381</td>\n",
       "    </tr>\n",
       "    <tr>\n",
       "      <td>41</td>\n",
       "      <td>9</td>\n",
       "      <td>20</td>\n",
       "      <td>0.790047</td>\n",
       "    </tr>\n",
       "    <tr>\n",
       "      <td>42</td>\n",
       "      <td>9</td>\n",
       "      <td>30</td>\n",
       "      <td>0.793157</td>\n",
       "    </tr>\n",
       "    <tr>\n",
       "      <td>43</td>\n",
       "      <td>9</td>\n",
       "      <td>40</td>\n",
       "      <td>0.794712</td>\n",
       "    </tr>\n",
       "    <tr>\n",
       "      <td>44</td>\n",
       "      <td>9</td>\n",
       "      <td>50</td>\n",
       "      <td>0.797823</td>\n",
       "    </tr>\n",
       "    <tr>\n",
       "      <td>45</td>\n",
       "      <td>10</td>\n",
       "      <td>10</td>\n",
       "      <td>0.791602</td>\n",
       "    </tr>\n",
       "    <tr>\n",
       "      <td>46</td>\n",
       "      <td>10</td>\n",
       "      <td>20</td>\n",
       "      <td>0.791602</td>\n",
       "    </tr>\n",
       "    <tr>\n",
       "      <td>47</td>\n",
       "      <td>10</td>\n",
       "      <td>30</td>\n",
       "      <td>0.794712</td>\n",
       "    </tr>\n",
       "    <tr>\n",
       "      <td>48</td>\n",
       "      <td>10</td>\n",
       "      <td>40</td>\n",
       "      <td>0.796267</td>\n",
       "    </tr>\n",
       "    <tr>\n",
       "      <td>49</td>\n",
       "      <td>10</td>\n",
       "      <td>50</td>\n",
       "      <td>0.793157</td>\n",
       "    </tr>\n",
       "  </tbody>\n",
       "</table>\n",
       "</div>"
      ],
      "text/plain": [
       "    max_depth  estim     score\n",
       "0           1     10  0.755832\n",
       "1           1     20  0.766719\n",
       "2           1     30  0.766719\n",
       "3           1     40  0.776050\n",
       "4           1     50  0.758942\n",
       "5           2     10  0.777605\n",
       "6           2     20  0.783826\n",
       "7           2     30  0.783826\n",
       "8           2     40  0.785381\n",
       "9           2     50  0.783826\n",
       "10          3     10  0.785381\n",
       "11          3     20  0.786936\n",
       "12          3     30  0.786936\n",
       "13          3     40  0.786936\n",
       "14          3     50  0.786936\n",
       "15          4     10  0.790047\n",
       "16          4     20  0.788491\n",
       "17          4     30  0.786936\n",
       "18          4     40  0.790047\n",
       "19          4     50  0.786936\n",
       "20          5     10  0.793157\n",
       "21          5     20  0.790047\n",
       "22          5     30  0.793157\n",
       "23          5     40  0.794712\n",
       "24          5     50  0.793157\n",
       "25          6     10  0.800933\n",
       "26          6     20  0.799378\n",
       "27          6     30  0.800933\n",
       "28          6     40  0.802488\n",
       "29          6     50  0.799378\n",
       "30          7     10  0.794712\n",
       "31          7     20  0.800933\n",
       "32          7     30  0.802488\n",
       "33          7     40  0.802488\n",
       "34          7     50  0.802488\n",
       "35          8     10  0.796267\n",
       "36          8     20  0.797823\n",
       "37          8     30  0.799378\n",
       "38          8     40  0.808709\n",
       "39          8     50  0.807154\n",
       "40          9     10  0.785381\n",
       "41          9     20  0.790047\n",
       "42          9     30  0.793157\n",
       "43          9     40  0.794712\n",
       "44          9     50  0.797823\n",
       "45         10     10  0.791602\n",
       "46         10     20  0.791602\n",
       "47         10     30  0.794712\n",
       "48         10     40  0.796267\n",
       "49         10     50  0.793157"
      ]
     },
     "metadata": {},
     "output_type": "display_data"
    },
    {
     "name": "stdout",
     "output_type": "stream",
     "text": [
      "Лучшее значение кол-ва правильных ответов: 80.87% при параметрах {'n_estimators': 40, 'max_depth': 8}\n"
     ]
    }
   ],
   "source": [
    "random_forest_predictor = users_score_predictor_factory.new_predictor(RandomForestClassifier)\n",
    "random_forest_data = []\n",
    "\n",
    "for max_depth in range(1, 11, 1):\n",
    "    for estim in range(10, 51, 10):\n",
    "        score = random_forest_predictor.predict_score(n_estimators=estim, max_depth=max_depth)\n",
    "        random_forest_data.append((max_depth, estim, score))\n",
    "\n",
    "display(pd.DataFrame(random_forest_data, columns=('max_depth', 'estim', 'score'))) \n",
    "print(random_forest_predictor)"
   ]
  },
  {
   "cell_type": "markdown",
   "metadata": {},
   "source": [
    "**Вывод**: модель случайного леса показывает лучшую точность, чем дерево решений. Видно, что при `max_depth` = 1 модель еще надостаточно обучается и кол-во правильных ответов сильно ниже, чем при других значениях гиперпараметров.  "
   ]
  },
  {
   "cell_type": "markdown",
   "metadata": {},
   "source": [
    "<div class=\"alert alert-success\">\n",
    "<h2> Комментарий ревьюера v2</h2>\n",
    "    \n",
    "В данном случае в рамках рассматриваемого диапазона каких-то доп выводах о переобучении не сделать. Оно наверняка будет наблюдаться при ещё большей глубине. \n",
    "    \n",
    "На будущее я бы предложила иначе визуализировать подобные результаты сразу по двум параметрам. По сути, ты можешь составить двумерную матрицу. По первой размерности - перебор параметра max_depth, по второй - n_estimators, а внутри матрицы - значения метрики. Для этого случая у тебя бы была матрица 5x5. Тогда можно использовать для визуализации метод pcolormesh из пакета matplotlib, где ты получишь изображение с количеством квадратов по размеру матрицы, а значения метрики будут различаться цветом. А для того, чтобы понимать какой цвет, что означает можно использовать colorbar().\n",
    "</div>"
   ]
  },
  {
   "cell_type": "markdown",
   "metadata": {},
   "source": [
    "<a name=\"analyse_models.logistic_regression\"></a>\n",
    "### Логистическая регрессия"
   ]
  },
  {
   "cell_type": "markdown",
   "metadata": {},
   "source": [
    "Будем перебирать гиперпараметр `solver`, который обозначает алгоритм, используемый для решения задачи оптимизации "
   ]
  },
  {
   "cell_type": "code",
   "execution_count": 9,
   "metadata": {},
   "outputs": [
    {
     "name": "stdout",
     "output_type": "stream",
     "text": [
      "solver newton-cg : 75.58%\n",
      "solver lbfgs : 71.07%\n",
      "solver liblinear : 75.89%\n",
      "Лучшее значение кол-ва правильных ответов: 75.89% при параметрах {'solver': 'liblinear'}\n"
     ]
    }
   ],
   "source": [
    "logistic_regression_predictor = users_score_predictor_factory.new_predictor(LogisticRegression)\n",
    "logistic_regression_data = []\n",
    "\n",
    "for solver in ('newton-cg', 'lbfgs', 'liblinear'):\n",
    "    score = logistic_regression_predictor.predict_score(solver=solver)\n",
    "    print('solver {} : {:.2%}'.format(solver, score))\n",
    "    \n",
    "print(logistic_regression_predictor)"
   ]
  },
  {
   "cell_type": "markdown",
   "metadata": {},
   "source": [
    "**Вывод**: модель логистической регрессии показывает худшую точность, чем дерево решений или случайный лес "
   ]
  },
  {
   "cell_type": "markdown",
   "metadata": {},
   "source": [
    "<div class=\"alert alert-success\">\n",
    "<h2> Комментарий ревьюера </h2>\n",
    "    \n",
    "У тебя всё сделано очень логично. Ты правильно подготовил данные дл обучения, рассмотрел три метода, сделал перебор гиперпараметров для каждого. Очень классно, молодец!\n",
    "    \n",
    "</div>"
   ]
  },
  {
   "cell_type": "markdown",
   "metadata": {},
   "source": [
    "<div class=\"alert alert-warning\">\n",
    "<h2> Комментарий ревьюера </h2>\n",
    "    \n",
    "Единственное, что я бы предложила здесь добавить - это отображение (может гарфическое, может какое-то табличное, может вывод) качества модели при переборе гиперпараметров (важно посмотреть и на обучающую, и на валидационную выборки). \"Зачем это?\" - вполне логично спросишь ты, ведь у нас выбрано лучшее решение, мы победили :) Но поведение метрики на обучающей выборке покажет нам насколько модели склонны переобучаться на нашем датасете. Ты сразу заметишь этот момент. Предлагаю добавить этот анализ в работу и сделать дополнительные выводы.\n",
    "    \n",
    "Вообще лучше прослеживать, как меняются метрики во время твоих тестов, а не слепо выбирать модель с лучшими показателями. Ты можешь увидеть аномальное поведение в процессе обучения, и это подтокнёт тебя к дополнительным рассуждениям, усовершенствованиям модели и т.п.\n",
    "    \n",
    "</div>"
   ]
  },
  {
   "cell_type": "markdown",
   "metadata": {},
   "source": [
    "<div class=\"alert alert-info\">\n",
    "Согласен, добавил\n",
    "</div>"
   ]
  },
  {
   "cell_type": "markdown",
   "metadata": {},
   "source": [
    "<div class=\"alert alert-success\">\n",
    "<h2> Комментарий ревьюера v2</h2>\n",
    "    \n",
    "Отлично, что ты добавил метрики на валидационной выборке, и жаль, что не добавил также на обучающей. Это было бы очень показательно продемонстрировать то, какое высокое качество получилось на обучающей, а на других данных уже нет.\n",
    "</div>"
   ]
  },
  {
   "cell_type": "markdown",
   "metadata": {},
   "source": [
    "<a name=\"test_models\"></a>\n",
    "## 4. Проверьте модель на тестовой выборке"
   ]
  },
  {
   "cell_type": "markdown",
   "metadata": {},
   "source": [
    "Выделим фичи и целевой показатель `is_ultra` для тестовой выборки "
   ]
  },
  {
   "cell_type": "code",
   "execution_count": 10,
   "metadata": {},
   "outputs": [],
   "source": [
    "features_test = users_test_df.drop(['is_ultra'], axis=1)\n",
    "target_test = users_test_df['is_ultra']"
   ]
  },
  {
   "cell_type": "markdown",
   "metadata": {},
   "source": [
    "В результате проверки, мы выяснили, что алгоритм случайного леса с гиперпараметрами `n_estimators = 40` и `max_depth = 8` дает лучшее значение кол-ва правильных ответов. Проверим эту модель на тестовых данных"
   ]
  },
  {
   "cell_type": "code",
   "execution_count": 11,
   "metadata": {},
   "outputs": [
    {
     "data": {
      "text/plain": [
       "0.7993779160186625"
      ]
     },
     "execution_count": 11,
     "metadata": {},
     "output_type": "execute_result"
    }
   ],
   "source": [
    "model = RandomForestClassifier(n_estimators=40, max_depth=8, random_state=RANDOM_STATE)\n",
    "model.fit(features_train.append(features_valid), target_train.append(target_valid))\n",
    "\n",
    "predictions_test = model.predict(features_test)\n",
    "accuracy_score(target_test, predictions_test)"
   ]
  },
  {
   "cell_type": "markdown",
   "metadata": {},
   "source": [
    "На тестовой выборке модель показывает точность выше, чем в условии задачи (0.75)"
   ]
  },
  {
   "cell_type": "markdown",
   "metadata": {},
   "source": [
    "<div class=\"alert alert-warning\">\n",
    "<h2> Комментарий ревьюера </h2>\n",
    "    \n",
    "Валидационная выборка была использована для выбора наилучшей модели. Теперь для тестирования мы можем включить ещё в обучающую и обучить модель на общей выборке train + valid. Чем больше данных, тем лучше :)\n",
    "    \n",
    "P.S. Может произойти такое, что после обучения на бОльшем наборе данных ты получишь метрику качесва похуже. Давай тогда пораассуждаем, почему такое могло быть с позиции переобучения. Если метрика ухудшится, то текущие расчёты в тестировании предлагаю оставить вместе с новыми.\n",
    "    \n",
    "</div>"
   ]
  },
  {
   "cell_type": "markdown",
   "metadata": {},
   "source": [
    "<div class=\"alert alert-info\">\n",
    "Поправил, качество улучшилось\n",
    "</div>"
   ]
  },
  {
   "cell_type": "markdown",
   "metadata": {},
   "source": [
    "<div class=\"alert alert-success\">\n",
    "<h2> Комментарий ревьюера v2</h2>\n",
    "    \n",
    "Отлично :)\n",
    "</div>"
   ]
  },
  {
   "cell_type": "markdown",
   "metadata": {},
   "source": [
    "<a name=\"models_adequacy\"></a>\n",
    "## 5. Проверьте модели на адекватность"
   ]
  },
  {
   "cell_type": "markdown",
   "metadata": {},
   "source": [
    "Посмотрим, какое распределение в тестовой выборке между пользователями тарифов \"Ультра\" и \"Смарт\""
   ]
  },
  {
   "cell_type": "code",
   "execution_count": 12,
   "metadata": {},
   "outputs": [
    {
     "data": {
      "text/plain": [
       "0.3157076205287714"
      ]
     },
     "execution_count": 12,
     "metadata": {},
     "output_type": "execute_result"
    }
   ],
   "source": [
    "users_test_df[users_test_df['is_ultra'] == True].shape[0] / users_test_df.shape[0]"
   ]
  },
  {
   "cell_type": "markdown",
   "metadata": {},
   "source": [
    "Вычислим точность модели в случае рандомного распределения "
   ]
  },
  {
   "cell_type": "markdown",
   "metadata": {},
   "source": [
    "$0.68 * (\\textrm{доля угаданных владельцев \"Смарт\"}) + 0.32 * (\\textrm{доля угаданнх владельцев \"Ультра\"}) = 0.68 * 0.5 + 0.32 * 0.5 = 0.5$"
   ]
  },
  {
   "cell_type": "markdown",
   "metadata": {},
   "source": [
    "Значение правильных ответов модели больше чем 0.5, из чего можно сделать вывод, что модель прошла sanity check"
   ]
  },
  {
   "cell_type": "markdown",
   "metadata": {},
   "source": [
    "<div class=\"alert alert-success\">\n",
    "<h2> Комментарий ревьюера </h2>\n",
    "    \n",
    "Супер! Отлично, то ты сделал эту проверку, выше всех похвал :)\n",
    "    \n",
    "А если сравнить модель с константной (или с константными 0/1), что можешь сказать? Понимаешь, как сделать такую проверку?\n",
    "    \n",
    "</div>"
   ]
  },
  {
   "cell_type": "markdown",
   "metadata": {},
   "source": [
    "<div class=\"alert alert-success\">\n",
    "<h2> Комментарий ревьюера - резюме</h2>\n",
    "    \n",
    "У тебя получилась довольно хорошая работа. Ты чётко выполнил задание, сделал перебор достаточного количества гиперпараметров сразу для трёх моделей. Отлично, молодец! Бонусное задание тоже сдалось под твоим напором, просто супер. Работа отлично оформлена, структурирована, в ней легко ориентироваться. Продолжай в том же духе :)\n",
    "\n",
    "У меня есть три комментария, которые стоит учесть. Это не грубые ошибки, а уточнения / дополнения, но с ними работа станет лучше.\n",
    "\n",
    "Уверена, ты справишься с ними, и буду ждать твою работу на повторное ревью :)\n",
    "    \n",
    "</div>"
   ]
  },
  {
   "cell_type": "markdown",
   "metadata": {},
   "source": [
    "<div class=\"alert alert-success\">\n",
    "<h2> Комментарий ревьюера v2 - резюме</h2>\n",
    "    \n",
    "Теперь все замечания учтены, и работа завершена. Успехов в следующих проектах :)\n",
    "</div>"
   ]
  },
  {
   "cell_type": "markdown",
   "metadata": {},
   "source": [
    "## Чек-лист готовности проекта"
   ]
  },
  {
   "cell_type": "markdown",
   "metadata": {},
   "source": [
    "Поставьте 'x' в выполненных пунктах. Далее нажмите Shift+Enter."
   ]
  },
  {
   "cell_type": "markdown",
   "metadata": {},
   "source": [
    "- [x] Jupyter Notebook открыт\n",
    "- [x] Весь код исполняется без ошибок\n",
    "- [x] Ячейки с кодом расположены в порядке исполнения\n",
    "- [x] Выполнено задание 1: данные загружены и изучены\n",
    "- [x] Выполнено задание 2: данные разбиты на три выборки\n",
    "- [x] Выполнено задание 3: проведено исследование моделей\n",
    "    - [x] Рассмотрено больше одной модели\n",
    "    - [x] Рассмотрено хотя бы 3 значения гипепараметров для какой-нибудь модели\n",
    "    - [x] Написаны выводы по результатам исследования\n",
    "- [x] Выполнено задание 3: Проведено тестирование\n",
    "- [x] Удалось достичь accuracy не меньше 0.75\n"
   ]
  },
  {
   "cell_type": "code",
   "execution_count": null,
   "metadata": {},
   "outputs": [],
   "source": []
  }
 ],
 "metadata": {
  "kernelspec": {
   "display_name": "Python 3",
   "language": "python",
   "name": "python3"
  },
  "language_info": {
   "codemirror_mode": {
    "name": "ipython",
    "version": 3
   },
   "file_extension": ".py",
   "mimetype": "text/x-python",
   "name": "python",
   "nbconvert_exporter": "python",
   "pygments_lexer": "ipython3",
   "version": "3.7.6"
  }
 },
 "nbformat": 4,
 "nbformat_minor": 2
}
