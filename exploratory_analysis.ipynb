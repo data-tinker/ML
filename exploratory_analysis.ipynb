{
 "cells": [
  {
   "cell_type": "markdown",
   "metadata": {},
   "source": [
    "<div class=\"alert alert-success\">\n",
    "<h2> Комментарий ревьюера 2</h2>\n",
    "\n",
    "Привет еще раз. Спасибо, что доделал работу. Оформление комментариев по работе сохраняется. Только обозначим, что это вторая итерация. \n",
    "\n",
    "</div>"
   ]
  },
  {
   "cell_type": "markdown",
   "metadata": {},
   "source": [
    "<div class=\"alert alert-success\">\n",
    "<h2> Комментарий ревьюера </h2>\n",
    "\n",
    "Привет! Спасибо, что прислал задание:) Меня зовут Слепцов Артем и я буду проверять твой проект) Ты проделал большую работу над проектом, однако его еще можно улучшить. Будет здорово, если ты, надеюсь, не против, если я буду на ты,  будешь отвечать на комментарии и участвовать в диалоге. \n",
    "\n",
    "Мои комментарии обозначены пометкой **Комментарий ревьюера**. Далее в файле ты сможешь найти их в похожих ячейках (если фон комментария <font color=green>зелёный</font> - всё сделано правильно. Рекомендации укажу таким же цветом; <font color=orange>оранжевый</font> - некритичные замечания. Если таких замечаний меньше трех - проект может быть принят без их отработки; <font color=red>красный</font> - нужно переделать). Не удаляй эти комментарии и постарайся учесть их в ходе выполнения данного проекта. \n",
    "\n",
    "</div>"
   ]
  },
  {
   "cell_type": "markdown",
   "metadata": {},
   "source": [
    "# Исследование объявлений о продаже квартир\n",
    "\n",
    "В вашем распоряжении данные сервиса Яндекс.Недвижимость — архив объявлений о продаже квартир в Санкт-Петербурге и соседних населённых пунктов за несколько лет. Нужно научиться определять рыночную стоимость объектов недвижимости. Ваша задача — установить параметры. Это позволит построить автоматизированную систему: она отследит аномалии и мошенническую деятельность. \n",
    "\n",
    "По каждой квартире на продажу доступны два вида данных. Первые вписаны пользователем, вторые — получены автоматически на основе картографических данных. Например, расстояние до центра, аэропорта, ближайшего парка и водоёма. "
   ]
  },
  {
   "cell_type": "markdown",
   "metadata": {},
   "source": [
    "## Содержание\n",
    "* [Шаг 1. Откройте файл с данными и изучите общую информацию.](#open_file)\n",
    "  * [Анализ входных данных](#open_file.analysis)\n",
    "  * [Вывод](#open_file.conclusion)\n",
    "* [Шаг 2. Предобработка данных](#data_preprocessing)\n",
    "  * [Переименование столбцов](#data_preprocessing.rename)\n",
    "  * [Аномалии в данных](#data_preprocessing.anomalies)\n",
    "    * [rooms_count](#data_preprocessing.anomalies.rooms_count)\n",
    "  * [Избавление от дубликатов в данных](#data_preprocessing.duplicates)\n",
    "    * [locality_name](#data_preprocessing.duplicates.locality_name)\n",
    "  * [Обработка пропусков в данных](#data_preprocessing.missing)\n",
    "    * [locality_name](#data_preprocessing.missing.locality_name)\n",
    "    * [is_apartment](#data_preprocessing.missing.is_apartment)\n",
    "    * [balcony_count](#data_preprocessing.missing.balcony_count)\n",
    "    * [ceiling_height_m](#data_preprocessing.missing.ceiling_height_m)\n",
    "    * [floors_count](#data_preprocessing.missing.floors_count)\n",
    "    * [living_area_m2](#data_preprocessing.missing.living_area_m2)\n",
    "    * [kitchen_area_m2](#data_preprocessing.missing.kitchen_area_m2)\n",
    "    * [parks_around_3000m_count](#data_preprocessing.missing.parks_around_3000m_count)\n",
    "    * [ponds_around_3000m_count](#data_preprocessing.missing.ponds_around_3000m_count)\n",
    "    * [Вывод](#data_preprocessing.missing.conclusion)\n",
    "  * [Изменение типов данных](#data_preprocessing.change_types)\n",
    "    * [last_price_rub](#data_preprocessing.change_types.last_price_rub)\n",
    "    * [creation_date](#data_preprocessing.change_types.creation_date)\n",
    "    * [floors_count](#data_preprocessing.change_types.floors_count)\n",
    "    * [is_apartment](#data_preprocessing.change_types.is_apartment)\n",
    "    * [balcony_count](#data_preprocessing.change_types.balcony_count)\n",
    "    * [parks_around_3000m_count](#data_preprocessing.change_types.parks_around_3000m_count)\n",
    "    * [ponds_around_3000m_count](#data_preprocessing.change_types.ponds_around_3000m_count)\n",
    "    * [Вывод](#data_preprocessing.change_types.conclusion)\n",
    "* [Шаг 3. Добавление значений в таблицу](#add_columns)\n",
    "  * [Цена квадратного метра](#add_columns.price_per_m2) \n",
    "  * [День недели, месяц и год публикации](#add_columns.date)\n",
    "  * [Этаж квартиры: первый, последний, другой](#add_columns.floors)\n",
    "  * [Отношение жилой к общей площади](#add_columns.living_to_total_area_ratio)\n",
    "  * [Отношение площади кухни к общей](#add_columns.kitchen_to_total_area_ratio)\n",
    "* [Шаг 4. Исследовательский анализ данных](#exploratory_data_analysis)\n",
    "  * [Анализ параметров](#exploratory_data_analysis.base_stats)\n",
    "    * [Площадь](#exploratory_data_analysis.base_stats.total_area_m2)\n",
    "    * [Цена](#exploratory_data_analysis.base_stats.last_price_rub)\n",
    "    * [Число комнат](#exploratory_data_analysis.base_stats.rooms_count)\n",
    "    * [Высота потолков](#exploratory_data_analysis.base_stats.ceiling_height_m)\n",
    "  * [Время продажи квартиры](#exploratory_data_analysis.date)\n",
    "  * [Избавиться от редких и выбивающихся значений](#exploratory_data_analysis.anomalies)\n",
    "  * [Выделение факторов, которые больше всего влияют на стоимость квартиры](#exploratory_data_analysis.corr)\n",
    "    * [Площадь](#exploratory_data_analysis.corr.total_area_m2)\n",
    "    * [Число комнат](#exploratory_data_analysis.corr.rooms_count)\n",
    "    * [Удаленность от центра](#exploratory_data_analysis.corr.nearest_city_center_distance_m)\n",
    "    * [Этаж](#exploratory_data_analysis.corr.floor)\n",
    "    * [Дата размещения](#exploratory_data_analysis.corr.creation_date)\n",
    "  * [Анализ населенных пунктов](#exploratory_data_analysis.localities)\n",
    "  * [Зависимость цены от расстояния до центра](#exploratory_data_analysis.localities)\n",
    "  * [Анализ квартир в центре](#exploratory_data_analysis.center)\n",
    "    * [Площадь](#exploratory_data_analysis.center.total_area_m2)\n",
    "    * [Цена](#exploratory_data_analysis.center.last_price_rub)\n",
    "    * [Число комнат](#exploratory_data_analysis.center.rooms_count)\n",
    "    * [Высота потолков](#exploratory_data_analysis.center.ceiling_height_m)\n",
    "    * [Выделение факторов, которые больше всего влияют на стоимость квартиры](#exploratory_data_analysis.center.corr)\n",
    "* [Шаг 5. Общий вывод](#general_conclusion)"
   ]
  },
  {
   "cell_type": "markdown",
   "metadata": {},
   "source": [
    "<div class=\"alert alert-success\">\n",
    "<h2> Комментарий ревьюера</h2>\n",
    "\n",
    "Вступление в работу очень важно. Так ты поясняешь то, чему она посвящена. Хорошо бы также привести и описание исходных данных. \n",
    "\n",
    "</div>"
   ]
  },
  {
   "cell_type": "markdown",
   "metadata": {},
   "source": [
    "<a name=\"open_file\"></a>\n",
    "## Шаг 1. Откройте файл с данными и изучите общую информацию. "
   ]
  },
  {
   "cell_type": "markdown",
   "metadata": {},
   "source": [
    "<a name=\"open_file.analysis\"></a>\n",
    "### Анализ входных данных"
   ]
  },
  {
   "cell_type": "markdown",
   "metadata": {},
   "source": [
    "Сначала откроем файл и посмотрим на его содержимое"
   ]
  },
  {
   "cell_type": "code",
   "execution_count": 1,
   "metadata": {},
   "outputs": [
    {
     "data": {
      "text/html": [
       "<div>\n",
       "<style scoped>\n",
       "    .dataframe tbody tr th:only-of-type {\n",
       "        vertical-align: middle;\n",
       "    }\n",
       "\n",
       "    .dataframe tbody tr th {\n",
       "        vertical-align: top;\n",
       "    }\n",
       "\n",
       "    .dataframe thead th {\n",
       "        text-align: right;\n",
       "    }\n",
       "</style>\n",
       "<table border=\"1\" class=\"dataframe\">\n",
       "  <thead>\n",
       "    <tr style=\"text-align: right;\">\n",
       "      <th></th>\n",
       "      <th>total_images</th>\n",
       "      <th>last_price</th>\n",
       "      <th>total_area</th>\n",
       "      <th>first_day_exposition</th>\n",
       "      <th>rooms</th>\n",
       "      <th>ceiling_height</th>\n",
       "      <th>floors_total</th>\n",
       "      <th>living_area</th>\n",
       "      <th>floor</th>\n",
       "      <th>is_apartment</th>\n",
       "      <th>studio</th>\n",
       "      <th>open_plan</th>\n",
       "      <th>kitchen_area</th>\n",
       "      <th>balcony</th>\n",
       "      <th>locality_name</th>\n",
       "      <th>airports_nearest</th>\n",
       "      <th>cityCenters_nearest</th>\n",
       "      <th>parks_around3000</th>\n",
       "      <th>parks_nearest</th>\n",
       "      <th>ponds_around3000</th>\n",
       "      <th>ponds_nearest</th>\n",
       "      <th>days_exposition</th>\n",
       "    </tr>\n",
       "  </thead>\n",
       "  <tbody>\n",
       "    <tr>\n",
       "      <td>0</td>\n",
       "      <td>20</td>\n",
       "      <td>13000000.0</td>\n",
       "      <td>108.00</td>\n",
       "      <td>2019-03-07T00:00:00</td>\n",
       "      <td>3</td>\n",
       "      <td>2.70</td>\n",
       "      <td>16.0</td>\n",
       "      <td>51.00</td>\n",
       "      <td>8</td>\n",
       "      <td>NaN</td>\n",
       "      <td>False</td>\n",
       "      <td>False</td>\n",
       "      <td>25.00</td>\n",
       "      <td>NaN</td>\n",
       "      <td>Санкт-Петербург</td>\n",
       "      <td>18863.0</td>\n",
       "      <td>16028.0</td>\n",
       "      <td>1.0</td>\n",
       "      <td>482.0</td>\n",
       "      <td>2.0</td>\n",
       "      <td>755.0</td>\n",
       "      <td>NaN</td>\n",
       "    </tr>\n",
       "    <tr>\n",
       "      <td>1</td>\n",
       "      <td>7</td>\n",
       "      <td>3350000.0</td>\n",
       "      <td>40.40</td>\n",
       "      <td>2018-12-04T00:00:00</td>\n",
       "      <td>1</td>\n",
       "      <td>NaN</td>\n",
       "      <td>11.0</td>\n",
       "      <td>18.60</td>\n",
       "      <td>1</td>\n",
       "      <td>NaN</td>\n",
       "      <td>False</td>\n",
       "      <td>False</td>\n",
       "      <td>11.00</td>\n",
       "      <td>2.0</td>\n",
       "      <td>посёлок Шушары</td>\n",
       "      <td>12817.0</td>\n",
       "      <td>18603.0</td>\n",
       "      <td>0.0</td>\n",
       "      <td>NaN</td>\n",
       "      <td>0.0</td>\n",
       "      <td>NaN</td>\n",
       "      <td>81.0</td>\n",
       "    </tr>\n",
       "    <tr>\n",
       "      <td>2</td>\n",
       "      <td>10</td>\n",
       "      <td>5196000.0</td>\n",
       "      <td>56.00</td>\n",
       "      <td>2015-08-20T00:00:00</td>\n",
       "      <td>2</td>\n",
       "      <td>NaN</td>\n",
       "      <td>5.0</td>\n",
       "      <td>34.30</td>\n",
       "      <td>4</td>\n",
       "      <td>NaN</td>\n",
       "      <td>False</td>\n",
       "      <td>False</td>\n",
       "      <td>8.30</td>\n",
       "      <td>0.0</td>\n",
       "      <td>Санкт-Петербург</td>\n",
       "      <td>21741.0</td>\n",
       "      <td>13933.0</td>\n",
       "      <td>1.0</td>\n",
       "      <td>90.0</td>\n",
       "      <td>2.0</td>\n",
       "      <td>574.0</td>\n",
       "      <td>558.0</td>\n",
       "    </tr>\n",
       "    <tr>\n",
       "      <td>3</td>\n",
       "      <td>0</td>\n",
       "      <td>64900000.0</td>\n",
       "      <td>159.00</td>\n",
       "      <td>2015-07-24T00:00:00</td>\n",
       "      <td>3</td>\n",
       "      <td>NaN</td>\n",
       "      <td>14.0</td>\n",
       "      <td>NaN</td>\n",
       "      <td>9</td>\n",
       "      <td>NaN</td>\n",
       "      <td>False</td>\n",
       "      <td>False</td>\n",
       "      <td>NaN</td>\n",
       "      <td>0.0</td>\n",
       "      <td>Санкт-Петербург</td>\n",
       "      <td>28098.0</td>\n",
       "      <td>6800.0</td>\n",
       "      <td>2.0</td>\n",
       "      <td>84.0</td>\n",
       "      <td>3.0</td>\n",
       "      <td>234.0</td>\n",
       "      <td>424.0</td>\n",
       "    </tr>\n",
       "    <tr>\n",
       "      <td>4</td>\n",
       "      <td>2</td>\n",
       "      <td>10000000.0</td>\n",
       "      <td>100.00</td>\n",
       "      <td>2018-06-19T00:00:00</td>\n",
       "      <td>2</td>\n",
       "      <td>3.03</td>\n",
       "      <td>14.0</td>\n",
       "      <td>32.00</td>\n",
       "      <td>13</td>\n",
       "      <td>NaN</td>\n",
       "      <td>False</td>\n",
       "      <td>False</td>\n",
       "      <td>41.00</td>\n",
       "      <td>NaN</td>\n",
       "      <td>Санкт-Петербург</td>\n",
       "      <td>31856.0</td>\n",
       "      <td>8098.0</td>\n",
       "      <td>2.0</td>\n",
       "      <td>112.0</td>\n",
       "      <td>1.0</td>\n",
       "      <td>48.0</td>\n",
       "      <td>121.0</td>\n",
       "    </tr>\n",
       "    <tr>\n",
       "      <td>5</td>\n",
       "      <td>10</td>\n",
       "      <td>2890000.0</td>\n",
       "      <td>30.40</td>\n",
       "      <td>2018-09-10T00:00:00</td>\n",
       "      <td>1</td>\n",
       "      <td>NaN</td>\n",
       "      <td>12.0</td>\n",
       "      <td>14.40</td>\n",
       "      <td>5</td>\n",
       "      <td>NaN</td>\n",
       "      <td>False</td>\n",
       "      <td>False</td>\n",
       "      <td>9.10</td>\n",
       "      <td>NaN</td>\n",
       "      <td>городской посёлок Янино-1</td>\n",
       "      <td>NaN</td>\n",
       "      <td>NaN</td>\n",
       "      <td>NaN</td>\n",
       "      <td>NaN</td>\n",
       "      <td>NaN</td>\n",
       "      <td>NaN</td>\n",
       "      <td>55.0</td>\n",
       "    </tr>\n",
       "    <tr>\n",
       "      <td>6</td>\n",
       "      <td>6</td>\n",
       "      <td>3700000.0</td>\n",
       "      <td>37.30</td>\n",
       "      <td>2017-11-02T00:00:00</td>\n",
       "      <td>1</td>\n",
       "      <td>NaN</td>\n",
       "      <td>26.0</td>\n",
       "      <td>10.60</td>\n",
       "      <td>6</td>\n",
       "      <td>NaN</td>\n",
       "      <td>False</td>\n",
       "      <td>False</td>\n",
       "      <td>14.40</td>\n",
       "      <td>1.0</td>\n",
       "      <td>посёлок Парголово</td>\n",
       "      <td>52996.0</td>\n",
       "      <td>19143.0</td>\n",
       "      <td>0.0</td>\n",
       "      <td>NaN</td>\n",
       "      <td>0.0</td>\n",
       "      <td>NaN</td>\n",
       "      <td>155.0</td>\n",
       "    </tr>\n",
       "    <tr>\n",
       "      <td>7</td>\n",
       "      <td>5</td>\n",
       "      <td>7915000.0</td>\n",
       "      <td>71.60</td>\n",
       "      <td>2019-04-18T00:00:00</td>\n",
       "      <td>2</td>\n",
       "      <td>NaN</td>\n",
       "      <td>24.0</td>\n",
       "      <td>NaN</td>\n",
       "      <td>22</td>\n",
       "      <td>NaN</td>\n",
       "      <td>False</td>\n",
       "      <td>False</td>\n",
       "      <td>18.90</td>\n",
       "      <td>2.0</td>\n",
       "      <td>Санкт-Петербург</td>\n",
       "      <td>23982.0</td>\n",
       "      <td>11634.0</td>\n",
       "      <td>0.0</td>\n",
       "      <td>NaN</td>\n",
       "      <td>0.0</td>\n",
       "      <td>NaN</td>\n",
       "      <td>NaN</td>\n",
       "    </tr>\n",
       "    <tr>\n",
       "      <td>8</td>\n",
       "      <td>20</td>\n",
       "      <td>2900000.0</td>\n",
       "      <td>33.16</td>\n",
       "      <td>2018-05-23T00:00:00</td>\n",
       "      <td>1</td>\n",
       "      <td>NaN</td>\n",
       "      <td>27.0</td>\n",
       "      <td>15.43</td>\n",
       "      <td>26</td>\n",
       "      <td>NaN</td>\n",
       "      <td>False</td>\n",
       "      <td>False</td>\n",
       "      <td>8.81</td>\n",
       "      <td>NaN</td>\n",
       "      <td>посёлок Мурино</td>\n",
       "      <td>NaN</td>\n",
       "      <td>NaN</td>\n",
       "      <td>NaN</td>\n",
       "      <td>NaN</td>\n",
       "      <td>NaN</td>\n",
       "      <td>NaN</td>\n",
       "      <td>189.0</td>\n",
       "    </tr>\n",
       "    <tr>\n",
       "      <td>9</td>\n",
       "      <td>18</td>\n",
       "      <td>5400000.0</td>\n",
       "      <td>61.00</td>\n",
       "      <td>2017-02-26T00:00:00</td>\n",
       "      <td>3</td>\n",
       "      <td>2.50</td>\n",
       "      <td>9.0</td>\n",
       "      <td>43.60</td>\n",
       "      <td>7</td>\n",
       "      <td>NaN</td>\n",
       "      <td>False</td>\n",
       "      <td>False</td>\n",
       "      <td>6.50</td>\n",
       "      <td>2.0</td>\n",
       "      <td>Санкт-Петербург</td>\n",
       "      <td>50898.0</td>\n",
       "      <td>15008.0</td>\n",
       "      <td>0.0</td>\n",
       "      <td>NaN</td>\n",
       "      <td>0.0</td>\n",
       "      <td>NaN</td>\n",
       "      <td>289.0</td>\n",
       "    </tr>\n",
       "  </tbody>\n",
       "</table>\n",
       "</div>"
      ],
      "text/plain": [
       "   total_images  last_price  total_area first_day_exposition  rooms  \\\n",
       "0            20  13000000.0      108.00  2019-03-07T00:00:00      3   \n",
       "1             7   3350000.0       40.40  2018-12-04T00:00:00      1   \n",
       "2            10   5196000.0       56.00  2015-08-20T00:00:00      2   \n",
       "3             0  64900000.0      159.00  2015-07-24T00:00:00      3   \n",
       "4             2  10000000.0      100.00  2018-06-19T00:00:00      2   \n",
       "5            10   2890000.0       30.40  2018-09-10T00:00:00      1   \n",
       "6             6   3700000.0       37.30  2017-11-02T00:00:00      1   \n",
       "7             5   7915000.0       71.60  2019-04-18T00:00:00      2   \n",
       "8            20   2900000.0       33.16  2018-05-23T00:00:00      1   \n",
       "9            18   5400000.0       61.00  2017-02-26T00:00:00      3   \n",
       "\n",
       "   ceiling_height  floors_total  living_area  floor is_apartment  studio  \\\n",
       "0            2.70          16.0        51.00      8          NaN   False   \n",
       "1             NaN          11.0        18.60      1          NaN   False   \n",
       "2             NaN           5.0        34.30      4          NaN   False   \n",
       "3             NaN          14.0          NaN      9          NaN   False   \n",
       "4            3.03          14.0        32.00     13          NaN   False   \n",
       "5             NaN          12.0        14.40      5          NaN   False   \n",
       "6             NaN          26.0        10.60      6          NaN   False   \n",
       "7             NaN          24.0          NaN     22          NaN   False   \n",
       "8             NaN          27.0        15.43     26          NaN   False   \n",
       "9            2.50           9.0        43.60      7          NaN   False   \n",
       "\n",
       "   open_plan  kitchen_area  balcony              locality_name  \\\n",
       "0      False         25.00      NaN            Санкт-Петербург   \n",
       "1      False         11.00      2.0             посёлок Шушары   \n",
       "2      False          8.30      0.0            Санкт-Петербург   \n",
       "3      False           NaN      0.0            Санкт-Петербург   \n",
       "4      False         41.00      NaN            Санкт-Петербург   \n",
       "5      False          9.10      NaN  городской посёлок Янино-1   \n",
       "6      False         14.40      1.0          посёлок Парголово   \n",
       "7      False         18.90      2.0            Санкт-Петербург   \n",
       "8      False          8.81      NaN             посёлок Мурино   \n",
       "9      False          6.50      2.0            Санкт-Петербург   \n",
       "\n",
       "   airports_nearest  cityCenters_nearest  parks_around3000  parks_nearest  \\\n",
       "0           18863.0              16028.0               1.0          482.0   \n",
       "1           12817.0              18603.0               0.0            NaN   \n",
       "2           21741.0              13933.0               1.0           90.0   \n",
       "3           28098.0               6800.0               2.0           84.0   \n",
       "4           31856.0               8098.0               2.0          112.0   \n",
       "5               NaN                  NaN               NaN            NaN   \n",
       "6           52996.0              19143.0               0.0            NaN   \n",
       "7           23982.0              11634.0               0.0            NaN   \n",
       "8               NaN                  NaN               NaN            NaN   \n",
       "9           50898.0              15008.0               0.0            NaN   \n",
       "\n",
       "   ponds_around3000  ponds_nearest  days_exposition  \n",
       "0               2.0          755.0              NaN  \n",
       "1               0.0            NaN             81.0  \n",
       "2               2.0          574.0            558.0  \n",
       "3               3.0          234.0            424.0  \n",
       "4               1.0           48.0            121.0  \n",
       "5               NaN            NaN             55.0  \n",
       "6               0.0            NaN            155.0  \n",
       "7               0.0            NaN              NaN  \n",
       "8               NaN            NaN            189.0  \n",
       "9               0.0            NaN            289.0  "
      ]
     },
     "execution_count": 1,
     "metadata": {},
     "output_type": "execute_result"
    }
   ],
   "source": [
    "import pandas as pd\n",
    "import matplotlib.pyplot as plt\n",
    "\n",
    "pd.set_option('display.max_columns', None)\n",
    "\n",
    "real_estate_df = pd.read_csv('/datasets/real_estate_data.csv', sep='\\t')\n",
    "\n",
    "real_estate_df.head(10)"
   ]
  },
  {
   "cell_type": "markdown",
   "metadata": {},
   "source": [
    "Видим, что можно переименовать столбцы, чтобы они лучше отражали смысл и размерность данных, а также убрать проблемы с регистром (большая буква в `cityCenters_nearest`).\n",
    "\n",
    "Выведем имена столбцов:"
   ]
  },
  {
   "cell_type": "code",
   "execution_count": 2,
   "metadata": {},
   "outputs": [
    {
     "data": {
      "text/plain": [
       "['total_images',\n",
       " 'last_price',\n",
       " 'total_area',\n",
       " 'first_day_exposition',\n",
       " 'rooms',\n",
       " 'ceiling_height',\n",
       " 'floors_total',\n",
       " 'living_area',\n",
       " 'floor',\n",
       " 'is_apartment',\n",
       " 'studio',\n",
       " 'open_plan',\n",
       " 'kitchen_area',\n",
       " 'balcony',\n",
       " 'locality_name',\n",
       " 'airports_nearest',\n",
       " 'cityCenters_nearest',\n",
       " 'parks_around3000',\n",
       " 'parks_nearest',\n",
       " 'ponds_around3000',\n",
       " 'ponds_nearest',\n",
       " 'days_exposition']"
      ]
     },
     "execution_count": 2,
     "metadata": {},
     "output_type": "execute_result"
    }
   ],
   "source": [
    "real_estate_df.columns.tolist()"
   ]
  },
  {
   "cell_type": "markdown",
   "metadata": {},
   "source": [
    "Будем переименовыввать стобцы таким образом:\n",
    "* `total_images` -> `images_count`\n",
    "* `total_area` -> `total_area_m2`\n",
    "* `first_day_exposition` -> `creation_date`\n",
    "* `rooms` -> `rooms_count`\n",
    "* `ceiling_height` -> `ceiling_height_m`\n",
    "* `living_area` -> `living_area_m2`\n",
    "* `studio` -> `is_studio`\n",
    "* `open_plan` -> `is_open_plan`\n",
    "* `kitchen_area` -> `kitchen_area_m2`\n",
    "* `balcony` -> `balcony_count`\n",
    "* `airports_nearest` -> `nearest_airport_distance_m`\n",
    "* `cityCenters_nearest` -> `nearest_city_center_distance_m`\n",
    "* `parks_around3000` -> `parks_around_3000m`\n",
    "* `parks_nearest` -> `nearest_park_distance_m`\n",
    "* `ponds_around3000` -> `ponds_around_3000m`\n",
    "* `ponds_nearest` -> `nearest_pond_distance_m`\n",
    "\n",
    "Ранее можно было обратить внимание, что в выводе видно много пропущенных данных (*NaN*).\n",
    "Посмотрим на пропуски и типы данных в столбцах:"
   ]
  },
  {
   "cell_type": "code",
   "execution_count": 3,
   "metadata": {},
   "outputs": [
    {
     "name": "stdout",
     "output_type": "stream",
     "text": [
      "<class 'pandas.core.frame.DataFrame'>\n",
      "RangeIndex: 23699 entries, 0 to 23698\n",
      "Data columns (total 22 columns):\n",
      "total_images            23699 non-null int64\n",
      "last_price              23699 non-null float64\n",
      "total_area              23699 non-null float64\n",
      "first_day_exposition    23699 non-null object\n",
      "rooms                   23699 non-null int64\n",
      "ceiling_height          14504 non-null float64\n",
      "floors_total            23613 non-null float64\n",
      "living_area             21796 non-null float64\n",
      "floor                   23699 non-null int64\n",
      "is_apartment            2775 non-null object\n",
      "studio                  23699 non-null bool\n",
      "open_plan               23699 non-null bool\n",
      "kitchen_area            21421 non-null float64\n",
      "balcony                 12180 non-null float64\n",
      "locality_name           23650 non-null object\n",
      "airports_nearest        18157 non-null float64\n",
      "cityCenters_nearest     18180 non-null float64\n",
      "parks_around3000        18181 non-null float64\n",
      "parks_nearest           8079 non-null float64\n",
      "ponds_around3000        18181 non-null float64\n",
      "ponds_nearest           9110 non-null float64\n",
      "days_exposition         20518 non-null float64\n",
      "dtypes: bool(2), float64(14), int64(3), object(3)\n",
      "memory usage: 3.7+ MB\n"
     ]
    }
   ],
   "source": [
    "real_estate_df.info()"
   ]
  },
  {
   "cell_type": "markdown",
   "metadata": {},
   "source": [
    "Видно, что есть пропуски во многих строках и у некоторых строк неверные типы.\n",
    "Разберем, как можно заменить типы данных на более пододящие: \n",
    "* `last_price` -> *int*, можно отбросить десятичную часть, уитываю стоимости квартир она не будет ни на что влиять. \n",
    "* `first_day_exposition` -> *datetime*, потому что это дата\n",
    "* `floors_total` -> *int*, потому что не может быть нецелого числа этажей \n",
    "* `is_apartment` -> *bool*, потому что из описания видно, что это логический признак\n",
    "* `balcony` -> *int*, поскольку не может быть нецелого количества балконов \n",
    "* `parks_around3000` и `ponds_around3000` -> *int*, потому что в этих столбцах находится количество парков и прудов, а это целые числа \n",
    "* `cityCenters_nearest`, `parks_nearest` и `ponds_nearest`  -> *int*, потому что расстояние указано в метрах, можно отбросить десятичную часть\n",
    "\n",
    "Теперь посмотрим на строки с пропусками и попробуем предположить, почему в них есть пропуски. Выведем столбцы, отсортированные по количеству *NaN* в них:"
   ]
  },
  {
   "cell_type": "code",
   "execution_count": 4,
   "metadata": {},
   "outputs": [
    {
     "data": {
      "text/plain": [
       "is_apartment            88.290645\n",
       "parks_nearest           65.909954\n",
       "ponds_nearest           61.559559\n",
       "balcony                 48.605426\n",
       "ceiling_height          38.799105\n",
       "airports_nearest        23.384953\n",
       "cityCenters_nearest     23.287902\n",
       "parks_around3000        23.283683\n",
       "ponds_around3000        23.283683\n",
       "days_exposition         13.422507\n",
       "kitchen_area             9.612220\n",
       "living_area              8.029875\n",
       "floors_total             0.362885\n",
       "locality_name            0.206760\n",
       "first_day_exposition     0.000000\n",
       "last_price               0.000000\n",
       "total_area               0.000000\n",
       "studio                   0.000000\n",
       "rooms                    0.000000\n",
       "floor                    0.000000\n",
       "open_plan                0.000000\n",
       "total_images             0.000000\n",
       "dtype: float64"
      ]
     },
     "execution_count": 4,
     "metadata": {},
     "output_type": "execute_result"
    }
   ],
   "source": [
    "real_estate_df.isnull().sum().sort_values(ascending=False) / real_estate_df.shape[0] * 100"
   ]
  },
  {
   "cell_type": "markdown",
   "metadata": {},
   "source": [
    "Предположим, почему в некоторых столбцах такое большое количество пропусков: \n",
    "* `is_apartment` - скорее всего значит, что значение *False*, потому что люди, которые выставляли не апартаменты не знают, что это такое. И наоброт, владельцы апартаментов скорее всего разбираются в том, что из себя представляет этот тип недвижимости.\n",
    "* `parks_nearest`, `ponds_nearest` - скорее всего данных нет в системе, и поскольку нет никакого способа адекватно заменить пропуски, то ничего с ними делать не будем.\n",
    "* `balcony` - скорее всего означает, что балкона у квартиры нет.\n",
    "* `ceiling_height` - скорее всего владельцы сами не зполнили эти значения, можно например заменить на медиану по населенному пункту или по удалению от центра.\n",
    "* `airports_nearest`, `cityCenters_nearest` - то же самое, что с `parks_nearest`, `ponds_nearest`, данных нет в системе. \n",
    "* `parks_around3000`, `ponds_around3000` - либо парков нет, либо владелец квартиры посчитал не нужным указывать его наличие, надо будет проверить нет ли объектов, ближе, чем 3 км, но не указанных в этих столбцах.\n",
    "* `days_exposition` - видимо это означает, что объявление еще показывается, т.е либо покупатель не был найдет или сделка не была закрыта в системе. Не понятно, как заменить пропуски в этом столбце, поэтому ничего с ним делать не будем.\n",
    "* `kitchen_area`, `living_area` - видимо владельцы забыли указать эти данные, их можно вычислить, сгруппировав по кол-ву комнат и населенному пункту. Также возможно, что эти значения пропущенны у апартаментов и квартир с открытой планировкой.\n",
    "* `locality_name` - поскольку непонятно, как пользователи будут искать квартиры без указания города, где они сдаются и таких квартир не очень много, то скорее всего можно просто удалить такие строки."
   ]
  },
  {
   "cell_type": "markdown",
   "metadata": {},
   "source": [
    "В конце выведем общую информацию о данных:"
   ]
  },
  {
   "cell_type": "code",
   "execution_count": 5,
   "metadata": {},
   "outputs": [
    {
     "data": {
      "text/html": [
       "<div>\n",
       "<style scoped>\n",
       "    .dataframe tbody tr th:only-of-type {\n",
       "        vertical-align: middle;\n",
       "    }\n",
       "\n",
       "    .dataframe tbody tr th {\n",
       "        vertical-align: top;\n",
       "    }\n",
       "\n",
       "    .dataframe thead th {\n",
       "        text-align: right;\n",
       "    }\n",
       "</style>\n",
       "<table border=\"1\" class=\"dataframe\">\n",
       "  <thead>\n",
       "    <tr style=\"text-align: right;\">\n",
       "      <th></th>\n",
       "      <th>total_images</th>\n",
       "      <th>last_price</th>\n",
       "      <th>total_area</th>\n",
       "      <th>rooms</th>\n",
       "      <th>ceiling_height</th>\n",
       "      <th>floors_total</th>\n",
       "      <th>living_area</th>\n",
       "      <th>floor</th>\n",
       "      <th>kitchen_area</th>\n",
       "      <th>balcony</th>\n",
       "      <th>airports_nearest</th>\n",
       "      <th>cityCenters_nearest</th>\n",
       "      <th>parks_around3000</th>\n",
       "      <th>parks_nearest</th>\n",
       "      <th>ponds_around3000</th>\n",
       "      <th>ponds_nearest</th>\n",
       "      <th>days_exposition</th>\n",
       "    </tr>\n",
       "  </thead>\n",
       "  <tbody>\n",
       "    <tr>\n",
       "      <td>count</td>\n",
       "      <td>23699.000000</td>\n",
       "      <td>2.369900e+04</td>\n",
       "      <td>23699.000000</td>\n",
       "      <td>23699.000000</td>\n",
       "      <td>14504.000000</td>\n",
       "      <td>23613.000000</td>\n",
       "      <td>21796.000000</td>\n",
       "      <td>23699.000000</td>\n",
       "      <td>21421.000000</td>\n",
       "      <td>12180.000000</td>\n",
       "      <td>18157.000000</td>\n",
       "      <td>18180.000000</td>\n",
       "      <td>18181.000000</td>\n",
       "      <td>8079.000000</td>\n",
       "      <td>18181.000000</td>\n",
       "      <td>9110.000000</td>\n",
       "      <td>20518.000000</td>\n",
       "    </tr>\n",
       "    <tr>\n",
       "      <td>mean</td>\n",
       "      <td>9.858475</td>\n",
       "      <td>6.541549e+06</td>\n",
       "      <td>60.348651</td>\n",
       "      <td>2.070636</td>\n",
       "      <td>2.771499</td>\n",
       "      <td>10.673824</td>\n",
       "      <td>34.457852</td>\n",
       "      <td>5.892358</td>\n",
       "      <td>10.569807</td>\n",
       "      <td>1.150082</td>\n",
       "      <td>28793.672193</td>\n",
       "      <td>14191.277833</td>\n",
       "      <td>0.611408</td>\n",
       "      <td>490.804555</td>\n",
       "      <td>0.770255</td>\n",
       "      <td>517.980900</td>\n",
       "      <td>180.888634</td>\n",
       "    </tr>\n",
       "    <tr>\n",
       "      <td>std</td>\n",
       "      <td>5.682529</td>\n",
       "      <td>1.088701e+07</td>\n",
       "      <td>35.654083</td>\n",
       "      <td>1.078405</td>\n",
       "      <td>1.261056</td>\n",
       "      <td>6.597173</td>\n",
       "      <td>22.030445</td>\n",
       "      <td>4.885249</td>\n",
       "      <td>5.905438</td>\n",
       "      <td>1.071300</td>\n",
       "      <td>12630.880622</td>\n",
       "      <td>8608.386210</td>\n",
       "      <td>0.802074</td>\n",
       "      <td>342.317995</td>\n",
       "      <td>0.938346</td>\n",
       "      <td>277.720643</td>\n",
       "      <td>219.727988</td>\n",
       "    </tr>\n",
       "    <tr>\n",
       "      <td>min</td>\n",
       "      <td>0.000000</td>\n",
       "      <td>1.219000e+04</td>\n",
       "      <td>12.000000</td>\n",
       "      <td>0.000000</td>\n",
       "      <td>1.000000</td>\n",
       "      <td>1.000000</td>\n",
       "      <td>2.000000</td>\n",
       "      <td>1.000000</td>\n",
       "      <td>1.300000</td>\n",
       "      <td>0.000000</td>\n",
       "      <td>0.000000</td>\n",
       "      <td>181.000000</td>\n",
       "      <td>0.000000</td>\n",
       "      <td>1.000000</td>\n",
       "      <td>0.000000</td>\n",
       "      <td>13.000000</td>\n",
       "      <td>1.000000</td>\n",
       "    </tr>\n",
       "    <tr>\n",
       "      <td>25%</td>\n",
       "      <td>6.000000</td>\n",
       "      <td>3.400000e+06</td>\n",
       "      <td>40.000000</td>\n",
       "      <td>1.000000</td>\n",
       "      <td>2.520000</td>\n",
       "      <td>5.000000</td>\n",
       "      <td>18.600000</td>\n",
       "      <td>2.000000</td>\n",
       "      <td>7.000000</td>\n",
       "      <td>0.000000</td>\n",
       "      <td>18585.000000</td>\n",
       "      <td>9238.000000</td>\n",
       "      <td>0.000000</td>\n",
       "      <td>288.000000</td>\n",
       "      <td>0.000000</td>\n",
       "      <td>294.000000</td>\n",
       "      <td>45.000000</td>\n",
       "    </tr>\n",
       "    <tr>\n",
       "      <td>50%</td>\n",
       "      <td>9.000000</td>\n",
       "      <td>4.650000e+06</td>\n",
       "      <td>52.000000</td>\n",
       "      <td>2.000000</td>\n",
       "      <td>2.650000</td>\n",
       "      <td>9.000000</td>\n",
       "      <td>30.000000</td>\n",
       "      <td>4.000000</td>\n",
       "      <td>9.100000</td>\n",
       "      <td>1.000000</td>\n",
       "      <td>26726.000000</td>\n",
       "      <td>13098.500000</td>\n",
       "      <td>0.000000</td>\n",
       "      <td>455.000000</td>\n",
       "      <td>1.000000</td>\n",
       "      <td>502.000000</td>\n",
       "      <td>95.000000</td>\n",
       "    </tr>\n",
       "    <tr>\n",
       "      <td>75%</td>\n",
       "      <td>14.000000</td>\n",
       "      <td>6.800000e+06</td>\n",
       "      <td>69.900000</td>\n",
       "      <td>3.000000</td>\n",
       "      <td>2.800000</td>\n",
       "      <td>16.000000</td>\n",
       "      <td>42.300000</td>\n",
       "      <td>8.000000</td>\n",
       "      <td>12.000000</td>\n",
       "      <td>2.000000</td>\n",
       "      <td>37273.000000</td>\n",
       "      <td>16293.000000</td>\n",
       "      <td>1.000000</td>\n",
       "      <td>612.000000</td>\n",
       "      <td>1.000000</td>\n",
       "      <td>729.000000</td>\n",
       "      <td>232.000000</td>\n",
       "    </tr>\n",
       "    <tr>\n",
       "      <td>max</td>\n",
       "      <td>50.000000</td>\n",
       "      <td>7.630000e+08</td>\n",
       "      <td>900.000000</td>\n",
       "      <td>19.000000</td>\n",
       "      <td>100.000000</td>\n",
       "      <td>60.000000</td>\n",
       "      <td>409.700000</td>\n",
       "      <td>33.000000</td>\n",
       "      <td>112.000000</td>\n",
       "      <td>5.000000</td>\n",
       "      <td>84869.000000</td>\n",
       "      <td>65968.000000</td>\n",
       "      <td>3.000000</td>\n",
       "      <td>3190.000000</td>\n",
       "      <td>3.000000</td>\n",
       "      <td>1344.000000</td>\n",
       "      <td>1580.000000</td>\n",
       "    </tr>\n",
       "  </tbody>\n",
       "</table>\n",
       "</div>"
      ],
      "text/plain": [
       "       total_images    last_price    total_area         rooms  ceiling_height  \\\n",
       "count  23699.000000  2.369900e+04  23699.000000  23699.000000    14504.000000   \n",
       "mean       9.858475  6.541549e+06     60.348651      2.070636        2.771499   \n",
       "std        5.682529  1.088701e+07     35.654083      1.078405        1.261056   \n",
       "min        0.000000  1.219000e+04     12.000000      0.000000        1.000000   \n",
       "25%        6.000000  3.400000e+06     40.000000      1.000000        2.520000   \n",
       "50%        9.000000  4.650000e+06     52.000000      2.000000        2.650000   \n",
       "75%       14.000000  6.800000e+06     69.900000      3.000000        2.800000   \n",
       "max       50.000000  7.630000e+08    900.000000     19.000000      100.000000   \n",
       "\n",
       "       floors_total   living_area         floor  kitchen_area       balcony  \\\n",
       "count  23613.000000  21796.000000  23699.000000  21421.000000  12180.000000   \n",
       "mean      10.673824     34.457852      5.892358     10.569807      1.150082   \n",
       "std        6.597173     22.030445      4.885249      5.905438      1.071300   \n",
       "min        1.000000      2.000000      1.000000      1.300000      0.000000   \n",
       "25%        5.000000     18.600000      2.000000      7.000000      0.000000   \n",
       "50%        9.000000     30.000000      4.000000      9.100000      1.000000   \n",
       "75%       16.000000     42.300000      8.000000     12.000000      2.000000   \n",
       "max       60.000000    409.700000     33.000000    112.000000      5.000000   \n",
       "\n",
       "       airports_nearest  cityCenters_nearest  parks_around3000  parks_nearest  \\\n",
       "count      18157.000000         18180.000000      18181.000000    8079.000000   \n",
       "mean       28793.672193         14191.277833          0.611408     490.804555   \n",
       "std        12630.880622          8608.386210          0.802074     342.317995   \n",
       "min            0.000000           181.000000          0.000000       1.000000   \n",
       "25%        18585.000000          9238.000000          0.000000     288.000000   \n",
       "50%        26726.000000         13098.500000          0.000000     455.000000   \n",
       "75%        37273.000000         16293.000000          1.000000     612.000000   \n",
       "max        84869.000000         65968.000000          3.000000    3190.000000   \n",
       "\n",
       "       ponds_around3000  ponds_nearest  days_exposition  \n",
       "count      18181.000000    9110.000000     20518.000000  \n",
       "mean           0.770255     517.980900       180.888634  \n",
       "std            0.938346     277.720643       219.727988  \n",
       "min            0.000000      13.000000         1.000000  \n",
       "25%            0.000000     294.000000        45.000000  \n",
       "50%            1.000000     502.000000        95.000000  \n",
       "75%            1.000000     729.000000       232.000000  \n",
       "max            3.000000    1344.000000      1580.000000  "
      ]
     },
     "execution_count": 5,
     "metadata": {},
     "output_type": "execute_result"
    }
   ],
   "source": [
    "real_estate_df.describe()"
   ]
  },
  {
   "cell_type": "markdown",
   "metadata": {},
   "source": [
    "В данных видно несколко аномалий: \n",
    "* *max* и *min* в `rooms`: возможно 19 комнатная квартира это не жилая площадь, надо будет посмотреть, как ограничить квартиры по количеству комнат при исследовании. Надо будет разобраться, что значит квартира с 0 комнатами, возможно это студии или открытые планировки. \n",
    "* *max* в `ceiling_height`: 100 метровые потолки - это тоже аномалия, которую надо будет исключить из расчетов\n",
    "* *max* в `floors_total`: 60 этажный дом - слишком высокий \n",
    "* *min* в `living_area`: 2m<sup>2</sup> жилой площади - кажется слишком мало\n",
    "* *max* в `days_exposition`: 4.3 года - слишком долго для объявления "
   ]
  },
  {
   "cell_type": "markdown",
   "metadata": {},
   "source": [
    "<a name=\"open_file.conclusion\"></a>\n",
    "### Вывод"
   ]
  },
  {
   "cell_type": "markdown",
   "metadata": {},
   "source": [
    "В данных были обнаружены следующие проблемы:  \n",
    "1) Недостаточно подробные названия столбцов  \n",
    "2) Проблема с регистром в имени столбца `cityCenters_nearest`  \n",
    "3) Неверные типы данных для некоторых стобцов  \n",
    "4) Много пропусков в данных   \n",
    "5) Аномальные выбросы в данных  \n",
    "  \n",
    "Попробуем их решить."
   ]
  },
  {
   "cell_type": "markdown",
   "metadata": {},
   "source": [
    "<div class=\"alert alert-success\">\n",
    "<h2> Комментарий ревьюера </h2>\n",
    "\n",
    "Первый взгляд на данные выполнен. Здорово, что ты подумал над причинами пропусков. Давай приступим к их обработке. \n",
    "    \n",
    "</div>"
   ]
  },
  {
   "cell_type": "markdown",
   "metadata": {},
   "source": [
    "<a name=\"data_preprocessing\"></a>\n",
    "## Шаг 2. Предобработка данных"
   ]
  },
  {
   "cell_type": "markdown",
   "metadata": {},
   "source": [
    "Сначала переименуем столбцы так, как было указано выше"
   ]
  },
  {
   "cell_type": "markdown",
   "metadata": {},
   "source": [
    "<a name=\"data_preprocessing.rename\"></a>\n",
    "### Переименование столбцов"
   ]
  },
  {
   "cell_type": "code",
   "execution_count": 6,
   "metadata": {
    "scrolled": true
   },
   "outputs": [
    {
     "name": "stdout",
     "output_type": "stream",
     "text": [
      "Столбцы, которые поменяли свои названия: \n",
      "total_images -> images_count\n",
      "last_price -> last_price_rub\n",
      "total_area -> total_area_m2\n",
      "first_day_exposition -> creation_date\n",
      "rooms -> rooms_count\n",
      "ceiling_height -> ceiling_height_m\n",
      "floors_total -> floors_count\n",
      "living_area -> living_area_m2\n",
      "studio -> is_studio\n",
      "open_plan -> is_open_plan\n",
      "kitchen_area -> kitchen_area_m2\n",
      "balcony -> balcony_count\n",
      "airports_nearest -> nearest_airport_distance_m\n",
      "cityCenters_nearest -> nearest_city_center_distance_m\n",
      "parks_around3000 -> parks_around_3000m_count\n",
      "parks_nearest -> nearest_park_distance_m\n",
      "ponds_around3000 -> ponds_around_3000m_count\n",
      "ponds_nearest -> nearest_pond_distance_m\n"
     ]
    },
    {
     "data": {
      "text/plain": [
       "['images_count',\n",
       " 'last_price_rub',\n",
       " 'total_area_m2',\n",
       " 'creation_date',\n",
       " 'rooms_count',\n",
       " 'ceiling_height_m',\n",
       " 'floors_count',\n",
       " 'living_area_m2',\n",
       " 'floor',\n",
       " 'is_apartment',\n",
       " 'is_studio',\n",
       " 'is_open_plan',\n",
       " 'kitchen_area_m2',\n",
       " 'balcony_count',\n",
       " 'locality_name',\n",
       " 'nearest_airport_distance_m',\n",
       " 'nearest_city_center_distance_m',\n",
       " 'parks_around_3000m_count',\n",
       " 'nearest_park_distance_m',\n",
       " 'ponds_around_3000m_count',\n",
       " 'nearest_pond_distance_m',\n",
       " 'days_exposition']"
      ]
     },
     "execution_count": 6,
     "metadata": {},
     "output_type": "execute_result"
    }
   ],
   "source": [
    "old_column_names = real_estate_df.columns.tolist()\n",
    "new_column_names = {\n",
    "    'total_images': 'images_count',\n",
    "    'last_price': 'last_price_rub',\n",
    "    'total_area': 'total_area_m2',\n",
    "    'first_day_exposition': 'creation_date',\n",
    "    'rooms': 'rooms_count',\n",
    "    'ceiling_height': 'ceiling_height_m',\n",
    "    'floors_total': 'floors_count',\n",
    "    'living_area': 'living_area_m2',\n",
    "    'studio': 'is_studio',\n",
    "    'open_plan': 'is_open_plan',\n",
    "    'kitchen_area': 'kitchen_area_m2',\n",
    "    'balcony': 'balcony_count',\n",
    "    'airports_nearest': 'nearest_airport_distance_m',\n",
    "    'cityCenters_nearest': 'nearest_city_center_distance_m',\n",
    "    'parks_around3000': 'parks_around_3000m_count',\n",
    "    'parks_nearest': 'nearest_park_distance_m',\n",
    "    'ponds_around3000': 'ponds_around_3000m_count',\n",
    "    'ponds_nearest': 'nearest_pond_distance_m',\n",
    "}\n",
    "real_estate_df = real_estate_df.rename(columns=new_column_names)\n",
    "print('Столбцы, которые поменяли свои названия: ')\n",
    "for idx, column_name in enumerate(old_column_names):\n",
    "    new_column_name = new_column_names.get(column_name)\n",
    "    if new_column_name and column_name != new_column_name: \n",
    "        print('{} -> {}'.format(column_name, new_column_name))\n",
    "\n",
    "real_estate_df.columns.tolist()"
   ]
  },
  {
   "cell_type": "markdown",
   "metadata": {},
   "source": [
    "<div class=\"alert alert-warning\">\n",
    "<h2> Комментарий ревьюера </h2>\n",
    "\n",
    "Не надо переименовывать столбцы через атрибут columns, потому что так ты неявно учитываешь порядок столбцов. Если порядок столбцов поменяется, код перестанет работать. Используй вместо этого метод rename().\n",
    "    \n",
    "</div>"
   ]
  },
  {
   "cell_type": "markdown",
   "metadata": {},
   "source": [
    "<div class=\"alert alert-info\">\n",
    "\n",
    "Поменял на replace()\n",
    "    \n",
    "</div>"
   ]
  },
  {
   "cell_type": "markdown",
   "metadata": {},
   "source": [
    "<div class=\"alert alert-success\">\n",
    "<h2> Комментарий ревьюера 2</h2>\n",
    "\n",
    "Только на rename) В остальном все верно. \n",
    "\n",
    "</div>"
   ]
  },
  {
   "cell_type": "markdown",
   "metadata": {},
   "source": [
    "<a name=\"data_preprocessing.anomalies\"></a>\n",
    "### Аномалии в данных"
   ]
  },
  {
   "cell_type": "markdown",
   "metadata": {},
   "source": [
    "<a name=\"data_preprocessing.anomalies.rooms_count\"></a>\n",
    "#### rooms_count"
   ]
  },
  {
   "cell_type": "markdown",
   "metadata": {},
   "source": [
    "Выведем строки с 0 в столбце `rooms_count` "
   ]
  },
  {
   "cell_type": "code",
   "execution_count": 7,
   "metadata": {
    "scrolled": true
   },
   "outputs": [
    {
     "data": {
      "text/html": [
       "<div>\n",
       "<style scoped>\n",
       "    .dataframe tbody tr th:only-of-type {\n",
       "        vertical-align: middle;\n",
       "    }\n",
       "\n",
       "    .dataframe tbody tr th {\n",
       "        vertical-align: top;\n",
       "    }\n",
       "\n",
       "    .dataframe thead th {\n",
       "        text-align: right;\n",
       "    }\n",
       "</style>\n",
       "<table border=\"1\" class=\"dataframe\">\n",
       "  <thead>\n",
       "    <tr style=\"text-align: right;\">\n",
       "      <th></th>\n",
       "      <th>images_count</th>\n",
       "      <th>last_price_rub</th>\n",
       "      <th>total_area_m2</th>\n",
       "      <th>creation_date</th>\n",
       "      <th>rooms_count</th>\n",
       "      <th>ceiling_height_m</th>\n",
       "      <th>floors_count</th>\n",
       "      <th>living_area_m2</th>\n",
       "      <th>floor</th>\n",
       "      <th>is_apartment</th>\n",
       "      <th>is_studio</th>\n",
       "      <th>is_open_plan</th>\n",
       "      <th>kitchen_area_m2</th>\n",
       "      <th>balcony_count</th>\n",
       "      <th>locality_name</th>\n",
       "      <th>nearest_airport_distance_m</th>\n",
       "      <th>nearest_city_center_distance_m</th>\n",
       "      <th>parks_around_3000m_count</th>\n",
       "      <th>nearest_park_distance_m</th>\n",
       "      <th>ponds_around_3000m_count</th>\n",
       "      <th>nearest_pond_distance_m</th>\n",
       "      <th>days_exposition</th>\n",
       "    </tr>\n",
       "  </thead>\n",
       "  <tbody>\n",
       "    <tr>\n",
       "      <td>144</td>\n",
       "      <td>1</td>\n",
       "      <td>2450000.0</td>\n",
       "      <td>27.00</td>\n",
       "      <td>2017-03-30T00:00:00</td>\n",
       "      <td>0</td>\n",
       "      <td>NaN</td>\n",
       "      <td>24.0</td>\n",
       "      <td>15.50</td>\n",
       "      <td>2</td>\n",
       "      <td>NaN</td>\n",
       "      <td>True</td>\n",
       "      <td>False</td>\n",
       "      <td>NaN</td>\n",
       "      <td>2.0</td>\n",
       "      <td>посёлок Мурино</td>\n",
       "      <td>NaN</td>\n",
       "      <td>NaN</td>\n",
       "      <td>NaN</td>\n",
       "      <td>NaN</td>\n",
       "      <td>NaN</td>\n",
       "      <td>NaN</td>\n",
       "      <td>181.0</td>\n",
       "    </tr>\n",
       "    <tr>\n",
       "      <td>349</td>\n",
       "      <td>4</td>\n",
       "      <td>2320000.0</td>\n",
       "      <td>25.00</td>\n",
       "      <td>2017-09-27T00:00:00</td>\n",
       "      <td>0</td>\n",
       "      <td>NaN</td>\n",
       "      <td>14.0</td>\n",
       "      <td>17.00</td>\n",
       "      <td>1</td>\n",
       "      <td>NaN</td>\n",
       "      <td>False</td>\n",
       "      <td>True</td>\n",
       "      <td>NaN</td>\n",
       "      <td>0.0</td>\n",
       "      <td>деревня Кудрово</td>\n",
       "      <td>NaN</td>\n",
       "      <td>NaN</td>\n",
       "      <td>NaN</td>\n",
       "      <td>NaN</td>\n",
       "      <td>NaN</td>\n",
       "      <td>NaN</td>\n",
       "      <td>45.0</td>\n",
       "    </tr>\n",
       "    <tr>\n",
       "      <td>440</td>\n",
       "      <td>8</td>\n",
       "      <td>2480000.0</td>\n",
       "      <td>27.11</td>\n",
       "      <td>2018-03-12T00:00:00</td>\n",
       "      <td>0</td>\n",
       "      <td>NaN</td>\n",
       "      <td>17.0</td>\n",
       "      <td>24.75</td>\n",
       "      <td>4</td>\n",
       "      <td>NaN</td>\n",
       "      <td>True</td>\n",
       "      <td>False</td>\n",
       "      <td>NaN</td>\n",
       "      <td>2.0</td>\n",
       "      <td>Санкт-Петербург</td>\n",
       "      <td>38171.0</td>\n",
       "      <td>15015.0</td>\n",
       "      <td>0.0</td>\n",
       "      <td>NaN</td>\n",
       "      <td>2.0</td>\n",
       "      <td>982.0</td>\n",
       "      <td>64.0</td>\n",
       "    </tr>\n",
       "    <tr>\n",
       "      <td>508</td>\n",
       "      <td>0</td>\n",
       "      <td>3375000.0</td>\n",
       "      <td>34.40</td>\n",
       "      <td>2017-03-28T00:00:00</td>\n",
       "      <td>0</td>\n",
       "      <td>NaN</td>\n",
       "      <td>26.0</td>\n",
       "      <td>24.30</td>\n",
       "      <td>19</td>\n",
       "      <td>NaN</td>\n",
       "      <td>False</td>\n",
       "      <td>True</td>\n",
       "      <td>NaN</td>\n",
       "      <td>1.0</td>\n",
       "      <td>посёлок Парголово</td>\n",
       "      <td>53115.0</td>\n",
       "      <td>19292.0</td>\n",
       "      <td>0.0</td>\n",
       "      <td>NaN</td>\n",
       "      <td>1.0</td>\n",
       "      <td>593.0</td>\n",
       "      <td>430.0</td>\n",
       "    </tr>\n",
       "    <tr>\n",
       "      <td>608</td>\n",
       "      <td>2</td>\n",
       "      <td>1850000.0</td>\n",
       "      <td>25.00</td>\n",
       "      <td>2019-02-20T00:00:00</td>\n",
       "      <td>0</td>\n",
       "      <td>NaN</td>\n",
       "      <td>10.0</td>\n",
       "      <td>NaN</td>\n",
       "      <td>7</td>\n",
       "      <td>NaN</td>\n",
       "      <td>True</td>\n",
       "      <td>False</td>\n",
       "      <td>NaN</td>\n",
       "      <td>NaN</td>\n",
       "      <td>посёлок Шушары</td>\n",
       "      <td>NaN</td>\n",
       "      <td>NaN</td>\n",
       "      <td>NaN</td>\n",
       "      <td>NaN</td>\n",
       "      <td>NaN</td>\n",
       "      <td>NaN</td>\n",
       "      <td>29.0</td>\n",
       "    </tr>\n",
       "  </tbody>\n",
       "</table>\n",
       "</div>"
      ],
      "text/plain": [
       "     images_count  last_price_rub  total_area_m2        creation_date  \\\n",
       "144             1       2450000.0          27.00  2017-03-30T00:00:00   \n",
       "349             4       2320000.0          25.00  2017-09-27T00:00:00   \n",
       "440             8       2480000.0          27.11  2018-03-12T00:00:00   \n",
       "508             0       3375000.0          34.40  2017-03-28T00:00:00   \n",
       "608             2       1850000.0          25.00  2019-02-20T00:00:00   \n",
       "\n",
       "     rooms_count  ceiling_height_m  floors_count  living_area_m2  floor  \\\n",
       "144            0               NaN          24.0           15.50      2   \n",
       "349            0               NaN          14.0           17.00      1   \n",
       "440            0               NaN          17.0           24.75      4   \n",
       "508            0               NaN          26.0           24.30     19   \n",
       "608            0               NaN          10.0             NaN      7   \n",
       "\n",
       "    is_apartment  is_studio  is_open_plan  kitchen_area_m2  balcony_count  \\\n",
       "144          NaN       True         False              NaN            2.0   \n",
       "349          NaN      False          True              NaN            0.0   \n",
       "440          NaN       True         False              NaN            2.0   \n",
       "508          NaN      False          True              NaN            1.0   \n",
       "608          NaN       True         False              NaN            NaN   \n",
       "\n",
       "         locality_name  nearest_airport_distance_m  \\\n",
       "144     посёлок Мурино                         NaN   \n",
       "349    деревня Кудрово                         NaN   \n",
       "440    Санкт-Петербург                     38171.0   \n",
       "508  посёлок Парголово                     53115.0   \n",
       "608     посёлок Шушары                         NaN   \n",
       "\n",
       "     nearest_city_center_distance_m  parks_around_3000m_count  \\\n",
       "144                             NaN                       NaN   \n",
       "349                             NaN                       NaN   \n",
       "440                         15015.0                       0.0   \n",
       "508                         19292.0                       0.0   \n",
       "608                             NaN                       NaN   \n",
       "\n",
       "     nearest_park_distance_m  ponds_around_3000m_count  \\\n",
       "144                      NaN                       NaN   \n",
       "349                      NaN                       NaN   \n",
       "440                      NaN                       2.0   \n",
       "508                      NaN                       1.0   \n",
       "608                      NaN                       NaN   \n",
       "\n",
       "     nearest_pond_distance_m  days_exposition  \n",
       "144                      NaN            181.0  \n",
       "349                      NaN             45.0  \n",
       "440                    982.0             64.0  \n",
       "508                    593.0            430.0  \n",
       "608                      NaN             29.0  "
      ]
     },
     "execution_count": 7,
     "metadata": {},
     "output_type": "execute_result"
    }
   ],
   "source": [
    "real_estate_df[real_estate_df['rooms_count'] == 0].head(5)"
   ]
  },
  {
   "cell_type": "markdown",
   "metadata": {},
   "source": [
    "Можно заметить, что а этом случае стоит *True* либо в стобце `is_studio` или`is_open_plan`.\n",
    "Проверим, верно ли это для всех строк."
   ]
  },
  {
   "cell_type": "code",
   "execution_count": 8,
   "metadata": {
    "scrolled": true
   },
   "outputs": [
    {
     "data": {
      "text/plain": [
       "0"
      ]
     },
     "execution_count": 8,
     "metadata": {},
     "output_type": "execute_result"
    }
   ],
   "source": [
    "real_estate_df.query('rooms_count == 0 and not (is_studio or is_open_plan)').shape[0]"
   ]
  },
  {
   "cell_type": "markdown",
   "metadata": {},
   "source": [
    "Из этого можно сделать вывод, что 0 комнат только у студий и квартир со свободной планировкой"
   ]
  },
  {
   "cell_type": "markdown",
   "metadata": {},
   "source": [
    "<a name=\"data_preprocessing.duplicates\"></a>\n",
    "### Избавление от дубликатов в данных"
   ]
  },
  {
   "cell_type": "markdown",
   "metadata": {},
   "source": [
    "<a name=\"data_preprocessing.duplicates.locality_name\"></a>\n",
    "#### locality_name"
   ]
  },
  {
   "cell_type": "markdown",
   "metadata": {},
   "source": [
    "Посмотрим сколько уникальных значений в столбце `locality_name`"
   ]
  },
  {
   "cell_type": "code",
   "execution_count": 9,
   "metadata": {},
   "outputs": [
    {
     "data": {
      "text/plain": [
       "364"
      ]
     },
     "execution_count": 9,
     "metadata": {},
     "output_type": "execute_result"
    }
   ],
   "source": [
    "real_estate_df['locality_name'].nunique() "
   ]
  },
  {
   "cell_type": "markdown",
   "metadata": {},
   "source": [
    "Попробуем привести все названия населенных пунктов к одному регистру и удалим строки в начале и конце."
   ]
  },
  {
   "cell_type": "code",
   "execution_count": 10,
   "metadata": {
    "scrolled": true
   },
   "outputs": [
    {
     "data": {
      "text/plain": [
       "364"
      ]
     },
     "execution_count": 10,
     "metadata": {},
     "output_type": "execute_result"
    }
   ],
   "source": [
    "real_estate_df['locality_name'] = real_estate_df['locality_name'].str.lower()\n",
    "real_estate_df['locality_name'] = real_estate_df['locality_name'].str.strip()\n",
    "real_estate_df['locality_name'].nunique() "
   ]
  },
  {
   "cell_type": "markdown",
   "metadata": {},
   "source": [
    "Не помогло, посмотрим на названия, чтобы увидеть там какие-то проблемы"
   ]
  },
  {
   "cell_type": "code",
   "execution_count": 11,
   "metadata": {},
   "outputs": [
    {
     "data": {
      "text/plain": [
       "['санкт-петербург',\n",
       " 'посёлок шушары',\n",
       " 'городской посёлок янино-1',\n",
       " 'посёлок парголово',\n",
       " 'посёлок мурино',\n",
       " 'ломоносов',\n",
       " 'сертолово',\n",
       " 'петергоф',\n",
       " 'пушкин',\n",
       " 'деревня кудрово',\n",
       " 'коммунар',\n",
       " 'колпино',\n",
       " 'поселок городского типа красный бор',\n",
       " 'гатчина',\n",
       " 'поселок мурино',\n",
       " 'деревня фёдоровское',\n",
       " 'выборг',\n",
       " 'кронштадт',\n",
       " 'кировск',\n",
       " 'деревня новое девяткино',\n",
       " 'посёлок металлострой',\n",
       " 'посёлок городского типа лебяжье',\n",
       " 'посёлок городского типа сиверский',\n",
       " 'поселок молодцово',\n",
       " 'поселок городского типа кузьмоловский',\n",
       " 'садовое товарищество новая ропша',\n",
       " 'павловск',\n",
       " 'деревня пикколово',\n",
       " 'всеволожск',\n",
       " 'волхов',\n",
       " 'кингисепп',\n",
       " 'приозерск',\n",
       " 'сестрорецк',\n",
       " 'деревня куттузи',\n",
       " 'посёлок аннино',\n",
       " 'поселок городского типа ефимовский',\n",
       " 'посёлок плодовое',\n",
       " 'деревня заклинье',\n",
       " 'поселок торковичи',\n",
       " 'поселок первомайское',\n",
       " 'красное село',\n",
       " 'посёлок понтонный',\n",
       " 'сясьстрой',\n",
       " 'деревня старая',\n",
       " 'деревня лесколово',\n",
       " 'посёлок новый свет',\n",
       " 'сланцы',\n",
       " 'село путилово',\n",
       " 'ивангород',\n",
       " 'мурино',\n",
       " 'шлиссельбург',\n",
       " 'никольское',\n",
       " 'зеленогорск',\n",
       " 'сосновый бор',\n",
       " 'поселок новый свет',\n",
       " 'деревня оржицы',\n",
       " 'деревня кальтино',\n",
       " 'кудрово',\n",
       " 'поселок романовка',\n",
       " 'посёлок бугры',\n",
       " 'поселок бугры',\n",
       " 'поселок городского типа рощино',\n",
       " 'кириши',\n",
       " 'луга',\n",
       " 'волосово',\n",
       " 'отрадное',\n",
       " 'село павлово',\n",
       " 'поселок оредеж',\n",
       " 'село копорье',\n",
       " 'посёлок городского типа красный бор',\n",
       " 'посёлок молодёжное',\n",
       " 'тихвин',\n",
       " 'посёлок победа',\n",
       " 'деревня нурма',\n",
       " 'поселок городского типа синявино',\n",
       " 'тосно',\n",
       " 'посёлок городского типа кузьмоловский',\n",
       " 'посёлок стрельна',\n",
       " 'бокситогорск',\n",
       " 'посёлок александровская',\n",
       " 'деревня лопухинка',\n",
       " 'пикалёво',\n",
       " 'поселок терволово',\n",
       " 'поселок городского типа советский',\n",
       " 'подпорожье',\n",
       " 'посёлок петровское',\n",
       " 'посёлок городского типа токсово',\n",
       " 'поселок сельцо',\n",
       " 'посёлок городского типа вырица',\n",
       " 'деревня кипень',\n",
       " 'деревня келози',\n",
       " 'деревня вартемяги',\n",
       " 'посёлок тельмана',\n",
       " 'поселок севастьяново',\n",
       " 'городской поселок большая ижора',\n",
       " 'городской посёлок павлово',\n",
       " 'деревня агалатово',\n",
       " 'посёлок новогорелово',\n",
       " 'городской посёлок лесогорский',\n",
       " 'деревня лаголово',\n",
       " 'поселок цвелодубово',\n",
       " 'поселок городского типа рахья',\n",
       " 'поселок городского типа вырица',\n",
       " 'деревня белогорка',\n",
       " 'поселок заводской',\n",
       " 'городской посёлок новоселье',\n",
       " 'деревня большие колпаны',\n",
       " 'деревня горбунки',\n",
       " 'деревня батово',\n",
       " 'деревня заневка',\n",
       " 'деревня иссад',\n",
       " 'приморск',\n",
       " 'городской посёлок фёдоровское',\n",
       " 'деревня мистолово',\n",
       " 'новая ладога',\n",
       " 'поселок зимитицы',\n",
       " 'поселок барышево',\n",
       " 'деревня разметелево',\n",
       " 'поселок городского типа имени свердлова',\n",
       " 'деревня пеники',\n",
       " 'поселок рябово',\n",
       " 'деревня пудомяги',\n",
       " 'поселок станции корнево',\n",
       " 'деревня низино',\n",
       " 'деревня бегуницы',\n",
       " 'посёлок поляны',\n",
       " 'городской посёлок мга',\n",
       " 'поселок елизаветино',\n",
       " 'посёлок городского типа кузнечное',\n",
       " 'деревня колтуши',\n",
       " 'поселок запорожское',\n",
       " 'посёлок городского типа рощино',\n",
       " 'деревня гостилицы',\n",
       " 'деревня малое карлино',\n",
       " 'посёлок мичуринское',\n",
       " 'посёлок городского типа имени морозова',\n",
       " 'посёлок песочный',\n",
       " 'посёлок сосново',\n",
       " 'деревня аро',\n",
       " 'поселок ильичёво',\n",
       " 'посёлок городского типа тайцы',\n",
       " 'деревня малое верево',\n",
       " 'деревня извара',\n",
       " 'поселок станции вещево',\n",
       " 'село паша',\n",
       " 'деревня калитино',\n",
       " 'посёлок городского типа ульяновка',\n",
       " 'деревня чудской бор',\n",
       " 'поселок городского типа дубровка',\n",
       " 'деревня мины',\n",
       " 'поселок войсковицы',\n",
       " 'посёлок городского типа имени свердлова',\n",
       " 'деревня коркино',\n",
       " 'посёлок ропша',\n",
       " 'поселок городского типа приладожский',\n",
       " 'посёлок щеглово',\n",
       " 'посёлок гаврилово',\n",
       " 'лодейное поле',\n",
       " 'деревня рабитицы',\n",
       " 'поселок городского типа никольский',\n",
       " 'деревня кузьмолово',\n",
       " 'деревня малые колпаны',\n",
       " 'поселок тельмана',\n",
       " 'посёлок петро-славянка',\n",
       " 'городской посёлок назия',\n",
       " 'посёлок репино',\n",
       " 'посёлок ильичёво',\n",
       " 'поселок углово',\n",
       " 'поселок старая малукса',\n",
       " 'садовое товарищество рахья',\n",
       " 'поселок аннино',\n",
       " 'поселок победа',\n",
       " 'деревня меньково',\n",
       " 'деревня старые бегуницы',\n",
       " 'посёлок сапёрный',\n",
       " 'поселок семрино',\n",
       " 'поселок гаврилово',\n",
       " 'поселок глажево',\n",
       " 'поселок кобринское',\n",
       " 'деревня гарболово',\n",
       " 'деревня юкки',\n",
       " 'поселок станции приветнинское',\n",
       " 'деревня мануйлово',\n",
       " 'деревня пчева',\n",
       " 'поселок поляны',\n",
       " 'поселок цвылёво',\n",
       " 'поселок мельниково',\n",
       " 'посёлок пудость',\n",
       " 'посёлок усть-луга',\n",
       " 'светогорск',\n",
       " 'любань',\n",
       " 'поселок селезнёво',\n",
       " 'поселок городского типа рябово',\n",
       " 'каменногорск',\n",
       " 'деревня кривко',\n",
       " 'поселок глебычево',\n",
       " 'деревня парицы',\n",
       " 'поселок жилпосёлок',\n",
       " 'посёлок городского типа мга',\n",
       " 'городской поселок янино-1',\n",
       " 'посёлок войскорово',\n",
       " 'село никольское',\n",
       " 'посёлок терволово',\n",
       " 'поселок стеклянный',\n",
       " 'посёлок городского типа важины',\n",
       " 'посёлок мыза-ивановка',\n",
       " 'село русско-высоцкое',\n",
       " 'поселок городского типа лебяжье',\n",
       " 'поселок городского типа форносово',\n",
       " 'село старая ладога',\n",
       " 'поселок житково',\n",
       " 'городской посёлок виллози',\n",
       " 'деревня лампово',\n",
       " 'деревня шпаньково',\n",
       " 'деревня лаврики',\n",
       " 'посёлок сумино',\n",
       " 'посёлок возрождение',\n",
       " 'деревня старосиверская',\n",
       " 'посёлок кикерино',\n",
       " 'поселок возрождение',\n",
       " 'деревня старое хинколово',\n",
       " 'посёлок пригородный',\n",
       " 'посёлок торфяное',\n",
       " 'городской посёлок будогощь',\n",
       " 'поселок суходолье',\n",
       " 'поселок красная долина',\n",
       " 'деревня хапо-ое',\n",
       " 'поселок городского типа дружная горка',\n",
       " 'поселок лисий нос',\n",
       " 'деревня яльгелево',\n",
       " 'посёлок стеклянный',\n",
       " 'село рождествено',\n",
       " 'деревня старополье',\n",
       " 'посёлок левашово',\n",
       " 'деревня сяськелево',\n",
       " 'деревня камышовка',\n",
       " 'садоводческое некоммерческое товарищество лесная поляна',\n",
       " 'деревня хязельки',\n",
       " 'поселок жилгородок',\n",
       " 'посёлок городского типа павлово',\n",
       " 'деревня ялгино',\n",
       " 'поселок новый учхоз',\n",
       " 'городской посёлок рощино',\n",
       " 'поселок гончарово',\n",
       " 'поселок почап',\n",
       " 'посёлок сапёрное',\n",
       " 'посёлок платформа 69-й километр',\n",
       " 'поселок каложицы',\n",
       " 'деревня фалилеево',\n",
       " 'деревня пельгора',\n",
       " 'поселок городского типа лесогорский',\n",
       " 'деревня торошковичи',\n",
       " 'посёлок белоостров',\n",
       " 'посёлок алексеевка',\n",
       " 'поселок серебрянский',\n",
       " 'поселок лукаши',\n",
       " 'поселок петровское',\n",
       " 'деревня щеглово',\n",
       " 'поселок мичуринское',\n",
       " 'деревня тарасово',\n",
       " 'поселок кингисеппский',\n",
       " 'посёлок при железнодорожной станции вещево',\n",
       " 'поселок ушаки',\n",
       " 'деревня котлы',\n",
       " 'деревня сижно',\n",
       " 'деревня торосово',\n",
       " 'посёлок форт красная горка',\n",
       " 'поселок городского типа токсово',\n",
       " 'деревня новолисино',\n",
       " 'посёлок станции громово',\n",
       " 'деревня глинка',\n",
       " 'посёлок мельниково',\n",
       " 'поселок городского типа назия',\n",
       " 'деревня старая пустошь',\n",
       " 'поселок коммунары',\n",
       " 'поселок починок',\n",
       " 'посёлок городского типа вознесенье',\n",
       " 'деревня разбегаево',\n",
       " 'посёлок городского типа рябово',\n",
       " 'поселок гладкое',\n",
       " 'посёлок при железнодорожной станции приветнинское',\n",
       " 'поселок тёсово-4',\n",
       " 'посёлок жилгородок',\n",
       " 'деревня бор',\n",
       " 'посёлок коробицыно',\n",
       " 'деревня большая вруда',\n",
       " 'деревня курковицы',\n",
       " 'посёлок лисий нос',\n",
       " 'городской посёлок советский',\n",
       " 'посёлок кобралово',\n",
       " 'деревня суоранда',\n",
       " 'поселок кобралово',\n",
       " 'поселок городского типа кондратьево',\n",
       " 'коттеджный поселок счастье',\n",
       " 'поселок любань',\n",
       " 'деревня реброво',\n",
       " 'деревня зимитицы',\n",
       " 'деревня тойворово',\n",
       " 'поселок семиозерье',\n",
       " 'поселок лесное',\n",
       " 'поселок совхозный',\n",
       " 'поселок усть-луга',\n",
       " 'посёлок ленинское',\n",
       " 'посёлок суйда',\n",
       " 'посёлок городского типа форносово',\n",
       " 'деревня нижние осельки',\n",
       " 'посёлок станции свирь',\n",
       " 'поселок перово',\n",
       " 'высоцк',\n",
       " 'поселок гарболово',\n",
       " 'село шум',\n",
       " 'поселок котельский',\n",
       " 'поселок станции лужайка',\n",
       " 'деревня большая пустомержа',\n",
       " 'поселок красносельское',\n",
       " 'деревня вахнова кара',\n",
       " 'деревня пижма',\n",
       " 'коттеджный поселок кивеннапа север',\n",
       " 'поселок коробицыно',\n",
       " 'поселок ромашки',\n",
       " 'посёлок перово',\n",
       " 'деревня каськово',\n",
       " 'деревня куровицы',\n",
       " 'посёлок плоское',\n",
       " 'поселок сумино',\n",
       " 'поселок городского типа большая ижора',\n",
       " 'поселок кирпичное',\n",
       " 'деревня ям-тесово',\n",
       " 'деревня раздолье',\n",
       " 'деревня терпилицы',\n",
       " 'посёлок шугозеро',\n",
       " 'деревня ваганово',\n",
       " 'поселок пушное',\n",
       " 'садовое товарищество садко',\n",
       " 'посёлок усть-ижора',\n",
       " 'деревня выскатка',\n",
       " 'городской посёлок свирьстрой',\n",
       " 'поселок громово',\n",
       " 'деревня кисельня',\n",
       " 'посёлок старая малукса',\n",
       " 'деревня трубников бор',\n",
       " 'поселок калитино',\n",
       " 'посёлок высокоключевой',\n",
       " 'садовое товарищество приладожский',\n",
       " 'посёлок пансионат зелёный бор',\n",
       " 'деревня ненимяки',\n",
       " 'поселок пансионат зелёный бор',\n",
       " 'деревня снегирёвка',\n",
       " 'деревня рапполово',\n",
       " 'деревня пустынка',\n",
       " 'поселок рабитицы',\n",
       " 'деревня большой сабск',\n",
       " 'деревня русско',\n",
       " 'деревня лупполово',\n",
       " 'деревня большое рейзино',\n",
       " 'деревня малая романовка',\n",
       " 'поселок дружноселье',\n",
       " 'поселок пчевжа',\n",
       " 'поселок володарское',\n",
       " 'деревня нижняя',\n",
       " 'коттеджный посёлок лесное',\n",
       " 'деревня тихковицы',\n",
       " 'деревня борисова грива',\n",
       " 'посёлок дзержинского']"
      ]
     },
     "execution_count": 11,
     "metadata": {},
     "output_type": "execute_result"
    }
   ],
   "source": [
    "real_estate_df['locality_name'].dropna().unique().tolist()"
   ]
  },
  {
   "cell_type": "markdown",
   "metadata": {},
   "source": [
    "Можно заметить, что в некоторых словах есть буквы е и ё на одних и тех же местах.\n",
    "Заменим все ё на е"
   ]
  },
  {
   "cell_type": "code",
   "execution_count": 12,
   "metadata": {
    "scrolled": false
   },
   "outputs": [
    {
     "data": {
      "text/plain": [
       "330"
      ]
     },
     "execution_count": 12,
     "metadata": {},
     "output_type": "execute_result"
    }
   ],
   "source": [
    "real_estate_df['locality_name'] = real_estate_df['locality_name'].str.replace('ё', 'е', regex=False)\n",
    "real_estate_df['locality_name'].nunique() "
   ]
  },
  {
   "cell_type": "markdown",
   "metadata": {},
   "source": [
    "Отлично, мы смогли избавиться от 34 дубликатов."
   ]
  },
  {
   "cell_type": "markdown",
   "metadata": {},
   "source": [
    "<div class=\"alert alert-success\">\n",
    "<h2> Комментарий ревьюера </h2>\n",
    "\n",
    "Круто, что ты заметил данную помарку в данных. Так результаты будут точнее. \n",
    "    \n",
    "</div>"
   ]
  },
  {
   "cell_type": "markdown",
   "metadata": {},
   "source": [
    "<a name=\"data_preprocessing.missing\"></a>\n",
    "### Обработка пропусков в данных"
   ]
  },
  {
   "cell_type": "markdown",
   "metadata": {},
   "source": [
    "Будем по очереди заменять пропуски в столбцах в соответствии с нашими предположениями.  \n",
    "Определим функцию, которая будет выводить количество пустых значений в столбце."
   ]
  },
  {
   "cell_type": "code",
   "execution_count": 13,
   "metadata": {},
   "outputs": [],
   "source": [
    "def print_nan_count(df, column_name):\n",
    "    print('Количество пропусков в столбце {}: {}'.format(column_name, df[column_name].isnull().sum()))"
   ]
  },
  {
   "cell_type": "markdown",
   "metadata": {},
   "source": [
    "Также определим функцию, которая будет показывать, сколько % пропусков в переданном стоблце "
   ]
  },
  {
   "cell_type": "code",
   "execution_count": 14,
   "metadata": {},
   "outputs": [],
   "source": [
    "def print_nan_percent(df, column_name):\n",
    "    print('Процент данных с пропускамив столбце {}: {:.2%}'.format(column_name, df[column_name].isnull().sum() / real_estate_df.shape[0]))"
   ]
  },
  {
   "cell_type": "markdown",
   "metadata": {},
   "source": [
    "<a name=\"data_preprocessing.missing.locality_name\"></a>\n",
    "#### locality_name"
   ]
  },
  {
   "cell_type": "markdown",
   "metadata": {},
   "source": [
    "Посмотрим сколько у нас пропусков в столбце `locality_name`"
   ]
  },
  {
   "cell_type": "code",
   "execution_count": 15,
   "metadata": {},
   "outputs": [
    {
     "name": "stdout",
     "output_type": "stream",
     "text": [
      "Процент данных с пропускамив столбце locality_name: 0.21%\n"
     ]
    }
   ],
   "source": [
    "print_nan_percent(real_estate_df, 'locality_name')"
   ]
  },
  {
   "cell_type": "markdown",
   "metadata": {},
   "source": [
    "Всего 0.2%, видимо придется избавиться от этих строк, потому что непонятно, как пользователи будут искать квартиры без указания города, в котором они сдаются."
   ]
  },
  {
   "cell_type": "code",
   "execution_count": 16,
   "metadata": {},
   "outputs": [
    {
     "name": "stdout",
     "output_type": "stream",
     "text": [
      "Количество пропусков в столбце locality_name: 0\n"
     ]
    }
   ],
   "source": [
    "real_estate_df = real_estate_df.dropna(subset=['locality_name'])\n",
    "print_nan_count(real_estate_df, 'locality_name')"
   ]
  },
  {
   "cell_type": "markdown",
   "metadata": {},
   "source": [
    "<a name=\"data_preprocessing.missing.is_apartment\"></a>\n",
    "#### is_apartment"
   ]
  },
  {
   "cell_type": "markdown",
   "metadata": {},
   "source": [
    "Посмотрим сколько пропусков с столбце `is_apartment`"
   ]
  },
  {
   "cell_type": "code",
   "execution_count": 17,
   "metadata": {},
   "outputs": [
    {
     "name": "stdout",
     "output_type": "stream",
     "text": [
      "Процент данных с пропускамив столбце is_apartment: 88.33%\n"
     ]
    }
   ],
   "source": [
    "print_nan_percent(real_estate_df, 'is_apartment')"
   ]
  },
  {
   "cell_type": "markdown",
   "metadata": {},
   "source": [
    "В соответсвии с нашим предположением пропуски в `is_apartment` означают то, что недвижимость не является апартаментами, потому что владельцы недвижимости не знают что это такое.  \n",
    "Поэтому заменим пропуски на *False*"
   ]
  },
  {
   "cell_type": "code",
   "execution_count": 18,
   "metadata": {
    "scrolled": true
   },
   "outputs": [
    {
     "data": {
      "text/plain": [
       "False    23600\n",
       "True        50\n",
       "Name: is_apartment, dtype: int64"
      ]
     },
     "metadata": {},
     "output_type": "display_data"
    },
    {
     "name": "stdout",
     "output_type": "stream",
     "text": [
      "Количество пропусков в столбце is_apartment: 0\n"
     ]
    }
   ],
   "source": [
    "real_estate_df['is_apartment'] = real_estate_df['is_apartment'].fillna(False)\n",
    "display(real_estate_df['is_apartment'].value_counts())\n",
    "print_nan_count(real_estate_df, 'is_apartment')"
   ]
  },
  {
   "cell_type": "markdown",
   "metadata": {},
   "source": [
    "<a name=\"data_preprocessing.missing.balcony_count\"></a>\n",
    "#### balcony_count"
   ]
  },
  {
   "cell_type": "markdown",
   "metadata": {},
   "source": [
    "Посмотрим сколько всего пропусков в столбце `balcony_count`"
   ]
  },
  {
   "cell_type": "code",
   "execution_count": 19,
   "metadata": {},
   "outputs": [
    {
     "name": "stdout",
     "output_type": "stream",
     "text": [
      "Процент данных с пропускамив столбце balcony_count: 48.68%\n"
     ]
    }
   ],
   "source": [
    "print_nan_percent(real_estate_df, 'balcony_count')"
   ]
  },
  {
   "cell_type": "markdown",
   "metadata": {},
   "source": [
    "Посмотрим средение значения в столбце `balcony_count` сгруппированые по значениям из `rooms_count`"
   ]
  },
  {
   "cell_type": "code",
   "execution_count": 20,
   "metadata": {},
   "outputs": [
    {
     "data": {
      "text/html": [
       "<div>\n",
       "<style scoped>\n",
       "    .dataframe tbody tr th:only-of-type {\n",
       "        vertical-align: middle;\n",
       "    }\n",
       "\n",
       "    .dataframe tbody tr th {\n",
       "        vertical-align: top;\n",
       "    }\n",
       "\n",
       "    .dataframe thead th {\n",
       "        text-align: right;\n",
       "    }\n",
       "</style>\n",
       "<table border=\"1\" class=\"dataframe\">\n",
       "  <thead>\n",
       "    <tr style=\"text-align: right;\">\n",
       "      <th></th>\n",
       "      <th>balcony_count</th>\n",
       "    </tr>\n",
       "    <tr>\n",
       "      <th>rooms_count</th>\n",
       "      <th></th>\n",
       "    </tr>\n",
       "  </thead>\n",
       "  <tbody>\n",
       "    <tr>\n",
       "      <td>0</td>\n",
       "      <td>1.579365</td>\n",
       "    </tr>\n",
       "    <tr>\n",
       "      <td>1</td>\n",
       "      <td>1.097937</td>\n",
       "    </tr>\n",
       "    <tr>\n",
       "      <td>2</td>\n",
       "      <td>1.108817</td>\n",
       "    </tr>\n",
       "    <tr>\n",
       "      <td>3</td>\n",
       "      <td>1.310204</td>\n",
       "    </tr>\n",
       "    <tr>\n",
       "      <td>4</td>\n",
       "      <td>1.072658</td>\n",
       "    </tr>\n",
       "    <tr>\n",
       "      <td>5</td>\n",
       "      <td>0.956835</td>\n",
       "    </tr>\n",
       "    <tr>\n",
       "      <td>6</td>\n",
       "      <td>0.675676</td>\n",
       "    </tr>\n",
       "    <tr>\n",
       "      <td>7</td>\n",
       "      <td>0.925926</td>\n",
       "    </tr>\n",
       "    <tr>\n",
       "      <td>8</td>\n",
       "      <td>0.000000</td>\n",
       "    </tr>\n",
       "    <tr>\n",
       "      <td>9</td>\n",
       "      <td>0.500000</td>\n",
       "    </tr>\n",
       "    <tr>\n",
       "      <td>10</td>\n",
       "      <td>0.666667</td>\n",
       "    </tr>\n",
       "    <tr>\n",
       "      <td>14</td>\n",
       "      <td>0.000000</td>\n",
       "    </tr>\n",
       "    <tr>\n",
       "      <td>16</td>\n",
       "      <td>1.000000</td>\n",
       "    </tr>\n",
       "  </tbody>\n",
       "</table>\n",
       "</div>"
      ],
      "text/plain": [
       "             balcony_count\n",
       "rooms_count               \n",
       "0                 1.579365\n",
       "1                 1.097937\n",
       "2                 1.108817\n",
       "3                 1.310204\n",
       "4                 1.072658\n",
       "5                 0.956835\n",
       "6                 0.675676\n",
       "7                 0.925926\n",
       "8                 0.000000\n",
       "9                 0.500000\n",
       "10                0.666667\n",
       "14                0.000000\n",
       "16                1.000000"
      ]
     },
     "execution_count": 20,
     "metadata": {},
     "output_type": "execute_result"
    }
   ],
   "source": [
    "real_estate_df.pivot_table(index='rooms_count', values='balcony_count')"
   ]
  },
  {
   "cell_type": "markdown",
   "metadata": {},
   "source": [
    "В среднем у квартиры есть хотя бы один балкон, что похоже на правду.\n",
    "Посмотрм, что произойдет, если мы заменим все пропуски на 0."
   ]
  },
  {
   "cell_type": "code",
   "execution_count": 21,
   "metadata": {},
   "outputs": [
    {
     "data": {
      "text/html": [
       "<div>\n",
       "<style scoped>\n",
       "    .dataframe tbody tr th:only-of-type {\n",
       "        vertical-align: middle;\n",
       "    }\n",
       "\n",
       "    .dataframe tbody tr th {\n",
       "        vertical-align: top;\n",
       "    }\n",
       "\n",
       "    .dataframe thead th {\n",
       "        text-align: right;\n",
       "    }\n",
       "</style>\n",
       "<table border=\"1\" class=\"dataframe\">\n",
       "  <thead>\n",
       "    <tr style=\"text-align: right;\">\n",
       "      <th></th>\n",
       "      <th>balcony_count</th>\n",
       "    </tr>\n",
       "    <tr>\n",
       "      <th>rooms_count</th>\n",
       "      <th></th>\n",
       "    </tr>\n",
       "  </thead>\n",
       "  <tbody>\n",
       "    <tr>\n",
       "      <td>0</td>\n",
       "      <td>1.010152</td>\n",
       "    </tr>\n",
       "    <tr>\n",
       "      <td>1</td>\n",
       "      <td>0.576157</td>\n",
       "    </tr>\n",
       "    <tr>\n",
       "      <td>2</td>\n",
       "      <td>0.576098</td>\n",
       "    </tr>\n",
       "    <tr>\n",
       "      <td>3</td>\n",
       "      <td>0.664482</td>\n",
       "    </tr>\n",
       "    <tr>\n",
       "      <td>4</td>\n",
       "      <td>0.477447</td>\n",
       "    </tr>\n",
       "    <tr>\n",
       "      <td>5</td>\n",
       "      <td>0.407975</td>\n",
       "    </tr>\n",
       "    <tr>\n",
       "      <td>6</td>\n",
       "      <td>0.238095</td>\n",
       "    </tr>\n",
       "    <tr>\n",
       "      <td>7</td>\n",
       "      <td>0.423729</td>\n",
       "    </tr>\n",
       "    <tr>\n",
       "      <td>8</td>\n",
       "      <td>0.000000</td>\n",
       "    </tr>\n",
       "    <tr>\n",
       "      <td>9</td>\n",
       "      <td>0.125000</td>\n",
       "    </tr>\n",
       "    <tr>\n",
       "      <td>10</td>\n",
       "      <td>0.666667</td>\n",
       "    </tr>\n",
       "    <tr>\n",
       "      <td>11</td>\n",
       "      <td>0.000000</td>\n",
       "    </tr>\n",
       "    <tr>\n",
       "      <td>12</td>\n",
       "      <td>0.000000</td>\n",
       "    </tr>\n",
       "    <tr>\n",
       "      <td>14</td>\n",
       "      <td>0.000000</td>\n",
       "    </tr>\n",
       "    <tr>\n",
       "      <td>15</td>\n",
       "      <td>0.000000</td>\n",
       "    </tr>\n",
       "    <tr>\n",
       "      <td>16</td>\n",
       "      <td>1.000000</td>\n",
       "    </tr>\n",
       "    <tr>\n",
       "      <td>19</td>\n",
       "      <td>0.000000</td>\n",
       "    </tr>\n",
       "  </tbody>\n",
       "</table>\n",
       "</div>"
      ],
      "text/plain": [
       "             balcony_count\n",
       "rooms_count               \n",
       "0                 1.010152\n",
       "1                 0.576157\n",
       "2                 0.576098\n",
       "3                 0.664482\n",
       "4                 0.477447\n",
       "5                 0.407975\n",
       "6                 0.238095\n",
       "7                 0.423729\n",
       "8                 0.000000\n",
       "9                 0.125000\n",
       "10                0.666667\n",
       "11                0.000000\n",
       "12                0.000000\n",
       "14                0.000000\n",
       "15                0.000000\n",
       "16                1.000000\n",
       "19                0.000000"
      ]
     },
     "execution_count": 21,
     "metadata": {},
     "output_type": "execute_result"
    }
   ],
   "source": [
    "real_estate_df.fillna(0).pivot_table(index='rooms_count', values='balcony_count')"
   ]
  },
  {
   "cell_type": "markdown",
   "metadata": {},
   "source": [
    "Видно, что среднее значение кол-ва балконов заметно уменьшится.   \n",
    "Видимо наше предположение о том, что пропуск в `balcony_count` означает, что балкона нет неверно. \n",
    "Возможно этих данных нет в системе или владельцы не заполнили их количество по какой-то еще причине.\n",
    "Заменим пропуски в количестве балконов средним количеством, полученным путем группировки квартир по количеству комнат."
   ]
  },
  {
   "cell_type": "code",
   "execution_count": 22,
   "metadata": {
    "scrolled": true
   },
   "outputs": [
    {
     "data": {
      "text/html": [
       "<div>\n",
       "<style scoped>\n",
       "    .dataframe tbody tr th:only-of-type {\n",
       "        vertical-align: middle;\n",
       "    }\n",
       "\n",
       "    .dataframe tbody tr th {\n",
       "        vertical-align: top;\n",
       "    }\n",
       "\n",
       "    .dataframe thead th {\n",
       "        text-align: right;\n",
       "    }\n",
       "</style>\n",
       "<table border=\"1\" class=\"dataframe\">\n",
       "  <thead>\n",
       "    <tr style=\"text-align: right;\">\n",
       "      <th></th>\n",
       "      <th>balcony_count</th>\n",
       "    </tr>\n",
       "    <tr>\n",
       "      <th>rooms_count</th>\n",
       "      <th></th>\n",
       "    </tr>\n",
       "  </thead>\n",
       "  <tbody>\n",
       "    <tr>\n",
       "      <td>0</td>\n",
       "      <td>1.579365</td>\n",
       "    </tr>\n",
       "    <tr>\n",
       "      <td>1</td>\n",
       "      <td>1.097937</td>\n",
       "    </tr>\n",
       "    <tr>\n",
       "      <td>2</td>\n",
       "      <td>1.108817</td>\n",
       "    </tr>\n",
       "    <tr>\n",
       "      <td>3</td>\n",
       "      <td>1.310204</td>\n",
       "    </tr>\n",
       "    <tr>\n",
       "      <td>4</td>\n",
       "      <td>1.072658</td>\n",
       "    </tr>\n",
       "    <tr>\n",
       "      <td>5</td>\n",
       "      <td>0.956835</td>\n",
       "    </tr>\n",
       "    <tr>\n",
       "      <td>6</td>\n",
       "      <td>0.675676</td>\n",
       "    </tr>\n",
       "    <tr>\n",
       "      <td>7</td>\n",
       "      <td>0.925926</td>\n",
       "    </tr>\n",
       "    <tr>\n",
       "      <td>8</td>\n",
       "      <td>0.000000</td>\n",
       "    </tr>\n",
       "    <tr>\n",
       "      <td>9</td>\n",
       "      <td>0.500000</td>\n",
       "    </tr>\n",
       "    <tr>\n",
       "      <td>10</td>\n",
       "      <td>0.666667</td>\n",
       "    </tr>\n",
       "    <tr>\n",
       "      <td>14</td>\n",
       "      <td>0.000000</td>\n",
       "    </tr>\n",
       "    <tr>\n",
       "      <td>16</td>\n",
       "      <td>1.000000</td>\n",
       "    </tr>\n",
       "  </tbody>\n",
       "</table>\n",
       "</div>"
      ],
      "text/plain": [
       "             balcony_count\n",
       "rooms_count               \n",
       "0                 1.579365\n",
       "1                 1.097937\n",
       "2                 1.108817\n",
       "3                 1.310204\n",
       "4                 1.072658\n",
       "5                 0.956835\n",
       "6                 0.675676\n",
       "7                 0.925926\n",
       "8                 0.000000\n",
       "9                 0.500000\n",
       "10                0.666667\n",
       "14                0.000000\n",
       "16                1.000000"
      ]
     },
     "metadata": {},
     "output_type": "display_data"
    },
    {
     "name": "stdout",
     "output_type": "stream",
     "text": [
      "Количество пропусков в столбце balcony_count: 5\n"
     ]
    }
   ],
   "source": [
    "real_estate_df['balcony_count'] = real_estate_df.groupby('rooms_count')['balcony_count'].apply(lambda x: x.fillna(x.mean()))\n",
    "display(real_estate_df.pivot_table(index='rooms_count', values='balcony_count'))\n",
    "print_nan_count(real_estate_df, 'balcony_count')"
   ]
  },
  {
   "cell_type": "markdown",
   "metadata": {},
   "source": [
    "Осталось 5 пустых значений, посмотрим на них"
   ]
  },
  {
   "cell_type": "code",
   "execution_count": 23,
   "metadata": {},
   "outputs": [
    {
     "data": {
      "text/html": [
       "<div>\n",
       "<style scoped>\n",
       "    .dataframe tbody tr th:only-of-type {\n",
       "        vertical-align: middle;\n",
       "    }\n",
       "\n",
       "    .dataframe tbody tr th {\n",
       "        vertical-align: top;\n",
       "    }\n",
       "\n",
       "    .dataframe thead th {\n",
       "        text-align: right;\n",
       "    }\n",
       "</style>\n",
       "<table border=\"1\" class=\"dataframe\">\n",
       "  <thead>\n",
       "    <tr style=\"text-align: right;\">\n",
       "      <th></th>\n",
       "      <th>images_count</th>\n",
       "      <th>last_price_rub</th>\n",
       "      <th>total_area_m2</th>\n",
       "      <th>creation_date</th>\n",
       "      <th>rooms_count</th>\n",
       "      <th>ceiling_height_m</th>\n",
       "      <th>floors_count</th>\n",
       "      <th>living_area_m2</th>\n",
       "      <th>floor</th>\n",
       "      <th>is_apartment</th>\n",
       "      <th>is_studio</th>\n",
       "      <th>is_open_plan</th>\n",
       "      <th>kitchen_area_m2</th>\n",
       "      <th>balcony_count</th>\n",
       "      <th>locality_name</th>\n",
       "      <th>nearest_airport_distance_m</th>\n",
       "      <th>nearest_city_center_distance_m</th>\n",
       "      <th>parks_around_3000m_count</th>\n",
       "      <th>nearest_park_distance_m</th>\n",
       "      <th>ponds_around_3000m_count</th>\n",
       "      <th>nearest_pond_distance_m</th>\n",
       "      <th>days_exposition</th>\n",
       "    </tr>\n",
       "  </thead>\n",
       "  <tbody>\n",
       "    <tr>\n",
       "      <td>648</td>\n",
       "      <td>3</td>\n",
       "      <td>17500000.0</td>\n",
       "      <td>183.7</td>\n",
       "      <td>2018-07-01T00:00:00</td>\n",
       "      <td>11</td>\n",
       "      <td>3.40</td>\n",
       "      <td>7.0</td>\n",
       "      <td>138.8</td>\n",
       "      <td>7</td>\n",
       "      <td>False</td>\n",
       "      <td>False</td>\n",
       "      <td>False</td>\n",
       "      <td>13.3</td>\n",
       "      <td>NaN</td>\n",
       "      <td>санкт-петербург</td>\n",
       "      <td>23606.0</td>\n",
       "      <td>3148.0</td>\n",
       "      <td>0.0</td>\n",
       "      <td>NaN</td>\n",
       "      <td>0.0</td>\n",
       "      <td>NaN</td>\n",
       "      <td>NaN</td>\n",
       "    </tr>\n",
       "    <tr>\n",
       "      <td>5358</td>\n",
       "      <td>20</td>\n",
       "      <td>65000000.0</td>\n",
       "      <td>590.0</td>\n",
       "      <td>2019-02-14T00:00:00</td>\n",
       "      <td>15</td>\n",
       "      <td>3.50</td>\n",
       "      <td>6.0</td>\n",
       "      <td>409.0</td>\n",
       "      <td>3</td>\n",
       "      <td>False</td>\n",
       "      <td>False</td>\n",
       "      <td>False</td>\n",
       "      <td>100.0</td>\n",
       "      <td>NaN</td>\n",
       "      <td>санкт-петербург</td>\n",
       "      <td>24447.0</td>\n",
       "      <td>4666.0</td>\n",
       "      <td>1.0</td>\n",
       "      <td>767.0</td>\n",
       "      <td>0.0</td>\n",
       "      <td>NaN</td>\n",
       "      <td>14.0</td>\n",
       "    </tr>\n",
       "    <tr>\n",
       "      <td>9688</td>\n",
       "      <td>8</td>\n",
       "      <td>33000000.0</td>\n",
       "      <td>194.1</td>\n",
       "      <td>2017-02-07T00:00:00</td>\n",
       "      <td>11</td>\n",
       "      <td>3.43</td>\n",
       "      <td>5.0</td>\n",
       "      <td>129.0</td>\n",
       "      <td>2</td>\n",
       "      <td>False</td>\n",
       "      <td>False</td>\n",
       "      <td>False</td>\n",
       "      <td>11.9</td>\n",
       "      <td>NaN</td>\n",
       "      <td>санкт-петербург</td>\n",
       "      <td>21469.0</td>\n",
       "      <td>1015.0</td>\n",
       "      <td>1.0</td>\n",
       "      <td>686.0</td>\n",
       "      <td>2.0</td>\n",
       "      <td>66.0</td>\n",
       "      <td>813.0</td>\n",
       "    </tr>\n",
       "    <tr>\n",
       "      <td>14498</td>\n",
       "      <td>6</td>\n",
       "      <td>32250000.0</td>\n",
       "      <td>374.6</td>\n",
       "      <td>2018-06-09T00:00:00</td>\n",
       "      <td>19</td>\n",
       "      <td>NaN</td>\n",
       "      <td>5.0</td>\n",
       "      <td>264.5</td>\n",
       "      <td>2</td>\n",
       "      <td>False</td>\n",
       "      <td>False</td>\n",
       "      <td>False</td>\n",
       "      <td>27.6</td>\n",
       "      <td>NaN</td>\n",
       "      <td>санкт-петербург</td>\n",
       "      <td>19497.0</td>\n",
       "      <td>3574.0</td>\n",
       "      <td>0.0</td>\n",
       "      <td>NaN</td>\n",
       "      <td>2.0</td>\n",
       "      <td>548.0</td>\n",
       "      <td>114.0</td>\n",
       "    </tr>\n",
       "    <tr>\n",
       "      <td>19540</td>\n",
       "      <td>8</td>\n",
       "      <td>420000000.0</td>\n",
       "      <td>900.0</td>\n",
       "      <td>2017-12-06T00:00:00</td>\n",
       "      <td>12</td>\n",
       "      <td>2.80</td>\n",
       "      <td>25.0</td>\n",
       "      <td>409.7</td>\n",
       "      <td>25</td>\n",
       "      <td>False</td>\n",
       "      <td>False</td>\n",
       "      <td>False</td>\n",
       "      <td>112.0</td>\n",
       "      <td>NaN</td>\n",
       "      <td>санкт-петербург</td>\n",
       "      <td>30706.0</td>\n",
       "      <td>7877.0</td>\n",
       "      <td>0.0</td>\n",
       "      <td>NaN</td>\n",
       "      <td>2.0</td>\n",
       "      <td>318.0</td>\n",
       "      <td>106.0</td>\n",
       "    </tr>\n",
       "  </tbody>\n",
       "</table>\n",
       "</div>"
      ],
      "text/plain": [
       "       images_count  last_price_rub  total_area_m2        creation_date  \\\n",
       "648               3      17500000.0          183.7  2018-07-01T00:00:00   \n",
       "5358             20      65000000.0          590.0  2019-02-14T00:00:00   \n",
       "9688              8      33000000.0          194.1  2017-02-07T00:00:00   \n",
       "14498             6      32250000.0          374.6  2018-06-09T00:00:00   \n",
       "19540             8     420000000.0          900.0  2017-12-06T00:00:00   \n",
       "\n",
       "       rooms_count  ceiling_height_m  floors_count  living_area_m2  floor  \\\n",
       "648             11              3.40           7.0           138.8      7   \n",
       "5358            15              3.50           6.0           409.0      3   \n",
       "9688            11              3.43           5.0           129.0      2   \n",
       "14498           19               NaN           5.0           264.5      2   \n",
       "19540           12              2.80          25.0           409.7     25   \n",
       "\n",
       "       is_apartment  is_studio  is_open_plan  kitchen_area_m2  balcony_count  \\\n",
       "648           False      False         False             13.3            NaN   \n",
       "5358          False      False         False            100.0            NaN   \n",
       "9688          False      False         False             11.9            NaN   \n",
       "14498         False      False         False             27.6            NaN   \n",
       "19540         False      False         False            112.0            NaN   \n",
       "\n",
       "         locality_name  nearest_airport_distance_m  \\\n",
       "648    санкт-петербург                     23606.0   \n",
       "5358   санкт-петербург                     24447.0   \n",
       "9688   санкт-петербург                     21469.0   \n",
       "14498  санкт-петербург                     19497.0   \n",
       "19540  санкт-петербург                     30706.0   \n",
       "\n",
       "       nearest_city_center_distance_m  parks_around_3000m_count  \\\n",
       "648                            3148.0                       0.0   \n",
       "5358                           4666.0                       1.0   \n",
       "9688                           1015.0                       1.0   \n",
       "14498                          3574.0                       0.0   \n",
       "19540                          7877.0                       0.0   \n",
       "\n",
       "       nearest_park_distance_m  ponds_around_3000m_count  \\\n",
       "648                        NaN                       0.0   \n",
       "5358                     767.0                       0.0   \n",
       "9688                     686.0                       2.0   \n",
       "14498                      NaN                       2.0   \n",
       "19540                      NaN                       2.0   \n",
       "\n",
       "       nearest_pond_distance_m  days_exposition  \n",
       "648                        NaN              NaN  \n",
       "5358                       NaN             14.0  \n",
       "9688                      66.0            813.0  \n",
       "14498                    548.0            114.0  \n",
       "19540                    318.0            106.0  "
      ]
     },
     "execution_count": 23,
     "metadata": {},
     "output_type": "execute_result"
    }
   ],
   "source": [
    "real_estate_df[real_estate_df['balcony_count'].isnull()]"
   ]
  },
  {
   "cell_type": "markdown",
   "metadata": {},
   "source": [
    "Видно, что пропуски остались у квартир с очень большим количеством комнат.\n",
    "Мы врядли будем учитывать их в нашем анализе, заменим пропуски на 0."
   ]
  },
  {
   "cell_type": "code",
   "execution_count": 24,
   "metadata": {},
   "outputs": [
    {
     "name": "stdout",
     "output_type": "stream",
     "text": [
      "Количество пропусков в столбце balcony_count: 0\n"
     ]
    }
   ],
   "source": [
    "real_estate_df['balcony_count'] = real_estate_df['balcony_count'].fillna(0)\n",
    "print_nan_count(real_estate_df, 'balcony_count')"
   ]
  },
  {
   "cell_type": "markdown",
   "metadata": {},
   "source": [
    "<a name=\"data_preprocessing.missing.ceiling_height_m\"></a>\n",
    "#### ceiling_height_m"
   ]
  },
  {
   "cell_type": "markdown",
   "metadata": {},
   "source": [
    "Посмотрим сколько всего пропусков в столбце `ceiling_height_m`"
   ]
  },
  {
   "cell_type": "code",
   "execution_count": 25,
   "metadata": {},
   "outputs": [
    {
     "name": "stdout",
     "output_type": "stream",
     "text": [
      "Процент данных с пропускамив столбце ceiling_height_m: 38.73%\n"
     ]
    }
   ],
   "source": [
    "print_nan_percent(real_estate_df, 'ceiling_height_m')"
   ]
  },
  {
   "cell_type": "markdown",
   "metadata": {},
   "source": [
    "<div class=\"alert alert-info\">\n",
    "\n",
    "Предположим, что высота потолков зависит от удаленности от центра города. Введем новую категорию - расстояние до центра.  \n",
    "Согласно [википедии](https://ru.wikipedia.org/wiki/%D0%93%D0%B5%D0%BE%D0%B3%D1%80%D0%B0%D1%84%D0%B8%D1%8F_%D0%A1%D0%B0%D0%BD%D0%BA%D1%82-%D0%9F%D0%B5%D1%82%D0%B5%D1%80%D0%B1%D1%83%D1%80%D0%B3%D0%B0#%D0%93%D0%B5%D0%BE%D0%B3%D1%80%D0%B0%D1%84%D0%B8%D1%87%D0%B5%D1%81%D0%BA%D0%BE%D0%B5_%D0%BF%D0%BE%D0%BB%D0%BE%D0%B6%D0%B5%D0%BD%D0%B8%D0%B5) радиус Санкт-Петербурга - 16 км, соответсвенно введем 3 категории:\n",
    "* центр (до 8 км)\n",
    "* город (8 - 16 км)\n",
    "* область (> 16 км)\n",
    "    \n",
    "<div>"
   ]
  },
  {
   "cell_type": "code",
   "execution_count": 26,
   "metadata": {},
   "outputs": [],
   "source": [
    "def center_category(row):\n",
    "    if pd.notna(row['nearest_city_center_distance_m']):\n",
    "        if row['nearest_city_center_distance_m'] <= 8000:\n",
    "            return 'центр'\n",
    "        if row['nearest_city_center_distance_m'] <= 16000:\n",
    "            return 'город'\n",
    "        return 'область'\n",
    "    \n",
    "    if row['locality_name'] == 'санкт-петербург':\n",
    "        return 'город'\n",
    "    return 'область'\n",
    "\n",
    "real_estate_df['city_center_category'] = real_estate_df.apply(center_category, axis=1)"
   ]
  },
  {
   "cell_type": "code",
   "execution_count": 27,
   "metadata": {},
   "outputs": [
    {
     "name": "stdout",
     "output_type": "stream",
     "text": [
      "Процент данных с пропускамив столбце city_center_category: 0.00%\n"
     ]
    }
   ],
   "source": [
    "print_nan_percent(real_estate_df, 'city_center_category')"
   ]
  },
  {
   "cell_type": "markdown",
   "metadata": {},
   "source": [
    "Выведем высоты потолков, сгруппированные по `city_center_category`"
   ]
  },
  {
   "cell_type": "code",
   "execution_count": 28,
   "metadata": {},
   "outputs": [
    {
     "data": {
      "text/html": [
       "<div>\n",
       "<style scoped>\n",
       "    .dataframe tbody tr th:only-of-type {\n",
       "        vertical-align: middle;\n",
       "    }\n",
       "\n",
       "    .dataframe tbody tr th {\n",
       "        vertical-align: top;\n",
       "    }\n",
       "\n",
       "    .dataframe thead th {\n",
       "        text-align: right;\n",
       "    }\n",
       "</style>\n",
       "<table border=\"1\" class=\"dataframe\">\n",
       "  <thead>\n",
       "    <tr style=\"text-align: right;\">\n",
       "      <th></th>\n",
       "      <th>ceiling_height_m</th>\n",
       "    </tr>\n",
       "    <tr>\n",
       "      <th>city_center_category</th>\n",
       "      <th></th>\n",
       "    </tr>\n",
       "  </thead>\n",
       "  <tbody>\n",
       "    <tr>\n",
       "      <td>город</td>\n",
       "      <td>2.722540</td>\n",
       "    </tr>\n",
       "    <tr>\n",
       "      <td>область</td>\n",
       "      <td>2.686796</td>\n",
       "    </tr>\n",
       "    <tr>\n",
       "      <td>центр</td>\n",
       "      <td>3.102546</td>\n",
       "    </tr>\n",
       "  </tbody>\n",
       "</table>\n",
       "</div>"
      ],
      "text/plain": [
       "                      ceiling_height_m\n",
       "city_center_category                  \n",
       "город                         2.722540\n",
       "область                       2.686796\n",
       "центр                         3.102546"
      ]
     },
     "execution_count": 28,
     "metadata": {},
     "output_type": "execute_result"
    }
   ],
   "source": [
    "real_estate_df.pivot_table(index='city_center_category', values='ceiling_height_m')"
   ]
  },
  {
   "cell_type": "markdown",
   "metadata": {},
   "source": [
    "Замечаем, что чем ближе к центру, тем выше потолки.\n",
    "Заменим пропуски в высотах потолков на медианы по категории удаленности от цента. "
   ]
  },
  {
   "cell_type": "code",
   "execution_count": 29,
   "metadata": {},
   "outputs": [
    {
     "name": "stdout",
     "output_type": "stream",
     "text": [
      "Количество пропусков в столбце ceiling_height_m: 0\n"
     ]
    }
   ],
   "source": [
    "real_estate_df['ceiling_height_m'] = real_estate_df.groupby('city_center_category')['ceiling_height_m'].apply(lambda x: x.fillna(x.median()))\n",
    "print_nan_count(real_estate_df, 'ceiling_height_m')"
   ]
  },
  {
   "cell_type": "markdown",
   "metadata": {},
   "source": [
    "<div class=\"alert alert-warning\">\n",
    "<h2> Комментарий ревьюера </h2>\n",
    "\n",
    "Подумай, на основании какого параметра будет лучше обработать данный столбец. Строительство, в основном, типовое, поэтому одинаковые дома обладают схожими характеристиками. Будет ли зависеть высота потолков от названия населенного пункта?\n",
    "\n",
    "</div>"
   ]
  },
  {
   "cell_type": "markdown",
   "metadata": {},
   "source": [
    "<div class=\"alert alert-info\">\n",
    "\n",
    "Пересчитал высоти потолков в зависимости от удаленности от центра\n",
    "    \n",
    "</div>"
   ]
  },
  {
   "cell_type": "markdown",
   "metadata": {},
   "source": [
    "<div class=\"alert alert-success\">\n",
    "<h2> Комментарий ревьюера 2</h2>\n",
    "\n",
    "В принципе, мы можем использовать такой способ. Но удаленность от центра будет слабо влиять на высоты потолков, т.к. строительство, в основном, типовое. Поэтому заполнение на основании параметра высоты потолков будет предпочтительнее. \n",
    "\n",
    "</div>"
   ]
  },
  {
   "cell_type": "markdown",
   "metadata": {},
   "source": [
    "<a name=\"data_preprocessing.missing.floors_count\"></a>\n",
    "#### floors_count"
   ]
  },
  {
   "cell_type": "markdown",
   "metadata": {},
   "source": [
    "Сгруппируем значения `floors_count` по населенным пунктам и заменим пропуски на них."
   ]
  },
  {
   "cell_type": "code",
   "execution_count": 30,
   "metadata": {},
   "outputs": [
    {
     "name": "stdout",
     "output_type": "stream",
     "text": [
      "Количество пропусков в столбце floors_count: 0\n"
     ]
    }
   ],
   "source": [
    "real_estate_df['floors_count'] = real_estate_df.groupby('locality_name')['floors_count'].apply(lambda x: x.fillna(x.mean()))\n",
    "print_nan_count(real_estate_df, 'floors_count')"
   ]
  },
  {
   "cell_type": "markdown",
   "metadata": {},
   "source": [
    "<a name=\"data_preprocessing.missing.living_area_m2\"></a>\n",
    "#### living_area_m2"
   ]
  },
  {
   "cell_type": "markdown",
   "metadata": {},
   "source": [
    "Посмотрим, сколько пропусков в `living_area_m2` и `total_area_m2`"
   ]
  },
  {
   "cell_type": "code",
   "execution_count": 31,
   "metadata": {},
   "outputs": [
    {
     "name": "stdout",
     "output_type": "stream",
     "text": [
      "Процент данных с пропускамив столбце living_area_m2: 8.03%\n",
      "Количество пропусков в столбце total_area_m2: 0\n"
     ]
    }
   ],
   "source": [
    "print_nan_percent(real_estate_df, 'living_area_m2')\n",
    "print_nan_count(real_estate_df, 'total_area_m2')"
   ]
  },
  {
   "cell_type": "markdown",
   "metadata": {},
   "source": [
    "Значит можно будет получить значение жилой площади вычислив его из общей.\n",
    "Сначала добавим столбец `living_to_total_area_ratio`, поделив значения из столбца `living_area_m2` на `total_area_m2`. "
   ]
  },
  {
   "cell_type": "code",
   "execution_count": 32,
   "metadata": {},
   "outputs": [
    {
     "data": {
      "text/html": [
       "<div>\n",
       "<style scoped>\n",
       "    .dataframe tbody tr th:only-of-type {\n",
       "        vertical-align: middle;\n",
       "    }\n",
       "\n",
       "    .dataframe tbody tr th {\n",
       "        vertical-align: top;\n",
       "    }\n",
       "\n",
       "    .dataframe thead th {\n",
       "        text-align: right;\n",
       "    }\n",
       "</style>\n",
       "<table border=\"1\" class=\"dataframe\">\n",
       "  <thead>\n",
       "    <tr style=\"text-align: right;\">\n",
       "      <th></th>\n",
       "      <th>images_count</th>\n",
       "      <th>last_price_rub</th>\n",
       "      <th>total_area_m2</th>\n",
       "      <th>creation_date</th>\n",
       "      <th>rooms_count</th>\n",
       "      <th>ceiling_height_m</th>\n",
       "      <th>floors_count</th>\n",
       "      <th>living_area_m2</th>\n",
       "      <th>floor</th>\n",
       "      <th>is_apartment</th>\n",
       "      <th>is_studio</th>\n",
       "      <th>is_open_plan</th>\n",
       "      <th>kitchen_area_m2</th>\n",
       "      <th>balcony_count</th>\n",
       "      <th>locality_name</th>\n",
       "      <th>nearest_airport_distance_m</th>\n",
       "      <th>nearest_city_center_distance_m</th>\n",
       "      <th>parks_around_3000m_count</th>\n",
       "      <th>nearest_park_distance_m</th>\n",
       "      <th>ponds_around_3000m_count</th>\n",
       "      <th>nearest_pond_distance_m</th>\n",
       "      <th>days_exposition</th>\n",
       "      <th>city_center_category</th>\n",
       "      <th>living_to_total_area_ratio</th>\n",
       "    </tr>\n",
       "  </thead>\n",
       "  <tbody>\n",
       "    <tr>\n",
       "      <td>0</td>\n",
       "      <td>20</td>\n",
       "      <td>13000000.0</td>\n",
       "      <td>108.0</td>\n",
       "      <td>2019-03-07T00:00:00</td>\n",
       "      <td>3</td>\n",
       "      <td>2.70</td>\n",
       "      <td>16.0</td>\n",
       "      <td>51.0</td>\n",
       "      <td>8</td>\n",
       "      <td>False</td>\n",
       "      <td>False</td>\n",
       "      <td>False</td>\n",
       "      <td>25.0</td>\n",
       "      <td>1.310204</td>\n",
       "      <td>санкт-петербург</td>\n",
       "      <td>18863.0</td>\n",
       "      <td>16028.0</td>\n",
       "      <td>1.0</td>\n",
       "      <td>482.0</td>\n",
       "      <td>2.0</td>\n",
       "      <td>755.0</td>\n",
       "      <td>NaN</td>\n",
       "      <td>область</td>\n",
       "      <td>0.472222</td>\n",
       "    </tr>\n",
       "    <tr>\n",
       "      <td>1</td>\n",
       "      <td>7</td>\n",
       "      <td>3350000.0</td>\n",
       "      <td>40.4</td>\n",
       "      <td>2018-12-04T00:00:00</td>\n",
       "      <td>1</td>\n",
       "      <td>2.60</td>\n",
       "      <td>11.0</td>\n",
       "      <td>18.6</td>\n",
       "      <td>1</td>\n",
       "      <td>False</td>\n",
       "      <td>False</td>\n",
       "      <td>False</td>\n",
       "      <td>11.0</td>\n",
       "      <td>2.000000</td>\n",
       "      <td>поселок шушары</td>\n",
       "      <td>12817.0</td>\n",
       "      <td>18603.0</td>\n",
       "      <td>0.0</td>\n",
       "      <td>NaN</td>\n",
       "      <td>0.0</td>\n",
       "      <td>NaN</td>\n",
       "      <td>81.0</td>\n",
       "      <td>область</td>\n",
       "      <td>0.460396</td>\n",
       "    </tr>\n",
       "    <tr>\n",
       "      <td>2</td>\n",
       "      <td>10</td>\n",
       "      <td>5196000.0</td>\n",
       "      <td>56.0</td>\n",
       "      <td>2015-08-20T00:00:00</td>\n",
       "      <td>2</td>\n",
       "      <td>2.60</td>\n",
       "      <td>5.0</td>\n",
       "      <td>34.3</td>\n",
       "      <td>4</td>\n",
       "      <td>False</td>\n",
       "      <td>False</td>\n",
       "      <td>False</td>\n",
       "      <td>8.3</td>\n",
       "      <td>0.000000</td>\n",
       "      <td>санкт-петербург</td>\n",
       "      <td>21741.0</td>\n",
       "      <td>13933.0</td>\n",
       "      <td>1.0</td>\n",
       "      <td>90.0</td>\n",
       "      <td>2.0</td>\n",
       "      <td>574.0</td>\n",
       "      <td>558.0</td>\n",
       "      <td>город</td>\n",
       "      <td>0.612500</td>\n",
       "    </tr>\n",
       "    <tr>\n",
       "      <td>3</td>\n",
       "      <td>0</td>\n",
       "      <td>64900000.0</td>\n",
       "      <td>159.0</td>\n",
       "      <td>2015-07-24T00:00:00</td>\n",
       "      <td>3</td>\n",
       "      <td>3.00</td>\n",
       "      <td>14.0</td>\n",
       "      <td>NaN</td>\n",
       "      <td>9</td>\n",
       "      <td>False</td>\n",
       "      <td>False</td>\n",
       "      <td>False</td>\n",
       "      <td>NaN</td>\n",
       "      <td>0.000000</td>\n",
       "      <td>санкт-петербург</td>\n",
       "      <td>28098.0</td>\n",
       "      <td>6800.0</td>\n",
       "      <td>2.0</td>\n",
       "      <td>84.0</td>\n",
       "      <td>3.0</td>\n",
       "      <td>234.0</td>\n",
       "      <td>424.0</td>\n",
       "      <td>центр</td>\n",
       "      <td>NaN</td>\n",
       "    </tr>\n",
       "    <tr>\n",
       "      <td>4</td>\n",
       "      <td>2</td>\n",
       "      <td>10000000.0</td>\n",
       "      <td>100.0</td>\n",
       "      <td>2018-06-19T00:00:00</td>\n",
       "      <td>2</td>\n",
       "      <td>3.03</td>\n",
       "      <td>14.0</td>\n",
       "      <td>32.0</td>\n",
       "      <td>13</td>\n",
       "      <td>False</td>\n",
       "      <td>False</td>\n",
       "      <td>False</td>\n",
       "      <td>41.0</td>\n",
       "      <td>1.108817</td>\n",
       "      <td>санкт-петербург</td>\n",
       "      <td>31856.0</td>\n",
       "      <td>8098.0</td>\n",
       "      <td>2.0</td>\n",
       "      <td>112.0</td>\n",
       "      <td>1.0</td>\n",
       "      <td>48.0</td>\n",
       "      <td>121.0</td>\n",
       "      <td>город</td>\n",
       "      <td>0.320000</td>\n",
       "    </tr>\n",
       "  </tbody>\n",
       "</table>\n",
       "</div>"
      ],
      "text/plain": [
       "   images_count  last_price_rub  total_area_m2        creation_date  \\\n",
       "0            20      13000000.0          108.0  2019-03-07T00:00:00   \n",
       "1             7       3350000.0           40.4  2018-12-04T00:00:00   \n",
       "2            10       5196000.0           56.0  2015-08-20T00:00:00   \n",
       "3             0      64900000.0          159.0  2015-07-24T00:00:00   \n",
       "4             2      10000000.0          100.0  2018-06-19T00:00:00   \n",
       "\n",
       "   rooms_count  ceiling_height_m  floors_count  living_area_m2  floor  \\\n",
       "0            3              2.70          16.0            51.0      8   \n",
       "1            1              2.60          11.0            18.6      1   \n",
       "2            2              2.60           5.0            34.3      4   \n",
       "3            3              3.00          14.0             NaN      9   \n",
       "4            2              3.03          14.0            32.0     13   \n",
       "\n",
       "   is_apartment  is_studio  is_open_plan  kitchen_area_m2  balcony_count  \\\n",
       "0         False      False         False             25.0       1.310204   \n",
       "1         False      False         False             11.0       2.000000   \n",
       "2         False      False         False              8.3       0.000000   \n",
       "3         False      False         False              NaN       0.000000   \n",
       "4         False      False         False             41.0       1.108817   \n",
       "\n",
       "     locality_name  nearest_airport_distance_m  \\\n",
       "0  санкт-петербург                     18863.0   \n",
       "1   поселок шушары                     12817.0   \n",
       "2  санкт-петербург                     21741.0   \n",
       "3  санкт-петербург                     28098.0   \n",
       "4  санкт-петербург                     31856.0   \n",
       "\n",
       "   nearest_city_center_distance_m  parks_around_3000m_count  \\\n",
       "0                         16028.0                       1.0   \n",
       "1                         18603.0                       0.0   \n",
       "2                         13933.0                       1.0   \n",
       "3                          6800.0                       2.0   \n",
       "4                          8098.0                       2.0   \n",
       "\n",
       "   nearest_park_distance_m  ponds_around_3000m_count  nearest_pond_distance_m  \\\n",
       "0                    482.0                       2.0                    755.0   \n",
       "1                      NaN                       0.0                      NaN   \n",
       "2                     90.0                       2.0                    574.0   \n",
       "3                     84.0                       3.0                    234.0   \n",
       "4                    112.0                       1.0                     48.0   \n",
       "\n",
       "   days_exposition city_center_category  living_to_total_area_ratio  \n",
       "0              NaN              область                    0.472222  \n",
       "1             81.0              область                    0.460396  \n",
       "2            558.0                город                    0.612500  \n",
       "3            424.0                центр                         NaN  \n",
       "4            121.0                город                    0.320000  "
      ]
     },
     "metadata": {},
     "output_type": "display_data"
    },
    {
     "name": "stdout",
     "output_type": "stream",
     "text": [
      "Количество пропусков в столбце living_to_total_area_ratio: 1898\n"
     ]
    }
   ],
   "source": [
    "real_estate_df['living_to_total_area_ratio'] = real_estate_df['living_area_m2'] / real_estate_df['total_area_m2']\n",
    "display(real_estate_df.head(5))\n",
    "print_nan_count(real_estate_df, 'living_to_total_area_ratio')"
   ]
  },
  {
   "cell_type": "markdown",
   "metadata": {},
   "source": [
    "Теперь можно сгруппировать значения `living_to_total_area_ratio` по кол-ву комнат, найти среднее и заменить пропуски на него."
   ]
  },
  {
   "cell_type": "code",
   "execution_count": 33,
   "metadata": {},
   "outputs": [
    {
     "data": {
      "text/html": [
       "<div>\n",
       "<style scoped>\n",
       "    .dataframe tbody tr th:only-of-type {\n",
       "        vertical-align: middle;\n",
       "    }\n",
       "\n",
       "    .dataframe tbody tr th {\n",
       "        vertical-align: top;\n",
       "    }\n",
       "\n",
       "    .dataframe thead th {\n",
       "        text-align: right;\n",
       "    }\n",
       "</style>\n",
       "<table border=\"1\" class=\"dataframe\">\n",
       "  <thead>\n",
       "    <tr style=\"text-align: right;\">\n",
       "      <th></th>\n",
       "      <th>living_to_total_area_ratio</th>\n",
       "    </tr>\n",
       "    <tr>\n",
       "      <th>rooms_count</th>\n",
       "      <th></th>\n",
       "    </tr>\n",
       "  </thead>\n",
       "  <tbody>\n",
       "    <tr>\n",
       "      <td>0</td>\n",
       "      <td>0.685467</td>\n",
       "    </tr>\n",
       "    <tr>\n",
       "      <td>1</td>\n",
       "      <td>0.485962</td>\n",
       "    </tr>\n",
       "    <tr>\n",
       "      <td>2</td>\n",
       "      <td>0.579358</td>\n",
       "    </tr>\n",
       "    <tr>\n",
       "      <td>3</td>\n",
       "      <td>0.625280</td>\n",
       "    </tr>\n",
       "    <tr>\n",
       "      <td>4</td>\n",
       "      <td>0.646667</td>\n",
       "    </tr>\n",
       "    <tr>\n",
       "      <td>5</td>\n",
       "      <td>0.641377</td>\n",
       "    </tr>\n",
       "    <tr>\n",
       "      <td>6</td>\n",
       "      <td>0.668819</td>\n",
       "    </tr>\n",
       "    <tr>\n",
       "      <td>7</td>\n",
       "      <td>0.657981</td>\n",
       "    </tr>\n",
       "    <tr>\n",
       "      <td>8</td>\n",
       "      <td>0.667001</td>\n",
       "    </tr>\n",
       "    <tr>\n",
       "      <td>9</td>\n",
       "      <td>0.612299</td>\n",
       "    </tr>\n",
       "    <tr>\n",
       "      <td>10</td>\n",
       "      <td>0.645065</td>\n",
       "    </tr>\n",
       "    <tr>\n",
       "      <td>11</td>\n",
       "      <td>0.710093</td>\n",
       "    </tr>\n",
       "    <tr>\n",
       "      <td>12</td>\n",
       "      <td>0.455222</td>\n",
       "    </tr>\n",
       "    <tr>\n",
       "      <td>14</td>\n",
       "      <td>0.648695</td>\n",
       "    </tr>\n",
       "    <tr>\n",
       "      <td>15</td>\n",
       "      <td>0.693220</td>\n",
       "    </tr>\n",
       "    <tr>\n",
       "      <td>16</td>\n",
       "      <td>0.666667</td>\n",
       "    </tr>\n",
       "    <tr>\n",
       "      <td>19</td>\n",
       "      <td>0.706086</td>\n",
       "    </tr>\n",
       "  </tbody>\n",
       "</table>\n",
       "</div>"
      ],
      "text/plain": [
       "             living_to_total_area_ratio\n",
       "rooms_count                            \n",
       "0                              0.685467\n",
       "1                              0.485962\n",
       "2                              0.579358\n",
       "3                              0.625280\n",
       "4                              0.646667\n",
       "5                              0.641377\n",
       "6                              0.668819\n",
       "7                              0.657981\n",
       "8                              0.667001\n",
       "9                              0.612299\n",
       "10                             0.645065\n",
       "11                             0.710093\n",
       "12                             0.455222\n",
       "14                             0.648695\n",
       "15                             0.693220\n",
       "16                             0.666667\n",
       "19                             0.706086"
      ]
     },
     "metadata": {},
     "output_type": "display_data"
    },
    {
     "name": "stdout",
     "output_type": "stream",
     "text": [
      "Количество пропусков в столбце living_to_total_area_ratio: 0\n"
     ]
    }
   ],
   "source": [
    "real_estate_df['living_to_total_area_ratio'] = real_estate_df.groupby('rooms_count')['living_to_total_area_ratio'].apply(lambda x: x.fillna(x.mean()))\n",
    "display(real_estate_df.pivot_table(index='rooms_count', values='living_to_total_area_ratio'))\n",
    "print_nan_count(real_estate_df, 'living_to_total_area_ratio')"
   ]
  },
  {
   "cell_type": "markdown",
   "metadata": {},
   "source": [
    "Вычислим значения `living_area_m2` для строк в которых есть пропуски: `living_to_total_area_ratio` * `total_area_m2`"
   ]
  },
  {
   "cell_type": "code",
   "execution_count": 34,
   "metadata": {},
   "outputs": [
    {
     "data": {
      "text/html": [
       "<div>\n",
       "<style scoped>\n",
       "    .dataframe tbody tr th:only-of-type {\n",
       "        vertical-align: middle;\n",
       "    }\n",
       "\n",
       "    .dataframe tbody tr th {\n",
       "        vertical-align: top;\n",
       "    }\n",
       "\n",
       "    .dataframe thead th {\n",
       "        text-align: right;\n",
       "    }\n",
       "</style>\n",
       "<table border=\"1\" class=\"dataframe\">\n",
       "  <thead>\n",
       "    <tr style=\"text-align: right;\">\n",
       "      <th></th>\n",
       "      <th>images_count</th>\n",
       "      <th>last_price_rub</th>\n",
       "      <th>total_area_m2</th>\n",
       "      <th>creation_date</th>\n",
       "      <th>rooms_count</th>\n",
       "      <th>ceiling_height_m</th>\n",
       "      <th>floors_count</th>\n",
       "      <th>living_area_m2</th>\n",
       "      <th>floor</th>\n",
       "      <th>is_apartment</th>\n",
       "      <th>is_studio</th>\n",
       "      <th>is_open_plan</th>\n",
       "      <th>kitchen_area_m2</th>\n",
       "      <th>balcony_count</th>\n",
       "      <th>locality_name</th>\n",
       "      <th>nearest_airport_distance_m</th>\n",
       "      <th>nearest_city_center_distance_m</th>\n",
       "      <th>parks_around_3000m_count</th>\n",
       "      <th>nearest_park_distance_m</th>\n",
       "      <th>ponds_around_3000m_count</th>\n",
       "      <th>nearest_pond_distance_m</th>\n",
       "      <th>days_exposition</th>\n",
       "      <th>city_center_category</th>\n",
       "      <th>living_to_total_area_ratio</th>\n",
       "    </tr>\n",
       "  </thead>\n",
       "  <tbody>\n",
       "    <tr>\n",
       "      <td>0</td>\n",
       "      <td>20</td>\n",
       "      <td>13000000.0</td>\n",
       "      <td>108.0</td>\n",
       "      <td>2019-03-07T00:00:00</td>\n",
       "      <td>3</td>\n",
       "      <td>2.70</td>\n",
       "      <td>16.0</td>\n",
       "      <td>51.000000</td>\n",
       "      <td>8</td>\n",
       "      <td>False</td>\n",
       "      <td>False</td>\n",
       "      <td>False</td>\n",
       "      <td>25.0</td>\n",
       "      <td>1.310204</td>\n",
       "      <td>санкт-петербург</td>\n",
       "      <td>18863.0</td>\n",
       "      <td>16028.0</td>\n",
       "      <td>1.0</td>\n",
       "      <td>482.0</td>\n",
       "      <td>2.0</td>\n",
       "      <td>755.0</td>\n",
       "      <td>NaN</td>\n",
       "      <td>область</td>\n",
       "      <td>0.472222</td>\n",
       "    </tr>\n",
       "    <tr>\n",
       "      <td>1</td>\n",
       "      <td>7</td>\n",
       "      <td>3350000.0</td>\n",
       "      <td>40.4</td>\n",
       "      <td>2018-12-04T00:00:00</td>\n",
       "      <td>1</td>\n",
       "      <td>2.60</td>\n",
       "      <td>11.0</td>\n",
       "      <td>18.600000</td>\n",
       "      <td>1</td>\n",
       "      <td>False</td>\n",
       "      <td>False</td>\n",
       "      <td>False</td>\n",
       "      <td>11.0</td>\n",
       "      <td>2.000000</td>\n",
       "      <td>поселок шушары</td>\n",
       "      <td>12817.0</td>\n",
       "      <td>18603.0</td>\n",
       "      <td>0.0</td>\n",
       "      <td>NaN</td>\n",
       "      <td>0.0</td>\n",
       "      <td>NaN</td>\n",
       "      <td>81.0</td>\n",
       "      <td>область</td>\n",
       "      <td>0.460396</td>\n",
       "    </tr>\n",
       "    <tr>\n",
       "      <td>2</td>\n",
       "      <td>10</td>\n",
       "      <td>5196000.0</td>\n",
       "      <td>56.0</td>\n",
       "      <td>2015-08-20T00:00:00</td>\n",
       "      <td>2</td>\n",
       "      <td>2.60</td>\n",
       "      <td>5.0</td>\n",
       "      <td>34.300000</td>\n",
       "      <td>4</td>\n",
       "      <td>False</td>\n",
       "      <td>False</td>\n",
       "      <td>False</td>\n",
       "      <td>8.3</td>\n",
       "      <td>0.000000</td>\n",
       "      <td>санкт-петербург</td>\n",
       "      <td>21741.0</td>\n",
       "      <td>13933.0</td>\n",
       "      <td>1.0</td>\n",
       "      <td>90.0</td>\n",
       "      <td>2.0</td>\n",
       "      <td>574.0</td>\n",
       "      <td>558.0</td>\n",
       "      <td>город</td>\n",
       "      <td>0.612500</td>\n",
       "    </tr>\n",
       "    <tr>\n",
       "      <td>3</td>\n",
       "      <td>0</td>\n",
       "      <td>64900000.0</td>\n",
       "      <td>159.0</td>\n",
       "      <td>2015-07-24T00:00:00</td>\n",
       "      <td>3</td>\n",
       "      <td>3.00</td>\n",
       "      <td>14.0</td>\n",
       "      <td>99.419454</td>\n",
       "      <td>9</td>\n",
       "      <td>False</td>\n",
       "      <td>False</td>\n",
       "      <td>False</td>\n",
       "      <td>NaN</td>\n",
       "      <td>0.000000</td>\n",
       "      <td>санкт-петербург</td>\n",
       "      <td>28098.0</td>\n",
       "      <td>6800.0</td>\n",
       "      <td>2.0</td>\n",
       "      <td>84.0</td>\n",
       "      <td>3.0</td>\n",
       "      <td>234.0</td>\n",
       "      <td>424.0</td>\n",
       "      <td>центр</td>\n",
       "      <td>0.625280</td>\n",
       "    </tr>\n",
       "    <tr>\n",
       "      <td>4</td>\n",
       "      <td>2</td>\n",
       "      <td>10000000.0</td>\n",
       "      <td>100.0</td>\n",
       "      <td>2018-06-19T00:00:00</td>\n",
       "      <td>2</td>\n",
       "      <td>3.03</td>\n",
       "      <td>14.0</td>\n",
       "      <td>32.000000</td>\n",
       "      <td>13</td>\n",
       "      <td>False</td>\n",
       "      <td>False</td>\n",
       "      <td>False</td>\n",
       "      <td>41.0</td>\n",
       "      <td>1.108817</td>\n",
       "      <td>санкт-петербург</td>\n",
       "      <td>31856.0</td>\n",
       "      <td>8098.0</td>\n",
       "      <td>2.0</td>\n",
       "      <td>112.0</td>\n",
       "      <td>1.0</td>\n",
       "      <td>48.0</td>\n",
       "      <td>121.0</td>\n",
       "      <td>город</td>\n",
       "      <td>0.320000</td>\n",
       "    </tr>\n",
       "  </tbody>\n",
       "</table>\n",
       "</div>"
      ],
      "text/plain": [
       "   images_count  last_price_rub  total_area_m2        creation_date  \\\n",
       "0            20      13000000.0          108.0  2019-03-07T00:00:00   \n",
       "1             7       3350000.0           40.4  2018-12-04T00:00:00   \n",
       "2            10       5196000.0           56.0  2015-08-20T00:00:00   \n",
       "3             0      64900000.0          159.0  2015-07-24T00:00:00   \n",
       "4             2      10000000.0          100.0  2018-06-19T00:00:00   \n",
       "\n",
       "   rooms_count  ceiling_height_m  floors_count  living_area_m2  floor  \\\n",
       "0            3              2.70          16.0       51.000000      8   \n",
       "1            1              2.60          11.0       18.600000      1   \n",
       "2            2              2.60           5.0       34.300000      4   \n",
       "3            3              3.00          14.0       99.419454      9   \n",
       "4            2              3.03          14.0       32.000000     13   \n",
       "\n",
       "   is_apartment  is_studio  is_open_plan  kitchen_area_m2  balcony_count  \\\n",
       "0         False      False         False             25.0       1.310204   \n",
       "1         False      False         False             11.0       2.000000   \n",
       "2         False      False         False              8.3       0.000000   \n",
       "3         False      False         False              NaN       0.000000   \n",
       "4         False      False         False             41.0       1.108817   \n",
       "\n",
       "     locality_name  nearest_airport_distance_m  \\\n",
       "0  санкт-петербург                     18863.0   \n",
       "1   поселок шушары                     12817.0   \n",
       "2  санкт-петербург                     21741.0   \n",
       "3  санкт-петербург                     28098.0   \n",
       "4  санкт-петербург                     31856.0   \n",
       "\n",
       "   nearest_city_center_distance_m  parks_around_3000m_count  \\\n",
       "0                         16028.0                       1.0   \n",
       "1                         18603.0                       0.0   \n",
       "2                         13933.0                       1.0   \n",
       "3                          6800.0                       2.0   \n",
       "4                          8098.0                       2.0   \n",
       "\n",
       "   nearest_park_distance_m  ponds_around_3000m_count  nearest_pond_distance_m  \\\n",
       "0                    482.0                       2.0                    755.0   \n",
       "1                      NaN                       0.0                      NaN   \n",
       "2                     90.0                       2.0                    574.0   \n",
       "3                     84.0                       3.0                    234.0   \n",
       "4                    112.0                       1.0                     48.0   \n",
       "\n",
       "   days_exposition city_center_category  living_to_total_area_ratio  \n",
       "0              NaN              область                    0.472222  \n",
       "1             81.0              область                    0.460396  \n",
       "2            558.0                город                    0.612500  \n",
       "3            424.0                центр                    0.625280  \n",
       "4            121.0                город                    0.320000  "
      ]
     },
     "execution_count": 34,
     "metadata": {},
     "output_type": "execute_result"
    }
   ],
   "source": [
    "real_estate_df['living_area_m2'] = real_estate_df['living_area_m2'].fillna(\n",
    "    real_estate_df['total_area_m2'] * real_estate_df['living_to_total_area_ratio']\n",
    ")\n",
    "real_estate_df.head(5)"
   ]
  },
  {
   "cell_type": "code",
   "execution_count": 35,
   "metadata": {},
   "outputs": [
    {
     "name": "stdout",
     "output_type": "stream",
     "text": [
      "Количество пропусков в столбце living_area_m2: 0\n"
     ]
    }
   ],
   "source": [
    "print_nan_count(real_estate_df, 'living_area_m2')"
   ]
  },
  {
   "cell_type": "markdown",
   "metadata": {},
   "source": [
    "<a name=\"data_preprocessing.missing.kitchen_area_m2\"></a>\n",
    "#### kitchen_area_m2"
   ]
  },
  {
   "cell_type": "markdown",
   "metadata": {},
   "source": [
    " Проверим пропуски в `kitchen_area_m2`"
   ]
  },
  {
   "cell_type": "code",
   "execution_count": 36,
   "metadata": {},
   "outputs": [
    {
     "name": "stdout",
     "output_type": "stream",
     "text": [
      "Процент данных с пропускамив столбце kitchen_area_m2: 9.59%\n"
     ]
    }
   ],
   "source": [
    "print_nan_percent(real_estate_df, 'kitchen_area_m2')"
   ]
  },
  {
   "cell_type": "markdown",
   "metadata": {},
   "source": [
    "По той же логике, что и для `living_area_m2` добавим столбец `kitchen_to_total_area_ratio`: поделим значения из `kitchen_area_m2` на `total_area_m2`. "
   ]
  },
  {
   "cell_type": "code",
   "execution_count": 37,
   "metadata": {},
   "outputs": [
    {
     "data": {
      "text/html": [
       "<div>\n",
       "<style scoped>\n",
       "    .dataframe tbody tr th:only-of-type {\n",
       "        vertical-align: middle;\n",
       "    }\n",
       "\n",
       "    .dataframe tbody tr th {\n",
       "        vertical-align: top;\n",
       "    }\n",
       "\n",
       "    .dataframe thead th {\n",
       "        text-align: right;\n",
       "    }\n",
       "</style>\n",
       "<table border=\"1\" class=\"dataframe\">\n",
       "  <thead>\n",
       "    <tr style=\"text-align: right;\">\n",
       "      <th></th>\n",
       "      <th>images_count</th>\n",
       "      <th>last_price_rub</th>\n",
       "      <th>total_area_m2</th>\n",
       "      <th>creation_date</th>\n",
       "      <th>rooms_count</th>\n",
       "      <th>ceiling_height_m</th>\n",
       "      <th>floors_count</th>\n",
       "      <th>living_area_m2</th>\n",
       "      <th>floor</th>\n",
       "      <th>is_apartment</th>\n",
       "      <th>is_studio</th>\n",
       "      <th>is_open_plan</th>\n",
       "      <th>kitchen_area_m2</th>\n",
       "      <th>balcony_count</th>\n",
       "      <th>locality_name</th>\n",
       "      <th>nearest_airport_distance_m</th>\n",
       "      <th>nearest_city_center_distance_m</th>\n",
       "      <th>parks_around_3000m_count</th>\n",
       "      <th>nearest_park_distance_m</th>\n",
       "      <th>ponds_around_3000m_count</th>\n",
       "      <th>nearest_pond_distance_m</th>\n",
       "      <th>days_exposition</th>\n",
       "      <th>city_center_category</th>\n",
       "      <th>living_to_total_area_ratio</th>\n",
       "      <th>kitchen_to_total_area_ratio</th>\n",
       "    </tr>\n",
       "  </thead>\n",
       "  <tbody>\n",
       "    <tr>\n",
       "      <td>0</td>\n",
       "      <td>20</td>\n",
       "      <td>13000000.0</td>\n",
       "      <td>108.0</td>\n",
       "      <td>2019-03-07T00:00:00</td>\n",
       "      <td>3</td>\n",
       "      <td>2.70</td>\n",
       "      <td>16.0</td>\n",
       "      <td>51.000000</td>\n",
       "      <td>8</td>\n",
       "      <td>False</td>\n",
       "      <td>False</td>\n",
       "      <td>False</td>\n",
       "      <td>25.0</td>\n",
       "      <td>1.310204</td>\n",
       "      <td>санкт-петербург</td>\n",
       "      <td>18863.0</td>\n",
       "      <td>16028.0</td>\n",
       "      <td>1.0</td>\n",
       "      <td>482.0</td>\n",
       "      <td>2.0</td>\n",
       "      <td>755.0</td>\n",
       "      <td>NaN</td>\n",
       "      <td>область</td>\n",
       "      <td>0.472222</td>\n",
       "      <td>0.231481</td>\n",
       "    </tr>\n",
       "    <tr>\n",
       "      <td>1</td>\n",
       "      <td>7</td>\n",
       "      <td>3350000.0</td>\n",
       "      <td>40.4</td>\n",
       "      <td>2018-12-04T00:00:00</td>\n",
       "      <td>1</td>\n",
       "      <td>2.60</td>\n",
       "      <td>11.0</td>\n",
       "      <td>18.600000</td>\n",
       "      <td>1</td>\n",
       "      <td>False</td>\n",
       "      <td>False</td>\n",
       "      <td>False</td>\n",
       "      <td>11.0</td>\n",
       "      <td>2.000000</td>\n",
       "      <td>поселок шушары</td>\n",
       "      <td>12817.0</td>\n",
       "      <td>18603.0</td>\n",
       "      <td>0.0</td>\n",
       "      <td>NaN</td>\n",
       "      <td>0.0</td>\n",
       "      <td>NaN</td>\n",
       "      <td>81.0</td>\n",
       "      <td>область</td>\n",
       "      <td>0.460396</td>\n",
       "      <td>0.272277</td>\n",
       "    </tr>\n",
       "    <tr>\n",
       "      <td>2</td>\n",
       "      <td>10</td>\n",
       "      <td>5196000.0</td>\n",
       "      <td>56.0</td>\n",
       "      <td>2015-08-20T00:00:00</td>\n",
       "      <td>2</td>\n",
       "      <td>2.60</td>\n",
       "      <td>5.0</td>\n",
       "      <td>34.300000</td>\n",
       "      <td>4</td>\n",
       "      <td>False</td>\n",
       "      <td>False</td>\n",
       "      <td>False</td>\n",
       "      <td>8.3</td>\n",
       "      <td>0.000000</td>\n",
       "      <td>санкт-петербург</td>\n",
       "      <td>21741.0</td>\n",
       "      <td>13933.0</td>\n",
       "      <td>1.0</td>\n",
       "      <td>90.0</td>\n",
       "      <td>2.0</td>\n",
       "      <td>574.0</td>\n",
       "      <td>558.0</td>\n",
       "      <td>город</td>\n",
       "      <td>0.612500</td>\n",
       "      <td>0.148214</td>\n",
       "    </tr>\n",
       "    <tr>\n",
       "      <td>3</td>\n",
       "      <td>0</td>\n",
       "      <td>64900000.0</td>\n",
       "      <td>159.0</td>\n",
       "      <td>2015-07-24T00:00:00</td>\n",
       "      <td>3</td>\n",
       "      <td>3.00</td>\n",
       "      <td>14.0</td>\n",
       "      <td>99.419454</td>\n",
       "      <td>9</td>\n",
       "      <td>False</td>\n",
       "      <td>False</td>\n",
       "      <td>False</td>\n",
       "      <td>NaN</td>\n",
       "      <td>0.000000</td>\n",
       "      <td>санкт-петербург</td>\n",
       "      <td>28098.0</td>\n",
       "      <td>6800.0</td>\n",
       "      <td>2.0</td>\n",
       "      <td>84.0</td>\n",
       "      <td>3.0</td>\n",
       "      <td>234.0</td>\n",
       "      <td>424.0</td>\n",
       "      <td>центр</td>\n",
       "      <td>0.625280</td>\n",
       "      <td>NaN</td>\n",
       "    </tr>\n",
       "    <tr>\n",
       "      <td>4</td>\n",
       "      <td>2</td>\n",
       "      <td>10000000.0</td>\n",
       "      <td>100.0</td>\n",
       "      <td>2018-06-19T00:00:00</td>\n",
       "      <td>2</td>\n",
       "      <td>3.03</td>\n",
       "      <td>14.0</td>\n",
       "      <td>32.000000</td>\n",
       "      <td>13</td>\n",
       "      <td>False</td>\n",
       "      <td>False</td>\n",
       "      <td>False</td>\n",
       "      <td>41.0</td>\n",
       "      <td>1.108817</td>\n",
       "      <td>санкт-петербург</td>\n",
       "      <td>31856.0</td>\n",
       "      <td>8098.0</td>\n",
       "      <td>2.0</td>\n",
       "      <td>112.0</td>\n",
       "      <td>1.0</td>\n",
       "      <td>48.0</td>\n",
       "      <td>121.0</td>\n",
       "      <td>город</td>\n",
       "      <td>0.320000</td>\n",
       "      <td>0.410000</td>\n",
       "    </tr>\n",
       "  </tbody>\n",
       "</table>\n",
       "</div>"
      ],
      "text/plain": [
       "   images_count  last_price_rub  total_area_m2        creation_date  \\\n",
       "0            20      13000000.0          108.0  2019-03-07T00:00:00   \n",
       "1             7       3350000.0           40.4  2018-12-04T00:00:00   \n",
       "2            10       5196000.0           56.0  2015-08-20T00:00:00   \n",
       "3             0      64900000.0          159.0  2015-07-24T00:00:00   \n",
       "4             2      10000000.0          100.0  2018-06-19T00:00:00   \n",
       "\n",
       "   rooms_count  ceiling_height_m  floors_count  living_area_m2  floor  \\\n",
       "0            3              2.70          16.0       51.000000      8   \n",
       "1            1              2.60          11.0       18.600000      1   \n",
       "2            2              2.60           5.0       34.300000      4   \n",
       "3            3              3.00          14.0       99.419454      9   \n",
       "4            2              3.03          14.0       32.000000     13   \n",
       "\n",
       "   is_apartment  is_studio  is_open_plan  kitchen_area_m2  balcony_count  \\\n",
       "0         False      False         False             25.0       1.310204   \n",
       "1         False      False         False             11.0       2.000000   \n",
       "2         False      False         False              8.3       0.000000   \n",
       "3         False      False         False              NaN       0.000000   \n",
       "4         False      False         False             41.0       1.108817   \n",
       "\n",
       "     locality_name  nearest_airport_distance_m  \\\n",
       "0  санкт-петербург                     18863.0   \n",
       "1   поселок шушары                     12817.0   \n",
       "2  санкт-петербург                     21741.0   \n",
       "3  санкт-петербург                     28098.0   \n",
       "4  санкт-петербург                     31856.0   \n",
       "\n",
       "   nearest_city_center_distance_m  parks_around_3000m_count  \\\n",
       "0                         16028.0                       1.0   \n",
       "1                         18603.0                       0.0   \n",
       "2                         13933.0                       1.0   \n",
       "3                          6800.0                       2.0   \n",
       "4                          8098.0                       2.0   \n",
       "\n",
       "   nearest_park_distance_m  ponds_around_3000m_count  nearest_pond_distance_m  \\\n",
       "0                    482.0                       2.0                    755.0   \n",
       "1                      NaN                       0.0                      NaN   \n",
       "2                     90.0                       2.0                    574.0   \n",
       "3                     84.0                       3.0                    234.0   \n",
       "4                    112.0                       1.0                     48.0   \n",
       "\n",
       "   days_exposition city_center_category  living_to_total_area_ratio  \\\n",
       "0              NaN              область                    0.472222   \n",
       "1             81.0              область                    0.460396   \n",
       "2            558.0                город                    0.612500   \n",
       "3            424.0                центр                    0.625280   \n",
       "4            121.0                город                    0.320000   \n",
       "\n",
       "   kitchen_to_total_area_ratio  \n",
       "0                     0.231481  \n",
       "1                     0.272277  \n",
       "2                     0.148214  \n",
       "3                          NaN  \n",
       "4                     0.410000  "
      ]
     },
     "metadata": {},
     "output_type": "display_data"
    },
    {
     "name": "stdout",
     "output_type": "stream",
     "text": [
      "Количество пропусков в столбце kitchen_to_total_area_ratio: 2269\n"
     ]
    }
   ],
   "source": [
    "real_estate_df['kitchen_to_total_area_ratio'] = real_estate_df['kitchen_area_m2'] / real_estate_df['total_area_m2']\n",
    "display(real_estate_df.head(5))\n",
    "print_nan_count(real_estate_df, 'kitchen_to_total_area_ratio')"
   ]
  },
  {
   "cell_type": "markdown",
   "metadata": {},
   "source": [
    "Теперь заполним значения `kitchen_to_total_area_ratio` там, где они отсутствуют"
   ]
  },
  {
   "cell_type": "code",
   "execution_count": 38,
   "metadata": {},
   "outputs": [
    {
     "data": {
      "text/html": [
       "<div>\n",
       "<style scoped>\n",
       "    .dataframe tbody tr th:only-of-type {\n",
       "        vertical-align: middle;\n",
       "    }\n",
       "\n",
       "    .dataframe tbody tr th {\n",
       "        vertical-align: top;\n",
       "    }\n",
       "\n",
       "    .dataframe thead th {\n",
       "        text-align: right;\n",
       "    }\n",
       "</style>\n",
       "<table border=\"1\" class=\"dataframe\">\n",
       "  <thead>\n",
       "    <tr style=\"text-align: right;\">\n",
       "      <th></th>\n",
       "      <th>kitchen_to_total_area_ratio</th>\n",
       "    </tr>\n",
       "    <tr>\n",
       "      <th>rooms_count</th>\n",
       "      <th></th>\n",
       "    </tr>\n",
       "  </thead>\n",
       "  <tbody>\n",
       "    <tr>\n",
       "      <td>1</td>\n",
       "      <td>0.249899</td>\n",
       "    </tr>\n",
       "    <tr>\n",
       "      <td>2</td>\n",
       "      <td>0.174138</td>\n",
       "    </tr>\n",
       "    <tr>\n",
       "      <td>3</td>\n",
       "      <td>0.140924</td>\n",
       "    </tr>\n",
       "    <tr>\n",
       "      <td>4</td>\n",
       "      <td>0.124006</td>\n",
       "    </tr>\n",
       "    <tr>\n",
       "      <td>5</td>\n",
       "      <td>0.113455</td>\n",
       "    </tr>\n",
       "    <tr>\n",
       "      <td>6</td>\n",
       "      <td>0.104150</td>\n",
       "    </tr>\n",
       "    <tr>\n",
       "      <td>7</td>\n",
       "      <td>0.091932</td>\n",
       "    </tr>\n",
       "    <tr>\n",
       "      <td>8</td>\n",
       "      <td>0.091708</td>\n",
       "    </tr>\n",
       "    <tr>\n",
       "      <td>9</td>\n",
       "      <td>0.075054</td>\n",
       "    </tr>\n",
       "    <tr>\n",
       "      <td>10</td>\n",
       "      <td>0.088013</td>\n",
       "    </tr>\n",
       "    <tr>\n",
       "      <td>11</td>\n",
       "      <td>0.066855</td>\n",
       "    </tr>\n",
       "    <tr>\n",
       "      <td>12</td>\n",
       "      <td>0.124444</td>\n",
       "    </tr>\n",
       "    <tr>\n",
       "      <td>14</td>\n",
       "      <td>0.075636</td>\n",
       "    </tr>\n",
       "    <tr>\n",
       "      <td>15</td>\n",
       "      <td>0.169492</td>\n",
       "    </tr>\n",
       "    <tr>\n",
       "      <td>16</td>\n",
       "      <td>0.048148</td>\n",
       "    </tr>\n",
       "    <tr>\n",
       "      <td>19</td>\n",
       "      <td>0.073679</td>\n",
       "    </tr>\n",
       "  </tbody>\n",
       "</table>\n",
       "</div>"
      ],
      "text/plain": [
       "             kitchen_to_total_area_ratio\n",
       "rooms_count                             \n",
       "1                               0.249899\n",
       "2                               0.174138\n",
       "3                               0.140924\n",
       "4                               0.124006\n",
       "5                               0.113455\n",
       "6                               0.104150\n",
       "7                               0.091932\n",
       "8                               0.091708\n",
       "9                               0.075054\n",
       "10                              0.088013\n",
       "11                              0.066855\n",
       "12                              0.124444\n",
       "14                              0.075636\n",
       "15                              0.169492\n",
       "16                              0.048148\n",
       "19                              0.073679"
      ]
     },
     "metadata": {},
     "output_type": "display_data"
    },
    {
     "name": "stdout",
     "output_type": "stream",
     "text": [
      "Количество пропусков в столбце kitchen_to_total_area_ratio: 197\n"
     ]
    }
   ],
   "source": [
    "real_estate_df['kitchen_to_total_area_ratio'] = real_estate_df.groupby('rooms_count')['kitchen_to_total_area_ratio'].apply(lambda x: x.fillna(x.mean()))\n",
    "display(real_estate_df.pivot_table(index='rooms_count', values='kitchen_to_total_area_ratio'))\n",
    "print_nan_count(real_estate_df, 'kitchen_to_total_area_ratio')"
   ]
  },
  {
   "cell_type": "markdown",
   "metadata": {},
   "source": [
    "У нас остались пропуски в `kitchen_to_total_area_ratio`, посмотрим на эти строки. "
   ]
  },
  {
   "cell_type": "code",
   "execution_count": 39,
   "metadata": {},
   "outputs": [
    {
     "data": {
      "text/html": [
       "<div>\n",
       "<style scoped>\n",
       "    .dataframe tbody tr th:only-of-type {\n",
       "        vertical-align: middle;\n",
       "    }\n",
       "\n",
       "    .dataframe tbody tr th {\n",
       "        vertical-align: top;\n",
       "    }\n",
       "\n",
       "    .dataframe thead th {\n",
       "        text-align: right;\n",
       "    }\n",
       "</style>\n",
       "<table border=\"1\" class=\"dataframe\">\n",
       "  <thead>\n",
       "    <tr style=\"text-align: right;\">\n",
       "      <th></th>\n",
       "      <th>images_count</th>\n",
       "      <th>last_price_rub</th>\n",
       "      <th>total_area_m2</th>\n",
       "      <th>creation_date</th>\n",
       "      <th>rooms_count</th>\n",
       "      <th>ceiling_height_m</th>\n",
       "      <th>floors_count</th>\n",
       "      <th>living_area_m2</th>\n",
       "      <th>floor</th>\n",
       "      <th>is_apartment</th>\n",
       "      <th>is_studio</th>\n",
       "      <th>is_open_plan</th>\n",
       "      <th>kitchen_area_m2</th>\n",
       "      <th>balcony_count</th>\n",
       "      <th>locality_name</th>\n",
       "      <th>nearest_airport_distance_m</th>\n",
       "      <th>nearest_city_center_distance_m</th>\n",
       "      <th>parks_around_3000m_count</th>\n",
       "      <th>nearest_park_distance_m</th>\n",
       "      <th>ponds_around_3000m_count</th>\n",
       "      <th>nearest_pond_distance_m</th>\n",
       "      <th>days_exposition</th>\n",
       "      <th>city_center_category</th>\n",
       "      <th>living_to_total_area_ratio</th>\n",
       "      <th>kitchen_to_total_area_ratio</th>\n",
       "    </tr>\n",
       "  </thead>\n",
       "  <tbody>\n",
       "    <tr>\n",
       "      <td>144</td>\n",
       "      <td>1</td>\n",
       "      <td>2450000.0</td>\n",
       "      <td>27.00</td>\n",
       "      <td>2017-03-30T00:00:00</td>\n",
       "      <td>0</td>\n",
       "      <td>2.6</td>\n",
       "      <td>24.0</td>\n",
       "      <td>15.500000</td>\n",
       "      <td>2</td>\n",
       "      <td>False</td>\n",
       "      <td>True</td>\n",
       "      <td>False</td>\n",
       "      <td>NaN</td>\n",
       "      <td>2.000000</td>\n",
       "      <td>поселок мурино</td>\n",
       "      <td>NaN</td>\n",
       "      <td>NaN</td>\n",
       "      <td>NaN</td>\n",
       "      <td>NaN</td>\n",
       "      <td>NaN</td>\n",
       "      <td>NaN</td>\n",
       "      <td>181.0</td>\n",
       "      <td>область</td>\n",
       "      <td>0.574074</td>\n",
       "      <td>NaN</td>\n",
       "    </tr>\n",
       "    <tr>\n",
       "      <td>349</td>\n",
       "      <td>4</td>\n",
       "      <td>2320000.0</td>\n",
       "      <td>25.00</td>\n",
       "      <td>2017-09-27T00:00:00</td>\n",
       "      <td>0</td>\n",
       "      <td>2.6</td>\n",
       "      <td>14.0</td>\n",
       "      <td>17.000000</td>\n",
       "      <td>1</td>\n",
       "      <td>False</td>\n",
       "      <td>False</td>\n",
       "      <td>True</td>\n",
       "      <td>NaN</td>\n",
       "      <td>0.000000</td>\n",
       "      <td>деревня кудрово</td>\n",
       "      <td>NaN</td>\n",
       "      <td>NaN</td>\n",
       "      <td>NaN</td>\n",
       "      <td>NaN</td>\n",
       "      <td>NaN</td>\n",
       "      <td>NaN</td>\n",
       "      <td>45.0</td>\n",
       "      <td>область</td>\n",
       "      <td>0.680000</td>\n",
       "      <td>NaN</td>\n",
       "    </tr>\n",
       "    <tr>\n",
       "      <td>440</td>\n",
       "      <td>8</td>\n",
       "      <td>2480000.0</td>\n",
       "      <td>27.11</td>\n",
       "      <td>2018-03-12T00:00:00</td>\n",
       "      <td>0</td>\n",
       "      <td>2.6</td>\n",
       "      <td>17.0</td>\n",
       "      <td>24.750000</td>\n",
       "      <td>4</td>\n",
       "      <td>False</td>\n",
       "      <td>True</td>\n",
       "      <td>False</td>\n",
       "      <td>NaN</td>\n",
       "      <td>2.000000</td>\n",
       "      <td>санкт-петербург</td>\n",
       "      <td>38171.0</td>\n",
       "      <td>15015.0</td>\n",
       "      <td>0.0</td>\n",
       "      <td>NaN</td>\n",
       "      <td>2.0</td>\n",
       "      <td>982.0</td>\n",
       "      <td>64.0</td>\n",
       "      <td>город</td>\n",
       "      <td>0.912947</td>\n",
       "      <td>NaN</td>\n",
       "    </tr>\n",
       "    <tr>\n",
       "      <td>508</td>\n",
       "      <td>0</td>\n",
       "      <td>3375000.0</td>\n",
       "      <td>34.40</td>\n",
       "      <td>2017-03-28T00:00:00</td>\n",
       "      <td>0</td>\n",
       "      <td>2.6</td>\n",
       "      <td>26.0</td>\n",
       "      <td>24.300000</td>\n",
       "      <td>19</td>\n",
       "      <td>False</td>\n",
       "      <td>False</td>\n",
       "      <td>True</td>\n",
       "      <td>NaN</td>\n",
       "      <td>1.000000</td>\n",
       "      <td>поселок парголово</td>\n",
       "      <td>53115.0</td>\n",
       "      <td>19292.0</td>\n",
       "      <td>0.0</td>\n",
       "      <td>NaN</td>\n",
       "      <td>1.0</td>\n",
       "      <td>593.0</td>\n",
       "      <td>430.0</td>\n",
       "      <td>область</td>\n",
       "      <td>0.706395</td>\n",
       "      <td>NaN</td>\n",
       "    </tr>\n",
       "    <tr>\n",
       "      <td>608</td>\n",
       "      <td>2</td>\n",
       "      <td>1850000.0</td>\n",
       "      <td>25.00</td>\n",
       "      <td>2019-02-20T00:00:00</td>\n",
       "      <td>0</td>\n",
       "      <td>2.6</td>\n",
       "      <td>10.0</td>\n",
       "      <td>17.136675</td>\n",
       "      <td>7</td>\n",
       "      <td>False</td>\n",
       "      <td>True</td>\n",
       "      <td>False</td>\n",
       "      <td>NaN</td>\n",
       "      <td>1.579365</td>\n",
       "      <td>поселок шушары</td>\n",
       "      <td>NaN</td>\n",
       "      <td>NaN</td>\n",
       "      <td>NaN</td>\n",
       "      <td>NaN</td>\n",
       "      <td>NaN</td>\n",
       "      <td>NaN</td>\n",
       "      <td>29.0</td>\n",
       "      <td>область</td>\n",
       "      <td>0.685467</td>\n",
       "      <td>NaN</td>\n",
       "    </tr>\n",
       "  </tbody>\n",
       "</table>\n",
       "</div>"
      ],
      "text/plain": [
       "     images_count  last_price_rub  total_area_m2        creation_date  \\\n",
       "144             1       2450000.0          27.00  2017-03-30T00:00:00   \n",
       "349             4       2320000.0          25.00  2017-09-27T00:00:00   \n",
       "440             8       2480000.0          27.11  2018-03-12T00:00:00   \n",
       "508             0       3375000.0          34.40  2017-03-28T00:00:00   \n",
       "608             2       1850000.0          25.00  2019-02-20T00:00:00   \n",
       "\n",
       "     rooms_count  ceiling_height_m  floors_count  living_area_m2  floor  \\\n",
       "144            0               2.6          24.0       15.500000      2   \n",
       "349            0               2.6          14.0       17.000000      1   \n",
       "440            0               2.6          17.0       24.750000      4   \n",
       "508            0               2.6          26.0       24.300000     19   \n",
       "608            0               2.6          10.0       17.136675      7   \n",
       "\n",
       "     is_apartment  is_studio  is_open_plan  kitchen_area_m2  balcony_count  \\\n",
       "144         False       True         False              NaN       2.000000   \n",
       "349         False      False          True              NaN       0.000000   \n",
       "440         False       True         False              NaN       2.000000   \n",
       "508         False      False          True              NaN       1.000000   \n",
       "608         False       True         False              NaN       1.579365   \n",
       "\n",
       "         locality_name  nearest_airport_distance_m  \\\n",
       "144     поселок мурино                         NaN   \n",
       "349    деревня кудрово                         NaN   \n",
       "440    санкт-петербург                     38171.0   \n",
       "508  поселок парголово                     53115.0   \n",
       "608     поселок шушары                         NaN   \n",
       "\n",
       "     nearest_city_center_distance_m  parks_around_3000m_count  \\\n",
       "144                             NaN                       NaN   \n",
       "349                             NaN                       NaN   \n",
       "440                         15015.0                       0.0   \n",
       "508                         19292.0                       0.0   \n",
       "608                             NaN                       NaN   \n",
       "\n",
       "     nearest_park_distance_m  ponds_around_3000m_count  \\\n",
       "144                      NaN                       NaN   \n",
       "349                      NaN                       NaN   \n",
       "440                      NaN                       2.0   \n",
       "508                      NaN                       1.0   \n",
       "608                      NaN                       NaN   \n",
       "\n",
       "     nearest_pond_distance_m  days_exposition city_center_category  \\\n",
       "144                      NaN            181.0              область   \n",
       "349                      NaN             45.0              область   \n",
       "440                    982.0             64.0                город   \n",
       "508                    593.0            430.0              область   \n",
       "608                      NaN             29.0              область   \n",
       "\n",
       "     living_to_total_area_ratio  kitchen_to_total_area_ratio  \n",
       "144                    0.574074                          NaN  \n",
       "349                    0.680000                          NaN  \n",
       "440                    0.912947                          NaN  \n",
       "508                    0.706395                          NaN  \n",
       "608                    0.685467                          NaN  "
      ]
     },
     "execution_count": 39,
     "metadata": {},
     "output_type": "execute_result"
    }
   ],
   "source": [
    "real_estate_df[real_estate_df['kitchen_to_total_area_ratio'].isnull()].head() "
   ]
  },
  {
   "cell_type": "markdown",
   "metadata": {},
   "source": [
    "Проверим, что значений kitchen_area_m2 нет только для квартир с количеством комнат равным *0* (т.е студий или квартир со свободной планировкой)"
   ]
  },
  {
   "cell_type": "code",
   "execution_count": 40,
   "metadata": {},
   "outputs": [
    {
     "data": {
      "text/plain": [
       "array([0])"
      ]
     },
     "execution_count": 40,
     "metadata": {},
     "output_type": "execute_result"
    }
   ],
   "source": [
    "real_estate_df[real_estate_df['kitchen_to_total_area_ratio'].isnull()]['rooms_count'].unique() "
   ]
  },
  {
   "cell_type": "markdown",
   "metadata": {},
   "source": [
    "В этом случае заменим `kitchen_to_total_area_ratio` на 0, посмольку в этих квартирах нет разграничения между кухней и жилой зоной."
   ]
  },
  {
   "cell_type": "code",
   "execution_count": 41,
   "metadata": {},
   "outputs": [
    {
     "name": "stdout",
     "output_type": "stream",
     "text": [
      "Количество пропусков в столбце kitchen_to_total_area_ratio: 0\n"
     ]
    }
   ],
   "source": [
    "real_estate_df['kitchen_to_total_area_ratio'] = real_estate_df['kitchen_to_total_area_ratio'].fillna(0)\n",
    "print_nan_count(real_estate_df, 'kitchen_to_total_area_ratio')"
   ]
  },
  {
   "cell_type": "markdown",
   "metadata": {},
   "source": [
    "С пропусками в `kitchen_to_total_area_ratio` разобрались, теперь вычислим значения `kitchen_area_m2`."
   ]
  },
  {
   "cell_type": "code",
   "execution_count": 42,
   "metadata": {},
   "outputs": [
    {
     "data": {
      "text/html": [
       "<div>\n",
       "<style scoped>\n",
       "    .dataframe tbody tr th:only-of-type {\n",
       "        vertical-align: middle;\n",
       "    }\n",
       "\n",
       "    .dataframe tbody tr th {\n",
       "        vertical-align: top;\n",
       "    }\n",
       "\n",
       "    .dataframe thead th {\n",
       "        text-align: right;\n",
       "    }\n",
       "</style>\n",
       "<table border=\"1\" class=\"dataframe\">\n",
       "  <thead>\n",
       "    <tr style=\"text-align: right;\">\n",
       "      <th></th>\n",
       "      <th>images_count</th>\n",
       "      <th>last_price_rub</th>\n",
       "      <th>total_area_m2</th>\n",
       "      <th>creation_date</th>\n",
       "      <th>rooms_count</th>\n",
       "      <th>ceiling_height_m</th>\n",
       "      <th>floors_count</th>\n",
       "      <th>living_area_m2</th>\n",
       "      <th>floor</th>\n",
       "      <th>is_apartment</th>\n",
       "      <th>is_studio</th>\n",
       "      <th>is_open_plan</th>\n",
       "      <th>kitchen_area_m2</th>\n",
       "      <th>balcony_count</th>\n",
       "      <th>locality_name</th>\n",
       "      <th>nearest_airport_distance_m</th>\n",
       "      <th>nearest_city_center_distance_m</th>\n",
       "      <th>parks_around_3000m_count</th>\n",
       "      <th>nearest_park_distance_m</th>\n",
       "      <th>ponds_around_3000m_count</th>\n",
       "      <th>nearest_pond_distance_m</th>\n",
       "      <th>days_exposition</th>\n",
       "      <th>city_center_category</th>\n",
       "      <th>living_to_total_area_ratio</th>\n",
       "      <th>kitchen_to_total_area_ratio</th>\n",
       "    </tr>\n",
       "  </thead>\n",
       "  <tbody>\n",
       "    <tr>\n",
       "      <td>0</td>\n",
       "      <td>20</td>\n",
       "      <td>13000000.0</td>\n",
       "      <td>108.0</td>\n",
       "      <td>2019-03-07T00:00:00</td>\n",
       "      <td>3</td>\n",
       "      <td>2.70</td>\n",
       "      <td>16.0</td>\n",
       "      <td>51.000000</td>\n",
       "      <td>8</td>\n",
       "      <td>False</td>\n",
       "      <td>False</td>\n",
       "      <td>False</td>\n",
       "      <td>25.000000</td>\n",
       "      <td>1.310204</td>\n",
       "      <td>санкт-петербург</td>\n",
       "      <td>18863.0</td>\n",
       "      <td>16028.0</td>\n",
       "      <td>1.0</td>\n",
       "      <td>482.0</td>\n",
       "      <td>2.0</td>\n",
       "      <td>755.0</td>\n",
       "      <td>NaN</td>\n",
       "      <td>область</td>\n",
       "      <td>0.472222</td>\n",
       "      <td>0.231481</td>\n",
       "    </tr>\n",
       "    <tr>\n",
       "      <td>1</td>\n",
       "      <td>7</td>\n",
       "      <td>3350000.0</td>\n",
       "      <td>40.4</td>\n",
       "      <td>2018-12-04T00:00:00</td>\n",
       "      <td>1</td>\n",
       "      <td>2.60</td>\n",
       "      <td>11.0</td>\n",
       "      <td>18.600000</td>\n",
       "      <td>1</td>\n",
       "      <td>False</td>\n",
       "      <td>False</td>\n",
       "      <td>False</td>\n",
       "      <td>11.000000</td>\n",
       "      <td>2.000000</td>\n",
       "      <td>поселок шушары</td>\n",
       "      <td>12817.0</td>\n",
       "      <td>18603.0</td>\n",
       "      <td>0.0</td>\n",
       "      <td>NaN</td>\n",
       "      <td>0.0</td>\n",
       "      <td>NaN</td>\n",
       "      <td>81.0</td>\n",
       "      <td>область</td>\n",
       "      <td>0.460396</td>\n",
       "      <td>0.272277</td>\n",
       "    </tr>\n",
       "    <tr>\n",
       "      <td>2</td>\n",
       "      <td>10</td>\n",
       "      <td>5196000.0</td>\n",
       "      <td>56.0</td>\n",
       "      <td>2015-08-20T00:00:00</td>\n",
       "      <td>2</td>\n",
       "      <td>2.60</td>\n",
       "      <td>5.0</td>\n",
       "      <td>34.300000</td>\n",
       "      <td>4</td>\n",
       "      <td>False</td>\n",
       "      <td>False</td>\n",
       "      <td>False</td>\n",
       "      <td>8.300000</td>\n",
       "      <td>0.000000</td>\n",
       "      <td>санкт-петербург</td>\n",
       "      <td>21741.0</td>\n",
       "      <td>13933.0</td>\n",
       "      <td>1.0</td>\n",
       "      <td>90.0</td>\n",
       "      <td>2.0</td>\n",
       "      <td>574.0</td>\n",
       "      <td>558.0</td>\n",
       "      <td>город</td>\n",
       "      <td>0.612500</td>\n",
       "      <td>0.148214</td>\n",
       "    </tr>\n",
       "    <tr>\n",
       "      <td>3</td>\n",
       "      <td>0</td>\n",
       "      <td>64900000.0</td>\n",
       "      <td>159.0</td>\n",
       "      <td>2015-07-24T00:00:00</td>\n",
       "      <td>3</td>\n",
       "      <td>3.00</td>\n",
       "      <td>14.0</td>\n",
       "      <td>99.419454</td>\n",
       "      <td>9</td>\n",
       "      <td>False</td>\n",
       "      <td>False</td>\n",
       "      <td>False</td>\n",
       "      <td>22.406883</td>\n",
       "      <td>0.000000</td>\n",
       "      <td>санкт-петербург</td>\n",
       "      <td>28098.0</td>\n",
       "      <td>6800.0</td>\n",
       "      <td>2.0</td>\n",
       "      <td>84.0</td>\n",
       "      <td>3.0</td>\n",
       "      <td>234.0</td>\n",
       "      <td>424.0</td>\n",
       "      <td>центр</td>\n",
       "      <td>0.625280</td>\n",
       "      <td>0.140924</td>\n",
       "    </tr>\n",
       "    <tr>\n",
       "      <td>4</td>\n",
       "      <td>2</td>\n",
       "      <td>10000000.0</td>\n",
       "      <td>100.0</td>\n",
       "      <td>2018-06-19T00:00:00</td>\n",
       "      <td>2</td>\n",
       "      <td>3.03</td>\n",
       "      <td>14.0</td>\n",
       "      <td>32.000000</td>\n",
       "      <td>13</td>\n",
       "      <td>False</td>\n",
       "      <td>False</td>\n",
       "      <td>False</td>\n",
       "      <td>41.000000</td>\n",
       "      <td>1.108817</td>\n",
       "      <td>санкт-петербург</td>\n",
       "      <td>31856.0</td>\n",
       "      <td>8098.0</td>\n",
       "      <td>2.0</td>\n",
       "      <td>112.0</td>\n",
       "      <td>1.0</td>\n",
       "      <td>48.0</td>\n",
       "      <td>121.0</td>\n",
       "      <td>город</td>\n",
       "      <td>0.320000</td>\n",
       "      <td>0.410000</td>\n",
       "    </tr>\n",
       "  </tbody>\n",
       "</table>\n",
       "</div>"
      ],
      "text/plain": [
       "   images_count  last_price_rub  total_area_m2        creation_date  \\\n",
       "0            20      13000000.0          108.0  2019-03-07T00:00:00   \n",
       "1             7       3350000.0           40.4  2018-12-04T00:00:00   \n",
       "2            10       5196000.0           56.0  2015-08-20T00:00:00   \n",
       "3             0      64900000.0          159.0  2015-07-24T00:00:00   \n",
       "4             2      10000000.0          100.0  2018-06-19T00:00:00   \n",
       "\n",
       "   rooms_count  ceiling_height_m  floors_count  living_area_m2  floor  \\\n",
       "0            3              2.70          16.0       51.000000      8   \n",
       "1            1              2.60          11.0       18.600000      1   \n",
       "2            2              2.60           5.0       34.300000      4   \n",
       "3            3              3.00          14.0       99.419454      9   \n",
       "4            2              3.03          14.0       32.000000     13   \n",
       "\n",
       "   is_apartment  is_studio  is_open_plan  kitchen_area_m2  balcony_count  \\\n",
       "0         False      False         False        25.000000       1.310204   \n",
       "1         False      False         False        11.000000       2.000000   \n",
       "2         False      False         False         8.300000       0.000000   \n",
       "3         False      False         False        22.406883       0.000000   \n",
       "4         False      False         False        41.000000       1.108817   \n",
       "\n",
       "     locality_name  nearest_airport_distance_m  \\\n",
       "0  санкт-петербург                     18863.0   \n",
       "1   поселок шушары                     12817.0   \n",
       "2  санкт-петербург                     21741.0   \n",
       "3  санкт-петербург                     28098.0   \n",
       "4  санкт-петербург                     31856.0   \n",
       "\n",
       "   nearest_city_center_distance_m  parks_around_3000m_count  \\\n",
       "0                         16028.0                       1.0   \n",
       "1                         18603.0                       0.0   \n",
       "2                         13933.0                       1.0   \n",
       "3                          6800.0                       2.0   \n",
       "4                          8098.0                       2.0   \n",
       "\n",
       "   nearest_park_distance_m  ponds_around_3000m_count  nearest_pond_distance_m  \\\n",
       "0                    482.0                       2.0                    755.0   \n",
       "1                      NaN                       0.0                      NaN   \n",
       "2                     90.0                       2.0                    574.0   \n",
       "3                     84.0                       3.0                    234.0   \n",
       "4                    112.0                       1.0                     48.0   \n",
       "\n",
       "   days_exposition city_center_category  living_to_total_area_ratio  \\\n",
       "0              NaN              область                    0.472222   \n",
       "1             81.0              область                    0.460396   \n",
       "2            558.0                город                    0.612500   \n",
       "3            424.0                центр                    0.625280   \n",
       "4            121.0                город                    0.320000   \n",
       "\n",
       "   kitchen_to_total_area_ratio  \n",
       "0                     0.231481  \n",
       "1                     0.272277  \n",
       "2                     0.148214  \n",
       "3                     0.140924  \n",
       "4                     0.410000  "
      ]
     },
     "metadata": {},
     "output_type": "display_data"
    },
    {
     "name": "stdout",
     "output_type": "stream",
     "text": [
      "Количество пропусков в столбце kitchen_area_m2: 0\n"
     ]
    }
   ],
   "source": [
    "def compute_kitchen_area(row):\n",
    "    if pd.notna(row['kitchen_area_m2']):\n",
    "        return row['kitchen_area_m2']\n",
    "    \n",
    "    return min(row['kitchen_to_total_area_ratio'] * row['total_area_m2'], row['total_area_m2'] - row['living_area_m2'])\n",
    "\n",
    "\n",
    "real_estate_df['kitchen_area_m2'] = real_estate_df.apply(compute_kitchen_area, axis=1)\n",
    "display(real_estate_df.head(5))\n",
    "print_nan_count(real_estate_df, 'kitchen_area_m2')"
   ]
  },
  {
   "cell_type": "markdown",
   "metadata": {},
   "source": [
    "<div class=\"alert alert-success\">\n",
    "<h2> Комментарий ревьюера </h2>\n",
    "\n",
    "Мололец, крутая обработка пропусков. Ты выбрал наиболее коррелирующие параметры для заполнения данных пропусков. Только стоило привести сами коэффициенты корреляции для доказательства выбора. \n",
    "\n",
    "</div>"
   ]
  },
  {
   "cell_type": "markdown",
   "metadata": {},
   "source": [
    "<a name=\"data_preprocessing.missing.parks_around_3000m_count\"></a>\n",
    "#### parks_around_3000m_count"
   ]
  },
  {
   "cell_type": "markdown",
   "metadata": {},
   "source": [
    "Посмотрим сколько пропусков в стролбце `parks_around_3000m_count`"
   ]
  },
  {
   "cell_type": "code",
   "execution_count": 43,
   "metadata": {},
   "outputs": [
    {
     "name": "stdout",
     "output_type": "stream",
     "text": [
      "Процент данных с пропускамив столбце parks_around_3000m_count: 23.30%\n"
     ]
    }
   ],
   "source": [
    "print_nan_percent(real_estate_df, 'parks_around_3000m_count')"
   ]
  },
  {
   "cell_type": "markdown",
   "metadata": {},
   "source": [
    "Посмотрим, есть ли строки с пропусками, но с парком ближе, чем 3км"
   ]
  },
  {
   "cell_type": "code",
   "execution_count": 44,
   "metadata": {},
   "outputs": [
    {
     "data": {
      "text/plain": [
       "0"
      ]
     },
     "execution_count": 44,
     "metadata": {},
     "output_type": "execute_result"
    }
   ],
   "source": [
    "real_estate_df.query('parks_around_3000m_count == 0 and nearest_park_distance_m <= 3000').shape[0]"
   ]
  },
  {
   "cell_type": "markdown",
   "metadata": {},
   "source": [
    "Нет, значит можно поставить 0 вместо пропусков"
   ]
  },
  {
   "cell_type": "code",
   "execution_count": 45,
   "metadata": {},
   "outputs": [
    {
     "name": "stdout",
     "output_type": "stream",
     "text": [
      "Количество пропусков в столбце parks_around_3000m_count: 0\n"
     ]
    }
   ],
   "source": [
    "real_estate_df['parks_around_3000m_count'] = real_estate_df['parks_around_3000m_count'].fillna(0)\n",
    "print_nan_count(real_estate_df, 'parks_around_3000m_count')"
   ]
  },
  {
   "cell_type": "markdown",
   "metadata": {},
   "source": [
    "<a name=\"data_preprocessing.missing.ponds_around_3000m_count\"></a>\n",
    "#### ponds_around_3000m_count"
   ]
  },
  {
   "cell_type": "code",
   "execution_count": 46,
   "metadata": {},
   "outputs": [
    {
     "name": "stdout",
     "output_type": "stream",
     "text": [
      "Процент данных с пропускамив столбце ponds_around_3000m_count: 23.30%\n"
     ]
    }
   ],
   "source": [
    "print_nan_percent(real_estate_df, 'ponds_around_3000m_count')"
   ]
  },
  {
   "cell_type": "markdown",
   "metadata": {},
   "source": [
    "Посмотрим, есть ли строки с пропусками, но с прудом ближе, чем 3км"
   ]
  },
  {
   "cell_type": "code",
   "execution_count": 47,
   "metadata": {},
   "outputs": [
    {
     "data": {
      "text/plain": [
       "0"
      ]
     },
     "execution_count": 47,
     "metadata": {},
     "output_type": "execute_result"
    }
   ],
   "source": [
    "real_estate_df.query('ponds_around_3000m_count == 0 and nearest_pond_distance_m <= 3000').shape[0]"
   ]
  },
  {
   "cell_type": "markdown",
   "metadata": {},
   "source": [
    "Нет, значит можно поставить 0 вместо пропусков"
   ]
  },
  {
   "cell_type": "code",
   "execution_count": 48,
   "metadata": {},
   "outputs": [
    {
     "name": "stdout",
     "output_type": "stream",
     "text": [
      "Количество пропусков в столбце ponds_around_3000m_count: 0\n"
     ]
    }
   ],
   "source": [
    "real_estate_df['ponds_around_3000m_count'] = real_estate_df['ponds_around_3000m_count'].fillna(0)\n",
    "print_nan_count(real_estate_df, 'ponds_around_3000m_count')"
   ]
  },
  {
   "cell_type": "markdown",
   "metadata": {},
   "source": [
    "<a name=\"data_preprocessing.missing.conclusion\"></a>\n",
    "#### Вывод"
   ]
  },
  {
   "cell_type": "markdown",
   "metadata": {},
   "source": [
    "Посмотрим, сколько пропусков у нас осталось в таблице."
   ]
  },
  {
   "cell_type": "code",
   "execution_count": 49,
   "metadata": {},
   "outputs": [
    {
     "data": {
      "text/plain": [
       "nearest_park_distance_m           65.902748\n",
       "nearest_pond_distance_m           61.585624\n",
       "nearest_airport_distance_m        23.399577\n",
       "nearest_city_center_distance_m    23.302326\n",
       "days_exposition                   13.446089\n",
       "kitchen_to_total_area_ratio        0.000000\n",
       "is_apartment                       0.000000\n",
       "last_price_rub                     0.000000\n",
       "total_area_m2                      0.000000\n",
       "creation_date                      0.000000\n",
       "rooms_count                        0.000000\n",
       "ceiling_height_m                   0.000000\n",
       "floors_count                       0.000000\n",
       "living_area_m2                     0.000000\n",
       "floor                              0.000000\n",
       "kitchen_area_m2                    0.000000\n",
       "is_studio                          0.000000\n",
       "is_open_plan                       0.000000\n",
       "living_to_total_area_ratio         0.000000\n",
       "balcony_count                      0.000000\n",
       "locality_name                      0.000000\n",
       "parks_around_3000m_count           0.000000\n",
       "ponds_around_3000m_count           0.000000\n",
       "city_center_category               0.000000\n",
       "images_count                       0.000000\n",
       "dtype: float64"
      ]
     },
     "execution_count": 49,
     "metadata": {},
     "output_type": "execute_result"
    }
   ],
   "source": [
    "real_estate_df.isnull().sum().sort_values(ascending=False) / real_estate_df.shape[0] * 100"
   ]
  },
  {
   "cell_type": "markdown",
   "metadata": {},
   "source": [
    "Пропуски остались только в столбцах, которые заполняются системой и которые нельзя никак заменить на основе других данных."
   ]
  },
  {
   "cell_type": "markdown",
   "metadata": {},
   "source": [
    "<a name=\"data_preprocessing.change_types\"></a>\n",
    "### Изменение типов данных"
   ]
  },
  {
   "cell_type": "markdown",
   "metadata": {},
   "source": [
    "Выведем типы данных в датафрейме `real_estate_df`"
   ]
  },
  {
   "cell_type": "code",
   "execution_count": 50,
   "metadata": {},
   "outputs": [
    {
     "name": "stdout",
     "output_type": "stream",
     "text": [
      "<class 'pandas.core.frame.DataFrame'>\n",
      "Int64Index: 23650 entries, 0 to 23698\n",
      "Data columns (total 25 columns):\n",
      "images_count                      23650 non-null int64\n",
      "last_price_rub                    23650 non-null float64\n",
      "total_area_m2                     23650 non-null float64\n",
      "creation_date                     23650 non-null object\n",
      "rooms_count                       23650 non-null int64\n",
      "ceiling_height_m                  23650 non-null float64\n",
      "floors_count                      23650 non-null float64\n",
      "living_area_m2                    23650 non-null float64\n",
      "floor                             23650 non-null int64\n",
      "is_apartment                      23650 non-null bool\n",
      "is_studio                         23650 non-null bool\n",
      "is_open_plan                      23650 non-null bool\n",
      "kitchen_area_m2                   23650 non-null float64\n",
      "balcony_count                     23650 non-null float64\n",
      "locality_name                     23650 non-null object\n",
      "nearest_airport_distance_m        18116 non-null float64\n",
      "nearest_city_center_distance_m    18139 non-null float64\n",
      "parks_around_3000m_count          23650 non-null float64\n",
      "nearest_park_distance_m           8064 non-null float64\n",
      "ponds_around_3000m_count          23650 non-null float64\n",
      "nearest_pond_distance_m           9085 non-null float64\n",
      "days_exposition                   20470 non-null float64\n",
      "city_center_category              23650 non-null object\n",
      "living_to_total_area_ratio        23650 non-null float64\n",
      "kitchen_to_total_area_ratio       23650 non-null float64\n",
      "dtypes: bool(3), float64(16), int64(3), object(3)\n",
      "memory usage: 4.2+ MB\n"
     ]
    }
   ],
   "source": [
    "real_estate_df.info() "
   ]
  },
  {
   "cell_type": "code",
   "execution_count": 51,
   "metadata": {},
   "outputs": [],
   "source": [
    "def convert_type(df, column_name, new_type, errors='raise'):\n",
    "    df[column_name] = df[column_name].astype(new_type, errors=errors)"
   ]
  },
  {
   "cell_type": "markdown",
   "metadata": {},
   "source": [
    "<a name=\"data_preprocessing.change_types.last_price_rub\"></a>\n",
    "#### last_price_rub"
   ]
  },
  {
   "cell_type": "code",
   "execution_count": 52,
   "metadata": {},
   "outputs": [],
   "source": [
    "convert_type(real_estate_df, 'last_price_rub', 'int')"
   ]
  },
  {
   "cell_type": "markdown",
   "metadata": {},
   "source": [
    "<a name=\"data_preprocessing.change_types.creation_date\"></a>\n",
    "#### creation_date"
   ]
  },
  {
   "cell_type": "markdown",
   "metadata": {},
   "source": [
    "Посмотрим на то, как представлена дата в столбце `creation_date`."
   ]
  },
  {
   "cell_type": "code",
   "execution_count": 53,
   "metadata": {},
   "outputs": [
    {
     "data": {
      "text/plain": [
       "0    2019-03-07T00:00:00\n",
       "Name: creation_date, dtype: object"
      ]
     },
     "execution_count": 53,
     "metadata": {},
     "output_type": "execute_result"
    }
   ],
   "source": [
    "real_estate_df['creation_date'].head(1)"
   ]
  },
  {
   "cell_type": "markdown",
   "metadata": {},
   "source": [
    "Теперь приведем этот столбец к типу *datetime*. "
   ]
  },
  {
   "cell_type": "code",
   "execution_count": 54,
   "metadata": {},
   "outputs": [],
   "source": [
    "real_estate_df['creation_date'] = pd.to_datetime(real_estate_df['creation_date'], format='%Y-%m-%dT%H:%M:%S')"
   ]
  },
  {
   "cell_type": "markdown",
   "metadata": {},
   "source": [
    "<a name=\"data_preprocessing.change_types.floors_count\"></a>\n",
    "#### floors_count"
   ]
  },
  {
   "cell_type": "code",
   "execution_count": 55,
   "metadata": {},
   "outputs": [],
   "source": [
    "convert_type(real_estate_df, 'floors_count', 'int')"
   ]
  },
  {
   "cell_type": "markdown",
   "metadata": {},
   "source": [
    "<a name=\"data_preprocessing.change_types.is_apartment\"></a>\n",
    "#### is_apartment"
   ]
  },
  {
   "cell_type": "code",
   "execution_count": 56,
   "metadata": {},
   "outputs": [],
   "source": [
    "convert_type(real_estate_df, 'is_apartment', 'bool')"
   ]
  },
  {
   "cell_type": "markdown",
   "metadata": {},
   "source": [
    "<a name=\"data_preprocessing.change_types.balcony_count\"></a>\n",
    "#### balcony_count"
   ]
  },
  {
   "cell_type": "code",
   "execution_count": 57,
   "metadata": {},
   "outputs": [],
   "source": [
    "convert_type(real_estate_df, 'balcony_count', 'int')"
   ]
  },
  {
   "cell_type": "markdown",
   "metadata": {},
   "source": [
    "<a name=\"data_preprocessing.change_types.parks_around_3000m_count\"></a>\n",
    "#### parks_around_3000m_count"
   ]
  },
  {
   "cell_type": "code",
   "execution_count": 58,
   "metadata": {},
   "outputs": [],
   "source": [
    "convert_type(real_estate_df, 'parks_around_3000m_count', 'int')"
   ]
  },
  {
   "cell_type": "markdown",
   "metadata": {},
   "source": [
    "<a name=\"data_preprocessing.change_types.ponds_around_3000m_count\"></a>\n",
    "#### ponds_around_3000m_count"
   ]
  },
  {
   "cell_type": "code",
   "execution_count": 59,
   "metadata": {},
   "outputs": [],
   "source": [
    "convert_type(real_estate_df, 'ponds_around_3000m_count', 'int')"
   ]
  },
  {
   "cell_type": "markdown",
   "metadata": {},
   "source": [
    "<a name=\"data_preprocessing.change_types.conclusion\"></a>\n",
    "#### Вывод"
   ]
  },
  {
   "cell_type": "markdown",
   "metadata": {},
   "source": [
    "Выведем типы данных после их изменения "
   ]
  },
  {
   "cell_type": "code",
   "execution_count": 60,
   "metadata": {},
   "outputs": [
    {
     "name": "stdout",
     "output_type": "stream",
     "text": [
      "<class 'pandas.core.frame.DataFrame'>\n",
      "Int64Index: 23650 entries, 0 to 23698\n",
      "Data columns (total 25 columns):\n",
      "images_count                      23650 non-null int64\n",
      "last_price_rub                    23650 non-null int64\n",
      "total_area_m2                     23650 non-null float64\n",
      "creation_date                     23650 non-null datetime64[ns]\n",
      "rooms_count                       23650 non-null int64\n",
      "ceiling_height_m                  23650 non-null float64\n",
      "floors_count                      23650 non-null int64\n",
      "living_area_m2                    23650 non-null float64\n",
      "floor                             23650 non-null int64\n",
      "is_apartment                      23650 non-null bool\n",
      "is_studio                         23650 non-null bool\n",
      "is_open_plan                      23650 non-null bool\n",
      "kitchen_area_m2                   23650 non-null float64\n",
      "balcony_count                     23650 non-null int64\n",
      "locality_name                     23650 non-null object\n",
      "nearest_airport_distance_m        18116 non-null float64\n",
      "nearest_city_center_distance_m    18139 non-null float64\n",
      "parks_around_3000m_count          23650 non-null int64\n",
      "nearest_park_distance_m           8064 non-null float64\n",
      "ponds_around_3000m_count          23650 non-null int64\n",
      "nearest_pond_distance_m           9085 non-null float64\n",
      "days_exposition                   20470 non-null float64\n",
      "city_center_category              23650 non-null object\n",
      "living_to_total_area_ratio        23650 non-null float64\n",
      "kitchen_to_total_area_ratio       23650 non-null float64\n",
      "dtypes: bool(3), datetime64[ns](1), float64(11), int64(8), object(2)\n",
      "memory usage: 4.2+ MB\n"
     ]
    }
   ],
   "source": [
    "real_estate_df.info() "
   ]
  },
  {
   "cell_type": "markdown",
   "metadata": {},
   "source": [
    "К сожалению типы не удастся поменять у следующих столбцов из-за того, что в них есть пропуски в данных: \n",
    "* nearest_airport_distance_m\n",
    "* nearest_city_center_distance_m\n",
    "* nearest_park_distance_m\n",
    "* nearest_pond_distance_m"
   ]
  },
  {
   "cell_type": "markdown",
   "metadata": {},
   "source": [
    "<div class=\"alert alert-success\">\n",
    "<h2> Комментарий ревьюера </h2>\n",
    "\n",
    "Пропуски обработаны там, где это возможно. Данные подготовлены к дальнейшему анализу. Типы данных также изменены у необходимых параметров. \n",
    "\n",
    "</div>"
   ]
  },
  {
   "cell_type": "markdown",
   "metadata": {},
   "source": [
    "<a name=\"add_columns\"></a>\n",
    "## Шаг 3. Добавление значений в таблицу"
   ]
  },
  {
   "cell_type": "markdown",
   "metadata": {},
   "source": [
    "<a name=\"add_columns.price_per_m2\"></a>\n",
    "### Цена квадратного метра"
   ]
  },
  {
   "cell_type": "markdown",
   "metadata": {},
   "source": [
    "Для того, чтобы вычислить стоимость квадратного метра досточно поделить стоимость квартиры на ее площадь."
   ]
  },
  {
   "cell_type": "code",
   "execution_count": 61,
   "metadata": {},
   "outputs": [
    {
     "data": {
      "text/html": [
       "<div>\n",
       "<style scoped>\n",
       "    .dataframe tbody tr th:only-of-type {\n",
       "        vertical-align: middle;\n",
       "    }\n",
       "\n",
       "    .dataframe tbody tr th {\n",
       "        vertical-align: top;\n",
       "    }\n",
       "\n",
       "    .dataframe thead th {\n",
       "        text-align: right;\n",
       "    }\n",
       "</style>\n",
       "<table border=\"1\" class=\"dataframe\">\n",
       "  <thead>\n",
       "    <tr style=\"text-align: right;\">\n",
       "      <th></th>\n",
       "      <th>images_count</th>\n",
       "      <th>last_price_rub</th>\n",
       "      <th>total_area_m2</th>\n",
       "      <th>creation_date</th>\n",
       "      <th>rooms_count</th>\n",
       "      <th>ceiling_height_m</th>\n",
       "      <th>floors_count</th>\n",
       "      <th>living_area_m2</th>\n",
       "      <th>floor</th>\n",
       "      <th>is_apartment</th>\n",
       "      <th>is_studio</th>\n",
       "      <th>is_open_plan</th>\n",
       "      <th>kitchen_area_m2</th>\n",
       "      <th>balcony_count</th>\n",
       "      <th>locality_name</th>\n",
       "      <th>nearest_airport_distance_m</th>\n",
       "      <th>nearest_city_center_distance_m</th>\n",
       "      <th>parks_around_3000m_count</th>\n",
       "      <th>nearest_park_distance_m</th>\n",
       "      <th>ponds_around_3000m_count</th>\n",
       "      <th>nearest_pond_distance_m</th>\n",
       "      <th>days_exposition</th>\n",
       "      <th>city_center_category</th>\n",
       "      <th>living_to_total_area_ratio</th>\n",
       "      <th>kitchen_to_total_area_ratio</th>\n",
       "      <th>price_per_m2</th>\n",
       "    </tr>\n",
       "  </thead>\n",
       "  <tbody>\n",
       "    <tr>\n",
       "      <td>0</td>\n",
       "      <td>20</td>\n",
       "      <td>13000000</td>\n",
       "      <td>108.0</td>\n",
       "      <td>2019-03-07</td>\n",
       "      <td>3</td>\n",
       "      <td>2.70</td>\n",
       "      <td>16</td>\n",
       "      <td>51.000000</td>\n",
       "      <td>8</td>\n",
       "      <td>False</td>\n",
       "      <td>False</td>\n",
       "      <td>False</td>\n",
       "      <td>25.000000</td>\n",
       "      <td>1</td>\n",
       "      <td>санкт-петербург</td>\n",
       "      <td>18863.0</td>\n",
       "      <td>16028.0</td>\n",
       "      <td>1</td>\n",
       "      <td>482.0</td>\n",
       "      <td>2</td>\n",
       "      <td>755.0</td>\n",
       "      <td>NaN</td>\n",
       "      <td>область</td>\n",
       "      <td>0.472222</td>\n",
       "      <td>0.231481</td>\n",
       "      <td>120370.370370</td>\n",
       "    </tr>\n",
       "    <tr>\n",
       "      <td>1</td>\n",
       "      <td>7</td>\n",
       "      <td>3350000</td>\n",
       "      <td>40.4</td>\n",
       "      <td>2018-12-04</td>\n",
       "      <td>1</td>\n",
       "      <td>2.60</td>\n",
       "      <td>11</td>\n",
       "      <td>18.600000</td>\n",
       "      <td>1</td>\n",
       "      <td>False</td>\n",
       "      <td>False</td>\n",
       "      <td>False</td>\n",
       "      <td>11.000000</td>\n",
       "      <td>2</td>\n",
       "      <td>поселок шушары</td>\n",
       "      <td>12817.0</td>\n",
       "      <td>18603.0</td>\n",
       "      <td>0</td>\n",
       "      <td>NaN</td>\n",
       "      <td>0</td>\n",
       "      <td>NaN</td>\n",
       "      <td>81.0</td>\n",
       "      <td>область</td>\n",
       "      <td>0.460396</td>\n",
       "      <td>0.272277</td>\n",
       "      <td>82920.792079</td>\n",
       "    </tr>\n",
       "    <tr>\n",
       "      <td>2</td>\n",
       "      <td>10</td>\n",
       "      <td>5196000</td>\n",
       "      <td>56.0</td>\n",
       "      <td>2015-08-20</td>\n",
       "      <td>2</td>\n",
       "      <td>2.60</td>\n",
       "      <td>5</td>\n",
       "      <td>34.300000</td>\n",
       "      <td>4</td>\n",
       "      <td>False</td>\n",
       "      <td>False</td>\n",
       "      <td>False</td>\n",
       "      <td>8.300000</td>\n",
       "      <td>0</td>\n",
       "      <td>санкт-петербург</td>\n",
       "      <td>21741.0</td>\n",
       "      <td>13933.0</td>\n",
       "      <td>1</td>\n",
       "      <td>90.0</td>\n",
       "      <td>2</td>\n",
       "      <td>574.0</td>\n",
       "      <td>558.0</td>\n",
       "      <td>город</td>\n",
       "      <td>0.612500</td>\n",
       "      <td>0.148214</td>\n",
       "      <td>92785.714286</td>\n",
       "    </tr>\n",
       "    <tr>\n",
       "      <td>3</td>\n",
       "      <td>0</td>\n",
       "      <td>64900000</td>\n",
       "      <td>159.0</td>\n",
       "      <td>2015-07-24</td>\n",
       "      <td>3</td>\n",
       "      <td>3.00</td>\n",
       "      <td>14</td>\n",
       "      <td>99.419454</td>\n",
       "      <td>9</td>\n",
       "      <td>False</td>\n",
       "      <td>False</td>\n",
       "      <td>False</td>\n",
       "      <td>22.406883</td>\n",
       "      <td>0</td>\n",
       "      <td>санкт-петербург</td>\n",
       "      <td>28098.0</td>\n",
       "      <td>6800.0</td>\n",
       "      <td>2</td>\n",
       "      <td>84.0</td>\n",
       "      <td>3</td>\n",
       "      <td>234.0</td>\n",
       "      <td>424.0</td>\n",
       "      <td>центр</td>\n",
       "      <td>0.625280</td>\n",
       "      <td>0.140924</td>\n",
       "      <td>408176.100629</td>\n",
       "    </tr>\n",
       "    <tr>\n",
       "      <td>4</td>\n",
       "      <td>2</td>\n",
       "      <td>10000000</td>\n",
       "      <td>100.0</td>\n",
       "      <td>2018-06-19</td>\n",
       "      <td>2</td>\n",
       "      <td>3.03</td>\n",
       "      <td>14</td>\n",
       "      <td>32.000000</td>\n",
       "      <td>13</td>\n",
       "      <td>False</td>\n",
       "      <td>False</td>\n",
       "      <td>False</td>\n",
       "      <td>41.000000</td>\n",
       "      <td>1</td>\n",
       "      <td>санкт-петербург</td>\n",
       "      <td>31856.0</td>\n",
       "      <td>8098.0</td>\n",
       "      <td>2</td>\n",
       "      <td>112.0</td>\n",
       "      <td>1</td>\n",
       "      <td>48.0</td>\n",
       "      <td>121.0</td>\n",
       "      <td>город</td>\n",
       "      <td>0.320000</td>\n",
       "      <td>0.410000</td>\n",
       "      <td>100000.000000</td>\n",
       "    </tr>\n",
       "  </tbody>\n",
       "</table>\n",
       "</div>"
      ],
      "text/plain": [
       "   images_count  last_price_rub  total_area_m2 creation_date  rooms_count  \\\n",
       "0            20        13000000          108.0    2019-03-07            3   \n",
       "1             7         3350000           40.4    2018-12-04            1   \n",
       "2            10         5196000           56.0    2015-08-20            2   \n",
       "3             0        64900000          159.0    2015-07-24            3   \n",
       "4             2        10000000          100.0    2018-06-19            2   \n",
       "\n",
       "   ceiling_height_m  floors_count  living_area_m2  floor  is_apartment  \\\n",
       "0              2.70            16       51.000000      8         False   \n",
       "1              2.60            11       18.600000      1         False   \n",
       "2              2.60             5       34.300000      4         False   \n",
       "3              3.00            14       99.419454      9         False   \n",
       "4              3.03            14       32.000000     13         False   \n",
       "\n",
       "   is_studio  is_open_plan  kitchen_area_m2  balcony_count    locality_name  \\\n",
       "0      False         False        25.000000              1  санкт-петербург   \n",
       "1      False         False        11.000000              2   поселок шушары   \n",
       "2      False         False         8.300000              0  санкт-петербург   \n",
       "3      False         False        22.406883              0  санкт-петербург   \n",
       "4      False         False        41.000000              1  санкт-петербург   \n",
       "\n",
       "   nearest_airport_distance_m  nearest_city_center_distance_m  \\\n",
       "0                     18863.0                         16028.0   \n",
       "1                     12817.0                         18603.0   \n",
       "2                     21741.0                         13933.0   \n",
       "3                     28098.0                          6800.0   \n",
       "4                     31856.0                          8098.0   \n",
       "\n",
       "   parks_around_3000m_count  nearest_park_distance_m  \\\n",
       "0                         1                    482.0   \n",
       "1                         0                      NaN   \n",
       "2                         1                     90.0   \n",
       "3                         2                     84.0   \n",
       "4                         2                    112.0   \n",
       "\n",
       "   ponds_around_3000m_count  nearest_pond_distance_m  days_exposition  \\\n",
       "0                         2                    755.0              NaN   \n",
       "1                         0                      NaN             81.0   \n",
       "2                         2                    574.0            558.0   \n",
       "3                         3                    234.0            424.0   \n",
       "4                         1                     48.0            121.0   \n",
       "\n",
       "  city_center_category  living_to_total_area_ratio  \\\n",
       "0              область                    0.472222   \n",
       "1              область                    0.460396   \n",
       "2                город                    0.612500   \n",
       "3                центр                    0.625280   \n",
       "4                город                    0.320000   \n",
       "\n",
       "   kitchen_to_total_area_ratio   price_per_m2  \n",
       "0                     0.231481  120370.370370  \n",
       "1                     0.272277   82920.792079  \n",
       "2                     0.148214   92785.714286  \n",
       "3                     0.140924  408176.100629  \n",
       "4                     0.410000  100000.000000  "
      ]
     },
     "execution_count": 61,
     "metadata": {},
     "output_type": "execute_result"
    }
   ],
   "source": [
    "real_estate_df['price_per_m2'] = real_estate_df['last_price_rub'] / real_estate_df['total_area_m2']\n",
    "real_estate_df.head(5)"
   ]
  },
  {
   "cell_type": "markdown",
   "metadata": {},
   "source": [
    "<a name=\"add_columns.date\"></a>\n",
    "### День недели, месяц и год публикации"
   ]
  },
  {
   "cell_type": "markdown",
   "metadata": {},
   "source": [
    "Создадим 3 новых столбца со значениями дня недели, месяца и года публикации, полученных из `creation_date`"
   ]
  },
  {
   "cell_type": "code",
   "execution_count": 62,
   "metadata": {},
   "outputs": [
    {
     "data": {
      "text/html": [
       "<div>\n",
       "<style scoped>\n",
       "    .dataframe tbody tr th:only-of-type {\n",
       "        vertical-align: middle;\n",
       "    }\n",
       "\n",
       "    .dataframe tbody tr th {\n",
       "        vertical-align: top;\n",
       "    }\n",
       "\n",
       "    .dataframe thead th {\n",
       "        text-align: right;\n",
       "    }\n",
       "</style>\n",
       "<table border=\"1\" class=\"dataframe\">\n",
       "  <thead>\n",
       "    <tr style=\"text-align: right;\">\n",
       "      <th></th>\n",
       "      <th>images_count</th>\n",
       "      <th>last_price_rub</th>\n",
       "      <th>total_area_m2</th>\n",
       "      <th>creation_date</th>\n",
       "      <th>rooms_count</th>\n",
       "      <th>ceiling_height_m</th>\n",
       "      <th>floors_count</th>\n",
       "      <th>living_area_m2</th>\n",
       "      <th>floor</th>\n",
       "      <th>is_apartment</th>\n",
       "      <th>is_studio</th>\n",
       "      <th>is_open_plan</th>\n",
       "      <th>kitchen_area_m2</th>\n",
       "      <th>balcony_count</th>\n",
       "      <th>locality_name</th>\n",
       "      <th>nearest_airport_distance_m</th>\n",
       "      <th>nearest_city_center_distance_m</th>\n",
       "      <th>parks_around_3000m_count</th>\n",
       "      <th>nearest_park_distance_m</th>\n",
       "      <th>ponds_around_3000m_count</th>\n",
       "      <th>nearest_pond_distance_m</th>\n",
       "      <th>days_exposition</th>\n",
       "      <th>city_center_category</th>\n",
       "      <th>living_to_total_area_ratio</th>\n",
       "      <th>kitchen_to_total_area_ratio</th>\n",
       "      <th>price_per_m2</th>\n",
       "      <th>creation_date_day</th>\n",
       "      <th>creation_date_month</th>\n",
       "      <th>creation_date_year</th>\n",
       "    </tr>\n",
       "  </thead>\n",
       "  <tbody>\n",
       "    <tr>\n",
       "      <td>0</td>\n",
       "      <td>20</td>\n",
       "      <td>13000000</td>\n",
       "      <td>108.0</td>\n",
       "      <td>2019-03-07</td>\n",
       "      <td>3</td>\n",
       "      <td>2.70</td>\n",
       "      <td>16</td>\n",
       "      <td>51.000000</td>\n",
       "      <td>8</td>\n",
       "      <td>False</td>\n",
       "      <td>False</td>\n",
       "      <td>False</td>\n",
       "      <td>25.000000</td>\n",
       "      <td>1</td>\n",
       "      <td>санкт-петербург</td>\n",
       "      <td>18863.0</td>\n",
       "      <td>16028.0</td>\n",
       "      <td>1</td>\n",
       "      <td>482.0</td>\n",
       "      <td>2</td>\n",
       "      <td>755.0</td>\n",
       "      <td>NaN</td>\n",
       "      <td>область</td>\n",
       "      <td>0.472222</td>\n",
       "      <td>0.231481</td>\n",
       "      <td>120370.370370</td>\n",
       "      <td>3</td>\n",
       "      <td>3</td>\n",
       "      <td>2019</td>\n",
       "    </tr>\n",
       "    <tr>\n",
       "      <td>1</td>\n",
       "      <td>7</td>\n",
       "      <td>3350000</td>\n",
       "      <td>40.4</td>\n",
       "      <td>2018-12-04</td>\n",
       "      <td>1</td>\n",
       "      <td>2.60</td>\n",
       "      <td>11</td>\n",
       "      <td>18.600000</td>\n",
       "      <td>1</td>\n",
       "      <td>False</td>\n",
       "      <td>False</td>\n",
       "      <td>False</td>\n",
       "      <td>11.000000</td>\n",
       "      <td>2</td>\n",
       "      <td>поселок шушары</td>\n",
       "      <td>12817.0</td>\n",
       "      <td>18603.0</td>\n",
       "      <td>0</td>\n",
       "      <td>NaN</td>\n",
       "      <td>0</td>\n",
       "      <td>NaN</td>\n",
       "      <td>81.0</td>\n",
       "      <td>область</td>\n",
       "      <td>0.460396</td>\n",
       "      <td>0.272277</td>\n",
       "      <td>82920.792079</td>\n",
       "      <td>1</td>\n",
       "      <td>12</td>\n",
       "      <td>2018</td>\n",
       "    </tr>\n",
       "    <tr>\n",
       "      <td>2</td>\n",
       "      <td>10</td>\n",
       "      <td>5196000</td>\n",
       "      <td>56.0</td>\n",
       "      <td>2015-08-20</td>\n",
       "      <td>2</td>\n",
       "      <td>2.60</td>\n",
       "      <td>5</td>\n",
       "      <td>34.300000</td>\n",
       "      <td>4</td>\n",
       "      <td>False</td>\n",
       "      <td>False</td>\n",
       "      <td>False</td>\n",
       "      <td>8.300000</td>\n",
       "      <td>0</td>\n",
       "      <td>санкт-петербург</td>\n",
       "      <td>21741.0</td>\n",
       "      <td>13933.0</td>\n",
       "      <td>1</td>\n",
       "      <td>90.0</td>\n",
       "      <td>2</td>\n",
       "      <td>574.0</td>\n",
       "      <td>558.0</td>\n",
       "      <td>город</td>\n",
       "      <td>0.612500</td>\n",
       "      <td>0.148214</td>\n",
       "      <td>92785.714286</td>\n",
       "      <td>3</td>\n",
       "      <td>8</td>\n",
       "      <td>2015</td>\n",
       "    </tr>\n",
       "    <tr>\n",
       "      <td>3</td>\n",
       "      <td>0</td>\n",
       "      <td>64900000</td>\n",
       "      <td>159.0</td>\n",
       "      <td>2015-07-24</td>\n",
       "      <td>3</td>\n",
       "      <td>3.00</td>\n",
       "      <td>14</td>\n",
       "      <td>99.419454</td>\n",
       "      <td>9</td>\n",
       "      <td>False</td>\n",
       "      <td>False</td>\n",
       "      <td>False</td>\n",
       "      <td>22.406883</td>\n",
       "      <td>0</td>\n",
       "      <td>санкт-петербург</td>\n",
       "      <td>28098.0</td>\n",
       "      <td>6800.0</td>\n",
       "      <td>2</td>\n",
       "      <td>84.0</td>\n",
       "      <td>3</td>\n",
       "      <td>234.0</td>\n",
       "      <td>424.0</td>\n",
       "      <td>центр</td>\n",
       "      <td>0.625280</td>\n",
       "      <td>0.140924</td>\n",
       "      <td>408176.100629</td>\n",
       "      <td>4</td>\n",
       "      <td>7</td>\n",
       "      <td>2015</td>\n",
       "    </tr>\n",
       "    <tr>\n",
       "      <td>4</td>\n",
       "      <td>2</td>\n",
       "      <td>10000000</td>\n",
       "      <td>100.0</td>\n",
       "      <td>2018-06-19</td>\n",
       "      <td>2</td>\n",
       "      <td>3.03</td>\n",
       "      <td>14</td>\n",
       "      <td>32.000000</td>\n",
       "      <td>13</td>\n",
       "      <td>False</td>\n",
       "      <td>False</td>\n",
       "      <td>False</td>\n",
       "      <td>41.000000</td>\n",
       "      <td>1</td>\n",
       "      <td>санкт-петербург</td>\n",
       "      <td>31856.0</td>\n",
       "      <td>8098.0</td>\n",
       "      <td>2</td>\n",
       "      <td>112.0</td>\n",
       "      <td>1</td>\n",
       "      <td>48.0</td>\n",
       "      <td>121.0</td>\n",
       "      <td>город</td>\n",
       "      <td>0.320000</td>\n",
       "      <td>0.410000</td>\n",
       "      <td>100000.000000</td>\n",
       "      <td>1</td>\n",
       "      <td>6</td>\n",
       "      <td>2018</td>\n",
       "    </tr>\n",
       "  </tbody>\n",
       "</table>\n",
       "</div>"
      ],
      "text/plain": [
       "   images_count  last_price_rub  total_area_m2 creation_date  rooms_count  \\\n",
       "0            20        13000000          108.0    2019-03-07            3   \n",
       "1             7         3350000           40.4    2018-12-04            1   \n",
       "2            10         5196000           56.0    2015-08-20            2   \n",
       "3             0        64900000          159.0    2015-07-24            3   \n",
       "4             2        10000000          100.0    2018-06-19            2   \n",
       "\n",
       "   ceiling_height_m  floors_count  living_area_m2  floor  is_apartment  \\\n",
       "0              2.70            16       51.000000      8         False   \n",
       "1              2.60            11       18.600000      1         False   \n",
       "2              2.60             5       34.300000      4         False   \n",
       "3              3.00            14       99.419454      9         False   \n",
       "4              3.03            14       32.000000     13         False   \n",
       "\n",
       "   is_studio  is_open_plan  kitchen_area_m2  balcony_count    locality_name  \\\n",
       "0      False         False        25.000000              1  санкт-петербург   \n",
       "1      False         False        11.000000              2   поселок шушары   \n",
       "2      False         False         8.300000              0  санкт-петербург   \n",
       "3      False         False        22.406883              0  санкт-петербург   \n",
       "4      False         False        41.000000              1  санкт-петербург   \n",
       "\n",
       "   nearest_airport_distance_m  nearest_city_center_distance_m  \\\n",
       "0                     18863.0                         16028.0   \n",
       "1                     12817.0                         18603.0   \n",
       "2                     21741.0                         13933.0   \n",
       "3                     28098.0                          6800.0   \n",
       "4                     31856.0                          8098.0   \n",
       "\n",
       "   parks_around_3000m_count  nearest_park_distance_m  \\\n",
       "0                         1                    482.0   \n",
       "1                         0                      NaN   \n",
       "2                         1                     90.0   \n",
       "3                         2                     84.0   \n",
       "4                         2                    112.0   \n",
       "\n",
       "   ponds_around_3000m_count  nearest_pond_distance_m  days_exposition  \\\n",
       "0                         2                    755.0              NaN   \n",
       "1                         0                      NaN             81.0   \n",
       "2                         2                    574.0            558.0   \n",
       "3                         3                    234.0            424.0   \n",
       "4                         1                     48.0            121.0   \n",
       "\n",
       "  city_center_category  living_to_total_area_ratio  \\\n",
       "0              область                    0.472222   \n",
       "1              область                    0.460396   \n",
       "2                город                    0.612500   \n",
       "3                центр                    0.625280   \n",
       "4                город                    0.320000   \n",
       "\n",
       "   kitchen_to_total_area_ratio   price_per_m2  creation_date_day  \\\n",
       "0                     0.231481  120370.370370                  3   \n",
       "1                     0.272277   82920.792079                  1   \n",
       "2                     0.148214   92785.714286                  3   \n",
       "3                     0.140924  408176.100629                  4   \n",
       "4                     0.410000  100000.000000                  1   \n",
       "\n",
       "   creation_date_month  creation_date_year  \n",
       "0                    3                2019  \n",
       "1                   12                2018  \n",
       "2                    8                2015  \n",
       "3                    7                2015  \n",
       "4                    6                2018  "
      ]
     },
     "execution_count": 62,
     "metadata": {},
     "output_type": "execute_result"
    }
   ],
   "source": [
    "real_estate_df['creation_date_day'] = real_estate_df['creation_date'].dt.dayofweek\n",
    "real_estate_df['creation_date_month'] = real_estate_df['creation_date'].dt.month\n",
    "real_estate_df['creation_date_year'] = real_estate_df['creation_date'].dt.year\n",
    "real_estate_df.head(5)"
   ]
  },
  {
   "cell_type": "markdown",
   "metadata": {},
   "source": [
    "<a name=\"add_columns.floors\"></a>\n",
    "### Этаж квартиры: первый, последний, другой"
   ]
  },
  {
   "cell_type": "markdown",
   "metadata": {},
   "source": [
    "Напишем и применим функцию для того, чтобы категоризовать квартиры по тому, на каком этаже они находятся.\n",
    "Результат запишем в столбец `floor_category`"
   ]
  },
  {
   "cell_type": "code",
   "execution_count": 63,
   "metadata": {},
   "outputs": [],
   "source": [
    "def floor_category(row):\n",
    "    if row['floor'] == 1:\n",
    "        return 'первый'\n",
    "    elif row['floor'] < row['floors_count']:\n",
    "        return 'другой'\n",
    "    else: \n",
    "        return 'последний'\n",
    "\n",
    "real_estate_df['floor_category'] = real_estate_df.apply(floor_category, axis=1)"
   ]
  },
  {
   "cell_type": "markdown",
   "metadata": {},
   "source": [
    "<div class=\"alert alert-info\">\n",
    "\n",
    "Для того, чтобы в будущем вычислять корреляции переведем строки в категоральные данные.\n",
    "Коды для категоральных данных:\n",
    "* 0 - первый\n",
    "* 1 - другой\n",
    "* 2 - последний\n",
    "\n",
    "</div>"
   ]
  },
  {
   "cell_type": "code",
   "execution_count": 64,
   "metadata": {},
   "outputs": [],
   "source": [
    "from pandas.api.types import CategoricalDtype\n",
    "\n",
    "category_type = CategoricalDtype(categories=[\"первый\", \"другой\", \"последний\"], ordered=True)\n",
    "\n",
    "real_estate_df['floor_category']  = real_estate_df['floor_category'].astype(category_type).cat.codes"
   ]
  },
  {
   "cell_type": "markdown",
   "metadata": {},
   "source": [
    "<div class=\"alert alert-success\">\n",
    "<h2> Комментарий ревьюера 2</h2>\n",
    "\n",
    "Можно использовать просто astype('category'). И уже потом cat.codes. Результат будет идентичным. \n",
    "\n",
    "</div>"
   ]
  },
  {
   "cell_type": "markdown",
   "metadata": {},
   "source": [
    "Проверим, что категории работают верно "
   ]
  },
  {
   "cell_type": "code",
   "execution_count": 65,
   "metadata": {},
   "outputs": [
    {
     "data": {
      "text/plain": [
       "1    0\n",
       "Name: floor_category, dtype: int8"
      ]
     },
     "metadata": {},
     "output_type": "display_data"
    },
    {
     "data": {
      "text/plain": [
       "0    1\n",
       "Name: floor_category, dtype: int8"
      ]
     },
     "metadata": {},
     "output_type": "display_data"
    },
    {
     "data": {
      "text/plain": [
       "12    2\n",
       "Name: floor_category, dtype: int8"
      ]
     },
     "metadata": {},
     "output_type": "display_data"
    }
   ],
   "source": [
    "display(\n",
    "    real_estate_df.query('floor == 1').head(1)['floor_category'], \n",
    "    real_estate_df.query('1 < floor < floors_count').head(1)['floor_category'], \n",
    "    real_estate_df.query('floor == floors_count').head(1)['floor_category'],\n",
    ")"
   ]
  },
  {
   "cell_type": "markdown",
   "metadata": {},
   "source": [
    "<a name=\"add_columns.living_to_total_area_ratio\"></a>\n",
    "### Отношение жилой площади к общей "
   ]
  },
  {
   "cell_type": "markdown",
   "metadata": {},
   "source": [
    "Мы уже [вычислили](#data_preprocessing.missing.living_area_m2) это значение, оно находится в столбце `living_to_total_area_ratio`"
   ]
  },
  {
   "cell_type": "markdown",
   "metadata": {},
   "source": [
    "<a name=\"add_columns.kitchen_to_total_area_ratio\"></a>\n",
    "### Отношение площади кухни к общей"
   ]
  },
  {
   "cell_type": "markdown",
   "metadata": {},
   "source": [
    "Это значение мы тоже [вычислили](#data_preprocessing.missing.kitchen_area_m2) заранее, оно находится в столбце `kitchen_to_total_area_ratio`"
   ]
  },
  {
   "cell_type": "markdown",
   "metadata": {},
   "source": [
    "<div class=\"alert alert-success\">\n",
    "<h2> Комментарий ревьюера </h2>\n",
    "\n",
    "Добавление необходимых для дальнейшего исследования параметров произведено. Спасибо за ссылки и за такой подход к оформлению проекта. \n",
    "\n",
    "</div>"
   ]
  },
  {
   "cell_type": "markdown",
   "metadata": {},
   "source": [
    "<a name=\"exploratory_data_analysis\"></a>\n",
    "## Шаг 4. Исследовательский анализ данных"
   ]
  },
  {
   "cell_type": "markdown",
   "metadata": {},
   "source": [
    "<a name=\"exploratory_data_analysis.base_stats\"></a>\n",
    "### Анализ параметров: площадь, цена, число комнат, высота потолков"
   ]
  },
  {
   "cell_type": "markdown",
   "metadata": {},
   "source": [
    "Определим класс, который посчитает границы нормальных значений (т.е Q1 - 1.5 * IQR и Q3 + 1.5 * IQR) и затем сможет рисовать hist графики по ним. Также добавим в него методы для вывода общей статистики и рисования boxplot."
   ]
  },
  {
   "cell_type": "code",
   "execution_count": 66,
   "metadata": {},
   "outputs": [],
   "source": [
    "class NormalRangeAnalyzer(object):\n",
    "    MIN_VIEW_BOXPLOT_MUL = 0.8\n",
    "    MAX_VIEW_BOXPLOT_MUL = 1.2\n",
    "    \n",
    "    def __init__(self, series, column_name):\n",
    "        self._series = series\n",
    "        self._column_name = column_name\n",
    "        self._normal_range_min, self._normal_range_max = self._compute_normal_range()\n",
    "    \n",
    "    def _compute_normal_range(self):\n",
    "        min_, q1, q3, max_ = self._series.quantile([0, 0.25, 0.75, 1])\n",
    "        iqr = q3 - q1\n",
    "        return max(min_, q1 - 1.5 * iqr), min(max_, q3 + 1.5 * iqr)\n",
    "    \n",
    "    def describe(self):\n",
    "        display(self._series.describe())\n",
    "        print('Границы нормальных значений для столбца {}: ({:.2f}, {:.2f})'.format(\n",
    "            self._column_name, \n",
    "            self._normal_range_min,\n",
    "            self._normal_range_max,\n",
    "        ))\n",
    "    \n",
    "    def boxplot(self, range_min=None, range_max=None):\n",
    "        if range_min is None:\n",
    "            range_min = self._normal_range_min * self.MIN_VIEW_BOXPLOT_MUL\n",
    "        if range_max is None:   \n",
    "            range_max = self._normal_range_max * self.MAX_VIEW_BOXPLOT_MUL\n",
    "        \n",
    "        self._series.plot(\n",
    "            kind='box',\n",
    "            grid=True,\n",
    "            ylim=(range_min, range_max),\n",
    "        )\n",
    "        plt.show()\n",
    "    \n",
    "    def hist(self, normal=False, bins=100, range_min=None, range_max=None):\n",
    "        if range_min is None:\n",
    "            range_min = self._normal_range_min\n",
    "        if range_max is None:   \n",
    "            range_max = self._normal_range_max\n",
    "        \n",
    "        if normal:\n",
    "            self._series.plot(\n",
    "                kind='hist', \n",
    "                bins=bins, \n",
    "                range=(range_min, range_max), \n",
    "                title=self._column_name,\n",
    "                grid=True,\n",
    "            )\n",
    "        else:\n",
    "            self._series.plot(\n",
    "                kind='hist', \n",
    "                bins=bins, \n",
    "                title=self._column_name,\n",
    "                grid=True,\n",
    "            )\n",
    "        plt.show()\n"
   ]
  },
  {
   "cell_type": "markdown",
   "metadata": {},
   "source": [
    "<a name=\"exploratory_data_analysis.base_stats.total_area_m2\"></a>\n",
    "#### Площадь"
   ]
  },
  {
   "cell_type": "markdown",
   "metadata": {},
   "source": [
    "Выведем описание значений в столбце `total_area_m2`  "
   ]
  },
  {
   "cell_type": "code",
   "execution_count": 67,
   "metadata": {
    "scrolled": true
   },
   "outputs": [
    {
     "data": {
      "text/plain": [
       "count    23650.000000\n",
       "mean        60.329069\n",
       "std         35.661808\n",
       "min         12.000000\n",
       "25%         40.000000\n",
       "50%         52.000000\n",
       "75%         69.700000\n",
       "max        900.000000\n",
       "Name: total_area_m2, dtype: float64"
      ]
     },
     "metadata": {},
     "output_type": "display_data"
    },
    {
     "name": "stdout",
     "output_type": "stream",
     "text": [
      "Границы нормальных значений для столбца total_area_m2: (12.00, 114.25)\n"
     ]
    }
   ],
   "source": [
    "total_area_m2_analyzer = NormalRangeAnalyzer(real_estate_df['total_area_m2'], 'total_area_m2')\n",
    "total_area_m2_analyzer.describe() "
   ]
  },
  {
   "cell_type": "markdown",
   "metadata": {},
   "source": [
    "Теперь посмотрим на диаграмму размаха"
   ]
  },
  {
   "cell_type": "code",
   "execution_count": 68,
   "metadata": {
    "scrolled": true
   },
   "outputs": [
    {
     "data": {
      "image/png": "[encoded data removed]",
      "text/plain": [
       "<Figure size 432x288 with 1 Axes>"
      ]
     },
     "metadata": {
      "needs_background": "light"
     },
     "output_type": "display_data"
    }
   ],
   "source": [
    "total_area_m2_analyzer.boxplot() "
   ]
  },
  {
   "cell_type": "markdown",
   "metadata": {},
   "source": [
    "Грязные данные"
   ]
  },
  {
   "cell_type": "code",
   "execution_count": 69,
   "metadata": {},
   "outputs": [
    {
     "data": {
      "image/png": "[encoded data removed]",
      "text/plain": [
       "<Figure size 432x288 with 1 Axes>"
      ]
     },
     "metadata": {
      "needs_background": "light"
     },
     "output_type": "display_data"
    }
   ],
   "source": [
    "total_area_m2_analyzer.hist() "
   ]
  },
  {
   "cell_type": "markdown",
   "metadata": {},
   "source": [
    "Данные без выбросов"
   ]
  },
  {
   "cell_type": "code",
   "execution_count": 70,
   "metadata": {},
   "outputs": [
    {
     "data": {
      "image/png": "[encoded data removed]",
      "text/plain": [
       "<Figure size 432x288 with 1 Axes>"
      ]
     },
     "metadata": {
      "needs_background": "light"
     },
     "output_type": "display_data"
    }
   ],
   "source": [
    "total_area_m2_analyzer.hist(normal=True) "
   ]
  },
  {
   "cell_type": "markdown",
   "metadata": {},
   "source": [
    "**Выводы:**\n",
    "* min площадь квартиры - 12m<sup>2</sup>, max - 900m<sup>2</sup>\n",
    "* границы нормальных значений - от 12  до 115 m<sup>2</sup>\n",
    "* средние значения - от 40 до 70 m<sup>2</sup>\n",
    "* пуассоновское распределение значений"
   ]
  },
  {
   "cell_type": "markdown",
   "metadata": {},
   "source": [
    "<a name=\"exploratory_data_analysis.base_stats.last_price_rub \"></a>\n",
    "#### Цена "
   ]
  },
  {
   "cell_type": "markdown",
   "metadata": {},
   "source": [
    "Выведем описание значений в столбце `last_price_rub`  "
   ]
  },
  {
   "cell_type": "code",
   "execution_count": 71,
   "metadata": {},
   "outputs": [
    {
     "data": {
      "text/plain": [
       "count    2.365000e+04\n",
       "mean     6.541127e+06\n",
       "std      1.089640e+07\n",
       "min      1.219000e+04\n",
       "25%      3.400000e+06\n",
       "50%      4.650000e+06\n",
       "75%      6.799000e+06\n",
       "max      7.630000e+08\n",
       "Name: last_price_rub, dtype: float64"
      ]
     },
     "metadata": {},
     "output_type": "display_data"
    },
    {
     "name": "stdout",
     "output_type": "stream",
     "text": [
      "Границы нормальных значений для столбца last_price_rub: (12190.00, 11897500.00)\n"
     ]
    }
   ],
   "source": [
    "last_price_rub_analyzer = NormalRangeAnalyzer(real_estate_df['last_price_rub'], 'last_price_rub')\n",
    "last_price_rub_analyzer.describe() "
   ]
  },
  {
   "cell_type": "markdown",
   "metadata": {},
   "source": [
    "12 т.р за квартиру выглядит, как ошибка. Найдем минимальную границу "
   ]
  },
  {
   "cell_type": "code",
   "execution_count": 72,
   "metadata": {},
   "outputs": [
    {
     "data": {
      "text/html": [
       "<div>\n",
       "<style scoped>\n",
       "    .dataframe tbody tr th:only-of-type {\n",
       "        vertical-align: middle;\n",
       "    }\n",
       "\n",
       "    .dataframe tbody tr th {\n",
       "        vertical-align: top;\n",
       "    }\n",
       "\n",
       "    .dataframe thead th {\n",
       "        text-align: right;\n",
       "    }\n",
       "</style>\n",
       "<table border=\"1\" class=\"dataframe\">\n",
       "  <thead>\n",
       "    <tr style=\"text-align: right;\">\n",
       "      <th></th>\n",
       "      <th>images_count</th>\n",
       "      <th>last_price_rub</th>\n",
       "      <th>total_area_m2</th>\n",
       "      <th>creation_date</th>\n",
       "      <th>rooms_count</th>\n",
       "      <th>ceiling_height_m</th>\n",
       "      <th>floors_count</th>\n",
       "      <th>living_area_m2</th>\n",
       "      <th>floor</th>\n",
       "      <th>is_apartment</th>\n",
       "      <th>is_studio</th>\n",
       "      <th>is_open_plan</th>\n",
       "      <th>kitchen_area_m2</th>\n",
       "      <th>balcony_count</th>\n",
       "      <th>locality_name</th>\n",
       "      <th>nearest_airport_distance_m</th>\n",
       "      <th>nearest_city_center_distance_m</th>\n",
       "      <th>parks_around_3000m_count</th>\n",
       "      <th>nearest_park_distance_m</th>\n",
       "      <th>ponds_around_3000m_count</th>\n",
       "      <th>nearest_pond_distance_m</th>\n",
       "      <th>days_exposition</th>\n",
       "      <th>city_center_category</th>\n",
       "      <th>living_to_total_area_ratio</th>\n",
       "      <th>kitchen_to_total_area_ratio</th>\n",
       "      <th>price_per_m2</th>\n",
       "      <th>creation_date_day</th>\n",
       "      <th>creation_date_month</th>\n",
       "      <th>creation_date_year</th>\n",
       "      <th>floor_category</th>\n",
       "    </tr>\n",
       "  </thead>\n",
       "  <tbody>\n",
       "    <tr>\n",
       "      <td>8793</td>\n",
       "      <td>7</td>\n",
       "      <td>12190</td>\n",
       "      <td>109.0</td>\n",
       "      <td>2019-03-20</td>\n",
       "      <td>2</td>\n",
       "      <td>2.75</td>\n",
       "      <td>25</td>\n",
       "      <td>32.000000</td>\n",
       "      <td>25</td>\n",
       "      <td>False</td>\n",
       "      <td>False</td>\n",
       "      <td>False</td>\n",
       "      <td>40.500000</td>\n",
       "      <td>1</td>\n",
       "      <td>санкт-петербург</td>\n",
       "      <td>36421.0</td>\n",
       "      <td>9176.0</td>\n",
       "      <td>1</td>\n",
       "      <td>805.0</td>\n",
       "      <td>0</td>\n",
       "      <td>NaN</td>\n",
       "      <td>8.0</td>\n",
       "      <td>город</td>\n",
       "      <td>0.293578</td>\n",
       "      <td>0.371560</td>\n",
       "      <td>111.834862</td>\n",
       "      <td>2</td>\n",
       "      <td>3</td>\n",
       "      <td>2019</td>\n",
       "      <td>2</td>\n",
       "    </tr>\n",
       "    <tr>\n",
       "      <td>17456</td>\n",
       "      <td>7</td>\n",
       "      <td>430000</td>\n",
       "      <td>30.4</td>\n",
       "      <td>2019-04-22</td>\n",
       "      <td>1</td>\n",
       "      <td>2.60</td>\n",
       "      <td>2</td>\n",
       "      <td>16.000000</td>\n",
       "      <td>1</td>\n",
       "      <td>False</td>\n",
       "      <td>False</td>\n",
       "      <td>False</td>\n",
       "      <td>6.000000</td>\n",
       "      <td>1</td>\n",
       "      <td>сланцы</td>\n",
       "      <td>NaN</td>\n",
       "      <td>NaN</td>\n",
       "      <td>0</td>\n",
       "      <td>NaN</td>\n",
       "      <td>0</td>\n",
       "      <td>NaN</td>\n",
       "      <td>NaN</td>\n",
       "      <td>область</td>\n",
       "      <td>0.526316</td>\n",
       "      <td>0.197368</td>\n",
       "      <td>14144.736842</td>\n",
       "      <td>0</td>\n",
       "      <td>4</td>\n",
       "      <td>2019</td>\n",
       "      <td>0</td>\n",
       "    </tr>\n",
       "    <tr>\n",
       "      <td>14911</td>\n",
       "      <td>5</td>\n",
       "      <td>430000</td>\n",
       "      <td>54.0</td>\n",
       "      <td>2018-06-26</td>\n",
       "      <td>2</td>\n",
       "      <td>2.60</td>\n",
       "      <td>3</td>\n",
       "      <td>31.285327</td>\n",
       "      <td>3</td>\n",
       "      <td>False</td>\n",
       "      <td>False</td>\n",
       "      <td>False</td>\n",
       "      <td>9.403466</td>\n",
       "      <td>1</td>\n",
       "      <td>поселок станции свирь</td>\n",
       "      <td>NaN</td>\n",
       "      <td>NaN</td>\n",
       "      <td>0</td>\n",
       "      <td>NaN</td>\n",
       "      <td>0</td>\n",
       "      <td>NaN</td>\n",
       "      <td>44.0</td>\n",
       "      <td>область</td>\n",
       "      <td>0.579358</td>\n",
       "      <td>0.174138</td>\n",
       "      <td>7962.962963</td>\n",
       "      <td>1</td>\n",
       "      <td>6</td>\n",
       "      <td>2018</td>\n",
       "      <td>2</td>\n",
       "    </tr>\n",
       "    <tr>\n",
       "      <td>16274</td>\n",
       "      <td>18</td>\n",
       "      <td>440000</td>\n",
       "      <td>40.0</td>\n",
       "      <td>2018-07-10</td>\n",
       "      <td>1</td>\n",
       "      <td>2.60</td>\n",
       "      <td>5</td>\n",
       "      <td>19.438477</td>\n",
       "      <td>1</td>\n",
       "      <td>False</td>\n",
       "      <td>False</td>\n",
       "      <td>False</td>\n",
       "      <td>9.995957</td>\n",
       "      <td>1</td>\n",
       "      <td>деревня старополье</td>\n",
       "      <td>NaN</td>\n",
       "      <td>NaN</td>\n",
       "      <td>0</td>\n",
       "      <td>NaN</td>\n",
       "      <td>0</td>\n",
       "      <td>NaN</td>\n",
       "      <td>45.0</td>\n",
       "      <td>область</td>\n",
       "      <td>0.485962</td>\n",
       "      <td>0.249899</td>\n",
       "      <td>11000.000000</td>\n",
       "      <td>1</td>\n",
       "      <td>7</td>\n",
       "      <td>2018</td>\n",
       "      <td>0</td>\n",
       "    </tr>\n",
       "    <tr>\n",
       "      <td>17676</td>\n",
       "      <td>0</td>\n",
       "      <td>450000</td>\n",
       "      <td>36.5</td>\n",
       "      <td>2018-02-01</td>\n",
       "      <td>1</td>\n",
       "      <td>2.60</td>\n",
       "      <td>5</td>\n",
       "      <td>17.300000</td>\n",
       "      <td>4</td>\n",
       "      <td>False</td>\n",
       "      <td>False</td>\n",
       "      <td>False</td>\n",
       "      <td>8.500000</td>\n",
       "      <td>1</td>\n",
       "      <td>деревня ям-тесово</td>\n",
       "      <td>NaN</td>\n",
       "      <td>NaN</td>\n",
       "      <td>0</td>\n",
       "      <td>NaN</td>\n",
       "      <td>0</td>\n",
       "      <td>NaN</td>\n",
       "      <td>120.0</td>\n",
       "      <td>область</td>\n",
       "      <td>0.473973</td>\n",
       "      <td>0.232877</td>\n",
       "      <td>12328.767123</td>\n",
       "      <td>3</td>\n",
       "      <td>2</td>\n",
       "      <td>2018</td>\n",
       "      <td>1</td>\n",
       "    </tr>\n",
       "  </tbody>\n",
       "</table>\n",
       "</div>"
      ],
      "text/plain": [
       "       images_count  last_price_rub  total_area_m2 creation_date  rooms_count  \\\n",
       "8793              7           12190          109.0    2019-03-20            2   \n",
       "17456             7          430000           30.4    2019-04-22            1   \n",
       "14911             5          430000           54.0    2018-06-26            2   \n",
       "16274            18          440000           40.0    2018-07-10            1   \n",
       "17676             0          450000           36.5    2018-02-01            1   \n",
       "\n",
       "       ceiling_height_m  floors_count  living_area_m2  floor  is_apartment  \\\n",
       "8793               2.75            25       32.000000     25         False   \n",
       "17456              2.60             2       16.000000      1         False   \n",
       "14911              2.60             3       31.285327      3         False   \n",
       "16274              2.60             5       19.438477      1         False   \n",
       "17676              2.60             5       17.300000      4         False   \n",
       "\n",
       "       is_studio  is_open_plan  kitchen_area_m2  balcony_count  \\\n",
       "8793       False         False        40.500000              1   \n",
       "17456      False         False         6.000000              1   \n",
       "14911      False         False         9.403466              1   \n",
       "16274      False         False         9.995957              1   \n",
       "17676      False         False         8.500000              1   \n",
       "\n",
       "               locality_name  nearest_airport_distance_m  \\\n",
       "8793         санкт-петербург                     36421.0   \n",
       "17456                 сланцы                         NaN   \n",
       "14911  поселок станции свирь                         NaN   \n",
       "16274     деревня старополье                         NaN   \n",
       "17676      деревня ям-тесово                         NaN   \n",
       "\n",
       "       nearest_city_center_distance_m  parks_around_3000m_count  \\\n",
       "8793                           9176.0                         1   \n",
       "17456                             NaN                         0   \n",
       "14911                             NaN                         0   \n",
       "16274                             NaN                         0   \n",
       "17676                             NaN                         0   \n",
       "\n",
       "       nearest_park_distance_m  ponds_around_3000m_count  \\\n",
       "8793                     805.0                         0   \n",
       "17456                      NaN                         0   \n",
       "14911                      NaN                         0   \n",
       "16274                      NaN                         0   \n",
       "17676                      NaN                         0   \n",
       "\n",
       "       nearest_pond_distance_m  days_exposition city_center_category  \\\n",
       "8793                       NaN              8.0                город   \n",
       "17456                      NaN              NaN              область   \n",
       "14911                      NaN             44.0              область   \n",
       "16274                      NaN             45.0              область   \n",
       "17676                      NaN            120.0              область   \n",
       "\n",
       "       living_to_total_area_ratio  kitchen_to_total_area_ratio  price_per_m2  \\\n",
       "8793                     0.293578                     0.371560    111.834862   \n",
       "17456                    0.526316                     0.197368  14144.736842   \n",
       "14911                    0.579358                     0.174138   7962.962963   \n",
       "16274                    0.485962                     0.249899  11000.000000   \n",
       "17676                    0.473973                     0.232877  12328.767123   \n",
       "\n",
       "       creation_date_day  creation_date_month  creation_date_year  \\\n",
       "8793                   2                    3                2019   \n",
       "17456                  0                    4                2019   \n",
       "14911                  1                    6                2018   \n",
       "16274                  1                    7                2018   \n",
       "17676                  3                    2                2018   \n",
       "\n",
       "       floor_category  \n",
       "8793                2  \n",
       "17456               0  \n",
       "14911               2  \n",
       "16274               0  \n",
       "17676               1  "
      ]
     },
     "execution_count": 72,
     "metadata": {},
     "output_type": "execute_result"
    }
   ],
   "source": [
    "real_estate_df.sort_values('last_price_rub').head(5)"
   ]
  },
  {
   "cell_type": "markdown",
   "metadata": {},
   "source": [
    "Можно остановиться на границе в 430 т.р "
   ]
  },
  {
   "cell_type": "code",
   "execution_count": 73,
   "metadata": {},
   "outputs": [
    {
     "data": {
      "image/png": "[encoded data removed]",
      "text/plain": [
       "<Figure size 432x288 with 1 Axes>"
      ]
     },
     "metadata": {
      "needs_background": "light"
     },
     "output_type": "display_data"
    },
    {
     "data": {
      "image/png": "[encoded data removed]",
      "text/plain": [
       "<Figure size 432x288 with 1 Axes>"
      ]
     },
     "metadata": {
      "needs_background": "light"
     },
     "output_type": "display_data"
    },
    {
     "data": {
      "image/png": "[encoded data removed]",
      "text/plain": [
       "<Figure size 432x288 with 1 Axes>"
      ]
     },
     "metadata": {
      "needs_background": "light"
     },
     "output_type": "display_data"
    }
   ],
   "source": [
    "last_price_rub_analyzer.boxplot() \n",
    "last_price_rub_analyzer.hist(range_min=430000) \n",
    "last_price_rub_analyzer.hist(normal=True, range_min=430000) "
   ]
  },
  {
   "cell_type": "markdown",
   "metadata": {},
   "source": [
    "Выведем гистограммы"
   ]
  },
  {
   "cell_type": "markdown",
   "metadata": {},
   "source": [
    "**Выводы:**\n",
    "* min стоимость квартиры - 12 т.р., что похоже на ошибку в данных, max - 763 млн.р.\n",
    "* границы нормальных значений - от 430 т.р. до 11.9 млн.р\n",
    "* средние значения - от 3.4 млн.р. до 6.8 млн.р"
   ]
  },
  {
   "cell_type": "markdown",
   "metadata": {},
   "source": [
    "<a name=\"exploratory_data_analysis.base_stats.rooms_count\"></a>\n",
    "#### Число комнат "
   ]
  },
  {
   "cell_type": "markdown",
   "metadata": {},
   "source": [
    "Выведем описание значений в столбце `rooms_count`  "
   ]
  },
  {
   "cell_type": "code",
   "execution_count": 74,
   "metadata": {},
   "outputs": [
    {
     "data": {
      "text/plain": [
       "count    23650.000000\n",
       "mean         2.070106\n",
       "std          1.078620\n",
       "min          0.000000\n",
       "25%          1.000000\n",
       "50%          2.000000\n",
       "75%          3.000000\n",
       "max         19.000000\n",
       "Name: rooms_count, dtype: float64"
      ]
     },
     "metadata": {},
     "output_type": "display_data"
    },
    {
     "name": "stdout",
     "output_type": "stream",
     "text": [
      "Границы нормальных значений для столбца rooms_count: (0.00, 6.00)\n"
     ]
    }
   ],
   "source": [
    "rooms_count_analyser = NormalRangeAnalyzer(real_estate_df['rooms_count'], 'rooms_count')\n",
    "rooms_count_analyser.describe() "
   ]
  },
  {
   "cell_type": "markdown",
   "metadata": {},
   "source": [
    "Выведем диаграмму размаха и гистограммы"
   ]
  },
  {
   "cell_type": "code",
   "execution_count": 75,
   "metadata": {},
   "outputs": [
    {
     "data": {
      "image/png": "[encoded data removed]",
      "text/plain": [
       "<Figure size 432x288 with 1 Axes>"
      ]
     },
     "metadata": {
      "needs_background": "light"
     },
     "output_type": "display_data"
    },
    {
     "data": {
      "image/png": "[encoded data removed]",
      "text/plain": [
       "<Figure size 432x288 with 1 Axes>"
      ]
     },
     "metadata": {
      "needs_background": "light"
     },
     "output_type": "display_data"
    },
    {
     "data": {
      "image/png": "[encoded data removed]",
      "text/plain": [
       "<Figure size 432x288 with 1 Axes>"
      ]
     },
     "metadata": {
      "needs_background": "light"
     },
     "output_type": "display_data"
    }
   ],
   "source": [
    "rooms_count_analyser.boxplot()\n",
    "rooms_count_analyser.hist(bins=6)\n",
    "rooms_count_analyser.hist(normal=True, bins=6)"
   ]
  },
  {
   "cell_type": "markdown",
   "metadata": {},
   "source": [
    "**Выводы:**\n",
    "* min количетсво комнат - 0, мы уже выяснили, что это означает, что квартира студия или с открытой планировкой. max количество комнат - 19.\n",
    "* границы нормальных значений - от 0 до 6 комнат \n",
    "* средние значения - от 1 до 3 комнат"
   ]
  },
  {
   "cell_type": "markdown",
   "metadata": {},
   "source": [
    "<a name=\"exploratory_data_analysis.base_stats.ceiling_height_m\"></a>\n",
    "#### Высота потолков"
   ]
  },
  {
   "cell_type": "markdown",
   "metadata": {},
   "source": [
    "Выведем описание значений в столбце `ceiling_height_m`  "
   ]
  },
  {
   "cell_type": "code",
   "execution_count": 76,
   "metadata": {},
   "outputs": [
    {
     "data": {
      "text/plain": [
       "count    23650.000000\n",
       "mean         2.727000\n",
       "std          0.992876\n",
       "min          1.000000\n",
       "25%          2.600000\n",
       "50%          2.600000\n",
       "75%          2.750000\n",
       "max        100.000000\n",
       "Name: ceiling_height_m, dtype: float64"
      ]
     },
     "metadata": {},
     "output_type": "display_data"
    },
    {
     "name": "stdout",
     "output_type": "stream",
     "text": [
      "Границы нормальных значений для столбца ceiling_height_m: (2.38, 2.97)\n"
     ]
    }
   ],
   "source": [
    "ceiling_height_m_analyser = NormalRangeAnalyzer(real_estate_df['ceiling_height_m'], 'ceiling_height_m')\n",
    "ceiling_height_m_analyser.describe() "
   ]
  },
  {
   "cell_type": "code",
   "execution_count": 77,
   "metadata": {},
   "outputs": [
    {
     "data": {
      "image/png": "[encoded data removed]",
      "text/plain": [
       "<Figure size 432x288 with 1 Axes>"
      ]
     },
     "metadata": {
      "needs_background": "light"
     },
     "output_type": "display_data"
    },
    {
     "data": {
      "image/png": "[encoded data removed]",
      "text/plain": [
       "<Figure size 432x288 with 1 Axes>"
      ]
     },
     "metadata": {
      "needs_background": "light"
     },
     "output_type": "display_data"
    },
    {
     "data": {
      "image/png": "[encoded data removed]",
      "text/plain": [
       "<Figure size 432x288 with 1 Axes>"
      ]
     },
     "metadata": {
      "needs_background": "light"
     },
     "output_type": "display_data"
    }
   ],
   "source": [
    "ceiling_height_m_analyser.boxplot()\n",
    "ceiling_height_m_analyser.hist(bins=30)\n",
    "ceiling_height_m_analyser.hist(normal=True, bins=30)"
   ]
  },
  {
   "cell_type": "markdown",
   "metadata": {},
   "source": [
    "**Выводы:**\n",
    "* min выскота потолка 1 м, а max 100 м. Оба эти значения находятся за границами нормальных значений.\n",
    "* границы нормальных значений - от 2.3 м до 3.11 м\n",
    "* средние значения - от 2.6 до 2.8 м\n",
    "* видно несколько явных пиков, видимо это связано с нормами строительства или типовым жильем"
   ]
  },
  {
   "cell_type": "markdown",
   "metadata": {},
   "source": [
    "<div class=\"alert alert-success\">\n",
    "<h2> Комментарий ревьюера </h2>\n",
    "\n",
    "Опять же крутая реализация, молодец. Очень радует твой подход к анализу) Вся стат. информация дана, все графики приведены, что еще надо!\n",
    "</div>"
   ]
  },
  {
   "cell_type": "markdown",
   "metadata": {},
   "source": [
    "<a name=\"exploratory_data_analysis.date\"></a>\n",
    "### Время продажи квартиры"
   ]
  },
  {
   "cell_type": "markdown",
   "metadata": {},
   "source": [
    "Выведем описание значений в столбце `ceiling_height_m`  "
   ]
  },
  {
   "cell_type": "code",
   "execution_count": 78,
   "metadata": {},
   "outputs": [
    {
     "data": {
      "text/plain": [
       "count    20470.000000\n",
       "mean       180.753200\n",
       "std        219.777916\n",
       "min          1.000000\n",
       "25%         45.000000\n",
       "50%         95.000000\n",
       "75%        231.000000\n",
       "max       1580.000000\n",
       "Name: days_exposition, dtype: float64"
      ]
     },
     "metadata": {},
     "output_type": "display_data"
    },
    {
     "name": "stdout",
     "output_type": "stream",
     "text": [
      "Границы нормальных значений для столбца days_exposition: (1.00, 510.00)\n"
     ]
    }
   ],
   "source": [
    "days_exposition_analyser = NormalRangeAnalyzer(real_estate_df['days_exposition'], 'days_exposition')\n",
    "days_exposition_analyser.describe() "
   ]
  },
  {
   "cell_type": "code",
   "execution_count": 79,
   "metadata": {},
   "outputs": [
    {
     "data": {
      "image/png": "[encoded data removed]",
      "text/plain": [
       "<Figure size 432x288 with 1 Axes>"
      ]
     },
     "metadata": {
      "needs_background": "light"
     },
     "output_type": "display_data"
    },
    {
     "data": {
      "image/png": "[encoded data removed]",
      "text/plain": [
       "<Figure size 432x288 with 1 Axes>"
      ]
     },
     "metadata": {
      "needs_background": "light"
     },
     "output_type": "display_data"
    },
    {
     "data": {
      "image/png": "[encoded data removed]",
      "text/plain": [
       "<Figure size 432x288 with 1 Axes>"
      ]
     },
     "metadata": {
      "needs_background": "light"
     },
     "output_type": "display_data"
    }
   ],
   "source": [
    "days_exposition_analyser.boxplot()\n",
    "days_exposition_analyser.hist()\n",
    "days_exposition_analyser.hist(normal=True)"
   ]
  },
  {
   "cell_type": "markdown",
   "metadata": {},
   "source": [
    "Посмотрим на каких значениях находятся пики "
   ]
  },
  {
   "cell_type": "code",
   "execution_count": 80,
   "metadata": {},
   "outputs": [
    {
     "data": {
      "image/png": "[encoded data removed]",
      "text/plain": [
       "<Figure size 432x288 with 1 Axes>"
      ]
     },
     "metadata": {
      "needs_background": "light"
     },
     "output_type": "display_data"
    }
   ],
   "source": [
    "days_exposition_analyser.hist(normal=True, range_max=150, bins=150)"
   ]
  },
  {
   "cell_type": "code",
   "execution_count": 81,
   "metadata": {},
   "outputs": [
    {
     "data": {
      "text/plain": [
       "days_exposition\n",
       "45.0    879\n",
       "60.0    538\n",
       "7.0     234\n",
       "30.0    208\n",
       "90.0    203\n",
       "4.0     174\n",
       "3.0     158\n",
       "5.0     152\n",
       "14.0    148\n",
       "9.0     142\n",
       "Name: days_exposition, dtype: int64"
      ]
     },
     "execution_count": 81,
     "metadata": {},
     "output_type": "execute_result"
    }
   ],
   "source": [
    "real_estate_df.query('days_exposition < 150').groupby('days_exposition')['days_exposition'].count().sort_values(ascending=False).head(10)"
   ]
  },
  {
   "cell_type": "markdown",
   "metadata": {},
   "source": [
    "Видим большие прики на 45 и 60 день - скорее всего либо Яндекс.Недвижимость сама закрывает объявления, либо у риелторов отчет в эти дни и они сами закрывают сделки.   \n",
    "В любом случае эти выбросы означают автоматизированную обработку объявлений."
   ]
  },
  {
   "cell_type": "markdown",
   "metadata": {},
   "source": [
    "**Выводы:**\n",
    "* min время продажи - один день, а max - 1580 дней\n",
    "* границы нормальных значений - от 1 м до 510 дней\n",
    "* средние значения - от 45 до 231 дня\n",
    "* медиана - 95 дней, среднее значение - 180. Видно большой разброс между средним и медианой, следовательно у данных большой хвост.\n",
    "* следовательно, нормальное время продажи - 95 дней, быстрое - быстрее, чем за 45 дней, медленно - дольше, чем за 231 день.\n",
    "* видно несколько явных пиков, связано с автоматизированным закрытием объявлений."
   ]
  },
  {
   "cell_type": "markdown",
   "metadata": {},
   "source": [
    "<div class=\"alert alert-success\">\n",
    "<h2> Комментарий ревьюера </h2>\n",
    "   \n",
    "Здорово, что есть гипотезы о быстрых и долгих сделках.\n",
    "\n",
    "</div>"
   ]
  },
  {
   "cell_type": "markdown",
   "metadata": {},
   "source": [
    "<a name=\"exploratory_data_analysis.anomalies\"></a>\n",
    "### Избавиться от редких и выбивающихся значений"
   ]
  },
  {
   "cell_type": "markdown",
   "metadata": {},
   "source": [
    "Для того, чтобы избавиться от выбивающихся значений используем результаты работы, получаенные на предыдущих шагах.  \n",
    "Рассмотрим какие значения для границ нормальных значений мы получили:\n",
    "* `total_area_m2` - (12, 115)\n",
    "* `last_price_rub` - (430000, 11897500)\n",
    "* `rooms_count` - (0, 6)\n",
    "* `ceiling_height_m` - (2.29, 3.11)  \n",
    "* `days_exposition` - (1, 510)\n",
    "\n",
    "Возьмем срез по этим значениям"
   ]
  },
  {
   "cell_type": "code",
   "execution_count": 82,
   "metadata": {},
   "outputs": [
    {
     "name": "stdout",
     "output_type": "stream",
     "text": [
      "Количетво строк в исходных данных: 23650\n",
      "Количетво строк в нормальных данных: 16930\n"
     ]
    }
   ],
   "source": [
    "real_estate_df_normal = (\n",
    "    real_estate_df\n",
    "    .query('12 <= total_area_m2 <= 115')\n",
    "    .query('430000 <= last_price_rub <= 11897500')\n",
    "    .query('0 <= rooms_count <= 6')\n",
    "    .query('2.29 <= ceiling_height_m <= 3.11')\n",
    "    .query('1 <= days_exposition <= 510')\n",
    ")\n",
    "print('Количетво строк в исходных данных:', real_estate_df.shape[0])\n",
    "print('Количетво строк в нормальных данных:', real_estate_df_normal.shape[0])"
   ]
  },
  {
   "cell_type": "markdown",
   "metadata": {},
   "source": [
    "<div class=\"alert alert-success\">\n",
    "<h2> Комментарий ревьюера </h2>\n",
    "\n",
    "Выбросы из данных удалены. Верно, что ты привел диаграммы размаха для каждого параметра для нахождения границ.  \n",
    "\n",
    "</div>"
   ]
  },
  {
   "cell_type": "markdown",
   "metadata": {},
   "source": [
    "<a name=\"exploratory_data_analysis.corr\"></a>\n",
    "### Выделение факторов, которые больше всего влияют на стоимость квартиры"
   ]
  },
  {
   "cell_type": "markdown",
   "metadata": {},
   "source": [
    "<a name=\"exploratory_data_analysis.corr.total_area_m2\"></a>\n",
    "#### Площадь"
   ]
  },
  {
   "cell_type": "markdown",
   "metadata": {},
   "source": [
    "Выведем график зависимости `total_area_m2` от `last_price_rub` "
   ]
  },
  {
   "cell_type": "code",
   "execution_count": 83,
   "metadata": {},
   "outputs": [
    {
     "data": {
      "image/png": "[encoded data removed]",
      "text/plain": [
       "<Figure size 432x288 with 1 Axes>"
      ]
     },
     "metadata": {
      "needs_background": "light"
     },
     "output_type": "display_data"
    }
   ],
   "source": [
    "real_estate_df_normal.plot(x='total_area_m2', y='last_price_rub', kind='scatter')\n",
    "plt.show()"
   ]
  },
  {
   "cell_type": "markdown",
   "metadata": {},
   "source": [
    "<div class=\"alert alert-success\">\n",
    "<h2> Комментарий ревьюера </h2>\n",
    "\n",
    "Если уж на то пошло, можем ли мы автоматизировать и данный процесс построения графиков зависимостей?\n",
    "\n",
    "</div>"
   ]
  },
  {
   "cell_type": "markdown",
   "metadata": {},
   "source": [
    "Видно, что цена растет в зависимости от слощади.  \n",
    "Выведем `hexbin` график, чтобы лучше увидеть, что находится сосредоточение точек"
   ]
  },
  {
   "cell_type": "code",
   "execution_count": 84,
   "metadata": {},
   "outputs": [
    {
     "data": {
      "image/png": "[encoded data removed]",
      "text/plain": [
       "<Figure size 432x288 with 2 Axes>"
      ]
     },
     "metadata": {
      "needs_background": "light"
     },
     "output_type": "display_data"
    }
   ],
   "source": [
    "real_estate_df_normal.plot(x='total_area_m2', y='last_price_rub', kind='hexbin', gridsize=20, sharex=False, grid=True)\n",
    "plt.show()"
   ]
  },
  {
   "cell_type": "code",
   "execution_count": 85,
   "metadata": {},
   "outputs": [
    {
     "data": {
      "text/plain": [
       "0.6928460137082693"
      ]
     },
     "execution_count": 85,
     "metadata": {},
     "output_type": "execute_result"
    }
   ],
   "source": [
    "real_estate_df_normal['total_area_m2'].corr(real_estate_df_normal['last_price_rub'])"
   ]
  },
  {
   "cell_type": "markdown",
   "metadata": {},
   "source": [
    "**Вывод:** Корреляция сильная"
   ]
  },
  {
   "cell_type": "markdown",
   "metadata": {},
   "source": [
    "<a name=\"exploratory_data_analysis.corr.rooms_count\"></a>\n",
    "#### Число комнат"
   ]
  },
  {
   "cell_type": "markdown",
   "metadata": {},
   "source": [
    "Выведем график зависимости `rooms_count` от `last_price_rub` "
   ]
  },
  {
   "cell_type": "code",
   "execution_count": 86,
   "metadata": {},
   "outputs": [
    {
     "data": {
      "image/png": "[encoded data removed]",
      "text/plain": [
       "<Figure size 432x288 with 1 Axes>"
      ]
     },
     "metadata": {
      "needs_background": "light"
     },
     "output_type": "display_data"
    }
   ],
   "source": [
    "real_estate_df_normal.plot(x='rooms_count', y='last_price_rub', kind='scatter')\n",
    "plt.show()"
   ]
  },
  {
   "cell_type": "code",
   "execution_count": 87,
   "metadata": {},
   "outputs": [
    {
     "data": {
      "text/plain": [
       "0.42910212671565734"
      ]
     },
     "execution_count": 87,
     "metadata": {},
     "output_type": "execute_result"
    }
   ],
   "source": [
    "real_estate_df_normal['rooms_count'].corr(real_estate_df_normal['last_price_rub'])"
   ]
  },
  {
   "cell_type": "markdown",
   "metadata": {},
   "source": [
    "**Вывод:** Корреляция слабая, судя по графику 4000000 может стоить любая квартира, начиная со студии и заканчивая 4-х комнатной"
   ]
  },
  {
   "cell_type": "markdown",
   "metadata": {},
   "source": [
    "<div class=\"alert alert-success\">\n",
    "<h2> Комментарий ревьюера </h2>\n",
    "\n",
    "Хорошо бы построить график по средним ценам в зависимости от числа комнат. Данный график покажет нам зависимость цены от данного параметра. \n",
    "\n",
    "</div>"
   ]
  },
  {
   "cell_type": "markdown",
   "metadata": {},
   "source": [
    "<a name=\"exploratory_data_analysis.corr.nearest_city_center_distance_m\"></a>\n",
    "#### Удаленность от центра"
   ]
  },
  {
   "cell_type": "markdown",
   "metadata": {},
   "source": [
    "Выведем график зависимости `nearest_city_center_distance_m` от `last_price_rub` "
   ]
  },
  {
   "cell_type": "code",
   "execution_count": 88,
   "metadata": {},
   "outputs": [
    {
     "data": {
      "image/png": "[encoded data removed]",
      "text/plain": [
       "<Figure size 432x288 with 1 Axes>"
      ]
     },
     "metadata": {
      "needs_background": "light"
     },
     "output_type": "display_data"
    }
   ],
   "source": [
    "real_estate_df_normal.plot(x='nearest_city_center_distance_m', y='last_price_rub', kind='scatter')\n",
    "plt.show()"
   ]
  },
  {
   "cell_type": "code",
   "execution_count": 89,
   "metadata": {},
   "outputs": [
    {
     "data": {
      "text/plain": [
       "-0.3179171016240468"
      ]
     },
     "execution_count": 89,
     "metadata": {},
     "output_type": "execute_result"
    }
   ],
   "source": [
    "real_estate_df_normal['nearest_city_center_distance_m'].corr(real_estate_df_normal['last_price_rub'])"
   ]
  },
  {
   "cell_type": "markdown",
   "metadata": {},
   "source": [
    "**Вывод:** Корреляция средняя, видно, что квартиры ближе к центру стоят в среднем дороже."
   ]
  },
  {
   "cell_type": "markdown",
   "metadata": {},
   "source": [
    "<a name=\"exploratory_data_analysis.corr.floor\"></a>\n",
    "#### Этаж"
   ]
  },
  {
   "cell_type": "markdown",
   "metadata": {},
   "source": [
    "<div class=\"alert alert-info\">\n",
    "    \n",
    "Выведем график зависимости `floor_category` от `last_price_rub` \n",
    "    \n",
    "</div>"
   ]
  },
  {
   "cell_type": "code",
   "execution_count": 90,
   "metadata": {},
   "outputs": [
    {
     "data": {
      "image/png": "[encoded data removed]",
      "text/plain": [
       "<Figure size 432x288 with 1 Axes>"
      ]
     },
     "metadata": {
      "needs_background": "light"
     },
     "output_type": "display_data"
    }
   ],
   "source": [
    "real_estate_df_normal.plot(x='floor_category', y='last_price_rub', kind='scatter')\n",
    "plt.show()"
   ]
  },
  {
   "cell_type": "code",
   "execution_count": 91,
   "metadata": {},
   "outputs": [
    {
     "data": {
      "text/plain": [
       "0.04362039922770115"
      ]
     },
     "execution_count": 91,
     "metadata": {},
     "output_type": "execute_result"
    }
   ],
   "source": [
    "real_estate_df_normal['floor_category'].corr(real_estate_df_normal['last_price_rub'])"
   ]
  },
  {
   "cell_type": "markdown",
   "metadata": {},
   "source": [
    "<div class=\"alert alert-success\">\n",
    "<h2> Комментарий ревьюера 2</h2>\n",
    "\n",
    "Теперь все верно, только график стоило привести иной, например, по средним ценам. Твой же не дает нам информации для анализа. \n",
    "\n",
    "</div>"
   ]
  },
  {
   "cell_type": "markdown",
   "metadata": {},
   "source": [
    "Построем сводную таблицу по `floor_type`"
   ]
  },
  {
   "cell_type": "code",
   "execution_count": 92,
   "metadata": {},
   "outputs": [
    {
     "data": {
      "text/html": [
       "<div>\n",
       "<style scoped>\n",
       "    .dataframe tbody tr th:only-of-type {\n",
       "        vertical-align: middle;\n",
       "    }\n",
       "\n",
       "    .dataframe tbody tr th {\n",
       "        vertical-align: top;\n",
       "    }\n",
       "\n",
       "    .dataframe thead th {\n",
       "        text-align: right;\n",
       "    }\n",
       "</style>\n",
       "<table border=\"1\" class=\"dataframe\">\n",
       "  <thead>\n",
       "    <tr style=\"text-align: right;\">\n",
       "      <th></th>\n",
       "      <th>last_price_rub</th>\n",
       "    </tr>\n",
       "    <tr>\n",
       "      <th>floor_category</th>\n",
       "      <th></th>\n",
       "    </tr>\n",
       "  </thead>\n",
       "  <tbody>\n",
       "    <tr>\n",
       "      <td>0</td>\n",
       "      <td>3.880427e+06</td>\n",
       "    </tr>\n",
       "    <tr>\n",
       "      <td>1</td>\n",
       "      <td>4.837524e+06</td>\n",
       "    </tr>\n",
       "    <tr>\n",
       "      <td>2</td>\n",
       "      <td>4.278138e+06</td>\n",
       "    </tr>\n",
       "  </tbody>\n",
       "</table>\n",
       "</div>"
      ],
      "text/plain": [
       "                last_price_rub\n",
       "floor_category                \n",
       "0                 3.880427e+06\n",
       "1                 4.837524e+06\n",
       "2                 4.278138e+06"
      ]
     },
     "execution_count": 92,
     "metadata": {},
     "output_type": "execute_result"
    }
   ],
   "source": [
    "real_estate_df_normal.pivot_table(index='floor_category', values='last_price_rub')"
   ]
  },
  {
   "cell_type": "markdown",
   "metadata": {},
   "source": [
    "**Вывод**: корреляция есть, хоть и слабая, на нижнем этаже квартиры самые дешевые, потом идет верхний этаж, а за ним все остальные."
   ]
  },
  {
   "cell_type": "markdown",
   "metadata": {},
   "source": [
    "<div class=\"alert alert-danger\">\n",
    "<h2> Комментарий ревьюера </h2>\n",
    "\n",
    "Это что-то новое в исследовании. Ты изучаешь зависимость цены от квартир на первом этаже? Выше ты ведь не выделял комнаты и не изучал взаиомсвязь цены и квартир с 1 комнатой. Так вот и тут не надо. С помощью корреляций мы проверяем взаимосвязь полных данных.\n",
    "\n",
    "</div>"
   ]
  },
  {
   "cell_type": "markdown",
   "metadata": {},
   "source": [
    "<div class=\"alert alert-info\">\n",
    "Поправил\n",
    "</div>"
   ]
  },
  {
   "cell_type": "markdown",
   "metadata": {},
   "source": [
    "<a name=\"exploratory_data_analysis.corr.creation_date\"></a>\n",
    "#### Дата размещения"
   ]
  },
  {
   "cell_type": "markdown",
   "metadata": {},
   "source": [
    "Построим матрицу корреляциии для столбцов `creation_date_day`, `creation_date_month`, `creation_date_year` и `last_price_rub`"
   ]
  },
  {
   "cell_type": "code",
   "execution_count": 93,
   "metadata": {},
   "outputs": [
    {
     "data": {
      "text/html": [
       "<div>\n",
       "<style scoped>\n",
       "    .dataframe tbody tr th:only-of-type {\n",
       "        vertical-align: middle;\n",
       "    }\n",
       "\n",
       "    .dataframe tbody tr th {\n",
       "        vertical-align: top;\n",
       "    }\n",
       "\n",
       "    .dataframe thead th {\n",
       "        text-align: right;\n",
       "    }\n",
       "</style>\n",
       "<table border=\"1\" class=\"dataframe\">\n",
       "  <thead>\n",
       "    <tr style=\"text-align: right;\">\n",
       "      <th></th>\n",
       "      <th>creation_date_day</th>\n",
       "      <th>creation_date_month</th>\n",
       "      <th>creation_date_year</th>\n",
       "      <th>last_price_rub</th>\n",
       "    </tr>\n",
       "  </thead>\n",
       "  <tbody>\n",
       "    <tr>\n",
       "      <td>creation_date_day</td>\n",
       "      <td>1.000000</td>\n",
       "      <td>0.011512</td>\n",
       "      <td>0.000238</td>\n",
       "      <td>-0.006530</td>\n",
       "    </tr>\n",
       "    <tr>\n",
       "      <td>creation_date_month</td>\n",
       "      <td>0.011512</td>\n",
       "      <td>1.000000</td>\n",
       "      <td>-0.226496</td>\n",
       "      <td>0.006003</td>\n",
       "    </tr>\n",
       "    <tr>\n",
       "      <td>creation_date_year</td>\n",
       "      <td>0.000238</td>\n",
       "      <td>-0.226496</td>\n",
       "      <td>1.000000</td>\n",
       "      <td>0.007650</td>\n",
       "    </tr>\n",
       "    <tr>\n",
       "      <td>last_price_rub</td>\n",
       "      <td>-0.006530</td>\n",
       "      <td>0.006003</td>\n",
       "      <td>0.007650</td>\n",
       "      <td>1.000000</td>\n",
       "    </tr>\n",
       "  </tbody>\n",
       "</table>\n",
       "</div>"
      ],
      "text/plain": [
       "                     creation_date_day  creation_date_month  \\\n",
       "creation_date_day             1.000000             0.011512   \n",
       "creation_date_month           0.011512             1.000000   \n",
       "creation_date_year            0.000238            -0.226496   \n",
       "last_price_rub               -0.006530             0.006003   \n",
       "\n",
       "                     creation_date_year  last_price_rub  \n",
       "creation_date_day              0.000238       -0.006530  \n",
       "creation_date_month           -0.226496        0.006003  \n",
       "creation_date_year             1.000000        0.007650  \n",
       "last_price_rub                 0.007650        1.000000  "
      ]
     },
     "execution_count": 93,
     "metadata": {},
     "output_type": "execute_result"
    }
   ],
   "source": [
    "real_estate_df_normal[['creation_date_day', 'creation_date_month', 'creation_date_year', 'last_price_rub']].corr()"
   ]
  },
  {
   "cell_type": "markdown",
   "metadata": {},
   "source": [
    "Видно, что только год имеет небольшое влияние. Построим сводные таблицы по стоимости квартир в разные года, месяцы и дни"
   ]
  },
  {
   "cell_type": "code",
   "execution_count": 94,
   "metadata": {},
   "outputs": [
    {
     "data": {
      "text/html": [
       "<div>\n",
       "<style scoped>\n",
       "    .dataframe tbody tr th:only-of-type {\n",
       "        vertical-align: middle;\n",
       "    }\n",
       "\n",
       "    .dataframe tbody tr th {\n",
       "        vertical-align: top;\n",
       "    }\n",
       "\n",
       "    .dataframe thead th {\n",
       "        text-align: right;\n",
       "    }\n",
       "</style>\n",
       "<table border=\"1\" class=\"dataframe\">\n",
       "  <thead>\n",
       "    <tr style=\"text-align: right;\">\n",
       "      <th></th>\n",
       "      <th>last_price_rub</th>\n",
       "    </tr>\n",
       "    <tr>\n",
       "      <th>creation_date_year</th>\n",
       "      <th></th>\n",
       "    </tr>\n",
       "  </thead>\n",
       "  <tbody>\n",
       "    <tr>\n",
       "      <td>2019</td>\n",
       "      <td>4.923759e+06</td>\n",
       "    </tr>\n",
       "    <tr>\n",
       "      <td>2015</td>\n",
       "      <td>4.790412e+06</td>\n",
       "    </tr>\n",
       "    <tr>\n",
       "      <td>2016</td>\n",
       "      <td>4.635388e+06</td>\n",
       "    </tr>\n",
       "    <tr>\n",
       "      <td>2017</td>\n",
       "      <td>4.632862e+06</td>\n",
       "    </tr>\n",
       "    <tr>\n",
       "      <td>2018</td>\n",
       "      <td>4.612783e+06</td>\n",
       "    </tr>\n",
       "  </tbody>\n",
       "</table>\n",
       "</div>"
      ],
      "text/plain": [
       "                    last_price_rub\n",
       "creation_date_year                \n",
       "2019                  4.923759e+06\n",
       "2015                  4.790412e+06\n",
       "2016                  4.635388e+06\n",
       "2017                  4.632862e+06\n",
       "2018                  4.612783e+06"
      ]
     },
     "metadata": {},
     "output_type": "display_data"
    },
    {
     "data": {
      "text/html": [
       "<div>\n",
       "<style scoped>\n",
       "    .dataframe tbody tr th:only-of-type {\n",
       "        vertical-align: middle;\n",
       "    }\n",
       "\n",
       "    .dataframe tbody tr th {\n",
       "        vertical-align: top;\n",
       "    }\n",
       "\n",
       "    .dataframe thead th {\n",
       "        text-align: right;\n",
       "    }\n",
       "</style>\n",
       "<table border=\"1\" class=\"dataframe\">\n",
       "  <thead>\n",
       "    <tr style=\"text-align: right;\">\n",
       "      <th></th>\n",
       "      <th>last_price_rub</th>\n",
       "    </tr>\n",
       "    <tr>\n",
       "      <th>creation_date_month</th>\n",
       "      <th></th>\n",
       "    </tr>\n",
       "  </thead>\n",
       "  <tbody>\n",
       "    <tr>\n",
       "      <td>4</td>\n",
       "      <td>4.741200e+06</td>\n",
       "    </tr>\n",
       "    <tr>\n",
       "      <td>11</td>\n",
       "      <td>4.727075e+06</td>\n",
       "    </tr>\n",
       "    <tr>\n",
       "      <td>9</td>\n",
       "      <td>4.711257e+06</td>\n",
       "    </tr>\n",
       "    <tr>\n",
       "      <td>8</td>\n",
       "      <td>4.685919e+06</td>\n",
       "    </tr>\n",
       "    <tr>\n",
       "      <td>5</td>\n",
       "      <td>4.664411e+06</td>\n",
       "    </tr>\n",
       "    <tr>\n",
       "      <td>2</td>\n",
       "      <td>4.656481e+06</td>\n",
       "    </tr>\n",
       "    <tr>\n",
       "      <td>10</td>\n",
       "      <td>4.635414e+06</td>\n",
       "    </tr>\n",
       "    <tr>\n",
       "      <td>1</td>\n",
       "      <td>4.627677e+06</td>\n",
       "    </tr>\n",
       "    <tr>\n",
       "      <td>7</td>\n",
       "      <td>4.603907e+06</td>\n",
       "    </tr>\n",
       "    <tr>\n",
       "      <td>12</td>\n",
       "      <td>4.593706e+06</td>\n",
       "    </tr>\n",
       "    <tr>\n",
       "      <td>3</td>\n",
       "      <td>4.578846e+06</td>\n",
       "    </tr>\n",
       "    <tr>\n",
       "      <td>6</td>\n",
       "      <td>4.498821e+06</td>\n",
       "    </tr>\n",
       "  </tbody>\n",
       "</table>\n",
       "</div>"
      ],
      "text/plain": [
       "                     last_price_rub\n",
       "creation_date_month                \n",
       "4                      4.741200e+06\n",
       "11                     4.727075e+06\n",
       "9                      4.711257e+06\n",
       "8                      4.685919e+06\n",
       "5                      4.664411e+06\n",
       "2                      4.656481e+06\n",
       "10                     4.635414e+06\n",
       "1                      4.627677e+06\n",
       "7                      4.603907e+06\n",
       "12                     4.593706e+06\n",
       "3                      4.578846e+06\n",
       "6                      4.498821e+06"
      ]
     },
     "metadata": {},
     "output_type": "display_data"
    },
    {
     "data": {
      "text/html": [
       "<div>\n",
       "<style scoped>\n",
       "    .dataframe tbody tr th:only-of-type {\n",
       "        vertical-align: middle;\n",
       "    }\n",
       "\n",
       "    .dataframe tbody tr th {\n",
       "        vertical-align: top;\n",
       "    }\n",
       "\n",
       "    .dataframe thead th {\n",
       "        text-align: right;\n",
       "    }\n",
       "</style>\n",
       "<table border=\"1\" class=\"dataframe\">\n",
       "  <thead>\n",
       "    <tr style=\"text-align: right;\">\n",
       "      <th></th>\n",
       "      <th>last_price_rub</th>\n",
       "    </tr>\n",
       "    <tr>\n",
       "      <th>creation_date_day</th>\n",
       "      <th></th>\n",
       "    </tr>\n",
       "  </thead>\n",
       "  <tbody>\n",
       "    <tr>\n",
       "      <td>3</td>\n",
       "      <td>4.682847e+06</td>\n",
       "    </tr>\n",
       "    <tr>\n",
       "      <td>1</td>\n",
       "      <td>4.669935e+06</td>\n",
       "    </tr>\n",
       "    <tr>\n",
       "      <td>4</td>\n",
       "      <td>4.659650e+06</td>\n",
       "    </tr>\n",
       "    <tr>\n",
       "      <td>0</td>\n",
       "      <td>4.643113e+06</td>\n",
       "    </tr>\n",
       "    <tr>\n",
       "      <td>2</td>\n",
       "      <td>4.624021e+06</td>\n",
       "    </tr>\n",
       "    <tr>\n",
       "      <td>6</td>\n",
       "      <td>4.588130e+06</td>\n",
       "    </tr>\n",
       "    <tr>\n",
       "      <td>5</td>\n",
       "      <td>4.583775e+06</td>\n",
       "    </tr>\n",
       "  </tbody>\n",
       "</table>\n",
       "</div>"
      ],
      "text/plain": [
       "                   last_price_rub\n",
       "creation_date_day                \n",
       "3                    4.682847e+06\n",
       "1                    4.669935e+06\n",
       "4                    4.659650e+06\n",
       "0                    4.643113e+06\n",
       "2                    4.624021e+06\n",
       "6                    4.588130e+06\n",
       "5                    4.583775e+06"
      ]
     },
     "metadata": {},
     "output_type": "display_data"
    }
   ],
   "source": [
    "for column_name in ('creation_date_year', 'creation_date_month', 'creation_date_day'):\n",
    "    display(real_estate_df_normal.pivot_table(index=column_name, values='last_price_rub').sort_values('last_price_rub', ascending=False))"
   ]
  },
  {
   "cell_type": "markdown",
   "metadata": {},
   "source": [
    "<div class=\"alert alert-info\">\n",
    "\n",
    "Выведем по ним графики\n",
    "    \n",
    "</div>"
   ]
  },
  {
   "cell_type": "code",
   "execution_count": 141,
   "metadata": {},
   "outputs": [
    {
     "data": {
      "image/png": "[encoded data removed]",
      "text/plain": [
       "<Figure size 432x288 with 1 Axes>"
      ]
     },
     "metadata": {
      "needs_background": "light"
     },
     "output_type": "display_data"
    },
    {
     "data": {
      "image/png": "[encoded data removed]",
      "text/plain": [
       "<Figure size 432x288 with 1 Axes>"
      ]
     },
     "metadata": {
      "needs_background": "light"
     },
     "output_type": "display_data"
    },
    {
     "data": {
      "image/png": "[encoded data removed]",
      "text/plain": [
       "<Figure size 432x288 with 1 Axes>"
      ]
     },
     "metadata": {
      "needs_background": "light"
     },
     "output_type": "display_data"
    }
   ],
   "source": [
    "for column_name in ('creation_date_year', 'creation_date_month', 'creation_date_day'):\n",
    "    real_estate_df_normal.pivot_table(index=column_name, values='last_price_rub').sort_values(column_name).plot(grid=True)"
   ]
  },
  {
   "cell_type": "markdown",
   "metadata": {},
   "source": [
    "Есть предположение, что цены на недвижимость в разные года зависят от курса валюты.  \n",
    "В 2015 году средняя цена была выше, в этот же год вырос курс рубля. \n",
    "Хотя под эту теорию не попадает 2019 год, возможно причины геополитические."
   ]
  },
  {
   "cell_type": "markdown",
   "metadata": {},
   "source": [
    "<div class=\"alert alert-success\">\n",
    "<h2> Комментарий ревьюера 2</h2>\n",
    "\n",
    "Графики приведены. Согласись, анализировать инфомацию визуально куда лучше. \n",
    "\n",
    "</div>"
   ]
  },
  {
   "cell_type": "markdown",
   "metadata": {},
   "source": [
    "**Выводы**: \n",
    "* небольшое влияние на цену иммет год - видимо это связано с состоянием экономики страны. Самые дорогие квартиры были в 2019 году, а дешевые - в 2018\n",
    "* Месяц публикации почти не влияет на цену, чуть дороже стоят квартиры выставленные в апреле, а дешевле - в июне\n",
    "* День влияет на цену еще меньше, самый выгодный день для создания объявления - это среда, а невыгодный - пятница\n",
    "* Но стоит учитывать, что влияние даты несущественно и им можно принебречь"
   ]
  },
  {
   "cell_type": "markdown",
   "metadata": {},
   "source": [
    "<div class=\"alert alert-warning\">\n",
    "<h2> Комментарий ревьюера </h2>\n",
    "\n",
    "Основные параметры, влияющие на цену, изучены. Приведены необходимые графики и значения корреляций. Здорово, что по каждому параметру приведен вывод о его влиянии на цену квартиры. Метод corr можно применять сразу ко всему датафрейму для получения матрицы корреляций, верно. Также для визуализации данной матрицы корреляций можно использовать метод heatmap из библиотеки seaborn. Будет здорово, если ты сможешь это реализовать. \n",
    "    \n",
    "Исправь помарку выше пр расчетах корреляции. Также не хватает графиков по временным показателям. Зависимость может быть нелинейная, корреляция же этого не покажет. \n",
    "\n",
    "</div>"
   ]
  },
  {
   "cell_type": "markdown",
   "metadata": {},
   "source": [
    "<a name=\"exploratory_data_analysis.localities\"></a>\n",
    "### Анализ населенных пунктов"
   ]
  },
  {
   "cell_type": "markdown",
   "metadata": {},
   "source": [
    "Получим топ-10 населенных пунктов по количеству объявлений"
   ]
  },
  {
   "cell_type": "code",
   "execution_count": 95,
   "metadata": {},
   "outputs": [
    {
     "data": {
      "text/plain": [
       "санкт-петербург      10746\n",
       "поселок мурино         516\n",
       "поселок шушары         384\n",
       "всеволожск             302\n",
       "поселок парголово      287\n",
       "колпино                284\n",
       "деревня кудрово        267\n",
       "пушкин                 253\n",
       "гатчина                239\n",
       "выборг                 181\n",
       "Name: locality_name, dtype: int64"
      ]
     },
     "metadata": {},
     "output_type": "display_data"
    }
   ],
   "source": [
    "top_localities = real_estate_df_normal['locality_name'].value_counts().head(10)\n",
    "display(top_localities)"
   ]
  },
  {
   "cell_type": "markdown",
   "metadata": {},
   "source": [
    "Теперь выберем строки с населенными пунктами из `top_localities` и посчитаем по ним среднюю цену для каждого населенного пункта"
   ]
  },
  {
   "cell_type": "code",
   "execution_count": 96,
   "metadata": {},
   "outputs": [
    {
     "data": {
      "text/html": [
       "<div>\n",
       "<style scoped>\n",
       "    .dataframe tbody tr th:only-of-type {\n",
       "        vertical-align: middle;\n",
       "    }\n",
       "\n",
       "    .dataframe tbody tr th {\n",
       "        vertical-align: top;\n",
       "    }\n",
       "\n",
       "    .dataframe thead th {\n",
       "        text-align: right;\n",
       "    }\n",
       "</style>\n",
       "<table border=\"1\" class=\"dataframe\">\n",
       "  <thead>\n",
       "    <tr style=\"text-align: right;\">\n",
       "      <th></th>\n",
       "      <th>price_per_m2</th>\n",
       "    </tr>\n",
       "    <tr>\n",
       "      <th>locality_name</th>\n",
       "      <th></th>\n",
       "    </tr>\n",
       "  </thead>\n",
       "  <tbody>\n",
       "    <tr>\n",
       "      <td>санкт-петербург</td>\n",
       "      <td>104247.984702</td>\n",
       "    </tr>\n",
       "    <tr>\n",
       "      <td>пушкин</td>\n",
       "      <td>99207.832596</td>\n",
       "    </tr>\n",
       "    <tr>\n",
       "      <td>деревня кудрово</td>\n",
       "      <td>92600.436714</td>\n",
       "    </tr>\n",
       "    <tr>\n",
       "      <td>поселок парголово</td>\n",
       "      <td>89336.954129</td>\n",
       "    </tr>\n",
       "    <tr>\n",
       "      <td>поселок мурино</td>\n",
       "      <td>85936.528290</td>\n",
       "    </tr>\n",
       "    <tr>\n",
       "      <td>поселок шушары</td>\n",
       "      <td>77912.459324</td>\n",
       "    </tr>\n",
       "    <tr>\n",
       "      <td>колпино</td>\n",
       "      <td>74589.439238</td>\n",
       "    </tr>\n",
       "    <tr>\n",
       "      <td>гатчина</td>\n",
       "      <td>68241.087819</td>\n",
       "    </tr>\n",
       "    <tr>\n",
       "      <td>всеволожск</td>\n",
       "      <td>66644.479441</td>\n",
       "    </tr>\n",
       "    <tr>\n",
       "      <td>выборг</td>\n",
       "      <td>57183.455488</td>\n",
       "    </tr>\n",
       "  </tbody>\n",
       "</table>\n",
       "</div>"
      ],
      "text/plain": [
       "                    price_per_m2\n",
       "locality_name                   \n",
       "санкт-петербург    104247.984702\n",
       "пушкин              99207.832596\n",
       "деревня кудрово     92600.436714\n",
       "поселок парголово   89336.954129\n",
       "поселок мурино      85936.528290\n",
       "поселок шушары      77912.459324\n",
       "колпино             74589.439238\n",
       "гатчина             68241.087819\n",
       "всеволожск          66644.479441\n",
       "выборг              57183.455488"
      ]
     },
     "metadata": {},
     "output_type": "display_data"
    }
   ],
   "source": [
    "real_estate_df_normal_locality_price = real_estate_df_normal.query('locality_name in @top_localities.index')\\\n",
    "    .pivot_table(index='locality_name', values='price_per_m2')\\\n",
    "    .sort_values('price_per_m2', ascending=False)\n",
    "display(real_estate_df_normal_locality_price)"
   ]
  },
  {
   "cell_type": "markdown",
   "metadata": {},
   "source": [
    "<div class=\"alert alert-info\">\n",
    "    \n",
    "Выведем график зависимости цены от местоположения \n",
    "\n",
    "</div>"
   ]
  },
  {
   "cell_type": "code",
   "execution_count": 97,
   "metadata": {},
   "outputs": [
    {
     "data": {
      "image/png": "[encoded data removed]",
      "text/plain": [
       "<Figure size 432x288 with 1 Axes>"
      ]
     },
     "metadata": {
      "needs_background": "light"
     },
     "output_type": "display_data"
    }
   ],
   "source": [
    "real_estate_df_normal_locality_price.plot(grid=True)\n",
    "plt.xticks(rotation=90)\n",
    "plt.show()"
   ]
  },
  {
   "cell_type": "markdown",
   "metadata": {},
   "source": [
    "**Выводы**: \n",
    "* самый дорогой населенный пункт - это Санкт-Петербург\n",
    "* самый дешевый - Выборг"
   ]
  },
  {
   "cell_type": "markdown",
   "metadata": {},
   "source": [
    "<div class=\"alert alert-warning\">\n",
    "<h2> Комментарий ревьюера </h2>\n",
    "\n",
    "Результат по ценам в зависимости от местоположения квартир получен, можно привести график зависимости цены от местоположения.\n",
    "\n",
    "</div>"
   ]
  },
  {
   "cell_type": "markdown",
   "metadata": {},
   "source": [
    "<div class=\"alert alert-info\">\n",
    "    \n",
    "Добавил\n",
    "\n",
    "</div>"
   ]
  },
  {
   "cell_type": "markdown",
   "metadata": {},
   "source": [
    "<div class=\"alert alert-success\">\n",
    "<h2> Комментарий ревьюера 2</h2>\n",
    "\n",
    "Мы работаем с категориальными данными, поэтому стоило использовать диаграмму вместо линейного типа графика. \n",
    "\n",
    "</div>"
   ]
  },
  {
   "cell_type": "markdown",
   "metadata": {},
   "source": [
    "<a name=\"exploratory_data_analysis.localities\"></a>\n",
    "### Зависимость цены от расстояния до центра"
   ]
  },
  {
   "cell_type": "markdown",
   "metadata": {},
   "source": [
    "Сначала выделим квартиры в Санкт-Петербурге"
   ]
  },
  {
   "cell_type": "code",
   "execution_count": 98,
   "metadata": {},
   "outputs": [
    {
     "name": "stdout",
     "output_type": "stream",
     "text": [
      "10746\n"
     ]
    }
   ],
   "source": [
    "real_estate_df_normal_piter = real_estate_df_normal[real_estate_df_normal['locality_name'] == 'санкт-петербург'].copy()\n",
    "print(real_estate_df_normal_piter.shape[0])"
   ]
  },
  {
   "cell_type": "markdown",
   "metadata": {},
   "source": [
    "Теперь добавим расстояние до центра в километрах и округлим его"
   ]
  },
  {
   "cell_type": "code",
   "execution_count": 99,
   "metadata": {},
   "outputs": [
    {
     "data": {
      "text/html": [
       "<div>\n",
       "<style scoped>\n",
       "    .dataframe tbody tr th:only-of-type {\n",
       "        vertical-align: middle;\n",
       "    }\n",
       "\n",
       "    .dataframe tbody tr th {\n",
       "        vertical-align: top;\n",
       "    }\n",
       "\n",
       "    .dataframe thead th {\n",
       "        text-align: right;\n",
       "    }\n",
       "</style>\n",
       "<table border=\"1\" class=\"dataframe\">\n",
       "  <thead>\n",
       "    <tr style=\"text-align: right;\">\n",
       "      <th></th>\n",
       "      <th>images_count</th>\n",
       "      <th>last_price_rub</th>\n",
       "      <th>total_area_m2</th>\n",
       "      <th>creation_date</th>\n",
       "      <th>rooms_count</th>\n",
       "      <th>ceiling_height_m</th>\n",
       "      <th>floors_count</th>\n",
       "      <th>living_area_m2</th>\n",
       "      <th>floor</th>\n",
       "      <th>is_apartment</th>\n",
       "      <th>is_studio</th>\n",
       "      <th>is_open_plan</th>\n",
       "      <th>kitchen_area_m2</th>\n",
       "      <th>balcony_count</th>\n",
       "      <th>locality_name</th>\n",
       "      <th>nearest_airport_distance_m</th>\n",
       "      <th>nearest_city_center_distance_m</th>\n",
       "      <th>parks_around_3000m_count</th>\n",
       "      <th>nearest_park_distance_m</th>\n",
       "      <th>ponds_around_3000m_count</th>\n",
       "      <th>nearest_pond_distance_m</th>\n",
       "      <th>days_exposition</th>\n",
       "      <th>city_center_category</th>\n",
       "      <th>living_to_total_area_ratio</th>\n",
       "      <th>kitchen_to_total_area_ratio</th>\n",
       "      <th>price_per_m2</th>\n",
       "      <th>creation_date_day</th>\n",
       "      <th>creation_date_month</th>\n",
       "      <th>creation_date_year</th>\n",
       "      <th>floor_category</th>\n",
       "      <th>nearest_city_center_distance_km</th>\n",
       "    </tr>\n",
       "  </thead>\n",
       "  <tbody>\n",
       "    <tr>\n",
       "      <td>4</td>\n",
       "      <td>2</td>\n",
       "      <td>10000000</td>\n",
       "      <td>100.0</td>\n",
       "      <td>2018-06-19</td>\n",
       "      <td>2</td>\n",
       "      <td>3.03</td>\n",
       "      <td>14</td>\n",
       "      <td>32.0</td>\n",
       "      <td>13</td>\n",
       "      <td>False</td>\n",
       "      <td>False</td>\n",
       "      <td>False</td>\n",
       "      <td>41.0</td>\n",
       "      <td>1</td>\n",
       "      <td>санкт-петербург</td>\n",
       "      <td>31856.0</td>\n",
       "      <td>8098.0</td>\n",
       "      <td>2</td>\n",
       "      <td>112.0</td>\n",
       "      <td>1</td>\n",
       "      <td>48.0</td>\n",
       "      <td>121.0</td>\n",
       "      <td>город</td>\n",
       "      <td>0.320000</td>\n",
       "      <td>0.410000</td>\n",
       "      <td>100000.000000</td>\n",
       "      <td>1</td>\n",
       "      <td>6</td>\n",
       "      <td>2018</td>\n",
       "      <td>1</td>\n",
       "      <td>8.0</td>\n",
       "    </tr>\n",
       "    <tr>\n",
       "      <td>9</td>\n",
       "      <td>18</td>\n",
       "      <td>5400000</td>\n",
       "      <td>61.0</td>\n",
       "      <td>2017-02-26</td>\n",
       "      <td>3</td>\n",
       "      <td>2.50</td>\n",
       "      <td>9</td>\n",
       "      <td>43.6</td>\n",
       "      <td>7</td>\n",
       "      <td>False</td>\n",
       "      <td>False</td>\n",
       "      <td>False</td>\n",
       "      <td>6.5</td>\n",
       "      <td>2</td>\n",
       "      <td>санкт-петербург</td>\n",
       "      <td>50898.0</td>\n",
       "      <td>15008.0</td>\n",
       "      <td>0</td>\n",
       "      <td>NaN</td>\n",
       "      <td>0</td>\n",
       "      <td>NaN</td>\n",
       "      <td>289.0</td>\n",
       "      <td>город</td>\n",
       "      <td>0.714754</td>\n",
       "      <td>0.106557</td>\n",
       "      <td>88524.590164</td>\n",
       "      <td>6</td>\n",
       "      <td>2</td>\n",
       "      <td>2017</td>\n",
       "      <td>1</td>\n",
       "      <td>15.0</td>\n",
       "    </tr>\n",
       "    <tr>\n",
       "      <td>10</td>\n",
       "      <td>5</td>\n",
       "      <td>5050000</td>\n",
       "      <td>39.6</td>\n",
       "      <td>2017-11-16</td>\n",
       "      <td>1</td>\n",
       "      <td>2.67</td>\n",
       "      <td>12</td>\n",
       "      <td>20.3</td>\n",
       "      <td>3</td>\n",
       "      <td>False</td>\n",
       "      <td>False</td>\n",
       "      <td>False</td>\n",
       "      <td>8.5</td>\n",
       "      <td>1</td>\n",
       "      <td>санкт-петербург</td>\n",
       "      <td>38357.0</td>\n",
       "      <td>13878.0</td>\n",
       "      <td>1</td>\n",
       "      <td>310.0</td>\n",
       "      <td>2</td>\n",
       "      <td>553.0</td>\n",
       "      <td>137.0</td>\n",
       "      <td>город</td>\n",
       "      <td>0.512626</td>\n",
       "      <td>0.214646</td>\n",
       "      <td>127525.252525</td>\n",
       "      <td>3</td>\n",
       "      <td>11</td>\n",
       "      <td>2017</td>\n",
       "      <td>1</td>\n",
       "      <td>14.0</td>\n",
       "    </tr>\n",
       "    <tr>\n",
       "      <td>15</td>\n",
       "      <td>16</td>\n",
       "      <td>4650000</td>\n",
       "      <td>39.0</td>\n",
       "      <td>2017-11-18</td>\n",
       "      <td>1</td>\n",
       "      <td>2.60</td>\n",
       "      <td>14</td>\n",
       "      <td>20.5</td>\n",
       "      <td>5</td>\n",
       "      <td>False</td>\n",
       "      <td>False</td>\n",
       "      <td>False</td>\n",
       "      <td>7.6</td>\n",
       "      <td>1</td>\n",
       "      <td>санкт-петербург</td>\n",
       "      <td>12900.0</td>\n",
       "      <td>14259.0</td>\n",
       "      <td>1</td>\n",
       "      <td>590.0</td>\n",
       "      <td>1</td>\n",
       "      <td>296.0</td>\n",
       "      <td>19.0</td>\n",
       "      <td>город</td>\n",
       "      <td>0.525641</td>\n",
       "      <td>0.194872</td>\n",
       "      <td>119230.769231</td>\n",
       "      <td>5</td>\n",
       "      <td>11</td>\n",
       "      <td>2017</td>\n",
       "      <td>1</td>\n",
       "      <td>14.0</td>\n",
       "    </tr>\n",
       "    <tr>\n",
       "      <td>16</td>\n",
       "      <td>11</td>\n",
       "      <td>6700000</td>\n",
       "      <td>82.0</td>\n",
       "      <td>2017-11-23</td>\n",
       "      <td>3</td>\n",
       "      <td>3.05</td>\n",
       "      <td>5</td>\n",
       "      <td>55.6</td>\n",
       "      <td>1</td>\n",
       "      <td>False</td>\n",
       "      <td>False</td>\n",
       "      <td>False</td>\n",
       "      <td>9.0</td>\n",
       "      <td>1</td>\n",
       "      <td>санкт-петербург</td>\n",
       "      <td>22108.0</td>\n",
       "      <td>10698.0</td>\n",
       "      <td>3</td>\n",
       "      <td>420.0</td>\n",
       "      <td>0</td>\n",
       "      <td>NaN</td>\n",
       "      <td>397.0</td>\n",
       "      <td>город</td>\n",
       "      <td>0.678049</td>\n",
       "      <td>0.109756</td>\n",
       "      <td>81707.317073</td>\n",
       "      <td>3</td>\n",
       "      <td>11</td>\n",
       "      <td>2017</td>\n",
       "      <td>0</td>\n",
       "      <td>11.0</td>\n",
       "    </tr>\n",
       "  </tbody>\n",
       "</table>\n",
       "</div>"
      ],
      "text/plain": [
       "    images_count  last_price_rub  total_area_m2 creation_date  rooms_count  \\\n",
       "4              2        10000000          100.0    2018-06-19            2   \n",
       "9             18         5400000           61.0    2017-02-26            3   \n",
       "10             5         5050000           39.6    2017-11-16            1   \n",
       "15            16         4650000           39.0    2017-11-18            1   \n",
       "16            11         6700000           82.0    2017-11-23            3   \n",
       "\n",
       "    ceiling_height_m  floors_count  living_area_m2  floor  is_apartment  \\\n",
       "4               3.03            14            32.0     13         False   \n",
       "9               2.50             9            43.6      7         False   \n",
       "10              2.67            12            20.3      3         False   \n",
       "15              2.60            14            20.5      5         False   \n",
       "16              3.05             5            55.6      1         False   \n",
       "\n",
       "    is_studio  is_open_plan  kitchen_area_m2  balcony_count    locality_name  \\\n",
       "4       False         False             41.0              1  санкт-петербург   \n",
       "9       False         False              6.5              2  санкт-петербург   \n",
       "10      False         False              8.5              1  санкт-петербург   \n",
       "15      False         False              7.6              1  санкт-петербург   \n",
       "16      False         False              9.0              1  санкт-петербург   \n",
       "\n",
       "    nearest_airport_distance_m  nearest_city_center_distance_m  \\\n",
       "4                      31856.0                          8098.0   \n",
       "9                      50898.0                         15008.0   \n",
       "10                     38357.0                         13878.0   \n",
       "15                     12900.0                         14259.0   \n",
       "16                     22108.0                         10698.0   \n",
       "\n",
       "    parks_around_3000m_count  nearest_park_distance_m  \\\n",
       "4                          2                    112.0   \n",
       "9                          0                      NaN   \n",
       "10                         1                    310.0   \n",
       "15                         1                    590.0   \n",
       "16                         3                    420.0   \n",
       "\n",
       "    ponds_around_3000m_count  nearest_pond_distance_m  days_exposition  \\\n",
       "4                          1                     48.0            121.0   \n",
       "9                          0                      NaN            289.0   \n",
       "10                         2                    553.0            137.0   \n",
       "15                         1                    296.0             19.0   \n",
       "16                         0                      NaN            397.0   \n",
       "\n",
       "   city_center_category  living_to_total_area_ratio  \\\n",
       "4                 город                    0.320000   \n",
       "9                 город                    0.714754   \n",
       "10                город                    0.512626   \n",
       "15                город                    0.525641   \n",
       "16                город                    0.678049   \n",
       "\n",
       "    kitchen_to_total_area_ratio   price_per_m2  creation_date_day  \\\n",
       "4                      0.410000  100000.000000                  1   \n",
       "9                      0.106557   88524.590164                  6   \n",
       "10                     0.214646  127525.252525                  3   \n",
       "15                     0.194872  119230.769231                  5   \n",
       "16                     0.109756   81707.317073                  3   \n",
       "\n",
       "    creation_date_month  creation_date_year  floor_category  \\\n",
       "4                     6                2018               1   \n",
       "9                     2                2017               1   \n",
       "10                   11                2017               1   \n",
       "15                   11                2017               1   \n",
       "16                   11                2017               0   \n",
       "\n",
       "    nearest_city_center_distance_km  \n",
       "4                               8.0  \n",
       "9                              15.0  \n",
       "10                             14.0  \n",
       "15                             14.0  \n",
       "16                             11.0  "
      ]
     },
     "execution_count": 99,
     "metadata": {},
     "output_type": "execute_result"
    }
   ],
   "source": [
    "real_estate_df_normal_piter['nearest_city_center_distance_km'] = real_estate_df_normal_piter['nearest_city_center_distance_m'] / 1000\n",
    "real_estate_df_normal_piter['nearest_city_center_distance_km'] = real_estate_df_normal_piter['nearest_city_center_distance_km'].round()\n",
    "real_estate_df_normal_piter.head(5)"
   ]
  },
  {
   "cell_type": "markdown",
   "metadata": {},
   "source": [
    "Посчитаем среднюю цену для каждого километра и построим по этим значениям график"
   ]
  },
  {
   "cell_type": "markdown",
   "metadata": {},
   "source": [
    "<div class=\"alert alert-success\">\n",
    "<h2> Комментарий ревьюера</h2>\n",
    "\n",
    "Импорт необходимых библиотек следует произволить в первой ячейке работы, как то рекомендует стандарт. \n",
    "\n",
    "</div>"
   ]
  },
  {
   "cell_type": "code",
   "execution_count": 100,
   "metadata": {},
   "outputs": [
    {
     "data": {
      "image/png": "[encoded data removed]",
      "text/plain": [
       "<Figure size 432x288 with 1 Axes>"
      ]
     },
     "metadata": {
      "needs_background": "light"
     },
     "output_type": "display_data"
    }
   ],
   "source": [
    "import numpy as np\n",
    "\n",
    "real_estate_df_normal_piter_km_price = real_estate_df_normal_piter.pivot_table(index='nearest_city_center_distance_km', values='last_price_rub')\n",
    "plot = real_estate_df_normal_piter_km_price.plot(\n",
    "    grid=True, \n",
    "    xticks=np.arange(real_estate_df_normal_piter['nearest_city_center_distance_km'].max()),\n",
    ")\n",
    "plt.show()"
   ]
  },
  {
   "cell_type": "markdown",
   "metadata": {},
   "source": [
    "Если посмотреть на график, то видно, что резкое падение цены случается на расстоянии 8 км, соответственно это и есть граница центра"
   ]
  },
  {
   "cell_type": "markdown",
   "metadata": {},
   "source": [
    "**Вывод**: мы нашли, что граница центральной зоны - 8 км"
   ]
  },
  {
   "cell_type": "markdown",
   "metadata": {},
   "source": [
    "<div class=\"alert alert-success\">\n",
    "<h2> Комментарий ревьюера </h2>\n",
    "\n",
    "Да, именно эту границу мы можем назвать границей центральной части области. \n",
    "\n",
    "</div>"
   ]
  },
  {
   "cell_type": "markdown",
   "metadata": {},
   "source": [
    "<a name=\"exploratory_data_analysis.center\"></a>\n",
    "### Анализ квартир в центре"
   ]
  },
  {
   "cell_type": "markdown",
   "metadata": {},
   "source": [
    "Возьмем срез по квартирам, находящимся в центре"
   ]
  },
  {
   "cell_type": "code",
   "execution_count": 101,
   "metadata": {},
   "outputs": [
    {
     "name": "stdout",
     "output_type": "stream",
     "text": [
      "1735\n"
     ]
    }
   ],
   "source": [
    "real_estate_df_normal_piter_center = real_estate_df_normal_piter[real_estate_df_normal_piter['nearest_city_center_distance_km'] <= 8]\n",
    "print(real_estate_df_normal_piter_center.shape[0])"
   ]
  },
  {
   "cell_type": "markdown",
   "metadata": {},
   "source": [
    "<a name=\"exploratory_data_analysis.center.total_area_m2\"></a>\n",
    "#### Площадь"
   ]
  },
  {
   "cell_type": "code",
   "execution_count": 102,
   "metadata": {},
   "outputs": [
    {
     "data": {
      "text/plain": [
       "count    1735.000000\n",
       "mean       60.421118\n",
       "std        20.129131\n",
       "min        12.000000\n",
       "25%        44.500000\n",
       "50%        58.500000\n",
       "75%        74.400000\n",
       "max       115.000000\n",
       "Name: total_area_m2, dtype: float64"
      ]
     },
     "metadata": {},
     "output_type": "display_data"
    },
    {
     "name": "stdout",
     "output_type": "stream",
     "text": [
      "Границы нормальных значений для столбца total_area_m2: (12.00, 115.00)\n"
     ]
    },
    {
     "data": {
      "image/png": "[encoded data removed]",
      "text/plain": [
       "<Figure size 432x288 with 1 Axes>"
      ]
     },
     "metadata": {
      "needs_background": "light"
     },
     "output_type": "display_data"
    },
    {
     "data": {
      "image/png": "[encoded data removed]",
      "text/plain": [
       "<Figure size 432x288 with 1 Axes>"
      ]
     },
     "metadata": {
      "needs_background": "light"
     },
     "output_type": "display_data"
    }
   ],
   "source": [
    "total_area_m2_analyzer = NormalRangeAnalyzer(real_estate_df_normal_piter_center['total_area_m2'], 'total_area_m2')\n",
    "total_area_m2_analyzer.describe() \n",
    "total_area_m2_analyzer.boxplot() \n",
    "total_area_m2_analyzer.hist() "
   ]
  },
  {
   "cell_type": "markdown",
   "metadata": {},
   "source": [
    "**Вывод**: площадь квартир в центре похожа на площадь всех других квартир"
   ]
  },
  {
   "cell_type": "markdown",
   "metadata": {},
   "source": [
    "<a name=\"exploratory_data_analysis.center.last_price_rub\"></a>\n",
    "#### Цена"
   ]
  },
  {
   "cell_type": "code",
   "execution_count": 103,
   "metadata": {},
   "outputs": [
    {
     "data": {
      "text/plain": [
       "count    1.735000e+03\n",
       "mean     6.885738e+06\n",
       "std      2.189932e+06\n",
       "min      1.600000e+06\n",
       "25%      5.200000e+06\n",
       "50%      6.700000e+06\n",
       "75%      8.500000e+06\n",
       "max      1.189440e+07\n",
       "Name: last_price_rub, dtype: float64"
      ]
     },
     "metadata": {},
     "output_type": "display_data"
    },
    {
     "name": "stdout",
     "output_type": "stream",
     "text": [
      "Границы нормальных значений для столбца last_price_rub: (1600000.00, 11894400.00)\n"
     ]
    },
    {
     "data": {
      "image/png": "[encoded data removed]",
      "text/plain": [
       "<Figure size 432x288 with 1 Axes>"
      ]
     },
     "metadata": {
      "needs_background": "light"
     },
     "output_type": "display_data"
    },
    {
     "data": {
      "image/png": "[encoded data removed]",
      "text/plain": [
       "<Figure size 432x288 with 1 Axes>"
      ]
     },
     "metadata": {
      "needs_background": "light"
     },
     "output_type": "display_data"
    }
   ],
   "source": [
    "last_price_rub_analyzer = NormalRangeAnalyzer(real_estate_df_normal_piter_center['last_price_rub'], 'last_price_rub')\n",
    "last_price_rub_analyzer.describe() \n",
    "last_price_rub_analyzer.boxplot() \n",
    "last_price_rub_analyzer.hist()"
   ]
  },
  {
   "cell_type": "markdown",
   "metadata": {},
   "source": [
    "**Вывод**: цена квартиры в центре выше, особенно медианное"
   ]
  },
  {
   "cell_type": "markdown",
   "metadata": {},
   "source": [
    "<a name=\"exploratory_data_analysis.center.rooms\"></a>\n",
    "#### Число комнат"
   ]
  },
  {
   "cell_type": "code",
   "execution_count": 104,
   "metadata": {},
   "outputs": [
    {
     "data": {
      "text/plain": [
       "count    1735.000000\n",
       "mean        2.121614\n",
       "std         0.912346\n",
       "min         0.000000\n",
       "25%         1.000000\n",
       "50%         2.000000\n",
       "75%         3.000000\n",
       "max         6.000000\n",
       "Name: rooms_count, dtype: float64"
      ]
     },
     "metadata": {},
     "output_type": "display_data"
    },
    {
     "name": "stdout",
     "output_type": "stream",
     "text": [
      "Границы нормальных значений для столбца rooms_count: (0.00, 6.00)\n"
     ]
    },
    {
     "data": {
      "image/png": "[encoded data removed]",
      "text/plain": [
       "<Figure size 432x288 with 1 Axes>"
      ]
     },
     "metadata": {
      "needs_background": "light"
     },
     "output_type": "display_data"
    },
    {
     "data": {
      "image/png": "[encoded data removed]",
      "text/plain": [
       "<Figure size 432x288 with 1 Axes>"
      ]
     },
     "metadata": {
      "needs_background": "light"
     },
     "output_type": "display_data"
    }
   ],
   "source": [
    "rooms_count_analyser = NormalRangeAnalyzer(real_estate_df_normal_piter_center['rooms_count'], 'rooms_count')\n",
    "rooms_count_analyser.describe() \n",
    "rooms_count_analyser.boxplot()\n",
    "rooms_count_analyser.hist(bins=6)"
   ]
  },
  {
   "cell_type": "markdown",
   "metadata": {},
   "source": [
    "**Вывод**: Видно, что в центре меньшее сотношение однокомнатных квартир по сравнению со всеми квартирами"
   ]
  },
  {
   "cell_type": "markdown",
   "metadata": {},
   "source": [
    "<a name=\"exploratory_data_analysis.center.ceiling_height_m\"></a>\n",
    "#### Высота потолков"
   ]
  },
  {
   "cell_type": "code",
   "execution_count": 105,
   "metadata": {},
   "outputs": [
    {
     "data": {
      "text/plain": [
       "count    1735.000000\n",
       "mean        2.873222\n",
       "std         0.183529\n",
       "min         2.400000\n",
       "25%         2.710000\n",
       "50%         3.000000\n",
       "75%         3.000000\n",
       "max         3.100000\n",
       "Name: ceiling_height_m, dtype: float64"
      ]
     },
     "metadata": {},
     "output_type": "display_data"
    },
    {
     "name": "stdout",
     "output_type": "stream",
     "text": [
      "Границы нормальных значений для столбца ceiling_height_m: (2.40, 3.10)\n"
     ]
    },
    {
     "data": {
      "image/png": "[encoded data removed]",
      "text/plain": [
       "<Figure size 432x288 with 1 Axes>"
      ]
     },
     "metadata": {
      "needs_background": "light"
     },
     "output_type": "display_data"
    },
    {
     "data": {
      "image/png": "[encoded data removed]",
      "text/plain": [
       "<Figure size 432x288 with 1 Axes>"
      ]
     },
     "metadata": {
      "needs_background": "light"
     },
     "output_type": "display_data"
    }
   ],
   "source": [
    "ceiling_height_m_analyser = NormalRangeAnalyzer(real_estate_df_normal_piter_center['ceiling_height_m'], 'ceiling_height_m')\n",
    "ceiling_height_m_analyser.describe() \n",
    "ceiling_height_m_analyser.boxplot()\n",
    "ceiling_height_m_analyser.hist(bins=30)"
   ]
  },
  {
   "cell_type": "markdown",
   "metadata": {},
   "source": [
    "**Вывод**: В центре меньше квартир с низкими потолками"
   ]
  },
  {
   "cell_type": "markdown",
   "metadata": {},
   "source": [
    "<div class=\"alert alert-success\">\n",
    "<h2> Комментарий ревьюера </h2>\n",
    "\n",
    "А вот и вся суть функций. Мы можем их использовать в последующем анализе. \n",
    "\n",
    "</div>"
   ]
  },
  {
   "cell_type": "markdown",
   "metadata": {},
   "source": [
    "<a name=\"exploratory_data_analysis.center.corr\"></a>\n",
    "#### Выделение факторов, которые больше всего влияют на стоимость квартиры"
   ]
  },
  {
   "cell_type": "markdown",
   "metadata": {},
   "source": [
    "Построим матрицу корреляциии для столбцов `total_area_m2`, `rooms_count`, `nearest_city_center_distance_m`, `creation_date_day`, `creation_date_month`, `creation_date_year` и `last_price_rub`"
   ]
  },
  {
   "cell_type": "code",
   "execution_count": 106,
   "metadata": {},
   "outputs": [
    {
     "data": {
      "text/html": [
       "<div>\n",
       "<style scoped>\n",
       "    .dataframe tbody tr th:only-of-type {\n",
       "        vertical-align: middle;\n",
       "    }\n",
       "\n",
       "    .dataframe tbody tr th {\n",
       "        vertical-align: top;\n",
       "    }\n",
       "\n",
       "    .dataframe thead th {\n",
       "        text-align: right;\n",
       "    }\n",
       "</style>\n",
       "<table border=\"1\" class=\"dataframe\">\n",
       "  <thead>\n",
       "    <tr style=\"text-align: right;\">\n",
       "      <th></th>\n",
       "      <th>last_price_rub</th>\n",
       "      <th>total_area_m2</th>\n",
       "      <th>rooms_count</th>\n",
       "      <th>nearest_city_center_distance_m</th>\n",
       "      <th>creation_date_day</th>\n",
       "      <th>creation_date_month</th>\n",
       "      <th>creation_date_year</th>\n",
       "      <th>floor_category</th>\n",
       "    </tr>\n",
       "  </thead>\n",
       "  <tbody>\n",
       "    <tr>\n",
       "      <td>last_price_rub</td>\n",
       "      <td>1.000000</td>\n",
       "      <td>0.712398</td>\n",
       "      <td>0.440257</td>\n",
       "      <td>-0.151231</td>\n",
       "      <td>0.015409</td>\n",
       "      <td>-0.013958</td>\n",
       "      <td>-0.007009</td>\n",
       "      <td>0.137026</td>\n",
       "    </tr>\n",
       "    <tr>\n",
       "      <td>total_area_m2</td>\n",
       "      <td>0.712398</td>\n",
       "      <td>1.000000</td>\n",
       "      <td>0.799398</td>\n",
       "      <td>-0.189710</td>\n",
       "      <td>-0.006863</td>\n",
       "      <td>0.018613</td>\n",
       "      <td>-0.092739</td>\n",
       "      <td>0.117278</td>\n",
       "    </tr>\n",
       "    <tr>\n",
       "      <td>rooms_count</td>\n",
       "      <td>0.440257</td>\n",
       "      <td>0.799398</td>\n",
       "      <td>1.000000</td>\n",
       "      <td>-0.184033</td>\n",
       "      <td>-0.015626</td>\n",
       "      <td>0.023416</td>\n",
       "      <td>-0.060373</td>\n",
       "      <td>0.109679</td>\n",
       "    </tr>\n",
       "    <tr>\n",
       "      <td>floor_category</td>\n",
       "      <td>0.137026</td>\n",
       "      <td>0.117278</td>\n",
       "      <td>0.109679</td>\n",
       "      <td>-0.002101</td>\n",
       "      <td>0.014610</td>\n",
       "      <td>0.009318</td>\n",
       "      <td>0.025459</td>\n",
       "      <td>1.000000</td>\n",
       "    </tr>\n",
       "    <tr>\n",
       "      <td>creation_date_day</td>\n",
       "      <td>0.015409</td>\n",
       "      <td>-0.006863</td>\n",
       "      <td>-0.015626</td>\n",
       "      <td>0.024424</td>\n",
       "      <td>1.000000</td>\n",
       "      <td>0.053384</td>\n",
       "      <td>0.025262</td>\n",
       "      <td>0.014610</td>\n",
       "    </tr>\n",
       "    <tr>\n",
       "      <td>creation_date_year</td>\n",
       "      <td>-0.007009</td>\n",
       "      <td>-0.092739</td>\n",
       "      <td>-0.060373</td>\n",
       "      <td>0.069632</td>\n",
       "      <td>0.025262</td>\n",
       "      <td>-0.214805</td>\n",
       "      <td>1.000000</td>\n",
       "      <td>0.025459</td>\n",
       "    </tr>\n",
       "    <tr>\n",
       "      <td>creation_date_month</td>\n",
       "      <td>-0.013958</td>\n",
       "      <td>0.018613</td>\n",
       "      <td>0.023416</td>\n",
       "      <td>-0.040111</td>\n",
       "      <td>0.053384</td>\n",
       "      <td>1.000000</td>\n",
       "      <td>-0.214805</td>\n",
       "      <td>0.009318</td>\n",
       "    </tr>\n",
       "    <tr>\n",
       "      <td>nearest_city_center_distance_m</td>\n",
       "      <td>-0.151231</td>\n",
       "      <td>-0.189710</td>\n",
       "      <td>-0.184033</td>\n",
       "      <td>1.000000</td>\n",
       "      <td>0.024424</td>\n",
       "      <td>-0.040111</td>\n",
       "      <td>0.069632</td>\n",
       "      <td>-0.002101</td>\n",
       "    </tr>\n",
       "  </tbody>\n",
       "</table>\n",
       "</div>"
      ],
      "text/plain": [
       "                                last_price_rub  total_area_m2  rooms_count  \\\n",
       "last_price_rub                        1.000000       0.712398     0.440257   \n",
       "total_area_m2                         0.712398       1.000000     0.799398   \n",
       "rooms_count                           0.440257       0.799398     1.000000   \n",
       "floor_category                        0.137026       0.117278     0.109679   \n",
       "creation_date_day                     0.015409      -0.006863    -0.015626   \n",
       "creation_date_year                   -0.007009      -0.092739    -0.060373   \n",
       "creation_date_month                  -0.013958       0.018613     0.023416   \n",
       "nearest_city_center_distance_m       -0.151231      -0.189710    -0.184033   \n",
       "\n",
       "                                nearest_city_center_distance_m  \\\n",
       "last_price_rub                                       -0.151231   \n",
       "total_area_m2                                        -0.189710   \n",
       "rooms_count                                          -0.184033   \n",
       "floor_category                                       -0.002101   \n",
       "creation_date_day                                     0.024424   \n",
       "creation_date_year                                    0.069632   \n",
       "creation_date_month                                  -0.040111   \n",
       "nearest_city_center_distance_m                        1.000000   \n",
       "\n",
       "                                creation_date_day  creation_date_month  \\\n",
       "last_price_rub                           0.015409            -0.013958   \n",
       "total_area_m2                           -0.006863             0.018613   \n",
       "rooms_count                             -0.015626             0.023416   \n",
       "floor_category                           0.014610             0.009318   \n",
       "creation_date_day                        1.000000             0.053384   \n",
       "creation_date_year                       0.025262            -0.214805   \n",
       "creation_date_month                      0.053384             1.000000   \n",
       "nearest_city_center_distance_m           0.024424            -0.040111   \n",
       "\n",
       "                                creation_date_year  floor_category  \n",
       "last_price_rub                           -0.007009        0.137026  \n",
       "total_area_m2                            -0.092739        0.117278  \n",
       "rooms_count                              -0.060373        0.109679  \n",
       "floor_category                            0.025459        1.000000  \n",
       "creation_date_day                         0.025262        0.014610  \n",
       "creation_date_year                        1.000000        0.025459  \n",
       "creation_date_month                      -0.214805        0.009318  \n",
       "nearest_city_center_distance_m            0.069632       -0.002101  "
      ]
     },
     "execution_count": 106,
     "metadata": {},
     "output_type": "execute_result"
    }
   ],
   "source": [
    "real_estate_df_normal_piter_center[[\n",
    "    'last_price_rub',\n",
    "    'total_area_m2',\n",
    "    'rooms_count', \n",
    "    'nearest_city_center_distance_m', \n",
    "    'creation_date_day',\n",
    "    'creation_date_month',\n",
    "    'creation_date_year',\n",
    "    'floor_category',\n",
    "]].corr().sort_values('last_price_rub', ascending=False)"
   ]
  },
  {
   "cell_type": "markdown",
   "metadata": {},
   "source": [
    "Наблюдаем те же корреляции, что и для остальных квартир:\n",
    "* сильно влияет размер квартиры \n",
    "* этаж также влияет на стоиомость - первый самый дешевый\n",
    "* число комнат влияет не очень сильно \n",
    "* дата почти не влияет "
   ]
  },
  {
   "cell_type": "markdown",
   "metadata": {},
   "source": [
    "<div class=\"alert alert-danger\">\n",
    "<h2> Комментарий ревьюера </h2>\n",
    "\n",
    "Опять же, помимо корреляций, нам нужны графики зависимости цены от параметров.\n",
    "    \n",
    "Будет здорово, если ты построишь графики зависимости цены кв. метра от параметров квартиры для центра и для остальной части города на одном рисунке. Так различия в данных будет легче обнаружить. \n",
    "\n",
    "</div>"
   ]
  },
  {
   "cell_type": "markdown",
   "metadata": {},
   "source": [
    "<div class=\"alert alert-info\">\n",
    "\n",
    "Выведем зависимости цены m<sup>2</sup> от основных параметров квартир в центре \n",
    "    \n",
    "</div>"
   ]
  },
  {
   "cell_type": "code",
   "execution_count": 142,
   "metadata": {},
   "outputs": [
    {
     "data": {
      "image/png": "[encoded data removed]",
      "text/plain": [
       "<Figure size 1440x360 with 4 Axes>"
      ]
     },
     "metadata": {
      "needs_background": "light"
     },
     "output_type": "display_data"
    }
   ],
   "source": [
    "factors = ('total_area_m2', 'rooms_count', 'nearest_city_center_distance_m', 'floor_category')\n",
    "\n",
    "fig, axes = plt.subplots(nrows=1, ncols=len(factors))\n",
    "\n",
    "for idx, factor in enumerate(factors):\n",
    "    real_estate_df_normal_piter_center.plot(x=factor, y='price_per_m2', kind='scatter', ax=axes[idx], figsize=(20,5))\n",
    "\n",
    "plt.show()"
   ]
  },
  {
   "cell_type": "markdown",
   "metadata": {},
   "source": [
    "Сравним их с квартирами со всего города"
   ]
  },
  {
   "cell_type": "code",
   "execution_count": 140,
   "metadata": {},
   "outputs": [
    {
     "data": {
      "image/png": "[encoded data removed]",
      "text/plain": [
       "<Figure size 1440x360 with 4 Axes>"
      ]
     },
     "metadata": {
      "needs_background": "light"
     },
     "output_type": "display_data"
    }
   ],
   "source": [
    "factors = ('total_area_m2', 'rooms_count', 'nearest_city_center_distance_m', 'floor_category')\n",
    "\n",
    "fig, axes = plt.subplots(nrows=1, ncols=len(factors))\n",
    "\n",
    "for idx, factor in enumerate(factors):\n",
    "    real_estate_df_normal_piter.plot(x=factor, y='price_per_m2', kind='scatter', ax=axes[idx], figsize=(20,5))\n",
    "\n",
    "plt.show()"
   ]
  },
  {
   "cell_type": "markdown",
   "metadata": {},
   "source": [
    "<div class=\"alert alert-success\">\n",
    "<h2> Комментарий ревьюера 2</h2>\n",
    "\n",
    "Крутая реализация, молодец. Лучше все же построить графики на одном рисунке. Так сравнить показатели мы смогли бы качественнее.  \n",
    "\n",
    "</div>"
   ]
  },
  {
   "cell_type": "markdown",
   "metadata": {},
   "source": [
    "<a name=\"general_conclusion\"></a>\n",
    "## Шаг 5. Общий вывод"
   ]
  },
  {
   "cell_type": "markdown",
   "metadata": {},
   "source": [
    "Была проведена работа по анализу рынка недвижимости Санкт-Петербурга.  \n",
    "Сначала были обработаны дубликаты и пропуски в данных, типы данных были изменены на подходящие. \n",
    "После добавления необходимых данных в таблицу был произведен анализ данных: были обработаны основные параметры квартиры, найдены и отброшены выбросы.\n",
    "Затем были решены 4 задачи: \n",
    "* Проведен анализ основных факторов, которые влияют на стоимость квартиры\n",
    "* Найден топ населенных пунктов по цене на квартиры\n",
    "* Проанализированно соотношение между ценой и удаленностью от центра \n",
    "* Для центрального района был заново произведен анализ факторов\n",
    "\n",
    "Факторы, влияющие на стоимость:\n",
    "* чем ближе к центру Санкт-Петербурга, тем дороже недвижимость\n",
    "* потолки в центре выше\n",
    "* первый и последний этажи дешевле, чем все остальные\n",
    "* чем больше площадь квартиры, тем она дороже\n",
    "* также стоимость квартиры повышает кол-во комнат, но площадь все равно отсается более важным фактором "
   ]
  },
  {
   "cell_type": "markdown",
   "metadata": {},
   "source": [
    "<div class=\"alert alert-success\">\n",
    "<h2> Комментарий ревьюера </h2>\n",
    "\n",
    "Выводы описаны грамотно. Приведены ответы на главные вопросы проекта. В выводах можно приводить полученные ранее значения, правильно. Здорово, что по каждому пункту работы приведен вывод.     \n",
    "\n",
    "</div>"
   ]
  },
  {
   "cell_type": "markdown",
   "metadata": {},
   "source": [
    "<div class=\"alert alert-warning\">\n",
    "<h2> Комментарий ревьюера </h2>\n",
    "\n",
    "Если тебе нравится тема визуализации, то можешь изучить методы библиотеки seaborn. Она позволяет строить довольно презентабельные графики. \n",
    "\n",
    "Ты выполнил все пункты работы, молодец! Очень радует твой подход к анализу, особенно к автоматизации процессов. Теперь осталось подробнее поработать с разделом анализа зависимостей цены от параметров как для всех данных, так и для центра. Тогда получится очень достойная работа :)\n",
    "\n",
    "</div>"
   ]
  },
  {
   "cell_type": "markdown",
   "metadata": {},
   "source": [
    "<div class=\"alert alert-success\">\n",
    "<h2> Комментарий ревьюера 2</h2>\n",
    "\n",
    "Помарки исправлены, анализ теперь сделан полностью, работа выполнена хорошо. Спасибо за обратную связь по помаркам. Успехов в дальнейших проектах :)\n",
    "\n",
    "</div>"
   ]
  },
  {
   "cell_type": "markdown",
   "metadata": {},
   "source": [
    "### Чек-лист готовности проекта\n",
    "\n",
    "Поставьте 'x' в выполненных пунктах. Далее нажмите Shift+Enter."
   ]
  },
  {
   "cell_type": "markdown",
   "metadata": {},
   "source": [
    "- [x]  открыт файл\n",
    "- [x]  файлы изучены (выведены первые строки, метод info())\n",
    "- [x]  определены пропущенные значения\n",
    "- [x]  заполнены пропущенные значения\n",
    "- [x]  есть пояснение, какие пропущенные значения обнаружены\n",
    "- [x]  изменены типы данных\n",
    "- [x]  есть пояснение, в каких столбцах изменены типы и почему\n",
    "- [x]  посчитано и добавлено в таблицу: цена квадратного метра\n",
    "- [x]  посчитано и добавлено в таблицу: день недели, месяц и год публикации объявления\n",
    "- [x]  посчитано и добавлено в таблицу: этаж квартиры; варианты — первый, последний, другой\n",
    "- [x]  посчитано и добавлено в таблицу: соотношение жилой и общей площади, а также отношение площади кухни к общей\n",
    "- [x]  изучены следующие параметры: площадь, цена, число комнат, высота потолков\n",
    "- [x]  построены гистограммы для каждого параметра\n",
    "- [x]  выполнено задание: \"Изучите время продажи квартиры. Постройте гистограмму. Посчитайте среднее и медиану. Опишите, сколько обычно занимает продажа. Когда можно считать, что продажи прошли очень быстро, а когда необычно долго?\"\n",
    "- [x]  выполнено задание: \"Уберите редкие и выбивающиеся значения. Опишите, какие особенности обнаружили.\"\n",
    "- [x]  выполнено задание: \"Какие факторы больше всего влияют на стоимость квартиры? Изучите, зависит ли цена от квадратного метра, числа комнат, этажа (первого или последнего), удалённости от центра. Также изучите зависимость от даты размещения: дня недели, месяца и года. \"Выберите 10 населённых пунктов с наибольшим числом объявлений. Посчитайте среднюю цену квадратного метра в этих населённых пунктах. Выделите населённые пункты с самой высокой и низкой стоимостью жилья. Эти данные можно найти по имени в столбце '*locality_name'*. \"\n",
    "- [x]  выполнено задание: \"Изучите предложения квартир: для каждой квартиры есть информация о расстоянии до центра. Выделите квартиры в Санкт-Петербурге (*'locality_name'*). Ваша задача — выяснить, какая область входит в центр. Создайте столбец с расстоянием до центра в километрах: округлите до целых значений. После этого посчитайте среднюю цену для каждого километра. Постройте график: он должен показывать, как цена зависит от удалённости от центра. Определите границу, где график сильно меняется — это и будет центральная зона. \"\n",
    "- [x]  выполнено задание: \"Выделите сегмент квартир в центре. Проанализируйте эту территорию и изучите следующие параметры: площадь, цена, число комнат, высота потолков. Также выделите факторы, которые влияют на стоимость квартиры (число комнат, этаж, удалённость от центра, дата размещения объявления). Сделайте выводы. Отличаются ли они от общих выводов по всему городу?\"\n",
    "- [x]  в каждом этапе есть выводы\n",
    "- [x]  есть общий вывод"
   ]
  }
 ],
 "metadata": {
  "kernelspec": {
   "display_name": "Python 3",
   "language": "python",
   "name": "python3"
  },
  "language_info": {
   "codemirror_mode": {
    "name": "ipython",
    "version": 3
   },
   "file_extension": ".py",
   "mimetype": "text/x-python",
   "name": "python",
   "nbconvert_exporter": "python",
   "pygments_lexer": "ipython3",
   "version": "3.7.6"
  }
 },
 "nbformat": 4,
 "nbformat_minor": 2
}
