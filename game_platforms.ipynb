{
 "cells": [
  {
   "cell_type": "markdown",
   "metadata": {},
   "source": [
    "<div class=\"alert alert-success\">\n",
    "<h2> Комментарий ревьюера 3</h2>\n",
    "\n",
    "Привет. Оформление комментариев по работе сохраняется. Только обозначим, что это третья итерация. \n",
    "\n",
    "</div>"
   ]
  },
  {
   "cell_type": "markdown",
   "metadata": {},
   "source": [
    "<div class=\"alert alert-success\">\n",
    "<h2> Комментарий ревьюера 2</h2>\n",
    "\n",
    "Привет еще раз. Спасибо, что доделал работу. Оформление комментариев по работе сохраняется. Только обозначим, что это вторая итерация. \n",
    "\n",
    "</div>"
   ]
  },
  {
   "cell_type": "markdown",
   "metadata": {},
   "source": [
    "<div class=\"alert alert-success\">\n",
    "<h2> Комментарий ревьюера </h2>\n",
    "\n",
    "Привет! Спасибо, что исправил задание:) Поздравляю с приближением к концу первого модуля. Ты проделал большую работу над проектом, Давай его еще доработаем. Будет здорово, если ты, надеюсь, не против, если я буду на ты,  будешь отвечать на комментарии и участвовать в диалоге. \n",
    "\n",
    "Мои комментарии обозначены пометкой **Комментарий ревьюера**. Далее в файле ты сможешь найти их в похожих ячейках (если фон комментария <font color=green>зелёный</font> - всё сделано правильно. Рекомендации укажу таким же цветом; <font color=orange>оранжевый</font> - некритичные замечания. Если таких замечаний меньше трех - проект может быть принят без их отработки; <font color=red>красный</font> - нужно переделать). Не удаляй эти комментарии и постарайся учесть их в ходе выполнения данного проекта. \n",
    "</div>"
   ]
  },
  {
   "cell_type": "markdown",
   "metadata": {},
   "source": [
    "<div class=\"alert alert-success\">\n",
    "<h2> Комментарий ревьюера </h2>\n",
    "\n",
    "Привет! Спасибо, что прислал задание. Извини за задержку при проверке( Поздравляю с приближением к концу первого модуля. Меня зовут Слепцов Артем и я буду проверять твой проект. Это снова я) К сожалению, ошибка в коде мешает мне запустить твой проект целиком. Код должен отрабатывать без моих дополнительных вмешательств. Пожалуйста, исправь помарку и присылай работу снова. На следующих итерациях задержек не будет :)\n",
    "</div>"
   ]
  },
  {
   "cell_type": "markdown",
   "metadata": {},
   "source": [
    "## Описание проекта\n",
    "\n",
    "Вы работаете в интернет-магазине «Стримчик», который продаёт по всему миру компьютерные игры.  \n",
    "Из открытых источников доступны исторические данные о продажах игр, оценки пользователей и экспертов, жанры и платформы (например, Xbox или PlayStation).  \n",
    "Нужно выявить определяющие успешность игры закономерности. Это позволит сделать ставку на потенциально популярный продукт и спланировать рекламные кампании. \n",
    "Перед вами данные до 2016 года. Представим, что сейчас декабрь 2016 г., и вы планируете кампанию на 2017-й. "
   ]
  },
  {
   "cell_type": "markdown",
   "metadata": {},
   "source": [
    "## Содержание\n",
    "* [Шаг 1. Изучение общей информации](#open_file)\n",
    "* [Шаг 2. Подготовка данных](#data_preprocessing)\n",
    "  * [Переименование столбцов](#data_preprocessing.rename)\n",
    "  * [Обработка пропусков в данных](#data_preprocessing.missing)\n",
    "    * [Название игры и жанр](#data_preprocessing.missing.name)\n",
    "    * [Год выпуска](#data_preprocessing.missing.year_of_release)\n",
    "    * [Оценка критиков](#data_preprocessing.missing.critic_score)\n",
    "    * [Оценка игроков](#data_preprocessing.missing.user_score)\n",
    "    * [Рейтинг ESRB](#data_preprocessing.missing.rating)\n",
    "  * [Изменение типов данных](#data_preprocessing.change_types)\n",
    "    * [Год выпуска](#data_preprocessing.change_types.year_of_release)\n",
    "    * [Оценка критиков](#data_preprocessing.change_types.critic_score)\n",
    "    * [Оценка игроков](#data_preprocessing.change_types.user_score)\n",
    "  * [Добавление значений суммарных продаж в таблицу](#data_preprocessing.add_columns)\n",
    "  * [Вывод](#data_preprocessing.conclusion)\n",
    "* [Шаг 3. Исследовательский анализ данных](#exploratory_data_analysis)\n",
    "  * [Количество игр в разные годы](#exploratory_data_analysis.games_count)\n",
    "  * [Как менялись продажи по платформам](#exploratory_data_analysis.total_sales)\n",
    "  * [Какие платформы лидируют по продажам, растут или падают](#exploratory_data_analysis.platform)\n",
    "  * [График по глобальным продажам игр в разбивке по платформам](#exploratory_data_analysis.total_sales_by_platform)\n",
    "  * [Как влияют на продажи внутри одной популярной платформы отзывы пользователей и критиков](#exploratory_data_analysis.scores)\n",
    "  * [Сравнение выводов с продажами игр на других платформах](#exploratory_data_analysis.compare_scores)\n",
    "  * [Общее распределение игр по жанрам](#exploratory_data_analysis.games_by_genre)\n",
    "* [Шаг 4. Портрет пользователя каждого региона](#region_users)\n",
    "  * [Самые популярные платформы](#region_users.platform)\n",
    "  * [Самые популярные жанры](#region_users.genre)\n",
    "  * [Влияние рейтинга ESRB](#region_users.rating)\n",
    "* [Шаг 5. Проверка гипотез](#hypotheses)\n",
    "  * [Средние пользовательские рейтинги платформ Xbox One и PC одинаковые](#hypotheses.platform)\n",
    "  * [Средние пользовательские рейтинги жанров Action и Sports разные](#hypotheses.city)\n",
    "* [Шаг 6. Общий вывод](#general_conclusion)"
   ]
  },
  {
   "cell_type": "markdown",
   "metadata": {},
   "source": [
    "<div class=\"alert alert-success\">\n",
    "<h2> Комментарий ревьюера</h2>\n",
    "\n",
    "Вступление в работу очень важно. Так ты поясняешь то, чему она посвящена. Описание даннвх лучше перенести также в данный раздел. \n",
    "\n",
    "</div>"
   ]
  },
  {
   "cell_type": "markdown",
   "metadata": {},
   "source": [
    "<a name=\"open_file\"></a>\n",
    "## Шаг 1. Изучение общей информации"
   ]
  },
  {
   "cell_type": "code",
   "execution_count": 1,
   "metadata": {},
   "outputs": [],
   "source": [
    "import pandas as pd\n",
    "import matplotlib.pyplot as plt\n",
    "import numpy as np\n",
    "from scipy import stats as st \n",
    "\n",
    "pd.set_option('display.max_columns', None)\n",
    "\n",
    "def analyze_df(df):\n",
    "    display(df.head(10))\n",
    "    display(df.describe())\n",
    "    print(df.info())\n",
    "\n",
    "def print_nan_percent(df, column_name):\n",
    "    print('Процент данных с пропускамив столбце {}: {:.2%}'.format(column_name, df[column_name].isnull().sum() / df.shape[0]))\n",
    "    \n",
    "def print_nan_count(df, column_name):\n",
    "    print('Количество пропусков в столбце {}: {}'.format(column_name, df[column_name].isnull().sum()))\n",
    "    \n",
    "\n",
    "def compute_normal_range(series):\n",
    "    min_, q1, q3, max_ = series.quantile([0, 0.25, 0.75, 1])\n",
    "    iqr = q3 - q1\n",
    "    return max(min_, q1 - 1.5 * iqr), min(max_, q3 + 1.5 * iqr)"
   ]
  },
  {
   "cell_type": "markdown",
   "metadata": {},
   "source": [
    "**Описание данных**:\n",
    "- *Name* - название игры\n",
    "- *Platform* - платформа\n",
    "- *Year_of_Release* - год выпуска\n",
    "- *Genre* - жанр игры\n",
    "- *NA_sales* - продажи в Северной Америке (миллионы долларов)\n",
    "- *EU_sales* - продажи в Европе (миллионы долларов)\n",
    "- *JP_sales* - продажи в Японии (миллионы долларов)\n",
    "- *Other_sales* - продажи в других странах (миллионы долларов)\n",
    "- *Critic_Score* - оценка критиков (максимум 100)\n",
    "- *User_Score* - оценка пользователей (максимум 10)\n",
    "- *Rating* - рейтинг от организации ESRB"
   ]
  },
  {
   "cell_type": "markdown",
   "metadata": {},
   "source": [
    "Считаем данные из файла и посмотрим основные данные"
   ]
  },
  {
   "cell_type": "code",
   "execution_count": 2,
   "metadata": {},
   "outputs": [
    {
     "data": {
      "text/html": [
       "<div>\n",
       "<style scoped>\n",
       "    .dataframe tbody tr th:only-of-type {\n",
       "        vertical-align: middle;\n",
       "    }\n",
       "\n",
       "    .dataframe tbody tr th {\n",
       "        vertical-align: top;\n",
       "    }\n",
       "\n",
       "    .dataframe thead th {\n",
       "        text-align: right;\n",
       "    }\n",
       "</style>\n",
       "<table border=\"1\" class=\"dataframe\">\n",
       "  <thead>\n",
       "    <tr style=\"text-align: right;\">\n",
       "      <th></th>\n",
       "      <th>Name</th>\n",
       "      <th>Platform</th>\n",
       "      <th>Year_of_Release</th>\n",
       "      <th>Genre</th>\n",
       "      <th>NA_sales</th>\n",
       "      <th>EU_sales</th>\n",
       "      <th>JP_sales</th>\n",
       "      <th>Other_sales</th>\n",
       "      <th>Critic_Score</th>\n",
       "      <th>User_Score</th>\n",
       "      <th>Rating</th>\n",
       "    </tr>\n",
       "  </thead>\n",
       "  <tbody>\n",
       "    <tr>\n",
       "      <td>0</td>\n",
       "      <td>Wii Sports</td>\n",
       "      <td>Wii</td>\n",
       "      <td>2006.0</td>\n",
       "      <td>Sports</td>\n",
       "      <td>41.36</td>\n",
       "      <td>28.96</td>\n",
       "      <td>3.77</td>\n",
       "      <td>8.45</td>\n",
       "      <td>76.0</td>\n",
       "      <td>8</td>\n",
       "      <td>E</td>\n",
       "    </tr>\n",
       "    <tr>\n",
       "      <td>1</td>\n",
       "      <td>Super Mario Bros.</td>\n",
       "      <td>NES</td>\n",
       "      <td>1985.0</td>\n",
       "      <td>Platform</td>\n",
       "      <td>29.08</td>\n",
       "      <td>3.58</td>\n",
       "      <td>6.81</td>\n",
       "      <td>0.77</td>\n",
       "      <td>NaN</td>\n",
       "      <td>NaN</td>\n",
       "      <td>NaN</td>\n",
       "    </tr>\n",
       "    <tr>\n",
       "      <td>2</td>\n",
       "      <td>Mario Kart Wii</td>\n",
       "      <td>Wii</td>\n",
       "      <td>2008.0</td>\n",
       "      <td>Racing</td>\n",
       "      <td>15.68</td>\n",
       "      <td>12.76</td>\n",
       "      <td>3.79</td>\n",
       "      <td>3.29</td>\n",
       "      <td>82.0</td>\n",
       "      <td>8.3</td>\n",
       "      <td>E</td>\n",
       "    </tr>\n",
       "    <tr>\n",
       "      <td>3</td>\n",
       "      <td>Wii Sports Resort</td>\n",
       "      <td>Wii</td>\n",
       "      <td>2009.0</td>\n",
       "      <td>Sports</td>\n",
       "      <td>15.61</td>\n",
       "      <td>10.93</td>\n",
       "      <td>3.28</td>\n",
       "      <td>2.95</td>\n",
       "      <td>80.0</td>\n",
       "      <td>8</td>\n",
       "      <td>E</td>\n",
       "    </tr>\n",
       "    <tr>\n",
       "      <td>4</td>\n",
       "      <td>Pokemon Red/Pokemon Blue</td>\n",
       "      <td>GB</td>\n",
       "      <td>1996.0</td>\n",
       "      <td>Role-Playing</td>\n",
       "      <td>11.27</td>\n",
       "      <td>8.89</td>\n",
       "      <td>10.22</td>\n",
       "      <td>1.00</td>\n",
       "      <td>NaN</td>\n",
       "      <td>NaN</td>\n",
       "      <td>NaN</td>\n",
       "    </tr>\n",
       "    <tr>\n",
       "      <td>5</td>\n",
       "      <td>Tetris</td>\n",
       "      <td>GB</td>\n",
       "      <td>1989.0</td>\n",
       "      <td>Puzzle</td>\n",
       "      <td>23.20</td>\n",
       "      <td>2.26</td>\n",
       "      <td>4.22</td>\n",
       "      <td>0.58</td>\n",
       "      <td>NaN</td>\n",
       "      <td>NaN</td>\n",
       "      <td>NaN</td>\n",
       "    </tr>\n",
       "    <tr>\n",
       "      <td>6</td>\n",
       "      <td>New Super Mario Bros.</td>\n",
       "      <td>DS</td>\n",
       "      <td>2006.0</td>\n",
       "      <td>Platform</td>\n",
       "      <td>11.28</td>\n",
       "      <td>9.14</td>\n",
       "      <td>6.50</td>\n",
       "      <td>2.88</td>\n",
       "      <td>89.0</td>\n",
       "      <td>8.5</td>\n",
       "      <td>E</td>\n",
       "    </tr>\n",
       "    <tr>\n",
       "      <td>7</td>\n",
       "      <td>Wii Play</td>\n",
       "      <td>Wii</td>\n",
       "      <td>2006.0</td>\n",
       "      <td>Misc</td>\n",
       "      <td>13.96</td>\n",
       "      <td>9.18</td>\n",
       "      <td>2.93</td>\n",
       "      <td>2.84</td>\n",
       "      <td>58.0</td>\n",
       "      <td>6.6</td>\n",
       "      <td>E</td>\n",
       "    </tr>\n",
       "    <tr>\n",
       "      <td>8</td>\n",
       "      <td>New Super Mario Bros. Wii</td>\n",
       "      <td>Wii</td>\n",
       "      <td>2009.0</td>\n",
       "      <td>Platform</td>\n",
       "      <td>14.44</td>\n",
       "      <td>6.94</td>\n",
       "      <td>4.70</td>\n",
       "      <td>2.24</td>\n",
       "      <td>87.0</td>\n",
       "      <td>8.4</td>\n",
       "      <td>E</td>\n",
       "    </tr>\n",
       "    <tr>\n",
       "      <td>9</td>\n",
       "      <td>Duck Hunt</td>\n",
       "      <td>NES</td>\n",
       "      <td>1984.0</td>\n",
       "      <td>Shooter</td>\n",
       "      <td>26.93</td>\n",
       "      <td>0.63</td>\n",
       "      <td>0.28</td>\n",
       "      <td>0.47</td>\n",
       "      <td>NaN</td>\n",
       "      <td>NaN</td>\n",
       "      <td>NaN</td>\n",
       "    </tr>\n",
       "  </tbody>\n",
       "</table>\n",
       "</div>"
      ],
      "text/plain": [
       "                        Name Platform  Year_of_Release         Genre  \\\n",
       "0                 Wii Sports      Wii           2006.0        Sports   \n",
       "1          Super Mario Bros.      NES           1985.0      Platform   \n",
       "2             Mario Kart Wii      Wii           2008.0        Racing   \n",
       "3          Wii Sports Resort      Wii           2009.0        Sports   \n",
       "4   Pokemon Red/Pokemon Blue       GB           1996.0  Role-Playing   \n",
       "5                     Tetris       GB           1989.0        Puzzle   \n",
       "6      New Super Mario Bros.       DS           2006.0      Platform   \n",
       "7                   Wii Play      Wii           2006.0          Misc   \n",
       "8  New Super Mario Bros. Wii      Wii           2009.0      Platform   \n",
       "9                  Duck Hunt      NES           1984.0       Shooter   \n",
       "\n",
       "   NA_sales  EU_sales  JP_sales  Other_sales  Critic_Score User_Score Rating  \n",
       "0     41.36     28.96      3.77         8.45          76.0          8      E  \n",
       "1     29.08      3.58      6.81         0.77           NaN        NaN    NaN  \n",
       "2     15.68     12.76      3.79         3.29          82.0        8.3      E  \n",
       "3     15.61     10.93      3.28         2.95          80.0          8      E  \n",
       "4     11.27      8.89     10.22         1.00           NaN        NaN    NaN  \n",
       "5     23.20      2.26      4.22         0.58           NaN        NaN    NaN  \n",
       "6     11.28      9.14      6.50         2.88          89.0        8.5      E  \n",
       "7     13.96      9.18      2.93         2.84          58.0        6.6      E  \n",
       "8     14.44      6.94      4.70         2.24          87.0        8.4      E  \n",
       "9     26.93      0.63      0.28         0.47           NaN        NaN    NaN  "
      ]
     },
     "metadata": {},
     "output_type": "display_data"
    },
    {
     "data": {
      "text/html": [
       "<div>\n",
       "<style scoped>\n",
       "    .dataframe tbody tr th:only-of-type {\n",
       "        vertical-align: middle;\n",
       "    }\n",
       "\n",
       "    .dataframe tbody tr th {\n",
       "        vertical-align: top;\n",
       "    }\n",
       "\n",
       "    .dataframe thead th {\n",
       "        text-align: right;\n",
       "    }\n",
       "</style>\n",
       "<table border=\"1\" class=\"dataframe\">\n",
       "  <thead>\n",
       "    <tr style=\"text-align: right;\">\n",
       "      <th></th>\n",
       "      <th>Year_of_Release</th>\n",
       "      <th>NA_sales</th>\n",
       "      <th>EU_sales</th>\n",
       "      <th>JP_sales</th>\n",
       "      <th>Other_sales</th>\n",
       "      <th>Critic_Score</th>\n",
       "    </tr>\n",
       "  </thead>\n",
       "  <tbody>\n",
       "    <tr>\n",
       "      <td>count</td>\n",
       "      <td>16446.000000</td>\n",
       "      <td>16715.000000</td>\n",
       "      <td>16715.000000</td>\n",
       "      <td>16715.000000</td>\n",
       "      <td>16715.000000</td>\n",
       "      <td>8137.000000</td>\n",
       "    </tr>\n",
       "    <tr>\n",
       "      <td>mean</td>\n",
       "      <td>2006.484616</td>\n",
       "      <td>0.263377</td>\n",
       "      <td>0.145060</td>\n",
       "      <td>0.077617</td>\n",
       "      <td>0.047342</td>\n",
       "      <td>68.967679</td>\n",
       "    </tr>\n",
       "    <tr>\n",
       "      <td>std</td>\n",
       "      <td>5.877050</td>\n",
       "      <td>0.813604</td>\n",
       "      <td>0.503339</td>\n",
       "      <td>0.308853</td>\n",
       "      <td>0.186731</td>\n",
       "      <td>13.938165</td>\n",
       "    </tr>\n",
       "    <tr>\n",
       "      <td>min</td>\n",
       "      <td>1980.000000</td>\n",
       "      <td>0.000000</td>\n",
       "      <td>0.000000</td>\n",
       "      <td>0.000000</td>\n",
       "      <td>0.000000</td>\n",
       "      <td>13.000000</td>\n",
       "    </tr>\n",
       "    <tr>\n",
       "      <td>25%</td>\n",
       "      <td>2003.000000</td>\n",
       "      <td>0.000000</td>\n",
       "      <td>0.000000</td>\n",
       "      <td>0.000000</td>\n",
       "      <td>0.000000</td>\n",
       "      <td>60.000000</td>\n",
       "    </tr>\n",
       "    <tr>\n",
       "      <td>50%</td>\n",
       "      <td>2007.000000</td>\n",
       "      <td>0.080000</td>\n",
       "      <td>0.020000</td>\n",
       "      <td>0.000000</td>\n",
       "      <td>0.010000</td>\n",
       "      <td>71.000000</td>\n",
       "    </tr>\n",
       "    <tr>\n",
       "      <td>75%</td>\n",
       "      <td>2010.000000</td>\n",
       "      <td>0.240000</td>\n",
       "      <td>0.110000</td>\n",
       "      <td>0.040000</td>\n",
       "      <td>0.030000</td>\n",
       "      <td>79.000000</td>\n",
       "    </tr>\n",
       "    <tr>\n",
       "      <td>max</td>\n",
       "      <td>2016.000000</td>\n",
       "      <td>41.360000</td>\n",
       "      <td>28.960000</td>\n",
       "      <td>10.220000</td>\n",
       "      <td>10.570000</td>\n",
       "      <td>98.000000</td>\n",
       "    </tr>\n",
       "  </tbody>\n",
       "</table>\n",
       "</div>"
      ],
      "text/plain": [
       "       Year_of_Release      NA_sales      EU_sales      JP_sales  \\\n",
       "count     16446.000000  16715.000000  16715.000000  16715.000000   \n",
       "mean       2006.484616      0.263377      0.145060      0.077617   \n",
       "std           5.877050      0.813604      0.503339      0.308853   \n",
       "min        1980.000000      0.000000      0.000000      0.000000   \n",
       "25%        2003.000000      0.000000      0.000000      0.000000   \n",
       "50%        2007.000000      0.080000      0.020000      0.000000   \n",
       "75%        2010.000000      0.240000      0.110000      0.040000   \n",
       "max        2016.000000     41.360000     28.960000     10.220000   \n",
       "\n",
       "        Other_sales  Critic_Score  \n",
       "count  16715.000000   8137.000000  \n",
       "mean       0.047342     68.967679  \n",
       "std        0.186731     13.938165  \n",
       "min        0.000000     13.000000  \n",
       "25%        0.000000     60.000000  \n",
       "50%        0.010000     71.000000  \n",
       "75%        0.030000     79.000000  \n",
       "max       10.570000     98.000000  "
      ]
     },
     "metadata": {},
     "output_type": "display_data"
    },
    {
     "name": "stdout",
     "output_type": "stream",
     "text": [
      "<class 'pandas.core.frame.DataFrame'>\n",
      "RangeIndex: 16715 entries, 0 to 16714\n",
      "Data columns (total 11 columns):\n",
      "Name               16713 non-null object\n",
      "Platform           16715 non-null object\n",
      "Year_of_Release    16446 non-null float64\n",
      "Genre              16713 non-null object\n",
      "NA_sales           16715 non-null float64\n",
      "EU_sales           16715 non-null float64\n",
      "JP_sales           16715 non-null float64\n",
      "Other_sales        16715 non-null float64\n",
      "Critic_Score       8137 non-null float64\n",
      "User_Score         10014 non-null object\n",
      "Rating             9949 non-null object\n",
      "dtypes: float64(6), object(5)\n",
      "memory usage: 1.4+ MB\n",
      "None\n"
     ]
    }
   ],
   "source": [
    "games_df = pd.read_csv('/datasets/games.csv')\n",
    "analyze_df(games_df)"
   ]
  },
  {
   "cell_type": "markdown",
   "metadata": {},
   "source": [
    "Посмотрим почему столбец `User_Score` иммеет тип строка"
   ]
  },
  {
   "cell_type": "code",
   "execution_count": 3,
   "metadata": {},
   "outputs": [
    {
     "data": {
      "text/plain": [
       "array(['8', nan, '8.3', '8.5', '6.6', '8.4', '8.6', '7.7', '6.3', '7.4',\n",
       "       '8.2', '9', '7.9', '8.1', '8.7', '7.1', '3.4', '5.3', '4.8', '3.2',\n",
       "       '8.9', '6.4', '7.8', '7.5', '2.6', '7.2', '9.2', '7', '7.3', '4.3',\n",
       "       '7.6', '5.7', '5', '9.1', '6.5', 'tbd', '8.8', '6.9', '9.4', '6.8',\n",
       "       '6.1', '6.7', '5.4', '4', '4.9', '4.5', '9.3', '6.2', '4.2', '6',\n",
       "       '3.7', '4.1', '5.8', '5.6', '5.5', '4.4', '4.6', '5.9', '3.9',\n",
       "       '3.1', '2.9', '5.2', '3.3', '4.7', '5.1', '3.5', '2.5', '1.9', '3',\n",
       "       '2.7', '2.2', '2', '9.5', '2.1', '3.6', '2.8', '1.8', '3.8', '0',\n",
       "       '1.6', '9.6', '2.4', '1.7', '1.1', '0.3', '1.5', '0.7', '1.2',\n",
       "       '2.3', '0.5', '1.3', '0.2', '0.6', '1.4', '0.9', '1', '9.7'],\n",
       "      dtype=object)"
      ]
     },
     "execution_count": 3,
     "metadata": {},
     "output_type": "execute_result"
    }
   ],
   "source": [
    "games_df['User_Score'].unique()"
   ]
  },
  {
   "cell_type": "markdown",
   "metadata": {},
   "source": [
    "Там есть значение *tbd* (to be done), значит значения в этом столбце можно заменить на *nan* и изменить тип данных "
   ]
  },
  {
   "cell_type": "markdown",
   "metadata": {},
   "source": [
    "Выведем процент пропусков в строках"
   ]
  },
  {
   "cell_type": "code",
   "execution_count": 4,
   "metadata": {},
   "outputs": [
    {
     "data": {
      "text/plain": [
       "Critic_Score       51.319174\n",
       "Rating             40.478612\n",
       "User_Score         40.089740\n",
       "Year_of_Release     1.609333\n",
       "Genre               0.011965\n",
       "Name                0.011965\n",
       "Other_sales         0.000000\n",
       "JP_sales            0.000000\n",
       "EU_sales            0.000000\n",
       "NA_sales            0.000000\n",
       "Platform            0.000000\n",
       "dtype: float64"
      ]
     },
     "execution_count": 4,
     "metadata": {},
     "output_type": "execute_result"
    }
   ],
   "source": [
    "games_df.isnull().sum().sort_values(ascending=False) / games_df.shape[0] * 100"
   ]
  },
  {
   "cell_type": "markdown",
   "metadata": {},
   "source": [
    "Видим много пропусков в столбцах с рейтингами: `User_Score` и `Critic_Score`.  \n",
    "Возможно значений нет для старых игр, когда еще нельзя было собрать данные "
   ]
  },
  {
   "cell_type": "code",
   "execution_count": 5,
   "metadata": {},
   "outputs": [
    {
     "name": "stdout",
     "output_type": "stream",
     "text": [
      "Статистика игр по годам: \n",
      "count    16446.000000\n",
      "mean      2006.484616\n",
      "std          5.877050\n",
      "min       1980.000000\n",
      "25%       2003.000000\n",
      "50%       2007.000000\n",
      "75%       2010.000000\n",
      "max       2016.000000\n",
      "Name: Year_of_Release, dtype: float64\n",
      "Статистика игр без оценок критиков по годам: \n",
      "count    8463.000000\n",
      "mean     2005.816613\n",
      "std         7.046218\n",
      "min      1980.000000\n",
      "25%      2001.000000\n",
      "50%      2008.000000\n",
      "75%      2011.000000\n",
      "max      2016.000000\n",
      "Name: Year_of_Release, dtype: float64\n",
      "Статистика игр без оценок пользователей по годам: \n",
      "count    6607.000000\n",
      "mean     2004.779325\n",
      "std         7.476214\n",
      "min      1980.000000\n",
      "25%      1999.000000\n",
      "50%      2007.000000\n",
      "75%      2010.000000\n",
      "max      2016.000000\n",
      "Name: Year_of_Release, dtype: float64\n"
     ]
    }
   ],
   "source": [
    "print('Статистика игр по годам: ')\n",
    "print(games_df['Year_of_Release'].describe())\n",
    "print('Статистика игр без оценок критиков по годам: ')\n",
    "print(games_df[games_df['Critic_Score'].isnull()]['Year_of_Release'].describe())\n",
    "print('Статистика игр без оценок пользователей по годам: ')\n",
    "print(games_df[games_df['User_Score'].isnull()]['Year_of_Release'].describe())"
   ]
  },
  {
   "cell_type": "markdown",
   "metadata": {},
   "source": [
    "Да, игры в срезах чуть постарше, но не настолько, чтобы подтвердить эту теорию.\n",
    "Возможно можно будет заменить пропуски данными с других платформ"
   ]
  },
  {
   "cell_type": "markdown",
   "metadata": {},
   "source": [
    "Еще пропуск есть в столбце `Year_of_Release`, возможно эти пропуски можно будет заполнить информацией о играх с таким же именем, которые вышли на других платформах"
   ]
  },
  {
   "cell_type": "markdown",
   "metadata": {},
   "source": [
    "**Выводы**:\n",
    "* надо переимновать столбцы: привести к нижнему регистру и добавить единицы измерения\n",
    "* заменить *tbd* из столбца `User_Score` на *nan* \n",
    "* обработать пропуски в столбцах `User_Score`, `Critic_Score` и `Year_of_Release`\n",
    "* поменять типы данных:\n",
    "  * `Year_of_Release` -> *int*\n",
    "  * `Critic_Score` -> *int*\n",
    "  * `User_Score` -> float"
   ]
  },
  {
   "cell_type": "markdown",
   "metadata": {},
   "source": [
    "<div class=\"alert alert-success\">\n",
    "<h2> Комментарий ревьюера </h2>\n",
    "\n",
    "Первый взгляд на таблицу выполнен. Причины пропусков озвучены. Давай приступим к их устранению.\n",
    "\n",
    "</div>"
   ]
  },
  {
   "cell_type": "markdown",
   "metadata": {},
   "source": [
    "<a name=\"data_preprocessing\"></a>\n",
    "## Шаг 2. Подготовка данных"
   ]
  },
  {
   "cell_type": "markdown",
   "metadata": {},
   "source": [
    "<a name=\"data_preprocessing.rename\"></a>\n",
    "### Переименование столбцов"
   ]
  },
  {
   "cell_type": "markdown",
   "metadata": {},
   "source": [
    "Сначала посмотрим на старые названия столбцов"
   ]
  },
  {
   "cell_type": "code",
   "execution_count": 6,
   "metadata": {},
   "outputs": [
    {
     "data": {
      "text/plain": [
       "['Name',\n",
       " 'Platform',\n",
       " 'Year_of_Release',\n",
       " 'Genre',\n",
       " 'NA_sales',\n",
       " 'EU_sales',\n",
       " 'JP_sales',\n",
       " 'Other_sales',\n",
       " 'Critic_Score',\n",
       " 'User_Score',\n",
       " 'Rating']"
      ]
     },
     "execution_count": 6,
     "metadata": {},
     "output_type": "execute_result"
    }
   ],
   "source": [
    "games_df.columns.tolist()"
   ]
  },
  {
   "cell_type": "code",
   "execution_count": 7,
   "metadata": {},
   "outputs": [
    {
     "data": {
      "text/plain": [
       "['name',\n",
       " 'platform',\n",
       " 'year_of_release',\n",
       " 'genre',\n",
       " 'na_sales_mm',\n",
       " 'eu_sales_mm',\n",
       " 'jp_sales_mm',\n",
       " 'other_sales_mm',\n",
       " 'critic_score',\n",
       " 'user_score',\n",
       " 'rating']"
      ]
     },
     "execution_count": 7,
     "metadata": {},
     "output_type": "execute_result"
    }
   ],
   "source": [
    "games_df = games_df.rename(columns={\n",
    "    'Name': 'name',\n",
    "    'Platform': 'platform',\n",
    "    'Year_of_Release': 'year_of_release',\n",
    "    'Genre': 'genre',\n",
    "    'NA_sales': 'na_sales_mm',\n",
    "    'EU_sales': 'eu_sales_mm',\n",
    "    'JP_sales': 'jp_sales_mm',\n",
    "    'Other_sales': 'other_sales_mm',\n",
    "    'Critic_Score': 'critic_score',\n",
    "    'User_Score': 'user_score',\n",
    "    'Rating': 'rating',\n",
    "})\n",
    "games_df.columns.tolist()"
   ]
  },
  {
   "cell_type": "markdown",
   "metadata": {},
   "source": [
    "<a name=\"data_preprocessing.missing\"></a>\n",
    "### Обработка пропусков в данных"
   ]
  },
  {
   "cell_type": "markdown",
   "metadata": {},
   "source": [
    "Определим функцию, которая поможет нма посмотреть, есть ли различия в значениях параметров между одними и теми же играми на разных платформах"
   ]
  },
  {
   "cell_type": "code",
   "execution_count": 8,
   "metadata": {},
   "outputs": [],
   "source": [
    "def diff_between_platforms(df, column):\n",
    "    df_missing = df[df[column].isnull()]\n",
    "    query = 'name in @df_missing.name and {}.notnull()'.format(column)\n",
    "    df_missing_same_name = games_df.query(query)\n",
    "    df_column_by_name = df_missing_same_name.pivot_table(\n",
    "        index='name', values=[column], aggfunc=['min', 'median', 'mean',  'max']\n",
    "    )\n",
    "\n",
    "    df_column_by_name['diff'] = df_column_by_name['max'] - df_column_by_name['min']\n",
    "    return df_column_by_name\n"
   ]
  },
  {
   "cell_type": "markdown",
   "metadata": {},
   "source": [
    "<a name=\"data_preprocessing.missing.name\"></a>\n",
    "#### Название игры и жанр"
   ]
  },
  {
   "cell_type": "markdown",
   "metadata": {},
   "source": [
    "Посмотрим сколько у нас пропусков в столбце `name`"
   ]
  },
  {
   "cell_type": "code",
   "execution_count": 9,
   "metadata": {},
   "outputs": [
    {
     "name": "stdout",
     "output_type": "stream",
     "text": [
      "Количество пропусков в столбце name: 2\n"
     ]
    }
   ],
   "source": [
    "print_nan_count(games_df, 'name')"
   ]
  },
  {
   "cell_type": "markdown",
   "metadata": {},
   "source": [
    "Всего 2, выведем их"
   ]
  },
  {
   "cell_type": "code",
   "execution_count": 10,
   "metadata": {},
   "outputs": [
    {
     "data": {
      "text/html": [
       "<div>\n",
       "<style scoped>\n",
       "    .dataframe tbody tr th:only-of-type {\n",
       "        vertical-align: middle;\n",
       "    }\n",
       "\n",
       "    .dataframe tbody tr th {\n",
       "        vertical-align: top;\n",
       "    }\n",
       "\n",
       "    .dataframe thead th {\n",
       "        text-align: right;\n",
       "    }\n",
       "</style>\n",
       "<table border=\"1\" class=\"dataframe\">\n",
       "  <thead>\n",
       "    <tr style=\"text-align: right;\">\n",
       "      <th></th>\n",
       "      <th>name</th>\n",
       "      <th>platform</th>\n",
       "      <th>year_of_release</th>\n",
       "      <th>genre</th>\n",
       "      <th>na_sales_mm</th>\n",
       "      <th>eu_sales_mm</th>\n",
       "      <th>jp_sales_mm</th>\n",
       "      <th>other_sales_mm</th>\n",
       "      <th>critic_score</th>\n",
       "      <th>user_score</th>\n",
       "      <th>rating</th>\n",
       "    </tr>\n",
       "  </thead>\n",
       "  <tbody>\n",
       "    <tr>\n",
       "      <td>659</td>\n",
       "      <td>NaN</td>\n",
       "      <td>GEN</td>\n",
       "      <td>1993.0</td>\n",
       "      <td>NaN</td>\n",
       "      <td>1.78</td>\n",
       "      <td>0.53</td>\n",
       "      <td>0.00</td>\n",
       "      <td>0.08</td>\n",
       "      <td>NaN</td>\n",
       "      <td>NaN</td>\n",
       "      <td>NaN</td>\n",
       "    </tr>\n",
       "    <tr>\n",
       "      <td>14244</td>\n",
       "      <td>NaN</td>\n",
       "      <td>GEN</td>\n",
       "      <td>1993.0</td>\n",
       "      <td>NaN</td>\n",
       "      <td>0.00</td>\n",
       "      <td>0.00</td>\n",
       "      <td>0.03</td>\n",
       "      <td>0.00</td>\n",
       "      <td>NaN</td>\n",
       "      <td>NaN</td>\n",
       "      <td>NaN</td>\n",
       "    </tr>\n",
       "  </tbody>\n",
       "</table>\n",
       "</div>"
      ],
      "text/plain": [
       "      name platform  year_of_release genre  na_sales_mm  eu_sales_mm  \\\n",
       "659    NaN      GEN           1993.0   NaN         1.78         0.53   \n",
       "14244  NaN      GEN           1993.0   NaN         0.00         0.00   \n",
       "\n",
       "       jp_sales_mm  other_sales_mm  critic_score user_score rating  \n",
       "659           0.00            0.08           NaN        NaN    NaN  \n",
       "14244         0.03            0.00           NaN        NaN    NaN  "
      ]
     },
     "execution_count": 10,
     "metadata": {},
     "output_type": "execute_result"
    }
   ],
   "source": [
    "games_df_missing_name = games_df[games_df['name'].isnull()]\n",
    "games_df_missing_name.head(2)"
   ]
  },
  {
   "cell_type": "markdown",
   "metadata": {},
   "source": [
    "Для них нет и значений в столбце `genre`. Придется удалить эти строки, потому что не понятно, что можно сделать с этими пропусками"
   ]
  },
  {
   "cell_type": "code",
   "execution_count": 11,
   "metadata": {},
   "outputs": [],
   "source": [
    "games_df = games_df.drop(games_df_missing_name.index)"
   ]
  },
  {
   "cell_type": "code",
   "execution_count": 12,
   "metadata": {},
   "outputs": [
    {
     "name": "stdout",
     "output_type": "stream",
     "text": [
      "Количество пропусков в столбце name: 0\n",
      "Количество пропусков в столбце genre: 0\n"
     ]
    }
   ],
   "source": [
    "print_nan_count(games_df, 'name')\n",
    "print_nan_count(games_df, 'genre')"
   ]
  },
  {
   "cell_type": "markdown",
   "metadata": {},
   "source": [
    "Заодно удалили пропуски в столбце `genre`"
   ]
  },
  {
   "cell_type": "markdown",
   "metadata": {},
   "source": [
    "<a name=\"data_preprocessing.missing.year_of_release\"></a>\n",
    "#### Год выпуска"
   ]
  },
  {
   "cell_type": "markdown",
   "metadata": {},
   "source": [
    "Посмортим сколько пропусков в столбце `year_of_release`"
   ]
  },
  {
   "cell_type": "code",
   "execution_count": 13,
   "metadata": {},
   "outputs": [
    {
     "name": "stdout",
     "output_type": "stream",
     "text": [
      "Процент данных с пропускамив столбце year_of_release: 1.61%\n"
     ]
    }
   ],
   "source": [
    "print_nan_percent(games_df, 'year_of_release')"
   ]
  },
  {
   "cell_type": "markdown",
   "metadata": {},
   "source": [
    "Проверим наше предположение, что мультиплатформенные игры часто выпускают в один год "
   ]
  },
  {
   "cell_type": "code",
   "execution_count": 14,
   "metadata": {},
   "outputs": [
    {
     "data": {
      "text/html": [
       "<div>\n",
       "<style scoped>\n",
       "    .dataframe tbody tr th:only-of-type {\n",
       "        vertical-align: middle;\n",
       "    }\n",
       "\n",
       "    .dataframe tbody tr th {\n",
       "        vertical-align: top;\n",
       "    }\n",
       "\n",
       "    .dataframe thead tr th {\n",
       "        text-align: left;\n",
       "    }\n",
       "\n",
       "    .dataframe thead tr:last-of-type th {\n",
       "        text-align: right;\n",
       "    }\n",
       "</style>\n",
       "<table border=\"1\" class=\"dataframe\">\n",
       "  <thead>\n",
       "    <tr>\n",
       "      <th></th>\n",
       "      <th>min</th>\n",
       "      <th>median</th>\n",
       "      <th>mean</th>\n",
       "      <th>max</th>\n",
       "      <th>diff</th>\n",
       "    </tr>\n",
       "    <tr>\n",
       "      <th></th>\n",
       "      <th>year_of_release</th>\n",
       "      <th>year_of_release</th>\n",
       "      <th>year_of_release</th>\n",
       "      <th>year_of_release</th>\n",
       "      <th></th>\n",
       "    </tr>\n",
       "    <tr>\n",
       "      <th>name</th>\n",
       "      <th></th>\n",
       "      <th></th>\n",
       "      <th></th>\n",
       "      <th></th>\n",
       "      <th></th>\n",
       "    </tr>\n",
       "  </thead>\n",
       "  <tbody>\n",
       "    <tr>\n",
       "      <td>Sonic the Hedgehog</td>\n",
       "      <td>1991.0</td>\n",
       "      <td>2006.0</td>\n",
       "      <td>2001.000000</td>\n",
       "      <td>2006.0</td>\n",
       "      <td>15.0</td>\n",
       "    </tr>\n",
       "    <tr>\n",
       "      <td>Wheel of Fortune</td>\n",
       "      <td>1997.0</td>\n",
       "      <td>2004.0</td>\n",
       "      <td>2003.750000</td>\n",
       "      <td>2010.0</td>\n",
       "      <td>13.0</td>\n",
       "    </tr>\n",
       "    <tr>\n",
       "      <td>Mario Tennis</td>\n",
       "      <td>2000.0</td>\n",
       "      <td>2000.0</td>\n",
       "      <td>2003.333333</td>\n",
       "      <td>2010.0</td>\n",
       "      <td>10.0</td>\n",
       "    </tr>\n",
       "    <tr>\n",
       "      <td>Space Invaders</td>\n",
       "      <td>1994.0</td>\n",
       "      <td>1999.0</td>\n",
       "      <td>1998.333333</td>\n",
       "      <td>2002.0</td>\n",
       "      <td>8.0</td>\n",
       "    </tr>\n",
       "    <tr>\n",
       "      <td>Smashing Drive</td>\n",
       "      <td>2002.0</td>\n",
       "      <td>2003.0</td>\n",
       "      <td>2003.000000</td>\n",
       "      <td>2004.0</td>\n",
       "      <td>2.0</td>\n",
       "    </tr>\n",
       "    <tr>\n",
       "      <td>College Hoops 2K6</td>\n",
       "      <td>2005.0</td>\n",
       "      <td>2005.5</td>\n",
       "      <td>2005.500000</td>\n",
       "      <td>2006.0</td>\n",
       "      <td>1.0</td>\n",
       "    </tr>\n",
       "    <tr>\n",
       "      <td>Rayman Arena</td>\n",
       "      <td>2001.0</td>\n",
       "      <td>2001.5</td>\n",
       "      <td>2001.500000</td>\n",
       "      <td>2002.0</td>\n",
       "      <td>1.0</td>\n",
       "    </tr>\n",
       "    <tr>\n",
       "      <td>PES 2009: Pro Evolution Soccer</td>\n",
       "      <td>2008.0</td>\n",
       "      <td>2008.0</td>\n",
       "      <td>2008.250000</td>\n",
       "      <td>2009.0</td>\n",
       "      <td>1.0</td>\n",
       "    </tr>\n",
       "    <tr>\n",
       "      <td>Tom and Jerry in War of the Whiskers</td>\n",
       "      <td>2002.0</td>\n",
       "      <td>2002.5</td>\n",
       "      <td>2002.500000</td>\n",
       "      <td>2003.0</td>\n",
       "      <td>1.0</td>\n",
       "    </tr>\n",
       "    <tr>\n",
       "      <td>Tomb Raider (2013)</td>\n",
       "      <td>2013.0</td>\n",
       "      <td>2013.5</td>\n",
       "      <td>2013.500000</td>\n",
       "      <td>2014.0</td>\n",
       "      <td>1.0</td>\n",
       "    </tr>\n",
       "  </tbody>\n",
       "</table>\n",
       "</div>"
      ],
      "text/plain": [
       "                                                 min          median  \\\n",
       "                                     year_of_release year_of_release   \n",
       "name                                                                   \n",
       "Sonic the Hedgehog                            1991.0          2006.0   \n",
       "Wheel of Fortune                              1997.0          2004.0   \n",
       "Mario Tennis                                  2000.0          2000.0   \n",
       "Space Invaders                                1994.0          1999.0   \n",
       "Smashing Drive                                2002.0          2003.0   \n",
       "College Hoops 2K6                             2005.0          2005.5   \n",
       "Rayman Arena                                  2001.0          2001.5   \n",
       "PES 2009: Pro Evolution Soccer                2008.0          2008.0   \n",
       "Tom and Jerry in War of the Whiskers          2002.0          2002.5   \n",
       "Tomb Raider (2013)                            2013.0          2013.5   \n",
       "\n",
       "                                                mean             max  diff  \n",
       "                                     year_of_release year_of_release        \n",
       "name                                                                        \n",
       "Sonic the Hedgehog                       2001.000000          2006.0  15.0  \n",
       "Wheel of Fortune                         2003.750000          2010.0  13.0  \n",
       "Mario Tennis                             2003.333333          2010.0  10.0  \n",
       "Space Invaders                           1998.333333          2002.0   8.0  \n",
       "Smashing Drive                           2003.000000          2004.0   2.0  \n",
       "College Hoops 2K6                        2005.500000          2006.0   1.0  \n",
       "Rayman Arena                             2001.500000          2002.0   1.0  \n",
       "PES 2009: Pro Evolution Soccer           2008.250000          2009.0   1.0  \n",
       "Tom and Jerry in War of the Whiskers     2002.500000          2003.0   1.0  \n",
       "Tomb Raider (2013)                       2013.500000          2014.0   1.0  "
      ]
     },
     "execution_count": 14,
     "metadata": {},
     "output_type": "execute_result"
    }
   ],
   "source": [
    "diff_between_platforms(games_df, 'year_of_release').sort_values('diff', ascending=False).head(10)"
   ]
  },
  {
   "cell_type": "markdown",
   "metadata": {},
   "source": [
    "Это не правда, к сожалению, так что не будем трогать этот столбец"
   ]
  },
  {
   "cell_type": "markdown",
   "metadata": {},
   "source": [
    "<div class=\"alert alert-success\">\n",
    "<h2> Комментарий ревьюера </h2>\n",
    "\n",
    "Верно, что ты так подробно анализируешь строки с пропуками. Так ты исключаешь вероятность удалить важные для нашего исследования данные. Также мы не внесем смещения в анализ посредством неточной обработки пропусков. \n",
    "\n",
    "</div>"
   ]
  },
  {
   "cell_type": "markdown",
   "metadata": {},
   "source": [
    "<a name=\"data_preprocessing.missing.critic_score\"></a>\n",
    "#### Оценка критиков"
   ]
  },
  {
   "cell_type": "markdown",
   "metadata": {},
   "source": [
    "Посмортим сколько пропусков в столбце `critic_score`"
   ]
  },
  {
   "cell_type": "code",
   "execution_count": 15,
   "metadata": {},
   "outputs": [
    {
     "name": "stdout",
     "output_type": "stream",
     "text": [
      "Процент данных с пропускамив столбце critic_score: 51.31%\n"
     ]
    }
   ],
   "source": [
    "print_nan_percent(games_df, 'critic_score')"
   ]
  },
  {
   "cell_type": "markdown",
   "metadata": {},
   "source": [
    "Посмотрим на разрос значений между платформами"
   ]
  },
  {
   "cell_type": "code",
   "execution_count": 16,
   "metadata": {},
   "outputs": [
    {
     "data": {
      "text/html": [
       "<div>\n",
       "<style scoped>\n",
       "    .dataframe tbody tr th:only-of-type {\n",
       "        vertical-align: middle;\n",
       "    }\n",
       "\n",
       "    .dataframe tbody tr th {\n",
       "        vertical-align: top;\n",
       "    }\n",
       "\n",
       "    .dataframe thead tr th {\n",
       "        text-align: left;\n",
       "    }\n",
       "\n",
       "    .dataframe thead tr:last-of-type th {\n",
       "        text-align: right;\n",
       "    }\n",
       "</style>\n",
       "<table border=\"1\" class=\"dataframe\">\n",
       "  <thead>\n",
       "    <tr>\n",
       "      <th></th>\n",
       "      <th>min</th>\n",
       "      <th>median</th>\n",
       "      <th>mean</th>\n",
       "      <th>max</th>\n",
       "      <th>diff</th>\n",
       "    </tr>\n",
       "    <tr>\n",
       "      <th></th>\n",
       "      <th>critic_score</th>\n",
       "      <th>critic_score</th>\n",
       "      <th>critic_score</th>\n",
       "      <th>critic_score</th>\n",
       "      <th></th>\n",
       "    </tr>\n",
       "    <tr>\n",
       "      <th>name</th>\n",
       "      <th></th>\n",
       "      <th></th>\n",
       "      <th></th>\n",
       "      <th></th>\n",
       "      <th></th>\n",
       "    </tr>\n",
       "  </thead>\n",
       "  <tbody>\n",
       "    <tr>\n",
       "      <td>Ridge Racer</td>\n",
       "      <td>44.0</td>\n",
       "      <td>66.0</td>\n",
       "      <td>66.000000</td>\n",
       "      <td>88.0</td>\n",
       "      <td>44.0</td>\n",
       "    </tr>\n",
       "    <tr>\n",
       "      <td>IL-2 Sturmovik: Birds of Prey</td>\n",
       "      <td>41.0</td>\n",
       "      <td>80.0</td>\n",
       "      <td>67.333333</td>\n",
       "      <td>81.0</td>\n",
       "      <td>40.0</td>\n",
       "    </tr>\n",
       "    <tr>\n",
       "      <td>Need for Speed: Most Wanted</td>\n",
       "      <td>45.0</td>\n",
       "      <td>82.0</td>\n",
       "      <td>77.500000</td>\n",
       "      <td>83.0</td>\n",
       "      <td>38.0</td>\n",
       "    </tr>\n",
       "    <tr>\n",
       "      <td>Deal or No Deal</td>\n",
       "      <td>20.0</td>\n",
       "      <td>38.0</td>\n",
       "      <td>38.000000</td>\n",
       "      <td>56.0</td>\n",
       "      <td>36.0</td>\n",
       "    </tr>\n",
       "    <tr>\n",
       "      <td>The Sims 3</td>\n",
       "      <td>52.0</td>\n",
       "      <td>76.0</td>\n",
       "      <td>73.000000</td>\n",
       "      <td>86.0</td>\n",
       "      <td>34.0</td>\n",
       "    </tr>\n",
       "    <tr>\n",
       "      <td>FIFA Soccer 13</td>\n",
       "      <td>57.0</td>\n",
       "      <td>77.5</td>\n",
       "      <td>76.333333</td>\n",
       "      <td>90.0</td>\n",
       "      <td>33.0</td>\n",
       "    </tr>\n",
       "    <tr>\n",
       "      <td>Greg Hastings' Tournament Paintball Max'd</td>\n",
       "      <td>39.0</td>\n",
       "      <td>54.5</td>\n",
       "      <td>54.500000</td>\n",
       "      <td>70.0</td>\n",
       "      <td>31.0</td>\n",
       "    </tr>\n",
       "    <tr>\n",
       "      <td>Tiger Woods PGA Tour 09</td>\n",
       "      <td>53.0</td>\n",
       "      <td>82.0</td>\n",
       "      <td>73.000000</td>\n",
       "      <td>84.0</td>\n",
       "      <td>31.0</td>\n",
       "    </tr>\n",
       "    <tr>\n",
       "      <td>Resident Evil 2</td>\n",
       "      <td>59.0</td>\n",
       "      <td>74.0</td>\n",
       "      <td>74.000000</td>\n",
       "      <td>89.0</td>\n",
       "      <td>30.0</td>\n",
       "    </tr>\n",
       "    <tr>\n",
       "      <td>Risen 3: Titan Lords</td>\n",
       "      <td>36.0</td>\n",
       "      <td>44.0</td>\n",
       "      <td>48.333333</td>\n",
       "      <td>65.0</td>\n",
       "      <td>29.0</td>\n",
       "    </tr>\n",
       "  </tbody>\n",
       "</table>\n",
       "</div>"
      ],
      "text/plain": [
       "                                                   min       median  \\\n",
       "                                          critic_score critic_score   \n",
       "name                                                                  \n",
       "Ridge Racer                                       44.0         66.0   \n",
       "IL-2 Sturmovik: Birds of Prey                     41.0         80.0   \n",
       "Need for Speed: Most Wanted                       45.0         82.0   \n",
       "Deal or No Deal                                   20.0         38.0   \n",
       "The Sims 3                                        52.0         76.0   \n",
       "FIFA Soccer 13                                    57.0         77.5   \n",
       "Greg Hastings' Tournament Paintball Max'd         39.0         54.5   \n",
       "Tiger Woods PGA Tour 09                           53.0         82.0   \n",
       "Resident Evil 2                                   59.0         74.0   \n",
       "Risen 3: Titan Lords                              36.0         44.0   \n",
       "\n",
       "                                                  mean          max  diff  \n",
       "                                          critic_score critic_score        \n",
       "name                                                                       \n",
       "Ridge Racer                                  66.000000         88.0  44.0  \n",
       "IL-2 Sturmovik: Birds of Prey                67.333333         81.0  40.0  \n",
       "Need for Speed: Most Wanted                  77.500000         83.0  38.0  \n",
       "Deal or No Deal                              38.000000         56.0  36.0  \n",
       "The Sims 3                                   73.000000         86.0  34.0  \n",
       "FIFA Soccer 13                               76.333333         90.0  33.0  \n",
       "Greg Hastings' Tournament Paintball Max'd    54.500000         70.0  31.0  \n",
       "Tiger Woods PGA Tour 09                      73.000000         84.0  31.0  \n",
       "Resident Evil 2                              74.000000         89.0  30.0  \n",
       "Risen 3: Titan Lords                         48.333333         65.0  29.0  "
      ]
     },
     "execution_count": 16,
     "metadata": {},
     "output_type": "execute_result"
    }
   ],
   "source": [
    "diff_between_platforms(games_df, 'critic_score').sort_values('diff', ascending=False).head(10)"
   ]
  },
  {
   "cell_type": "markdown",
   "metadata": {},
   "source": [
    "Не получится заполнить пропущенные значения данными с других платформ из-за слишком больших различий между оценками "
   ]
  },
  {
   "cell_type": "markdown",
   "metadata": {},
   "source": [
    "<a name=\"data_preprocessing.missing.user_score\"></a>\n",
    "#### Оценка игроков"
   ]
  },
  {
   "cell_type": "markdown",
   "metadata": {},
   "source": [
    "Посмотрим, скролько значений *tbd* в датасете `games_df`"
   ]
  },
  {
   "cell_type": "code",
   "execution_count": 17,
   "metadata": {},
   "outputs": [
    {
     "name": "stdout",
     "output_type": "stream",
     "text": [
      "2424\n"
     ]
    }
   ],
   "source": [
    "print(games_df[games_df['user_score'] == 'tbd'].shape[0])"
   ]
  },
  {
   "cell_type": "markdown",
   "metadata": {},
   "source": [
    "Заменим их на 0, поскольку у нас нет этих значений все равно.  "
   ]
  },
  {
   "cell_type": "code",
   "execution_count": 18,
   "metadata": {},
   "outputs": [
    {
     "name": "stdout",
     "output_type": "stream",
     "text": [
      "0\n"
     ]
    }
   ],
   "source": [
    "games_df['user_score'] = games_df['user_score'].replace('tbd', np.nan)\n",
    "print(games_df[games_df['user_score'] == 'tbd'].shape[0])"
   ]
  },
  {
   "cell_type": "markdown",
   "metadata": {},
   "source": [
    "<div class=\"alert alert-success\">\n",
    "<h2> Комментарий ревьюера </h2>\n",
    "\n",
    "Верно, по своей сути tbd и является Nan. Отлично, что определяешь неявные пропущенные значения.\n",
    "\n",
    "</div>"
   ]
  },
  {
   "cell_type": "markdown",
   "metadata": {},
   "source": [
    "Изменим тип столбца `user_score` на `float`, чтобы можно было агрегировать данные из него "
   ]
  },
  {
   "cell_type": "code",
   "execution_count": 19,
   "metadata": {},
   "outputs": [
    {
     "data": {
      "text/plain": [
       "dtype('float64')"
      ]
     },
     "execution_count": 19,
     "metadata": {},
     "output_type": "execute_result"
    }
   ],
   "source": [
    "games_df['user_score'] = pd.to_numeric(games_df['user_score'])\n",
    "games_df.dtypes['user_score']"
   ]
  },
  {
   "cell_type": "markdown",
   "metadata": {},
   "source": [
    "Посмортим сколько пропусков в столбце `user_score`"
   ]
  },
  {
   "cell_type": "code",
   "execution_count": 20,
   "metadata": {},
   "outputs": [
    {
     "name": "stdout",
     "output_type": "stream",
     "text": [
      "Процент данных с пропускамив столбце user_score: 54.59%\n"
     ]
    }
   ],
   "source": [
    "print_nan_percent(games_df, 'user_score')"
   ]
  },
  {
   "cell_type": "markdown",
   "metadata": {},
   "source": [
    " Посмотрим на разрос значений между платформами"
   ]
  },
  {
   "cell_type": "code",
   "execution_count": 21,
   "metadata": {},
   "outputs": [
    {
     "data": {
      "text/html": [
       "<div>\n",
       "<style scoped>\n",
       "    .dataframe tbody tr th:only-of-type {\n",
       "        vertical-align: middle;\n",
       "    }\n",
       "\n",
       "    .dataframe tbody tr th {\n",
       "        vertical-align: top;\n",
       "    }\n",
       "\n",
       "    .dataframe thead tr th {\n",
       "        text-align: left;\n",
       "    }\n",
       "\n",
       "    .dataframe thead tr:last-of-type th {\n",
       "        text-align: right;\n",
       "    }\n",
       "</style>\n",
       "<table border=\"1\" class=\"dataframe\">\n",
       "  <thead>\n",
       "    <tr>\n",
       "      <th></th>\n",
       "      <th>min</th>\n",
       "      <th>median</th>\n",
       "      <th>mean</th>\n",
       "      <th>max</th>\n",
       "      <th>diff</th>\n",
       "    </tr>\n",
       "    <tr>\n",
       "      <th></th>\n",
       "      <th>user_score</th>\n",
       "      <th>user_score</th>\n",
       "      <th>user_score</th>\n",
       "      <th>user_score</th>\n",
       "      <th></th>\n",
       "    </tr>\n",
       "    <tr>\n",
       "      <th>name</th>\n",
       "      <th></th>\n",
       "      <th></th>\n",
       "      <th></th>\n",
       "      <th></th>\n",
       "      <th></th>\n",
       "    </tr>\n",
       "  </thead>\n",
       "  <tbody>\n",
       "    <tr>\n",
       "      <td>Cabela's Dangerous Hunts 2009</td>\n",
       "      <td>1.8</td>\n",
       "      <td>4.50</td>\n",
       "      <td>5.166667</td>\n",
       "      <td>9.2</td>\n",
       "      <td>7.4</td>\n",
       "    </tr>\n",
       "    <tr>\n",
       "      <td>Rugby World Cup 2015</td>\n",
       "      <td>1.4</td>\n",
       "      <td>3.10</td>\n",
       "      <td>3.900000</td>\n",
       "      <td>8.0</td>\n",
       "      <td>6.6</td>\n",
       "    </tr>\n",
       "    <tr>\n",
       "      <td>Cars</td>\n",
       "      <td>2.1</td>\n",
       "      <td>6.55</td>\n",
       "      <td>5.883333</td>\n",
       "      <td>8.4</td>\n",
       "      <td>6.3</td>\n",
       "    </tr>\n",
       "    <tr>\n",
       "      <td>LEGO The Hobbit</td>\n",
       "      <td>2.5</td>\n",
       "      <td>6.90</td>\n",
       "      <td>6.566667</td>\n",
       "      <td>8.7</td>\n",
       "      <td>6.2</td>\n",
       "    </tr>\n",
       "    <tr>\n",
       "      <td>G.I. Joe: The Rise of Cobra</td>\n",
       "      <td>2.3</td>\n",
       "      <td>4.75</td>\n",
       "      <td>4.825000</td>\n",
       "      <td>7.5</td>\n",
       "      <td>5.2</td>\n",
       "    </tr>\n",
       "    <tr>\n",
       "      <td>Wall-E</td>\n",
       "      <td>3.6</td>\n",
       "      <td>6.30</td>\n",
       "      <td>6.020000</td>\n",
       "      <td>8.4</td>\n",
       "      <td>4.8</td>\n",
       "    </tr>\n",
       "    <tr>\n",
       "      <td>FIFA 14</td>\n",
       "      <td>1.8</td>\n",
       "      <td>4.30</td>\n",
       "      <td>4.337500</td>\n",
       "      <td>6.3</td>\n",
       "      <td>4.5</td>\n",
       "    </tr>\n",
       "    <tr>\n",
       "      <td>Ridge Racer</td>\n",
       "      <td>3.7</td>\n",
       "      <td>5.95</td>\n",
       "      <td>5.950000</td>\n",
       "      <td>8.2</td>\n",
       "      <td>4.5</td>\n",
       "    </tr>\n",
       "    <tr>\n",
       "      <td>Tiger Woods PGA Tour 2005</td>\n",
       "      <td>4.5</td>\n",
       "      <td>8.20</td>\n",
       "      <td>7.200000</td>\n",
       "      <td>8.9</td>\n",
       "      <td>4.4</td>\n",
       "    </tr>\n",
       "    <tr>\n",
       "      <td>Ben 10 Alien Force: Vilgax Attacks</td>\n",
       "      <td>4.0</td>\n",
       "      <td>7.00</td>\n",
       "      <td>6.433333</td>\n",
       "      <td>8.3</td>\n",
       "      <td>4.3</td>\n",
       "    </tr>\n",
       "  </tbody>\n",
       "</table>\n",
       "</div>"
      ],
      "text/plain": [
       "                                          min     median       mean  \\\n",
       "                                   user_score user_score user_score   \n",
       "name                                                                  \n",
       "Cabela's Dangerous Hunts 2009             1.8       4.50   5.166667   \n",
       "Rugby World Cup 2015                      1.4       3.10   3.900000   \n",
       "Cars                                      2.1       6.55   5.883333   \n",
       "LEGO The Hobbit                           2.5       6.90   6.566667   \n",
       "G.I. Joe: The Rise of Cobra               2.3       4.75   4.825000   \n",
       "Wall-E                                    3.6       6.30   6.020000   \n",
       "FIFA 14                                   1.8       4.30   4.337500   \n",
       "Ridge Racer                               3.7       5.95   5.950000   \n",
       "Tiger Woods PGA Tour 2005                 4.5       8.20   7.200000   \n",
       "Ben 10 Alien Force: Vilgax Attacks        4.0       7.00   6.433333   \n",
       "\n",
       "                                          max diff  \n",
       "                                   user_score       \n",
       "name                                                \n",
       "Cabela's Dangerous Hunts 2009             9.2  7.4  \n",
       "Rugby World Cup 2015                      8.0  6.6  \n",
       "Cars                                      8.4  6.3  \n",
       "LEGO The Hobbit                           8.7  6.2  \n",
       "G.I. Joe: The Rise of Cobra               7.5  5.2  \n",
       "Wall-E                                    8.4  4.8  \n",
       "FIFA 14                                   6.3  4.5  \n",
       "Ridge Racer                               8.2  4.5  \n",
       "Tiger Woods PGA Tour 2005                 8.9  4.4  \n",
       "Ben 10 Alien Force: Vilgax Attacks        8.3  4.3  "
      ]
     },
     "execution_count": 21,
     "metadata": {},
     "output_type": "execute_result"
    }
   ],
   "source": [
    "diff_between_platforms(games_df, 'user_score').sort_values('diff', ascending=False).head(10)"
   ]
  },
  {
   "cell_type": "markdown",
   "metadata": {},
   "source": [
    "Разброс тоже слишком большой, чтобы можно было заменить значениями с других платформ."
   ]
  },
  {
   "cell_type": "markdown",
   "metadata": {},
   "source": [
    "<a name=\"data_preprocessing.missing.rating\"></a>\n",
    "#### Рейтинг ESRB"
   ]
  },
  {
   "cell_type": "markdown",
   "metadata": {},
   "source": [
    "Посмортим сколько пропусков в столбце `rating`"
   ]
  },
  {
   "cell_type": "code",
   "execution_count": 22,
   "metadata": {},
   "outputs": [
    {
     "name": "stdout",
     "output_type": "stream",
     "text": [
      "Процент данных с пропускамив столбце rating: 40.47%\n"
     ]
    }
   ],
   "source": [
    "print_nan_percent(games_df, 'rating')"
   ]
  },
  {
   "cell_type": "markdown",
   "metadata": {},
   "source": [
    "<div class=\"alert alert-info\">\n",
    "Выведем уникальные значения\n",
    "</div>"
   ]
  },
  {
   "cell_type": "code",
   "execution_count": 23,
   "metadata": {},
   "outputs": [
    {
     "data": {
      "text/plain": [
       "array(['E', nan, 'M', 'T', 'E10+', 'K-A', 'AO', 'EC', 'RP'], dtype=object)"
      ]
     },
     "execution_count": 23,
     "metadata": {},
     "output_type": "execute_result"
    }
   ],
   "source": [
    "games_df['rating'].unique()"
   ]
  },
  {
   "cell_type": "markdown",
   "metadata": {},
   "source": [
    "Найдем расшифровку кодов [здесь](https://www.esrb.org/ratings-guide/)"
   ]
  },
  {
   "cell_type": "markdown",
   "metadata": {},
   "source": [
    "* E - everyone, т.е для всех \n",
    "* M - mature, 17+\n",
    "* T - teen, 13+\n",
    "* E10+ - everyone 10+\n",
    "* K-A - kids to adults, для всех (E)\n",
    "* AO - adults only, 18+ \n",
    "* EC - early childhood, сейчас превратился в E\n",
    "* RP - рейтинг еще не определен "
   ]
  },
  {
   "cell_type": "markdown",
   "metadata": {},
   "source": [
    "Заменим рейтинги на их современные аналоги  "
   ]
  },
  {
   "cell_type": "code",
   "execution_count": 24,
   "metadata": {},
   "outputs": [
    {
     "name": "stdout",
     "output_type": "stream",
     "text": [
      "['E' nan 'M' 'T' 'E10+' 'AO']\n",
      "Количество пропусков в столбце rating: 6767\n",
      "Процент данных с пропускамив столбце rating: 40.49%\n"
     ]
    }
   ],
   "source": [
    "games_df['rating'] = games_df['rating'].replace('K-A', 'E')\n",
    "games_df['rating'] = games_df['rating'].replace('EC', 'E')\n",
    "games_df['rating'] = games_df['rating'].replace('RP', np.nan)\n",
    "print(games_df['rating'].unique())\n",
    "print_nan_count(games_df, 'rating')\n",
    "print_nan_percent(games_df, 'rating')"
   ]
  },
  {
   "cell_type": "code",
   "execution_count": 25,
   "metadata": {},
   "outputs": [
    {
     "data": {
      "text/html": [
       "<div>\n",
       "<style scoped>\n",
       "    .dataframe tbody tr th:only-of-type {\n",
       "        vertical-align: middle;\n",
       "    }\n",
       "\n",
       "    .dataframe tbody tr th {\n",
       "        vertical-align: top;\n",
       "    }\n",
       "\n",
       "    .dataframe thead th {\n",
       "        text-align: right;\n",
       "    }\n",
       "</style>\n",
       "<table border=\"1\" class=\"dataframe\">\n",
       "  <thead>\n",
       "    <tr style=\"text-align: right;\">\n",
       "      <th></th>\n",
       "      <th>name</th>\n",
       "      <th>platform</th>\n",
       "      <th>year_of_release</th>\n",
       "      <th>genre</th>\n",
       "      <th>na_sales_mm</th>\n",
       "      <th>eu_sales_mm</th>\n",
       "      <th>jp_sales_mm</th>\n",
       "      <th>other_sales_mm</th>\n",
       "      <th>critic_score</th>\n",
       "      <th>user_score</th>\n",
       "      <th>rating</th>\n",
       "      <th>rating_category</th>\n",
       "    </tr>\n",
       "  </thead>\n",
       "  <tbody>\n",
       "    <tr>\n",
       "      <td>0</td>\n",
       "      <td>Wii Sports</td>\n",
       "      <td>Wii</td>\n",
       "      <td>2006.0</td>\n",
       "      <td>Sports</td>\n",
       "      <td>41.36</td>\n",
       "      <td>28.96</td>\n",
       "      <td>3.77</td>\n",
       "      <td>8.45</td>\n",
       "      <td>76.0</td>\n",
       "      <td>8.0</td>\n",
       "      <td>E</td>\n",
       "      <td>0.0</td>\n",
       "    </tr>\n",
       "    <tr>\n",
       "      <td>1</td>\n",
       "      <td>Super Mario Bros.</td>\n",
       "      <td>NES</td>\n",
       "      <td>1985.0</td>\n",
       "      <td>Platform</td>\n",
       "      <td>29.08</td>\n",
       "      <td>3.58</td>\n",
       "      <td>6.81</td>\n",
       "      <td>0.77</td>\n",
       "      <td>NaN</td>\n",
       "      <td>NaN</td>\n",
       "      <td>NaN</td>\n",
       "      <td>NaN</td>\n",
       "    </tr>\n",
       "    <tr>\n",
       "      <td>2</td>\n",
       "      <td>Mario Kart Wii</td>\n",
       "      <td>Wii</td>\n",
       "      <td>2008.0</td>\n",
       "      <td>Racing</td>\n",
       "      <td>15.68</td>\n",
       "      <td>12.76</td>\n",
       "      <td>3.79</td>\n",
       "      <td>3.29</td>\n",
       "      <td>82.0</td>\n",
       "      <td>8.3</td>\n",
       "      <td>E</td>\n",
       "      <td>0.0</td>\n",
       "    </tr>\n",
       "    <tr>\n",
       "      <td>3</td>\n",
       "      <td>Wii Sports Resort</td>\n",
       "      <td>Wii</td>\n",
       "      <td>2009.0</td>\n",
       "      <td>Sports</td>\n",
       "      <td>15.61</td>\n",
       "      <td>10.93</td>\n",
       "      <td>3.28</td>\n",
       "      <td>2.95</td>\n",
       "      <td>80.0</td>\n",
       "      <td>8.0</td>\n",
       "      <td>E</td>\n",
       "      <td>0.0</td>\n",
       "    </tr>\n",
       "    <tr>\n",
       "      <td>4</td>\n",
       "      <td>Pokemon Red/Pokemon Blue</td>\n",
       "      <td>GB</td>\n",
       "      <td>1996.0</td>\n",
       "      <td>Role-Playing</td>\n",
       "      <td>11.27</td>\n",
       "      <td>8.89</td>\n",
       "      <td>10.22</td>\n",
       "      <td>1.00</td>\n",
       "      <td>NaN</td>\n",
       "      <td>NaN</td>\n",
       "      <td>NaN</td>\n",
       "      <td>NaN</td>\n",
       "    </tr>\n",
       "  </tbody>\n",
       "</table>\n",
       "</div>"
      ],
      "text/plain": [
       "                       name platform  year_of_release         genre  \\\n",
       "0                Wii Sports      Wii           2006.0        Sports   \n",
       "1         Super Mario Bros.      NES           1985.0      Platform   \n",
       "2            Mario Kart Wii      Wii           2008.0        Racing   \n",
       "3         Wii Sports Resort      Wii           2009.0        Sports   \n",
       "4  Pokemon Red/Pokemon Blue       GB           1996.0  Role-Playing   \n",
       "\n",
       "   na_sales_mm  eu_sales_mm  jp_sales_mm  other_sales_mm  critic_score  \\\n",
       "0        41.36        28.96         3.77            8.45          76.0   \n",
       "1        29.08         3.58         6.81            0.77           NaN   \n",
       "2        15.68        12.76         3.79            3.29          82.0   \n",
       "3        15.61        10.93         3.28            2.95          80.0   \n",
       "4        11.27         8.89        10.22            1.00           NaN   \n",
       "\n",
       "   user_score rating  rating_category  \n",
       "0         8.0      E              0.0  \n",
       "1         NaN    NaN              NaN  \n",
       "2         8.3      E              0.0  \n",
       "3         8.0      E              0.0  \n",
       "4         NaN    NaN              NaN  "
      ]
     },
     "execution_count": 25,
     "metadata": {},
     "output_type": "execute_result"
    }
   ],
   "source": [
    "from pandas.api.types import CategoricalDtype\n",
    "\n",
    "category_type = CategoricalDtype(categories=['E', 'E10+', 'T', 'M', 'AO'], ordered=True)\n",
    "\n",
    "games_df['rating_category']  = games_df['rating'].astype(category_type).cat.codes\n",
    "games_df['rating_category'] = games_df['rating_category'].replace(-1, np.nan)\n",
    "games_df.head(5)"
   ]
  },
  {
   "cell_type": "markdown",
   "metadata": {},
   "source": [
    " Посмотрим на разброс значений между играми"
   ]
  },
  {
   "cell_type": "code",
   "execution_count": 26,
   "metadata": {},
   "outputs": [
    {
     "data": {
      "text/html": [
       "<div>\n",
       "<style scoped>\n",
       "    .dataframe tbody tr th:only-of-type {\n",
       "        vertical-align: middle;\n",
       "    }\n",
       "\n",
       "    .dataframe tbody tr th {\n",
       "        vertical-align: top;\n",
       "    }\n",
       "\n",
       "    .dataframe thead tr th {\n",
       "        text-align: left;\n",
       "    }\n",
       "\n",
       "    .dataframe thead tr:last-of-type th {\n",
       "        text-align: right;\n",
       "    }\n",
       "</style>\n",
       "<table border=\"1\" class=\"dataframe\">\n",
       "  <thead>\n",
       "    <tr>\n",
       "      <th></th>\n",
       "      <th>min</th>\n",
       "      <th>median</th>\n",
       "      <th>mean</th>\n",
       "      <th>max</th>\n",
       "      <th>diff</th>\n",
       "    </tr>\n",
       "    <tr>\n",
       "      <th></th>\n",
       "      <th>rating_category</th>\n",
       "      <th>rating_category</th>\n",
       "      <th>rating_category</th>\n",
       "      <th>rating_category</th>\n",
       "      <th></th>\n",
       "    </tr>\n",
       "    <tr>\n",
       "      <th>name</th>\n",
       "      <th></th>\n",
       "      <th></th>\n",
       "      <th></th>\n",
       "      <th></th>\n",
       "      <th></th>\n",
       "    </tr>\n",
       "  </thead>\n",
       "  <tbody>\n",
       "    <tr>\n",
       "      <td>Rock Band Track Pack Volume 2</td>\n",
       "      <td>2.0</td>\n",
       "      <td>2.0</td>\n",
       "      <td>2.0</td>\n",
       "      <td>2.0</td>\n",
       "      <td>0.0</td>\n",
       "    </tr>\n",
       "    <tr>\n",
       "      <td>Rock Band Track Pack Volume 1</td>\n",
       "      <td>2.0</td>\n",
       "      <td>2.0</td>\n",
       "      <td>2.0</td>\n",
       "      <td>2.0</td>\n",
       "      <td>0.0</td>\n",
       "    </tr>\n",
       "    <tr>\n",
       "      <td>Rocket Power: Beach Bandits</td>\n",
       "      <td>0.0</td>\n",
       "      <td>0.0</td>\n",
       "      <td>0.0</td>\n",
       "      <td>0.0</td>\n",
       "      <td>0.0</td>\n",
       "    </tr>\n",
       "    <tr>\n",
       "      <td>Rise of the Tomb Raider</td>\n",
       "      <td>3.0</td>\n",
       "      <td>3.0</td>\n",
       "      <td>3.0</td>\n",
       "      <td>3.0</td>\n",
       "      <td>0.0</td>\n",
       "    </tr>\n",
       "    <tr>\n",
       "      <td>Road Rash: Jailbreak</td>\n",
       "      <td>2.0</td>\n",
       "      <td>2.0</td>\n",
       "      <td>2.0</td>\n",
       "      <td>2.0</td>\n",
       "      <td>0.0</td>\n",
       "    </tr>\n",
       "  </tbody>\n",
       "</table>\n",
       "</div>"
      ],
      "text/plain": [
       "                                          min          median            mean  \\\n",
       "                              rating_category rating_category rating_category   \n",
       "name                                                                            \n",
       "Rock Band Track Pack Volume 2             2.0             2.0             2.0   \n",
       "Rock Band Track Pack Volume 1             2.0             2.0             2.0   \n",
       "Rocket Power: Beach Bandits               0.0             0.0             0.0   \n",
       "Rise of the Tomb Raider                   3.0             3.0             3.0   \n",
       "Road Rash: Jailbreak                      2.0             2.0             2.0   \n",
       "\n",
       "                                          max diff  \n",
       "                              rating_category       \n",
       "name                                                \n",
       "Rock Band Track Pack Volume 2             2.0  0.0  \n",
       "Rock Band Track Pack Volume 1             2.0  0.0  \n",
       "Rocket Power: Beach Bandits               0.0  0.0  \n",
       "Rise of the Tomb Raider                   3.0  0.0  \n",
       "Road Rash: Jailbreak                      2.0  0.0  "
      ]
     },
     "execution_count": 26,
     "metadata": {},
     "output_type": "execute_result"
    }
   ],
   "source": [
    "games_ratings_diff = diff_between_platforms(games_df, 'rating_category').sort_values('diff', ascending=False)\n",
    "games_ratings_zero_diff = games_ratings_diff[games_ratings_diff['diff'] == 0]\n",
    "games_ratings_zero_diff.head(5)\n"
   ]
  },
  {
   "cell_type": "markdown",
   "metadata": {},
   "source": [
    "Теперь заменим пропуски по рейтингам играм"
   ]
  },
  {
   "cell_type": "code",
   "execution_count": 27,
   "metadata": {},
   "outputs": [
    {
     "name": "stdout",
     "output_type": "stream",
     "text": [
      "Количество пропусков в столбце rating: 6351\n",
      "Процент данных с пропускамив столбце rating: 38.00%\n"
     ]
    }
   ],
   "source": [
    "def fill_rating(row):\n",
    "    if pd.isna(row['rating']):\n",
    "        try: \n",
    "            rating_category = games_ratings_zero_diff.loc[row['name']]['mean']['rating_category']\n",
    "            if rating_category == 0: \n",
    "                return 'E'\n",
    "            elif rating_category == 1: \n",
    "                return 'E10+'\n",
    "            elif rating_category == 2: \n",
    "                return 'T'\n",
    "            elif rating_category == 3: \n",
    "                return 'M'\n",
    "            else: \n",
    "                return 'AO'\n",
    "        except:\n",
    "            return np.nan\n",
    "        \n",
    "    return row['rating']\n",
    "\n",
    "games_df['rating'] = games_df.apply(fill_rating, axis=1)\n",
    "print_nan_count(games_df, 'rating')\n",
    "print_nan_percent(games_df, 'rating')"
   ]
  },
  {
   "cell_type": "markdown",
   "metadata": {},
   "source": [
    "Отлично, избавились от 6767 - 6351 = 416 пропусков"
   ]
  },
  {
   "cell_type": "code",
   "execution_count": 28,
   "metadata": {},
   "outputs": [
    {
     "data": {
      "text/plain": [
       "array(['E', nan, 'M', 'T', 'E10+', 'AO'], dtype=object)"
      ]
     },
     "execution_count": 28,
     "metadata": {},
     "output_type": "execute_result"
    }
   ],
   "source": [
    "games_df['rating'].unique()"
   ]
  },
  {
   "cell_type": "markdown",
   "metadata": {},
   "source": [
    "<div class=\"alert alert-success\">\n",
    "<h2> Комментарий ревьюера 2</h2>\n",
    "\n",
    "Соглашусь, игра, в основном, имеет один жанр на разных платформах.\n",
    "\n",
    "</div>"
   ]
  },
  {
   "cell_type": "markdown",
   "metadata": {},
   "source": [
    "<a name=\"data_preprocessing.change_types\"></a>\n",
    "### Изменение типов данных"
   ]
  },
  {
   "cell_type": "markdown",
   "metadata": {},
   "source": [
    "<a name=\"data_preprocessing.change_types.year_of_release\"></a>\n",
    "#### Год выпуска"
   ]
  },
  {
   "cell_type": "markdown",
   "metadata": {},
   "source": [
    "Поменяем тип столбца `year_of_release` на `Int64`, поскольку у нас есть пропуски в нем"
   ]
  },
  {
   "cell_type": "code",
   "execution_count": 29,
   "metadata": {},
   "outputs": [],
   "source": [
    "games_df['year_of_release'] = games_df['year_of_release'].astype('Int64')"
   ]
  },
  {
   "cell_type": "markdown",
   "metadata": {},
   "source": [
    "<a name=\"data_preprocessing.change_types.critic_score\"></a>\n",
    "#### Оценка критиков"
   ]
  },
  {
   "cell_type": "markdown",
   "metadata": {},
   "source": [
    "Посмотрим, есть ли у нас нецелые рейтинги в столбце `critic_score`"
   ]
  },
  {
   "cell_type": "code",
   "execution_count": 30,
   "metadata": {},
   "outputs": [
    {
     "data": {
      "text/plain": [
       "array([76., nan, 82., 80., 89., 58., 87., 91., 61., 97., 95., 77., 88.,\n",
       "       83., 94., 93., 85., 86., 98., 96., 90., 84., 73., 74., 78., 92.,\n",
       "       71., 72., 68., 62., 49., 67., 81., 66., 56., 79., 70., 59., 64.,\n",
       "       75., 60., 63., 69., 50., 25., 42., 44., 55., 48., 57., 29., 47.,\n",
       "       65., 54., 20., 53., 37., 38., 33., 52., 30., 32., 43., 45., 51.,\n",
       "       40., 46., 39., 34., 35., 41., 36., 28., 31., 27., 26., 19., 23.,\n",
       "       24., 21., 17., 22., 13.])"
      ]
     },
     "execution_count": 30,
     "metadata": {},
     "output_type": "execute_result"
    }
   ],
   "source": [
    "games_df['critic_score'].unique()"
   ]
  },
  {
   "cell_type": "markdown",
   "metadata": {},
   "source": [
    "Преобразуем тип к `Int64`"
   ]
  },
  {
   "cell_type": "code",
   "execution_count": 31,
   "metadata": {},
   "outputs": [],
   "source": [
    "games_df['critic_score'] = games_df['critic_score'].astype('Int64')"
   ]
  },
  {
   "cell_type": "markdown",
   "metadata": {},
   "source": [
    "<a name=\"data_preprocessing.change_types.user_score\"></a>\n",
    "#### Оценка игроков"
   ]
  },
  {
   "cell_type": "markdown",
   "metadata": {},
   "source": [
    "[Ранее](#data_preprocessing.missing.user_score) мы уже преобразовали тип `user_score` к `float`"
   ]
  },
  {
   "cell_type": "markdown",
   "metadata": {},
   "source": [
    "<a name=\"data_preprocessing.add_columns\"></a>\n",
    "### Добавление значений суммарных продаж в таблицу"
   ]
  },
  {
   "cell_type": "code",
   "execution_count": 32,
   "metadata": {},
   "outputs": [
    {
     "data": {
      "text/html": [
       "<div>\n",
       "<style scoped>\n",
       "    .dataframe tbody tr th:only-of-type {\n",
       "        vertical-align: middle;\n",
       "    }\n",
       "\n",
       "    .dataframe tbody tr th {\n",
       "        vertical-align: top;\n",
       "    }\n",
       "\n",
       "    .dataframe thead th {\n",
       "        text-align: right;\n",
       "    }\n",
       "</style>\n",
       "<table border=\"1\" class=\"dataframe\">\n",
       "  <thead>\n",
       "    <tr style=\"text-align: right;\">\n",
       "      <th></th>\n",
       "      <th>name</th>\n",
       "      <th>platform</th>\n",
       "      <th>year_of_release</th>\n",
       "      <th>genre</th>\n",
       "      <th>na_sales_mm</th>\n",
       "      <th>eu_sales_mm</th>\n",
       "      <th>jp_sales_mm</th>\n",
       "      <th>other_sales_mm</th>\n",
       "      <th>critic_score</th>\n",
       "      <th>user_score</th>\n",
       "      <th>rating</th>\n",
       "      <th>rating_category</th>\n",
       "      <th>total_sales_mm</th>\n",
       "    </tr>\n",
       "  </thead>\n",
       "  <tbody>\n",
       "    <tr>\n",
       "      <td>0</td>\n",
       "      <td>Wii Sports</td>\n",
       "      <td>Wii</td>\n",
       "      <td>2006</td>\n",
       "      <td>Sports</td>\n",
       "      <td>41.36</td>\n",
       "      <td>28.96</td>\n",
       "      <td>3.77</td>\n",
       "      <td>8.45</td>\n",
       "      <td>76</td>\n",
       "      <td>8.0</td>\n",
       "      <td>E</td>\n",
       "      <td>0.0</td>\n",
       "      <td>82.54</td>\n",
       "    </tr>\n",
       "    <tr>\n",
       "      <td>1</td>\n",
       "      <td>Super Mario Bros.</td>\n",
       "      <td>NES</td>\n",
       "      <td>1985</td>\n",
       "      <td>Platform</td>\n",
       "      <td>29.08</td>\n",
       "      <td>3.58</td>\n",
       "      <td>6.81</td>\n",
       "      <td>0.77</td>\n",
       "      <td>NaN</td>\n",
       "      <td>NaN</td>\n",
       "      <td>NaN</td>\n",
       "      <td>NaN</td>\n",
       "      <td>40.24</td>\n",
       "    </tr>\n",
       "    <tr>\n",
       "      <td>2</td>\n",
       "      <td>Mario Kart Wii</td>\n",
       "      <td>Wii</td>\n",
       "      <td>2008</td>\n",
       "      <td>Racing</td>\n",
       "      <td>15.68</td>\n",
       "      <td>12.76</td>\n",
       "      <td>3.79</td>\n",
       "      <td>3.29</td>\n",
       "      <td>82</td>\n",
       "      <td>8.3</td>\n",
       "      <td>E</td>\n",
       "      <td>0.0</td>\n",
       "      <td>35.52</td>\n",
       "    </tr>\n",
       "    <tr>\n",
       "      <td>3</td>\n",
       "      <td>Wii Sports Resort</td>\n",
       "      <td>Wii</td>\n",
       "      <td>2009</td>\n",
       "      <td>Sports</td>\n",
       "      <td>15.61</td>\n",
       "      <td>10.93</td>\n",
       "      <td>3.28</td>\n",
       "      <td>2.95</td>\n",
       "      <td>80</td>\n",
       "      <td>8.0</td>\n",
       "      <td>E</td>\n",
       "      <td>0.0</td>\n",
       "      <td>32.77</td>\n",
       "    </tr>\n",
       "    <tr>\n",
       "      <td>4</td>\n",
       "      <td>Pokemon Red/Pokemon Blue</td>\n",
       "      <td>GB</td>\n",
       "      <td>1996</td>\n",
       "      <td>Role-Playing</td>\n",
       "      <td>11.27</td>\n",
       "      <td>8.89</td>\n",
       "      <td>10.22</td>\n",
       "      <td>1.00</td>\n",
       "      <td>NaN</td>\n",
       "      <td>NaN</td>\n",
       "      <td>NaN</td>\n",
       "      <td>NaN</td>\n",
       "      <td>31.38</td>\n",
       "    </tr>\n",
       "  </tbody>\n",
       "</table>\n",
       "</div>"
      ],
      "text/plain": [
       "                       name platform  year_of_release         genre  \\\n",
       "0                Wii Sports      Wii             2006        Sports   \n",
       "1         Super Mario Bros.      NES             1985      Platform   \n",
       "2            Mario Kart Wii      Wii             2008        Racing   \n",
       "3         Wii Sports Resort      Wii             2009        Sports   \n",
       "4  Pokemon Red/Pokemon Blue       GB             1996  Role-Playing   \n",
       "\n",
       "   na_sales_mm  eu_sales_mm  jp_sales_mm  other_sales_mm  critic_score  \\\n",
       "0        41.36        28.96         3.77            8.45            76   \n",
       "1        29.08         3.58         6.81            0.77           NaN   \n",
       "2        15.68        12.76         3.79            3.29            82   \n",
       "3        15.61        10.93         3.28            2.95            80   \n",
       "4        11.27         8.89        10.22            1.00           NaN   \n",
       "\n",
       "   user_score rating  rating_category  total_sales_mm  \n",
       "0         8.0      E              0.0           82.54  \n",
       "1         NaN    NaN              NaN           40.24  \n",
       "2         8.3      E              0.0           35.52  \n",
       "3         8.0      E              0.0           32.77  \n",
       "4         NaN    NaN              NaN           31.38  "
      ]
     },
     "execution_count": 32,
     "metadata": {},
     "output_type": "execute_result"
    }
   ],
   "source": [
    "def total_sales(row):\n",
    "    marketplaces_sales = (\n",
    "        'na_sales_mm',\n",
    "        'eu_sales_mm',\n",
    "        'jp_sales_mm',\n",
    "        'other_sales_mm',\n",
    "    )\n",
    "    \n",
    "    return sum((row[x] for x in marketplaces_sales))\n",
    "\n",
    "games_df['total_sales_mm'] = games_df.apply(total_sales, axis=1)\n",
    "games_df.head(5)"
   ]
  },
  {
   "cell_type": "markdown",
   "metadata": {},
   "source": [
    "<a name=\"data_preprocessing.conclusion\"></a>\n",
    "### Вывод"
   ]
  },
  {
   "cell_type": "markdown",
   "metadata": {},
   "source": [
    "* были переименованы столбцы\n",
    "* удалены строки с пустыми значениями в `name` и `genre`\n",
    "* проверено, можно ли заменить пропуски в `year_of_release`, `critic_score`, `user_score` путем вычисления значений для тех же игр, но с других платформ.   \n",
    "Оказалось, что это невозможно из-за того, что значения на разных платформах сильно различаются\n",
    "* изменены типы данных на корректные\n",
    "* добавлены значения суммарных продаж "
   ]
  },
  {
   "cell_type": "markdown",
   "metadata": {},
   "source": [
    "<div class=\"alert alert-success\">\n",
    "<h2> Комментарий ревьюера </h2>\n",
    "\n",
    "Да, восстановить пропущенные значения мы не можем. Данных для этого недостаточно. Лучше работать с меньшим количеством данных хорошего качества.\n",
    "    \n",
    "Ошибки в данных устранены. Данные подготовлены к дальнейшему анализу. \n",
    "\n",
    "</div>"
   ]
  },
  {
   "cell_type": "markdown",
   "metadata": {},
   "source": [
    "<a name=\"exploratory_data_analysis\"></a>\n",
    "## Шаг 3. Исследовательский анализ данных"
   ]
  },
  {
   "cell_type": "code",
   "execution_count": 33,
   "metadata": {},
   "outputs": [],
   "source": [
    "def get_sales_by_platform(df):\n",
    "    return df.pivot_table(index='platform', values='total_sales_mm', aggfunc='sum')\\\n",
    "        .sort_values('total_sales_mm', ascending=False)\n",
    "\n",
    "def get_sales_by_platform_and_year(df):\n",
    "    return df.pivot_table(index=['platform', 'year_of_release'], values='total_sales_mm', aggfunc='sum')\\\n",
    "        .sort_values('year_of_release')\n",
    "\n",
    "def plot_sales_by_platform_hist(df):\n",
    "    df.plot(kind='bar', grid=True, legend=False, title='Продажи по платформам').set(xlabel='Платформа', ylabel = 'Продажи')\n",
    "    plt.show()"
   ]
  },
  {
   "cell_type": "markdown",
   "metadata": {},
   "source": [
    "<a name=\"exploratory_data_analysis.games_count\"></a>\n",
    "### Количество игр по годам"
   ]
  },
  {
   "cell_type": "markdown",
   "metadata": {},
   "source": [
    "Cначала составим таблицу сводную таблицу, посчитав количество выпущенных игр по годам"
   ]
  },
  {
   "cell_type": "code",
   "execution_count": 34,
   "metadata": {},
   "outputs": [
    {
     "data": {
      "text/html": [
       "<div>\n",
       "<style scoped>\n",
       "    .dataframe tbody tr th:only-of-type {\n",
       "        vertical-align: middle;\n",
       "    }\n",
       "\n",
       "    .dataframe tbody tr th {\n",
       "        vertical-align: top;\n",
       "    }\n",
       "\n",
       "    .dataframe thead th {\n",
       "        text-align: right;\n",
       "    }\n",
       "</style>\n",
       "<table border=\"1\" class=\"dataframe\">\n",
       "  <thead>\n",
       "    <tr style=\"text-align: right;\">\n",
       "      <th></th>\n",
       "      <th>name</th>\n",
       "    </tr>\n",
       "    <tr>\n",
       "      <th>year_of_release</th>\n",
       "      <th></th>\n",
       "    </tr>\n",
       "  </thead>\n",
       "  <tbody>\n",
       "    <tr>\n",
       "      <td>2016</td>\n",
       "      <td>502</td>\n",
       "    </tr>\n",
       "    <tr>\n",
       "      <td>2015</td>\n",
       "      <td>606</td>\n",
       "    </tr>\n",
       "    <tr>\n",
       "      <td>2014</td>\n",
       "      <td>581</td>\n",
       "    </tr>\n",
       "    <tr>\n",
       "      <td>2013</td>\n",
       "      <td>544</td>\n",
       "    </tr>\n",
       "    <tr>\n",
       "      <td>2012</td>\n",
       "      <td>653</td>\n",
       "    </tr>\n",
       "    <tr>\n",
       "      <td>2011</td>\n",
       "      <td>1136</td>\n",
       "    </tr>\n",
       "    <tr>\n",
       "      <td>2010</td>\n",
       "      <td>1255</td>\n",
       "    </tr>\n",
       "    <tr>\n",
       "      <td>2009</td>\n",
       "      <td>1426</td>\n",
       "    </tr>\n",
       "    <tr>\n",
       "      <td>2008</td>\n",
       "      <td>1427</td>\n",
       "    </tr>\n",
       "    <tr>\n",
       "      <td>2007</td>\n",
       "      <td>1197</td>\n",
       "    </tr>\n",
       "  </tbody>\n",
       "</table>\n",
       "</div>"
      ],
      "text/plain": [
       "                 name\n",
       "year_of_release      \n",
       "2016              502\n",
       "2015              606\n",
       "2014              581\n",
       "2013              544\n",
       "2012              653\n",
       "2011             1136\n",
       "2010             1255\n",
       "2009             1426\n",
       "2008             1427\n",
       "2007             1197"
      ]
     },
     "execution_count": 34,
     "metadata": {},
     "output_type": "execute_result"
    }
   ],
   "source": [
    "games_per_year = games_df.pivot_table(index='year_of_release', values='name', aggfunc='count')\\\n",
    "    .sort_values('year_of_release', ascending=False)\n",
    "games_per_year.head(10)"
   ]
  },
  {
   "cell_type": "markdown",
   "metadata": {},
   "source": [
    "Теперь составим по этим данным график"
   ]
  },
  {
   "cell_type": "code",
   "execution_count": 35,
   "metadata": {},
   "outputs": [
    {
     "data": {
      "image/png": "[encoded data removed]",
      "text/plain": [
       "<Figure size 432x288 with 1 Axes>"
      ]
     },
     "metadata": {
      "needs_background": "light"
     },
     "output_type": "display_data"
    }
   ],
   "source": [
    "games_per_year.plot(grid=True, legend=False, title='Количество игр по годам').set(xlabel='Год', ylabel = 'Количество')\n",
    "plt.show()"
   ]
  },
  {
   "cell_type": "markdown",
   "metadata": {},
   "source": [
    "**Выводы**:\n",
    "* видно, что до 1994 года игр производили мало. Связанно это скорее всего с тем, что в то время персональные компютеры не были распространены, а приставки еще не были выпущены\n",
    "* до 2009 года был рост количества выпущенных игр, затем наступил спад из-за популяризации мобильного гейминга"
   ]
  },
  {
   "cell_type": "markdown",
   "metadata": {},
   "source": [
    "<div class=\"alert alert-success\">\n",
    "<h2> Комментарий ревьюера </h2>\n",
    "\n",
    "Соглашусь, мобильные игры могли забрать часть рынка на себя. \n",
    "</div>"
   ]
  },
  {
   "cell_type": "markdown",
   "metadata": {},
   "source": [
    "<a name=\"exploratory_data_analysis.games_count\"></a>\n",
    "### Как менялись продажи по платформам"
   ]
  },
  {
   "cell_type": "markdown",
   "metadata": {},
   "source": [
    "Найдем платформы с наибольшими суммарными продажами.  \n",
    "Составим сводную таблицу, посчитав количество продаж игр по платформам.   "
   ]
  },
  {
   "cell_type": "code",
   "execution_count": 36,
   "metadata": {},
   "outputs": [
    {
     "data": {
      "text/html": [
       "<div>\n",
       "<style scoped>\n",
       "    .dataframe tbody tr th:only-of-type {\n",
       "        vertical-align: middle;\n",
       "    }\n",
       "\n",
       "    .dataframe tbody tr th {\n",
       "        vertical-align: top;\n",
       "    }\n",
       "\n",
       "    .dataframe thead th {\n",
       "        text-align: right;\n",
       "    }\n",
       "</style>\n",
       "<table border=\"1\" class=\"dataframe\">\n",
       "  <thead>\n",
       "    <tr style=\"text-align: right;\">\n",
       "      <th></th>\n",
       "      <th>total_sales_mm</th>\n",
       "    </tr>\n",
       "    <tr>\n",
       "      <th>platform</th>\n",
       "      <th></th>\n",
       "    </tr>\n",
       "  </thead>\n",
       "  <tbody>\n",
       "    <tr>\n",
       "      <td>PS2</td>\n",
       "      <td>1255.77</td>\n",
       "    </tr>\n",
       "    <tr>\n",
       "      <td>X360</td>\n",
       "      <td>971.42</td>\n",
       "    </tr>\n",
       "    <tr>\n",
       "      <td>PS3</td>\n",
       "      <td>939.65</td>\n",
       "    </tr>\n",
       "    <tr>\n",
       "      <td>Wii</td>\n",
       "      <td>907.51</td>\n",
       "    </tr>\n",
       "    <tr>\n",
       "      <td>DS</td>\n",
       "      <td>806.12</td>\n",
       "    </tr>\n",
       "  </tbody>\n",
       "</table>\n",
       "</div>"
      ],
      "text/plain": [
       "          total_sales_mm\n",
       "platform                \n",
       "PS2              1255.77\n",
       "X360              971.42\n",
       "PS3               939.65\n",
       "Wii               907.51\n",
       "DS                806.12"
      ]
     },
     "execution_count": 36,
     "metadata": {},
     "output_type": "execute_result"
    }
   ],
   "source": [
    "sales_per_platform = get_sales_by_platform(games_df)\n",
    "sales_per_platform.head(5)"
   ]
  },
  {
   "cell_type": "markdown",
   "metadata": {},
   "source": [
    "Построим диаграмму по суммарным продажам "
   ]
  },
  {
   "cell_type": "code",
   "execution_count": 37,
   "metadata": {},
   "outputs": [
    {
     "data": {
      "image/png": "[encoded data removed]",
      "text/plain": [
       "<Figure size 432x288 with 1 Axes>"
      ]
     },
     "metadata": {
      "needs_background": "light"
     },
     "output_type": "display_data"
    }
   ],
   "source": [
    "plot_sales_by_platform_hist(sales_per_platform)\n"
   ]
  },
  {
   "cell_type": "markdown",
   "metadata": {},
   "source": [
    "Получим топ-5 платформ"
   ]
  },
  {
   "cell_type": "code",
   "execution_count": 38,
   "metadata": {},
   "outputs": [
    {
     "name": "stdout",
     "output_type": "stream",
     "text": [
      "['PS2', 'X360', 'PS3', 'Wii', 'DS']\n"
     ]
    }
   ],
   "source": [
    "top_platforms_df = sales_per_platform.head(5)\n",
    "top_platforms = top_platforms_df.index.to_list()\n",
    "print(top_platforms)"
   ]
  },
  {
   "cell_type": "markdown",
   "metadata": {},
   "source": [
    "Теперь выведем граф с зависимостью количества проданных игр по платформам от года"
   ]
  },
  {
   "cell_type": "code",
   "execution_count": 39,
   "metadata": {},
   "outputs": [],
   "source": [
    "sales_per_platform_and_year = get_sales_by_platform_and_year(games_df)\n"
   ]
  },
  {
   "cell_type": "code",
   "execution_count": 40,
   "metadata": {},
   "outputs": [
    {
     "data": {
      "image/png": "[encoded data removed]",
      "text/plain": [
       "<Figure size 1080x504 with 1 Axes>"
      ]
     },
     "metadata": {
      "needs_background": "light"
     },
     "output_type": "display_data"
    }
   ],
   "source": [
    "year_range = range(1994, 2017)\n",
    "\n",
    "fig, ax = plt.subplots(figsize=(15, 7))\n",
    "\n",
    "plt.suptitle('Продажи по годам')\n",
    "\n",
    "for platform in top_platforms:\n",
    "    sales_per_platform_and_year.loc[platform].reindex(year_range).fillna(0)\\\n",
    "        .plot(grid=True, ax=ax, xticks=year_range)\n",
    "\n",
    "plt.xlabel('Год')\n",
    "plt.ylabel('Продажи ($ млн)')\n",
    "ax.legend(labels=top_platforms)\n",
    "plt.xticks(rotation=90)\n",
    "plt.show() "
   ]
  },
  {
   "cell_type": "markdown",
   "metadata": {},
   "source": [
    "**Вывод**: Срок жизни платформы примерно 10 лет. После этого выходит либо новая версия платформы, либо она просто устаревает. Мы можем выбрать актуальный период в 10 лет и смотреть на игры на современных платформах."
   ]
  },
  {
   "cell_type": "markdown",
   "metadata": {},
   "source": [
    "<div class=\"alert alert-warning\">\n",
    "<h2> Комментарий ревьюера </h2>\n",
    "\n",
    "Значение средней продолжительности существования платформы приведено. Однако выводы ты делаешь по графику. Стоит также привести расчет данного значения. Подумай, стоит ли включать в расчет все платформы. Будут ли выбросы по продолжительности существования платформ?\n",
    "\n",
    "</div>"
   ]
  },
  {
   "cell_type": "markdown",
   "metadata": {},
   "source": [
    "<div class=\"alert alert-info\">\n",
    "Посчитаем среднее значение продолжительности существования платформы\n",
    "\n",
    "</div>"
   ]
  },
  {
   "cell_type": "code",
   "execution_count": 41,
   "metadata": {},
   "outputs": [
    {
     "data": {
      "text/html": [
       "<div>\n",
       "<style scoped>\n",
       "    .dataframe tbody tr th:only-of-type {\n",
       "        vertical-align: middle;\n",
       "    }\n",
       "\n",
       "    .dataframe tbody tr th {\n",
       "        vertical-align: top;\n",
       "    }\n",
       "\n",
       "    .dataframe thead tr th {\n",
       "        text-align: left;\n",
       "    }\n",
       "\n",
       "    .dataframe thead tr:last-of-type th {\n",
       "        text-align: right;\n",
       "    }\n",
       "</style>\n",
       "<table border=\"1\" class=\"dataframe\">\n",
       "  <thead>\n",
       "    <tr>\n",
       "      <th></th>\n",
       "      <th>min</th>\n",
       "      <th>max</th>\n",
       "      <th>diff</th>\n",
       "    </tr>\n",
       "    <tr>\n",
       "      <th></th>\n",
       "      <th>year_of_release</th>\n",
       "      <th>year_of_release</th>\n",
       "      <th></th>\n",
       "    </tr>\n",
       "    <tr>\n",
       "      <th>platform</th>\n",
       "      <th></th>\n",
       "      <th></th>\n",
       "      <th></th>\n",
       "    </tr>\n",
       "  </thead>\n",
       "  <tbody>\n",
       "    <tr>\n",
       "      <td>2600</td>\n",
       "      <td>1980</td>\n",
       "      <td>1989</td>\n",
       "      <td>9</td>\n",
       "    </tr>\n",
       "    <tr>\n",
       "      <td>3DO</td>\n",
       "      <td>1994</td>\n",
       "      <td>1995</td>\n",
       "      <td>1</td>\n",
       "    </tr>\n",
       "    <tr>\n",
       "      <td>3DS</td>\n",
       "      <td>2011</td>\n",
       "      <td>2016</td>\n",
       "      <td>5</td>\n",
       "    </tr>\n",
       "    <tr>\n",
       "      <td>DC</td>\n",
       "      <td>1998</td>\n",
       "      <td>2008</td>\n",
       "      <td>10</td>\n",
       "    </tr>\n",
       "    <tr>\n",
       "      <td>DS</td>\n",
       "      <td>1985</td>\n",
       "      <td>2013</td>\n",
       "      <td>28</td>\n",
       "    </tr>\n",
       "  </tbody>\n",
       "</table>\n",
       "</div>"
      ],
      "text/plain": [
       "                     min             max diff\n",
       "         year_of_release year_of_release     \n",
       "platform                                     \n",
       "2600                1980            1989    9\n",
       "3DO                 1994            1995    1\n",
       "3DS                 2011            2016    5\n",
       "DC                  1998            2008   10\n",
       "DS                  1985            2013   28"
      ]
     },
     "metadata": {},
     "output_type": "display_data"
    },
    {
     "name": "stdout",
     "output_type": "stream",
     "text": [
      "count    31.000000\n",
      "mean      7.612903\n",
      "std       6.998464\n",
      "min       0.000000\n",
      "25%       3.000000\n",
      "50%       6.000000\n",
      "75%      10.000000\n",
      "max      31.000000\n",
      "Name: diff, dtype: float64\n",
      "границы нормальных значений - ([0, 20])\n"
     ]
    },
    {
     "data": {
      "image/png": "[encoded data removed]",
      "text/plain": [
       "<Figure size 432x288 with 1 Axes>"
      ]
     },
     "metadata": {
      "needs_background": "light"
     },
     "output_type": "display_data"
    }
   ],
   "source": [
    "games_release_diff = games_df.pivot_table(index='platform', values='year_of_release', aggfunc=['min', 'max'])\n",
    "games_release_diff['diff'] = (games_release_diff['max'] - games_release_diff['min']).astype('int')\n",
    "display(games_release_diff.head(5))\n",
    "\n",
    "games_release_diff['diff'].plot(\n",
    "        kind='box',\n",
    "        grid=True, \n",
    "        title='Время существования платформы', \n",
    "    ).set(ylabel='Годы')\n",
    "print(games_release_diff['diff'].describe())\n",
    "print('границы нормальных значений - ({})'.format([round(x) for x in compute_normal_range(games_release_diff['diff'])]))\n",
    "plt.show()"
   ]
  },
  {
   "cell_type": "markdown",
   "metadata": {},
   "source": [
    "Видно, что есть выбросы в продолжительности жизни платформ, например PC который будет актуален всегда.  \n",
    "Среднее значение равно 7.6 лет, но возьмем значение в 10, равное 75% перцентилю.  \n",
    "Это значение совпадает с выводами, сделанными из графика."
   ]
  },
  {
   "cell_type": "markdown",
   "metadata": {},
   "source": [
    "<div class=\"alert alert-success\">\n",
    "<h2> Комментарий ревьюера 2</h2>\n",
    "\n",
    "Расчет произведен. Так мы можем подтвердить вывод, сделанный по графику.  \n",
    "\n",
    "</div>"
   ]
  },
  {
   "cell_type": "code",
   "execution_count": 42,
   "metadata": {},
   "outputs": [
    {
     "data": {
      "text/html": [
       "<div>\n",
       "<style scoped>\n",
       "    .dataframe tbody tr th:only-of-type {\n",
       "        vertical-align: middle;\n",
       "    }\n",
       "\n",
       "    .dataframe tbody tr th {\n",
       "        vertical-align: top;\n",
       "    }\n",
       "\n",
       "    .dataframe thead th {\n",
       "        text-align: right;\n",
       "    }\n",
       "</style>\n",
       "<table border=\"1\" class=\"dataframe\">\n",
       "  <thead>\n",
       "    <tr style=\"text-align: right;\">\n",
       "      <th></th>\n",
       "      <th>name</th>\n",
       "      <th>platform</th>\n",
       "      <th>year_of_release</th>\n",
       "      <th>genre</th>\n",
       "      <th>na_sales_mm</th>\n",
       "      <th>eu_sales_mm</th>\n",
       "      <th>jp_sales_mm</th>\n",
       "      <th>other_sales_mm</th>\n",
       "      <th>critic_score</th>\n",
       "      <th>user_score</th>\n",
       "      <th>rating</th>\n",
       "      <th>rating_category</th>\n",
       "      <th>total_sales_mm</th>\n",
       "    </tr>\n",
       "  </thead>\n",
       "  <tbody>\n",
       "    <tr>\n",
       "      <td>0</td>\n",
       "      <td>Wii Sports</td>\n",
       "      <td>Wii</td>\n",
       "      <td>2006</td>\n",
       "      <td>Sports</td>\n",
       "      <td>41.36</td>\n",
       "      <td>28.96</td>\n",
       "      <td>3.77</td>\n",
       "      <td>8.45</td>\n",
       "      <td>76</td>\n",
       "      <td>8.0</td>\n",
       "      <td>E</td>\n",
       "      <td>0.0</td>\n",
       "      <td>82.54</td>\n",
       "    </tr>\n",
       "    <tr>\n",
       "      <td>2</td>\n",
       "      <td>Mario Kart Wii</td>\n",
       "      <td>Wii</td>\n",
       "      <td>2008</td>\n",
       "      <td>Racing</td>\n",
       "      <td>15.68</td>\n",
       "      <td>12.76</td>\n",
       "      <td>3.79</td>\n",
       "      <td>3.29</td>\n",
       "      <td>82</td>\n",
       "      <td>8.3</td>\n",
       "      <td>E</td>\n",
       "      <td>0.0</td>\n",
       "      <td>35.52</td>\n",
       "    </tr>\n",
       "    <tr>\n",
       "      <td>3</td>\n",
       "      <td>Wii Sports Resort</td>\n",
       "      <td>Wii</td>\n",
       "      <td>2009</td>\n",
       "      <td>Sports</td>\n",
       "      <td>15.61</td>\n",
       "      <td>10.93</td>\n",
       "      <td>3.28</td>\n",
       "      <td>2.95</td>\n",
       "      <td>80</td>\n",
       "      <td>8.0</td>\n",
       "      <td>E</td>\n",
       "      <td>0.0</td>\n",
       "      <td>32.77</td>\n",
       "    </tr>\n",
       "    <tr>\n",
       "      <td>6</td>\n",
       "      <td>New Super Mario Bros.</td>\n",
       "      <td>DS</td>\n",
       "      <td>2006</td>\n",
       "      <td>Platform</td>\n",
       "      <td>11.28</td>\n",
       "      <td>9.14</td>\n",
       "      <td>6.50</td>\n",
       "      <td>2.88</td>\n",
       "      <td>89</td>\n",
       "      <td>8.5</td>\n",
       "      <td>E</td>\n",
       "      <td>0.0</td>\n",
       "      <td>29.80</td>\n",
       "    </tr>\n",
       "    <tr>\n",
       "      <td>7</td>\n",
       "      <td>Wii Play</td>\n",
       "      <td>Wii</td>\n",
       "      <td>2006</td>\n",
       "      <td>Misc</td>\n",
       "      <td>13.96</td>\n",
       "      <td>9.18</td>\n",
       "      <td>2.93</td>\n",
       "      <td>2.84</td>\n",
       "      <td>58</td>\n",
       "      <td>6.6</td>\n",
       "      <td>E</td>\n",
       "      <td>0.0</td>\n",
       "      <td>28.91</td>\n",
       "    </tr>\n",
       "  </tbody>\n",
       "</table>\n",
       "</div>"
      ],
      "text/plain": [
       "                    name platform  year_of_release     genre  na_sales_mm  \\\n",
       "0             Wii Sports      Wii             2006    Sports        41.36   \n",
       "2         Mario Kart Wii      Wii             2008    Racing        15.68   \n",
       "3      Wii Sports Resort      Wii             2009    Sports        15.61   \n",
       "6  New Super Mario Bros.       DS             2006  Platform        11.28   \n",
       "7               Wii Play      Wii             2006      Misc        13.96   \n",
       "\n",
       "   eu_sales_mm  jp_sales_mm  other_sales_mm  critic_score  user_score rating  \\\n",
       "0        28.96         3.77            8.45            76         8.0      E   \n",
       "2        12.76         3.79            3.29            82         8.3      E   \n",
       "3        10.93         3.28            2.95            80         8.0      E   \n",
       "6         9.14         6.50            2.88            89         8.5      E   \n",
       "7         9.18         2.93            2.84            58         6.6      E   \n",
       "\n",
       "   rating_category  total_sales_mm  \n",
       "0              0.0           82.54  \n",
       "2              0.0           35.52  \n",
       "3              0.0           32.77  \n",
       "6              0.0           29.80  \n",
       "7              0.0           28.91  "
      ]
     },
     "execution_count": 42,
     "metadata": {},
     "output_type": "execute_result"
    }
   ],
   "source": [
    "games_actual_df = games_df.query('2006 <= year_of_release <= 2016').copy()\n",
    "games_actual_df.head(5)"
   ]
  },
  {
   "cell_type": "markdown",
   "metadata": {},
   "source": [
    "<div class=\"alert alert-success\">\n",
    "<h2> Комментарий ревьюера </h2>\n",
    "\n",
    "Актуальный период назван. Так в рассмотрение попадут только последние поколения платформ, а также будем рассматривать только конечный на данный момент интервал развития игровой индустрии. \n",
    "\n",
    "</div>"
   ]
  },
  {
   "cell_type": "markdown",
   "metadata": {},
   "source": [
    "<a name=\"exploratory_data_analysis.games_count\"></a>\n",
    "### Какие платформы лидируют по продажам, растут или падают"
   ]
  },
  {
   "cell_type": "markdown",
   "metadata": {},
   "source": [
    "Посмотрим распределение продаж по платформам за актуальный период"
   ]
  },
  {
   "cell_type": "code",
   "execution_count": 43,
   "metadata": {},
   "outputs": [
    {
     "data": {
      "image/png": "[encoded data removed]",
      "text/plain": [
       "<Figure size 432x288 with 1 Axes>"
      ]
     },
     "metadata": {
      "needs_background": "light"
     },
     "output_type": "display_data"
    }
   ],
   "source": [
    "sales_per_platform_actual = get_sales_by_platform(games_actual_df)\n",
    "plot_sales_by_platform_hist(sales_per_platform_actual)"
   ]
  },
  {
   "cell_type": "markdown",
   "metadata": {},
   "source": [
    "Сохраним информацию о продажам по платформам по годам для дальнейшего анализа"
   ]
  },
  {
   "cell_type": "code",
   "execution_count": 44,
   "metadata": {},
   "outputs": [
    {
     "data": {
      "text/html": [
       "<div>\n",
       "<style scoped>\n",
       "    .dataframe tbody tr th:only-of-type {\n",
       "        vertical-align: middle;\n",
       "    }\n",
       "\n",
       "    .dataframe tbody tr th {\n",
       "        vertical-align: top;\n",
       "    }\n",
       "\n",
       "    .dataframe thead th {\n",
       "        text-align: right;\n",
       "    }\n",
       "</style>\n",
       "<table border=\"1\" class=\"dataframe\">\n",
       "  <thead>\n",
       "    <tr style=\"text-align: right;\">\n",
       "      <th></th>\n",
       "      <th></th>\n",
       "      <th>total_sales_mm</th>\n",
       "    </tr>\n",
       "    <tr>\n",
       "      <th>platform</th>\n",
       "      <th>year_of_release</th>\n",
       "      <th></th>\n",
       "    </tr>\n",
       "  </thead>\n",
       "  <tbody>\n",
       "    <tr>\n",
       "      <td>X360</td>\n",
       "      <td>2006</td>\n",
       "      <td>51.62</td>\n",
       "    </tr>\n",
       "    <tr>\n",
       "      <td>GC</td>\n",
       "      <td>2006</td>\n",
       "      <td>11.26</td>\n",
       "    </tr>\n",
       "    <tr>\n",
       "      <td>Wii</td>\n",
       "      <td>2006</td>\n",
       "      <td>137.15</td>\n",
       "    </tr>\n",
       "    <tr>\n",
       "      <td>PC</td>\n",
       "      <td>2006</td>\n",
       "      <td>2.85</td>\n",
       "    </tr>\n",
       "    <tr>\n",
       "      <td>PSP</td>\n",
       "      <td>2006</td>\n",
       "      <td>55.32</td>\n",
       "    </tr>\n",
       "  </tbody>\n",
       "</table>\n",
       "</div>"
      ],
      "text/plain": [
       "                          total_sales_mm\n",
       "platform year_of_release                \n",
       "X360     2006                      51.62\n",
       "GC       2006                      11.26\n",
       "Wii      2006                     137.15\n",
       "PC       2006                       2.85\n",
       "PSP      2006                      55.32"
      ]
     },
     "execution_count": 44,
     "metadata": {},
     "output_type": "execute_result"
    }
   ],
   "source": [
    "sales_per_platform_and_year_actual = get_sales_by_platform_and_year(games_actual_df)\n",
    "sales_per_platform_and_year_actual.head(5)"
   ]
  },
  {
   "cell_type": "markdown",
   "metadata": {},
   "source": [
    "Теперь посмотрим, растут ли на них продажи или падают "
   ]
  },
  {
   "cell_type": "code",
   "execution_count": 45,
   "metadata": {},
   "outputs": [
    {
     "data": {
      "image/png": "[encoded data removed]",
      "text/plain": [
       "<Figure size 1440x1440 with 16 Axes>"
      ]
     },
     "metadata": {
      "needs_background": "light"
     },
     "output_type": "display_data"
    }
   ],
   "source": [
    "platforms = sales_per_platform_actual.index.to_list()\n",
    "year_range = range(2006, 2017)\n",
    "\n",
    "cols = 3\n",
    "rows = int(np.ceil(len(platforms) / cols))\n",
    "\n",
    "fig, ax = plt.subplots(rows, cols)\n",
    "\n",
    "for idx, platform in enumerate(platforms):\n",
    "    sales_per_platform_and_year_actual.loc[platform].reindex(year_range).fillna(0)\\\n",
    "        .plot(grid=True, ax=ax[idx // cols, idx % cols], title=platform, figsize=(20,20), legend=False)\\\n",
    "        .set(xlabel='Год', ylabel = 'Продажи ($ млн)')\n",
    "\n",
    "for idx in range(idx + 1, cols * rows):\n",
    "    fig.delaxes(ax[idx // cols, idx %cols])\n",
    "\n",
    "plt.tight_layout()\n",
    "plt.show()"
   ]
  },
  {
   "cell_type": "markdown",
   "metadata": {},
   "source": [
    "**Выводы**:\n",
    "* продажа на большинстве платформ идет на убыль \n",
    "* перспективные платформы - это консоли нового поколения: PS4 и XOne\n",
    "* также обратим внимание на платформу PC, как не устаревающую \n",
    "* из портативных платформ обратим внимание на 3DS, как на самую прибыльную "
   ]
  },
  {
   "cell_type": "markdown",
   "metadata": {},
   "source": [
    "<div class=\"alert alert-success\">\n",
    "<h2> Комментарий ревьюера </h2>\n",
    "\n",
    "Да, именно эти платформы мы и можем назвать перспективными на 2017 год. Круто, что ты автоматизировал процесс построения графиков. Однако последние 2 не получились. Попробуй понять причину данного явления. \n",
    "\n",
    "</div>"
   ]
  },
  {
   "cell_type": "markdown",
   "metadata": {},
   "source": [
    "<div class=\"alert alert-info\">\n",
    "Удалил неиспользованные графики\n",
    "\n",
    "</div>"
   ]
  },
  {
   "cell_type": "markdown",
   "metadata": {},
   "source": [
    "<div class=\"alert alert-success\">\n",
    "<h2> Комментарий ревьюера 2</h2>\n",
    "\n",
    "Значений по таким платформам было мало в данном периоде, поэтому и точек не хватало. \n",
    "\n",
    "</div>"
   ]
  },
  {
   "cell_type": "markdown",
   "metadata": {},
   "source": [
    "<a name=\"exploratory_data_analysis.total_sales_by_platform\"></a>\n",
    "### График по глобальным продажам игр в разбивке по платформам"
   ]
  },
  {
   "cell_type": "markdown",
   "metadata": {},
   "source": [
    "Построим диаграмму размаха по платформам PS4, XOne, PC, 3DS"
   ]
  },
  {
   "cell_type": "code",
   "execution_count": 46,
   "metadata": {},
   "outputs": [
    {
     "data": {
      "image/png": "[encoded data removed]",
      "text/plain": [
       "<Figure size 720x360 with 1 Axes>"
      ]
     },
     "metadata": {
      "needs_background": "light"
     },
     "output_type": "display_data"
    },
    {
     "name": "stdout",
     "output_type": "stream",
     "text": [
      "Продажи по PS4:\n",
      "cреднее - 78.54\n",
      "медиана - 84.62\n",
      "стандартное отклонение - 40.57\n",
      "дисперсия - 1645.76\n",
      "границы нормальных значений - ([26, 119])\n",
      "\n",
      "Продажи по XOne:\n",
      "cреднее - 39.83\n",
      "медиана - 40.11\n",
      "стандартное отклонение - 20.31\n",
      "дисперсия - 412.66\n",
      "границы нормальных значений - ([19, 60])\n",
      "\n",
      "Продажи по PC:\n",
      "cреднее - 14.86\n",
      "медиана - 12.42\n",
      "стандартное отклонение - 9.45\n",
      "дисперсия - 89.22\n",
      "границы нормальных значений - ([3, 35])\n",
      "\n",
      "Продажи по 3DS:\n",
      "cреднее - 42.97\n",
      "медиана - 47.56\n",
      "стандартное отклонение - 18.28\n",
      "дисперсия - 334.09\n",
      "границы нормальных значений - ([15, 63])\n",
      "\n"
     ]
    }
   ],
   "source": [
    "platforms = ['PS4', 'XOne', 'PC', '3DS']\n",
    "\n",
    "fig, ax = plt.subplots()\n",
    "\n",
    "for idx, platform in enumerate(platforms):\n",
    "    sales_per_platform_and_year_actual.loc[platform]['total_sales_mm'].plot(\n",
    "        kind='box',\n",
    "        positions=[idx],\n",
    "        grid=True, \n",
    "        title='Продажи по платформам', \n",
    "        figsize=(10,5),\n",
    "    ).set(xlabel='Платформа', ylabel='Продажи ($ млн)')\n",
    "ax.set_xticklabels(platforms)\n",
    "    \n",
    "plt.show()\n",
    "    \n",
    "for platform in platforms:\n",
    "    series = sales_per_platform_and_year_actual.loc[platform]['total_sales_mm']\n",
    "    \n",
    "    print('Продажи по {}:'.format(platform))\n",
    "    print('cреднее - {:.2f}'.format(series.mean()))\n",
    "    print('медиана - {:.2f}'.format(series.median()))\n",
    "    print('стандартное отклонение - {:.2f}'.format(series.std()))\n",
    "    print('дисперсия - {:.2f}'.format(np.var(series, ddof=1)))\n",
    "    print('границы нормальных значений - ({})'.format([round(x) for x in compute_normal_range(series)]))\n",
    "    print()"
   ]
  },
  {
   "cell_type": "markdown",
   "metadata": {},
   "source": [
    "<div class=\"alert alert-info\">\n",
    "Посчитаем количество эксклюзивов на платформах\n",
    "</div>"
   ]
  },
  {
   "cell_type": "code",
   "execution_count": 47,
   "metadata": {},
   "outputs": [],
   "source": [
    "games_popular_platforms = games_actual_df.query('platform in @platforms')\n",
    "games_popular_platforms_by_names = games_popular_platforms\\\n",
    "    .pivot_table(index='name', values='platform', aggfunc='count')"
   ]
  },
  {
   "cell_type": "code",
   "execution_count": 48,
   "metadata": {},
   "outputs": [
    {
     "data": {
      "text/plain": [
       "PC      641\n",
       "3DS     477\n",
       "PS4     161\n",
       "XOne     28\n",
       "Name: platform, dtype: int64"
      ]
     },
     "execution_count": 48,
     "metadata": {},
     "output_type": "execute_result"
    }
   ],
   "source": [
    "exclusive_games = games_popular_platforms_by_names.query('platform == 1')\n",
    "games_popular_platforms.query('name in @exclusive_games.index')['platform'].value_counts()\n"
   ]
  },
  {
   "cell_type": "markdown",
   "metadata": {},
   "source": [
    "Найдем кроссплатформенные игры и посмотрим, сколько каждая из них приносит по каждой платформе"
   ]
  },
  {
   "cell_type": "code",
   "execution_count": 49,
   "metadata": {},
   "outputs": [
    {
     "name": "stdout",
     "output_type": "stream",
     "text": [
      "9\n"
     ]
    }
   ],
   "source": [
    "cross_platform_games = games_popular_platforms_by_names.query('platform == 4')\n",
    "print(cross_platform_games.shape[0])"
   ]
  },
  {
   "cell_type": "markdown",
   "metadata": {},
   "source": [
    "<div class=\"alert alert-info\">\n",
    "Их всего 9, посмотрим на доходность по ним\n",
    "</div>"
   ]
  },
  {
   "cell_type": "code",
   "execution_count": 50,
   "metadata": {},
   "outputs": [
    {
     "data": {
      "text/html": [
       "<div>\n",
       "<style scoped>\n",
       "    .dataframe tbody tr th:only-of-type {\n",
       "        vertical-align: middle;\n",
       "    }\n",
       "\n",
       "    .dataframe tbody tr th {\n",
       "        vertical-align: top;\n",
       "    }\n",
       "\n",
       "    .dataframe thead th {\n",
       "        text-align: right;\n",
       "    }\n",
       "</style>\n",
       "<table border=\"1\" class=\"dataframe\">\n",
       "  <thead>\n",
       "    <tr style=\"text-align: right;\">\n",
       "      <th></th>\n",
       "      <th></th>\n",
       "      <th>total_sales_mm</th>\n",
       "    </tr>\n",
       "    <tr>\n",
       "      <th>name</th>\n",
       "      <th>platform</th>\n",
       "      <th></th>\n",
       "    </tr>\n",
       "  </thead>\n",
       "  <tbody>\n",
       "    <tr>\n",
       "      <td rowspan=\"4\" valign=\"top\">FIFA 14</td>\n",
       "      <td>3DS</td>\n",
       "      <td>0.23</td>\n",
       "    </tr>\n",
       "    <tr>\n",
       "      <td>PC</td>\n",
       "      <td>0.40</td>\n",
       "    </tr>\n",
       "    <tr>\n",
       "      <td>PS4</td>\n",
       "      <td>3.01</td>\n",
       "    </tr>\n",
       "    <tr>\n",
       "      <td>XOne</td>\n",
       "      <td>1.16</td>\n",
       "    </tr>\n",
       "    <tr>\n",
       "      <td rowspan=\"4\" valign=\"top\">FIFA 15</td>\n",
       "      <td>3DS</td>\n",
       "      <td>0.46</td>\n",
       "    </tr>\n",
       "    <tr>\n",
       "      <td>PC</td>\n",
       "      <td>0.29</td>\n",
       "    </tr>\n",
       "    <tr>\n",
       "      <td>PS4</td>\n",
       "      <td>6.08</td>\n",
       "    </tr>\n",
       "    <tr>\n",
       "      <td>XOne</td>\n",
       "      <td>2.18</td>\n",
       "    </tr>\n",
       "    <tr>\n",
       "      <td rowspan=\"4\" valign=\"top\">LEGO Jurassic World</td>\n",
       "      <td>3DS</td>\n",
       "      <td>0.62</td>\n",
       "    </tr>\n",
       "    <tr>\n",
       "      <td>PC</td>\n",
       "      <td>0.04</td>\n",
       "    </tr>\n",
       "    <tr>\n",
       "      <td>PS4</td>\n",
       "      <td>0.90</td>\n",
       "    </tr>\n",
       "    <tr>\n",
       "      <td>XOne</td>\n",
       "      <td>0.66</td>\n",
       "    </tr>\n",
       "    <tr>\n",
       "      <td rowspan=\"4\" valign=\"top\">LEGO Marvel Super Heroes</td>\n",
       "      <td>3DS</td>\n",
       "      <td>0.89</td>\n",
       "    </tr>\n",
       "    <tr>\n",
       "      <td>PC</td>\n",
       "      <td>0.17</td>\n",
       "    </tr>\n",
       "    <tr>\n",
       "      <td>PS4</td>\n",
       "      <td>1.62</td>\n",
       "    </tr>\n",
       "    <tr>\n",
       "      <td>XOne</td>\n",
       "      <td>1.05</td>\n",
       "    </tr>\n",
       "    <tr>\n",
       "      <td rowspan=\"4\" valign=\"top\">LEGO The Hobbit</td>\n",
       "      <td>3DS</td>\n",
       "      <td>0.24</td>\n",
       "    </tr>\n",
       "    <tr>\n",
       "      <td>PC</td>\n",
       "      <td>0.05</td>\n",
       "    </tr>\n",
       "    <tr>\n",
       "      <td>PS4</td>\n",
       "      <td>0.60</td>\n",
       "    </tr>\n",
       "    <tr>\n",
       "      <td>XOne</td>\n",
       "      <td>0.27</td>\n",
       "    </tr>\n",
       "    <tr>\n",
       "      <td rowspan=\"4\" valign=\"top\">Lego Batman 3: Beyond Gotham</td>\n",
       "      <td>3DS</td>\n",
       "      <td>0.45</td>\n",
       "    </tr>\n",
       "    <tr>\n",
       "      <td>PC</td>\n",
       "      <td>0.06</td>\n",
       "    </tr>\n",
       "    <tr>\n",
       "      <td>PS4</td>\n",
       "      <td>0.92</td>\n",
       "    </tr>\n",
       "    <tr>\n",
       "      <td>XOne</td>\n",
       "      <td>0.44</td>\n",
       "    </tr>\n",
       "    <tr>\n",
       "      <td rowspan=\"4\" valign=\"top\">Terraria</td>\n",
       "      <td>3DS</td>\n",
       "      <td>0.09</td>\n",
       "    </tr>\n",
       "    <tr>\n",
       "      <td>PC</td>\n",
       "      <td>0.14</td>\n",
       "    </tr>\n",
       "    <tr>\n",
       "      <td>PS4</td>\n",
       "      <td>0.07</td>\n",
       "    </tr>\n",
       "    <tr>\n",
       "      <td>XOne</td>\n",
       "      <td>0.04</td>\n",
       "    </tr>\n",
       "    <tr>\n",
       "      <td rowspan=\"4\" valign=\"top\">The Amazing Spider-Man 2 (2014)</td>\n",
       "      <td>3DS</td>\n",
       "      <td>0.07</td>\n",
       "    </tr>\n",
       "    <tr>\n",
       "      <td>PC</td>\n",
       "      <td>0.01</td>\n",
       "    </tr>\n",
       "    <tr>\n",
       "      <td>PS4</td>\n",
       "      <td>0.56</td>\n",
       "    </tr>\n",
       "    <tr>\n",
       "      <td>XOne</td>\n",
       "      <td>0.22</td>\n",
       "    </tr>\n",
       "    <tr>\n",
       "      <td rowspan=\"4\" valign=\"top\">The LEGO Movie Videogame</td>\n",
       "      <td>3DS</td>\n",
       "      <td>0.69</td>\n",
       "    </tr>\n",
       "    <tr>\n",
       "      <td>PC</td>\n",
       "      <td>0.06</td>\n",
       "    </tr>\n",
       "    <tr>\n",
       "      <td>PS4</td>\n",
       "      <td>0.67</td>\n",
       "    </tr>\n",
       "    <tr>\n",
       "      <td>XOne</td>\n",
       "      <td>0.53</td>\n",
       "    </tr>\n",
       "  </tbody>\n",
       "</table>\n",
       "</div>"
      ],
      "text/plain": [
       "                                          total_sales_mm\n",
       "name                            platform                \n",
       "FIFA 14                         3DS                 0.23\n",
       "                                PC                  0.40\n",
       "                                PS4                 3.01\n",
       "                                XOne                1.16\n",
       "FIFA 15                         3DS                 0.46\n",
       "                                PC                  0.29\n",
       "                                PS4                 6.08\n",
       "                                XOne                2.18\n",
       "LEGO Jurassic World             3DS                 0.62\n",
       "                                PC                  0.04\n",
       "                                PS4                 0.90\n",
       "                                XOne                0.66\n",
       "LEGO Marvel Super Heroes        3DS                 0.89\n",
       "                                PC                  0.17\n",
       "                                PS4                 1.62\n",
       "                                XOne                1.05\n",
       "LEGO The Hobbit                 3DS                 0.24\n",
       "                                PC                  0.05\n",
       "                                PS4                 0.60\n",
       "                                XOne                0.27\n",
       "Lego Batman 3: Beyond Gotham    3DS                 0.45\n",
       "                                PC                  0.06\n",
       "                                PS4                 0.92\n",
       "                                XOne                0.44\n",
       "Terraria                        3DS                 0.09\n",
       "                                PC                  0.14\n",
       "                                PS4                 0.07\n",
       "                                XOne                0.04\n",
       "The Amazing Spider-Man 2 (2014) 3DS                 0.07\n",
       "                                PC                  0.01\n",
       "                                PS4                 0.56\n",
       "                                XOne                0.22\n",
       "The LEGO Movie Videogame        3DS                 0.69\n",
       "                                PC                  0.06\n",
       "                                PS4                 0.67\n",
       "                                XOne                0.53"
      ]
     },
     "execution_count": 50,
     "metadata": {},
     "output_type": "execute_result"
    }
   ],
   "source": [
    "games_popular_platforms\\\n",
    "    .query('name in @cross_platform_games.index')\\\n",
    "    .pivot_table(index=['name', 'platform'], values='total_sales_mm')\\\n",
    "    .head(9 * 4)"
   ]
  },
  {
   "cell_type": "markdown",
   "metadata": {},
   "source": [
    "Посчитаем топ-10 самых прибыльных игр"
   ]
  },
  {
   "cell_type": "code",
   "execution_count": 51,
   "metadata": {},
   "outputs": [
    {
     "data": {
      "text/html": [
       "<div>\n",
       "<style scoped>\n",
       "    .dataframe tbody tr th:only-of-type {\n",
       "        vertical-align: middle;\n",
       "    }\n",
       "\n",
       "    .dataframe tbody tr th {\n",
       "        vertical-align: top;\n",
       "    }\n",
       "\n",
       "    .dataframe thead th {\n",
       "        text-align: right;\n",
       "    }\n",
       "</style>\n",
       "<table border=\"1\" class=\"dataframe\">\n",
       "  <thead>\n",
       "    <tr style=\"text-align: right;\">\n",
       "      <th></th>\n",
       "      <th>name</th>\n",
       "      <th>platform</th>\n",
       "      <th>year_of_release</th>\n",
       "      <th>genre</th>\n",
       "      <th>na_sales_mm</th>\n",
       "      <th>eu_sales_mm</th>\n",
       "      <th>jp_sales_mm</th>\n",
       "      <th>other_sales_mm</th>\n",
       "      <th>critic_score</th>\n",
       "      <th>user_score</th>\n",
       "      <th>rating</th>\n",
       "      <th>rating_category</th>\n",
       "      <th>total_sales_mm</th>\n",
       "    </tr>\n",
       "  </thead>\n",
       "  <tbody>\n",
       "    <tr>\n",
       "      <td>31</td>\n",
       "      <td>Call of Duty: Black Ops 3</td>\n",
       "      <td>PS4</td>\n",
       "      <td>2015</td>\n",
       "      <td>Shooter</td>\n",
       "      <td>6.03</td>\n",
       "      <td>5.86</td>\n",
       "      <td>0.36</td>\n",
       "      <td>2.38</td>\n",
       "      <td>NaN</td>\n",
       "      <td>NaN</td>\n",
       "      <td>NaN</td>\n",
       "      <td>NaN</td>\n",
       "      <td>14.63</td>\n",
       "    </tr>\n",
       "    <tr>\n",
       "      <td>33</td>\n",
       "      <td>Pokemon X/Pokemon Y</td>\n",
       "      <td>3DS</td>\n",
       "      <td>2013</td>\n",
       "      <td>Role-Playing</td>\n",
       "      <td>5.28</td>\n",
       "      <td>4.19</td>\n",
       "      <td>4.35</td>\n",
       "      <td>0.78</td>\n",
       "      <td>NaN</td>\n",
       "      <td>NaN</td>\n",
       "      <td>NaN</td>\n",
       "      <td>NaN</td>\n",
       "      <td>14.60</td>\n",
       "    </tr>\n",
       "    <tr>\n",
       "      <td>40</td>\n",
       "      <td>Mario Kart 7</td>\n",
       "      <td>3DS</td>\n",
       "      <td>2011</td>\n",
       "      <td>Racing</td>\n",
       "      <td>5.03</td>\n",
       "      <td>4.02</td>\n",
       "      <td>2.69</td>\n",
       "      <td>0.91</td>\n",
       "      <td>85</td>\n",
       "      <td>8.2</td>\n",
       "      <td>E</td>\n",
       "      <td>0.0</td>\n",
       "      <td>12.65</td>\n",
       "    </tr>\n",
       "    <tr>\n",
       "      <td>42</td>\n",
       "      <td>Grand Theft Auto V</td>\n",
       "      <td>PS4</td>\n",
       "      <td>2014</td>\n",
       "      <td>Action</td>\n",
       "      <td>3.96</td>\n",
       "      <td>6.31</td>\n",
       "      <td>0.38</td>\n",
       "      <td>1.97</td>\n",
       "      <td>97</td>\n",
       "      <td>8.3</td>\n",
       "      <td>M</td>\n",
       "      <td>3.0</td>\n",
       "      <td>12.62</td>\n",
       "    </tr>\n",
       "    <tr>\n",
       "      <td>47</td>\n",
       "      <td>Pokemon Omega Ruby/Pokemon Alpha Sapphire</td>\n",
       "      <td>3DS</td>\n",
       "      <td>2014</td>\n",
       "      <td>Role-Playing</td>\n",
       "      <td>4.35</td>\n",
       "      <td>3.49</td>\n",
       "      <td>3.10</td>\n",
       "      <td>0.74</td>\n",
       "      <td>NaN</td>\n",
       "      <td>NaN</td>\n",
       "      <td>NaN</td>\n",
       "      <td>NaN</td>\n",
       "      <td>11.68</td>\n",
       "    </tr>\n",
       "    <tr>\n",
       "      <td>53</td>\n",
       "      <td>Super Mario 3D Land</td>\n",
       "      <td>3DS</td>\n",
       "      <td>2011</td>\n",
       "      <td>Platform</td>\n",
       "      <td>4.89</td>\n",
       "      <td>3.00</td>\n",
       "      <td>2.14</td>\n",
       "      <td>0.78</td>\n",
       "      <td>90</td>\n",
       "      <td>8.4</td>\n",
       "      <td>E</td>\n",
       "      <td>0.0</td>\n",
       "      <td>10.81</td>\n",
       "    </tr>\n",
       "    <tr>\n",
       "      <td>62</td>\n",
       "      <td>New Super Mario Bros. 2</td>\n",
       "      <td>3DS</td>\n",
       "      <td>2012</td>\n",
       "      <td>Platform</td>\n",
       "      <td>3.66</td>\n",
       "      <td>3.14</td>\n",
       "      <td>2.47</td>\n",
       "      <td>0.63</td>\n",
       "      <td>78</td>\n",
       "      <td>7.2</td>\n",
       "      <td>E</td>\n",
       "      <td>0.0</td>\n",
       "      <td>9.90</td>\n",
       "    </tr>\n",
       "    <tr>\n",
       "      <td>73</td>\n",
       "      <td>Animal Crossing: New Leaf</td>\n",
       "      <td>3DS</td>\n",
       "      <td>2012</td>\n",
       "      <td>Simulation</td>\n",
       "      <td>2.03</td>\n",
       "      <td>2.36</td>\n",
       "      <td>4.39</td>\n",
       "      <td>0.39</td>\n",
       "      <td>88</td>\n",
       "      <td>8.7</td>\n",
       "      <td>E</td>\n",
       "      <td>0.0</td>\n",
       "      <td>9.17</td>\n",
       "    </tr>\n",
       "    <tr>\n",
       "      <td>77</td>\n",
       "      <td>FIFA 16</td>\n",
       "      <td>PS4</td>\n",
       "      <td>2015</td>\n",
       "      <td>Sports</td>\n",
       "      <td>1.12</td>\n",
       "      <td>6.12</td>\n",
       "      <td>0.06</td>\n",
       "      <td>1.28</td>\n",
       "      <td>82</td>\n",
       "      <td>4.3</td>\n",
       "      <td>E</td>\n",
       "      <td>0.0</td>\n",
       "      <td>8.58</td>\n",
       "    </tr>\n",
       "    <tr>\n",
       "      <td>85</td>\n",
       "      <td>The Sims 3</td>\n",
       "      <td>PC</td>\n",
       "      <td>2009</td>\n",
       "      <td>Simulation</td>\n",
       "      <td>0.99</td>\n",
       "      <td>6.42</td>\n",
       "      <td>0.00</td>\n",
       "      <td>0.60</td>\n",
       "      <td>86</td>\n",
       "      <td>7.6</td>\n",
       "      <td>T</td>\n",
       "      <td>2.0</td>\n",
       "      <td>8.01</td>\n",
       "    </tr>\n",
       "  </tbody>\n",
       "</table>\n",
       "</div>"
      ],
      "text/plain": [
       "                                         name platform  year_of_release  \\\n",
       "31                  Call of Duty: Black Ops 3      PS4             2015   \n",
       "33                        Pokemon X/Pokemon Y      3DS             2013   \n",
       "40                               Mario Kart 7      3DS             2011   \n",
       "42                         Grand Theft Auto V      PS4             2014   \n",
       "47  Pokemon Omega Ruby/Pokemon Alpha Sapphire      3DS             2014   \n",
       "53                        Super Mario 3D Land      3DS             2011   \n",
       "62                    New Super Mario Bros. 2      3DS             2012   \n",
       "73                  Animal Crossing: New Leaf      3DS             2012   \n",
       "77                                    FIFA 16      PS4             2015   \n",
       "85                                 The Sims 3       PC             2009   \n",
       "\n",
       "           genre  na_sales_mm  eu_sales_mm  jp_sales_mm  other_sales_mm  \\\n",
       "31       Shooter         6.03         5.86         0.36            2.38   \n",
       "33  Role-Playing         5.28         4.19         4.35            0.78   \n",
       "40        Racing         5.03         4.02         2.69            0.91   \n",
       "42        Action         3.96         6.31         0.38            1.97   \n",
       "47  Role-Playing         4.35         3.49         3.10            0.74   \n",
       "53      Platform         4.89         3.00         2.14            0.78   \n",
       "62      Platform         3.66         3.14         2.47            0.63   \n",
       "73    Simulation         2.03         2.36         4.39            0.39   \n",
       "77        Sports         1.12         6.12         0.06            1.28   \n",
       "85    Simulation         0.99         6.42         0.00            0.60   \n",
       "\n",
       "    critic_score  user_score rating  rating_category  total_sales_mm  \n",
       "31           NaN         NaN    NaN              NaN           14.63  \n",
       "33           NaN         NaN    NaN              NaN           14.60  \n",
       "40            85         8.2      E              0.0           12.65  \n",
       "42            97         8.3      M              3.0           12.62  \n",
       "47           NaN         NaN    NaN              NaN           11.68  \n",
       "53            90         8.4      E              0.0           10.81  \n",
       "62            78         7.2      E              0.0            9.90  \n",
       "73            88         8.7      E              0.0            9.17  \n",
       "77            82         4.3      E              0.0            8.58  \n",
       "85            86         7.6      T              2.0            8.01  "
      ]
     },
     "execution_count": 51,
     "metadata": {},
     "output_type": "execute_result"
    }
   ],
   "source": [
    "games_popular_platforms.sort_values('total_sales_mm', ascending=False).head(10)"
   ]
  },
  {
   "cell_type": "markdown",
   "metadata": {},
   "source": [
    "Посчитаем количество игр по платформам"
   ]
  },
  {
   "cell_type": "code",
   "execution_count": 52,
   "metadata": {},
   "outputs": [
    {
     "data": {
      "text/html": [
       "<div>\n",
       "<style scoped>\n",
       "    .dataframe tbody tr th:only-of-type {\n",
       "        vertical-align: middle;\n",
       "    }\n",
       "\n",
       "    .dataframe tbody tr th {\n",
       "        vertical-align: top;\n",
       "    }\n",
       "\n",
       "    .dataframe thead th {\n",
       "        text-align: right;\n",
       "    }\n",
       "</style>\n",
       "<table border=\"1\" class=\"dataframe\">\n",
       "  <thead>\n",
       "    <tr style=\"text-align: right;\">\n",
       "      <th></th>\n",
       "      <th>name</th>\n",
       "    </tr>\n",
       "    <tr>\n",
       "      <th>platform</th>\n",
       "      <th></th>\n",
       "    </tr>\n",
       "  </thead>\n",
       "  <tbody>\n",
       "    <tr>\n",
       "      <td>3DS</td>\n",
       "      <td>512</td>\n",
       "    </tr>\n",
       "    <tr>\n",
       "      <td>PC</td>\n",
       "      <td>776</td>\n",
       "    </tr>\n",
       "    <tr>\n",
       "      <td>PS4</td>\n",
       "      <td>392</td>\n",
       "    </tr>\n",
       "    <tr>\n",
       "      <td>XOne</td>\n",
       "      <td>247</td>\n",
       "    </tr>\n",
       "  </tbody>\n",
       "</table>\n",
       "</div>"
      ],
      "text/plain": [
       "          name\n",
       "platform      \n",
       "3DS        512\n",
       "PC         776\n",
       "PS4        392\n",
       "XOne       247"
      ]
     },
     "execution_count": 52,
     "metadata": {},
     "output_type": "execute_result"
    }
   ],
   "source": [
    "games_popular_platforms.pivot_table(index='platform', values='name', aggfunc='count')"
   ]
  },
  {
   "cell_type": "markdown",
   "metadata": {},
   "source": [
    "**Вывод**: Самая прибыльная платформа - PS4, затем идут 3DS и XOne и PC. Происходит это потому, что на PS4 больше эксклюзивов, чем на XOne, на PC распространено пиратство. 3DS приносит меньше всего денег в случае кросс-платформенных игр, но при этом 6 из топ-10 игр вышли на нем, что говорит о его нишевости."
   ]
  },
  {
   "cell_type": "markdown",
   "metadata": {},
   "source": [
    "<div class=\"alert alert-warning\">\n",
    "<h2> Комментарий ревьюера</h2>\n",
    " \n",
    "Подумай, из-за чего формируется разница между платформами. Старайся не только описывать результат, но и трактовать его. Также попробуй построить графики на одном рисунке. Так мы сможем качественее сравнить показатели между собой. \n",
    "\n",
    "</div>"
   ]
  },
  {
   "cell_type": "markdown",
   "metadata": {},
   "source": [
    "<div class=\"alert alert-info\">\n",
    "Построил графики на одном рисунке и дополнил вывод\n",
    "\n",
    "</div>"
   ]
  },
  {
   "cell_type": "markdown",
   "metadata": {},
   "source": [
    "<div class=\"alert alert-success\">\n",
    "<h2> Комментарий ревьюера 2</h2>\n",
    "\n",
    "Именно в поиске скрытых закономерностей и состоит работа аналитика. Мтарайся всегда понять причину появления того или иного результата. \n",
    "\n",
    "</div>"
   ]
  },
  {
   "cell_type": "markdown",
   "metadata": {},
   "source": [
    "<a name=\"exploratory_data_analysis.scores\"></a>\n",
    "### Как влияют на продажи внутри одной популярной платформы отзывы пользователей и критиков"
   ]
  },
  {
   "cell_type": "code",
   "execution_count": 53,
   "metadata": {},
   "outputs": [],
   "source": [
    "def plot_total_sales_by_user_score(df):\n",
    "    df.plot(x='user_score', y='total_sales_mm', kind='scatter', grid=True).set(ylabel = 'Продажи ($ млн)', xlabel='Оценка', title='Оценка пользователей')\n",
    "    df.plot(x='critic_score', y='total_sales_mm', kind='scatter', grid=True).set(ylabel = 'Продажи ($ млн)', xlabel='Оценка', title='Оценка критиков')\n",
    "    plt.show()\n",
    "    \n",
    "def compute_corr(df):\n",
    "    features = ['total_sales_mm', 'user_score', 'critic_score']\n",
    "    # Уберем строки с пропусками в оценках\n",
    "    df_with_ratings = df.query('user_score.notna() and critic_score.notna()')\n",
    "    # Посичтаем корреляции\n",
    "    display(df_with_ratings[features].corr())\n",
    "    # Выведем диаграммы рассеяния\n",
    "    plot_total_sales_by_user_score(df_with_ratings)"
   ]
  },
  {
   "cell_type": "markdown",
   "metadata": {},
   "source": [
    "Выведем корреляции для консоли PS4 "
   ]
  },
  {
   "cell_type": "code",
   "execution_count": 54,
   "metadata": {},
   "outputs": [
    {
     "data": {
      "text/html": [
       "<div>\n",
       "<style scoped>\n",
       "    .dataframe tbody tr th:only-of-type {\n",
       "        vertical-align: middle;\n",
       "    }\n",
       "\n",
       "    .dataframe tbody tr th {\n",
       "        vertical-align: top;\n",
       "    }\n",
       "\n",
       "    .dataframe thead th {\n",
       "        text-align: right;\n",
       "    }\n",
       "</style>\n",
       "<table border=\"1\" class=\"dataframe\">\n",
       "  <thead>\n",
       "    <tr style=\"text-align: right;\">\n",
       "      <th></th>\n",
       "      <th>total_sales_mm</th>\n",
       "      <th>user_score</th>\n",
       "      <th>critic_score</th>\n",
       "    </tr>\n",
       "  </thead>\n",
       "  <tbody>\n",
       "    <tr>\n",
       "      <td>total_sales_mm</td>\n",
       "      <td>1.000000</td>\n",
       "      <td>-0.033625</td>\n",
       "      <td>0.405895</td>\n",
       "    </tr>\n",
       "    <tr>\n",
       "      <td>user_score</td>\n",
       "      <td>-0.033625</td>\n",
       "      <td>1.000000</td>\n",
       "      <td>0.557654</td>\n",
       "    </tr>\n",
       "    <tr>\n",
       "      <td>critic_score</td>\n",
       "      <td>0.405895</td>\n",
       "      <td>0.557654</td>\n",
       "      <td>1.000000</td>\n",
       "    </tr>\n",
       "  </tbody>\n",
       "</table>\n",
       "</div>"
      ],
      "text/plain": [
       "                total_sales_mm  user_score  critic_score\n",
       "total_sales_mm        1.000000   -0.033625      0.405895\n",
       "user_score           -0.033625    1.000000      0.557654\n",
       "critic_score          0.405895    0.557654      1.000000"
      ]
     },
     "metadata": {},
     "output_type": "display_data"
    },
    {
     "data": {
      "image/png": "[encoded data removed]",
      "text/plain": [
       "<Figure size 432x288 with 1 Axes>"
      ]
     },
     "metadata": {
      "needs_background": "light"
     },
     "output_type": "display_data"
    },
    {
     "data": {
      "image/png": "[encoded data removed]",
      "text/plain": [
       "<Figure size 432x288 with 1 Axes>"
      ]
     },
     "metadata": {
      "needs_background": "light"
     },
     "output_type": "display_data"
    }
   ],
   "source": [
    "compute_corr(games_actual_df[games_actual_df['platform'] == 'PS4'])"
   ]
  },
  {
   "cell_type": "markdown",
   "metadata": {},
   "source": [
    "**Выводы**: \n",
    "* Отзывы пользователей не связаны с продажами \n",
    "* Отзывы критиков связаны с продажами, но не очень сильно \n",
    "* Есть средняя взаимосвязь между отзывами критиков и пользователей"
   ]
  },
  {
   "cell_type": "markdown",
   "metadata": {},
   "source": [
    "<div class=\"alert alert-warning\">\n",
    "<h2> Комментарий ревьюера </h2>\n",
    "\n",
    "По каждому графику в работе проверь названия рисунков.    \n",
    "\n",
    "</div>"
   ]
  },
  {
   "cell_type": "markdown",
   "metadata": {},
   "source": [
    "<div class=\"alert alert-info\">\n",
    "Добавил title \n",
    "\n",
    "</div>"
   ]
  },
  {
   "cell_type": "markdown",
   "metadata": {},
   "source": [
    "<a name=\"exploratory_data_analysis.compare_scores\"></a>\n",
    "### Сравнение выводов с продажами игр на других платформах"
   ]
  },
  {
   "cell_type": "markdown",
   "metadata": {},
   "source": [
    "<div class=\"alert alert-info\">\n",
    "Рассмотрим корреляции по другим популярным платформам: XOne, PC, 3DS\n",
    "</div>"
   ]
  },
  {
   "cell_type": "markdown",
   "metadata": {},
   "source": [
    "Для XOne"
   ]
  },
  {
   "cell_type": "code",
   "execution_count": 55,
   "metadata": {},
   "outputs": [
    {
     "data": {
      "text/html": [
       "<div>\n",
       "<style scoped>\n",
       "    .dataframe tbody tr th:only-of-type {\n",
       "        vertical-align: middle;\n",
       "    }\n",
       "\n",
       "    .dataframe tbody tr th {\n",
       "        vertical-align: top;\n",
       "    }\n",
       "\n",
       "    .dataframe thead th {\n",
       "        text-align: right;\n",
       "    }\n",
       "</style>\n",
       "<table border=\"1\" class=\"dataframe\">\n",
       "  <thead>\n",
       "    <tr style=\"text-align: right;\">\n",
       "      <th></th>\n",
       "      <th>total_sales_mm</th>\n",
       "      <th>user_score</th>\n",
       "      <th>critic_score</th>\n",
       "    </tr>\n",
       "  </thead>\n",
       "  <tbody>\n",
       "    <tr>\n",
       "      <td>total_sales_mm</td>\n",
       "      <td>1.000000</td>\n",
       "      <td>-0.094003</td>\n",
       "      <td>0.410422</td>\n",
       "    </tr>\n",
       "    <tr>\n",
       "      <td>user_score</td>\n",
       "      <td>-0.094003</td>\n",
       "      <td>1.000000</td>\n",
       "      <td>0.472462</td>\n",
       "    </tr>\n",
       "    <tr>\n",
       "      <td>critic_score</td>\n",
       "      <td>0.410422</td>\n",
       "      <td>0.472462</td>\n",
       "      <td>1.000000</td>\n",
       "    </tr>\n",
       "  </tbody>\n",
       "</table>\n",
       "</div>"
      ],
      "text/plain": [
       "                total_sales_mm  user_score  critic_score\n",
       "total_sales_mm        1.000000   -0.094003      0.410422\n",
       "user_score           -0.094003    1.000000      0.472462\n",
       "critic_score          0.410422    0.472462      1.000000"
      ]
     },
     "metadata": {},
     "output_type": "display_data"
    },
    {
     "data": {
      "image/png": "[encoded data removed]",
      "text/plain": [
       "<Figure size 432x288 with 1 Axes>"
      ]
     },
     "metadata": {
      "needs_background": "light"
     },
     "output_type": "display_data"
    },
    {
     "data": {
      "image/png": "[encoded data removed]",
      "text/plain": [
       "<Figure size 432x288 with 1 Axes>"
      ]
     },
     "metadata": {
      "needs_background": "light"
     },
     "output_type": "display_data"
    }
   ],
   "source": [
    "compute_corr(games_actual_df[games_actual_df['platform'] == 'XOne'])"
   ]
  },
  {
   "cell_type": "markdown",
   "metadata": {},
   "source": [
    "**Выводы**:\n",
    "* Характер корреляций очень похож на PS4\n",
    "* Отзывы критиков тожк связаны с продажам\n",
    "* Отзывы пользователей не влияют на продажи игры"
   ]
  },
  {
   "cell_type": "markdown",
   "metadata": {},
   "source": [
    "Для PC"
   ]
  },
  {
   "cell_type": "code",
   "execution_count": 56,
   "metadata": {},
   "outputs": [
    {
     "data": {
      "text/html": [
       "<div>\n",
       "<style scoped>\n",
       "    .dataframe tbody tr th:only-of-type {\n",
       "        vertical-align: middle;\n",
       "    }\n",
       "\n",
       "    .dataframe tbody tr th {\n",
       "        vertical-align: top;\n",
       "    }\n",
       "\n",
       "    .dataframe thead th {\n",
       "        text-align: right;\n",
       "    }\n",
       "</style>\n",
       "<table border=\"1\" class=\"dataframe\">\n",
       "  <thead>\n",
       "    <tr style=\"text-align: right;\">\n",
       "      <th></th>\n",
       "      <th>total_sales_mm</th>\n",
       "      <th>user_score</th>\n",
       "      <th>critic_score</th>\n",
       "    </tr>\n",
       "  </thead>\n",
       "  <tbody>\n",
       "    <tr>\n",
       "      <td>total_sales_mm</td>\n",
       "      <td>1.000000</td>\n",
       "      <td>-0.019742</td>\n",
       "      <td>0.287880</td>\n",
       "    </tr>\n",
       "    <tr>\n",
       "      <td>user_score</td>\n",
       "      <td>-0.019742</td>\n",
       "      <td>1.000000</td>\n",
       "      <td>0.521036</td>\n",
       "    </tr>\n",
       "    <tr>\n",
       "      <td>critic_score</td>\n",
       "      <td>0.287880</td>\n",
       "      <td>0.521036</td>\n",
       "      <td>1.000000</td>\n",
       "    </tr>\n",
       "  </tbody>\n",
       "</table>\n",
       "</div>"
      ],
      "text/plain": [
       "                total_sales_mm  user_score  critic_score\n",
       "total_sales_mm        1.000000   -0.019742      0.287880\n",
       "user_score           -0.019742    1.000000      0.521036\n",
       "critic_score          0.287880    0.521036      1.000000"
      ]
     },
     "metadata": {},
     "output_type": "display_data"
    },
    {
     "data": {
      "image/png": "[encoded data removed]",
      "text/plain": [
       "<Figure size 432x288 with 1 Axes>"
      ]
     },
     "metadata": {
      "needs_background": "light"
     },
     "output_type": "display_data"
    },
    {
     "data": {
      "image/png": "[encoded data removed]",
      "text/plain": [
       "<Figure size 432x288 with 1 Axes>"
      ]
     },
     "metadata": {
      "needs_background": "light"
     },
     "output_type": "display_data"
    }
   ],
   "source": [
    "compute_corr(games_actual_df[games_actual_df['platform'] == 'PC'])"
   ]
  },
  {
   "cell_type": "markdown",
   "metadata": {},
   "source": [
    "Посчитаем среднюю оценку по платформам PC и PS4 и количество игр"
   ]
  },
  {
   "cell_type": "code",
   "execution_count": 57,
   "metadata": {},
   "outputs": [
    {
     "data": {
      "text/html": [
       "<div>\n",
       "<style scoped>\n",
       "    .dataframe tbody tr th:only-of-type {\n",
       "        vertical-align: middle;\n",
       "    }\n",
       "\n",
       "    .dataframe tbody tr th {\n",
       "        vertical-align: top;\n",
       "    }\n",
       "\n",
       "    .dataframe thead th {\n",
       "        text-align: right;\n",
       "    }\n",
       "</style>\n",
       "<table border=\"1\" class=\"dataframe\">\n",
       "  <thead>\n",
       "    <tr style=\"text-align: right;\">\n",
       "      <th></th>\n",
       "      <th>critic_score</th>\n",
       "    </tr>\n",
       "    <tr>\n",
       "      <th>platform</th>\n",
       "      <th></th>\n",
       "    </tr>\n",
       "  </thead>\n",
       "  <tbody>\n",
       "    <tr>\n",
       "      <td>PC</td>\n",
       "      <td>74.643739</td>\n",
       "    </tr>\n",
       "    <tr>\n",
       "      <td>PS4</td>\n",
       "      <td>72.132530</td>\n",
       "    </tr>\n",
       "  </tbody>\n",
       "</table>\n",
       "</div>"
      ],
      "text/plain": [
       "          critic_score\n",
       "platform              \n",
       "PC           74.643739\n",
       "PS4          72.132530"
      ]
     },
     "metadata": {},
     "output_type": "display_data"
    },
    {
     "data": {
      "text/html": [
       "<div>\n",
       "<style scoped>\n",
       "    .dataframe tbody tr th:only-of-type {\n",
       "        vertical-align: middle;\n",
       "    }\n",
       "\n",
       "    .dataframe tbody tr th {\n",
       "        vertical-align: top;\n",
       "    }\n",
       "\n",
       "    .dataframe thead th {\n",
       "        text-align: right;\n",
       "    }\n",
       "</style>\n",
       "<table border=\"1\" class=\"dataframe\">\n",
       "  <thead>\n",
       "    <tr style=\"text-align: right;\">\n",
       "      <th></th>\n",
       "      <th>name</th>\n",
       "    </tr>\n",
       "    <tr>\n",
       "      <th>platform</th>\n",
       "      <th></th>\n",
       "    </tr>\n",
       "  </thead>\n",
       "  <tbody>\n",
       "    <tr>\n",
       "      <td>PC</td>\n",
       "      <td>776</td>\n",
       "    </tr>\n",
       "    <tr>\n",
       "      <td>PS4</td>\n",
       "      <td>392</td>\n",
       "    </tr>\n",
       "  </tbody>\n",
       "</table>\n",
       "</div>"
      ],
      "text/plain": [
       "          name\n",
       "platform      \n",
       "PC         776\n",
       "PS4        392"
      ]
     },
     "metadata": {},
     "output_type": "display_data"
    }
   ],
   "source": [
    "display(games_actual_df\\\n",
    "    .query('platform in [\"PC\", \"PS4\"] and user_score.notna() and critic_score.notna()')\\\n",
    "    .pivot_table(index='platform', values='critic_score'))\n",
    "\n",
    "display(games_actual_df\\\n",
    "    .query('platform in [\"PC\", \"PS4\"]')\\\n",
    "    .pivot_table(index='platform', values='name', aggfunc='count'))"
   ]
  },
  {
   "cell_type": "markdown",
   "metadata": {},
   "source": [
    "**Выводы**:\n",
    "* Связь с отзывам критиков еще меньше, чем на консолях.  \n",
    "Скорее всего это связан с большим количеством неоцененных инди игр"
   ]
  },
  {
   "cell_type": "markdown",
   "metadata": {},
   "source": [
    "Для 3DS"
   ]
  },
  {
   "cell_type": "code",
   "execution_count": 58,
   "metadata": {},
   "outputs": [
    {
     "data": {
      "text/html": [
       "<div>\n",
       "<style scoped>\n",
       "    .dataframe tbody tr th:only-of-type {\n",
       "        vertical-align: middle;\n",
       "    }\n",
       "\n",
       "    .dataframe tbody tr th {\n",
       "        vertical-align: top;\n",
       "    }\n",
       "\n",
       "    .dataframe thead th {\n",
       "        text-align: right;\n",
       "    }\n",
       "</style>\n",
       "<table border=\"1\" class=\"dataframe\">\n",
       "  <thead>\n",
       "    <tr style=\"text-align: right;\">\n",
       "      <th></th>\n",
       "      <th>total_sales_mm</th>\n",
       "      <th>user_score</th>\n",
       "      <th>critic_score</th>\n",
       "    </tr>\n",
       "  </thead>\n",
       "  <tbody>\n",
       "    <tr>\n",
       "      <td>total_sales_mm</td>\n",
       "      <td>1.000000</td>\n",
       "      <td>0.232089</td>\n",
       "      <td>0.338904</td>\n",
       "    </tr>\n",
       "    <tr>\n",
       "      <td>user_score</td>\n",
       "      <td>0.232089</td>\n",
       "      <td>1.000000</td>\n",
       "      <td>0.745222</td>\n",
       "    </tr>\n",
       "    <tr>\n",
       "      <td>critic_score</td>\n",
       "      <td>0.338904</td>\n",
       "      <td>0.745222</td>\n",
       "      <td>1.000000</td>\n",
       "    </tr>\n",
       "  </tbody>\n",
       "</table>\n",
       "</div>"
      ],
      "text/plain": [
       "                total_sales_mm  user_score  critic_score\n",
       "total_sales_mm        1.000000    0.232089      0.338904\n",
       "user_score            0.232089    1.000000      0.745222\n",
       "critic_score          0.338904    0.745222      1.000000"
      ]
     },
     "metadata": {},
     "output_type": "display_data"
    },
    {
     "data": {
      "image/png": "[encoded data removed]",
      "text/plain": [
       "<Figure size 432x288 with 1 Axes>"
      ]
     },
     "metadata": {
      "needs_background": "light"
     },
     "output_type": "display_data"
    },
    {
     "data": {
      "image/png": "[encoded data removed]",
      "text/plain": [
       "<Figure size 432x288 with 1 Axes>"
      ]
     },
     "metadata": {
      "needs_background": "light"
     },
     "output_type": "display_data"
    }
   ],
   "source": [
    "compute_corr(games_actual_df[games_actual_df['platform'] == '3DS'])"
   ]
  },
  {
   "cell_type": "markdown",
   "metadata": {},
   "source": [
    "**Выводы**:\n",
    "* Связь с отзывами критиков здесь выше, чем у PC, но ниже, чем на консолях\n",
    "* 3DS - единственная плоатформа, где есть хоть какая-то связь с отзывами пользователей, небольшая.  \n",
    "Происходит это скорее всего из-за нишевости платформы, т.е пользователи лучше знакомы с ассортиментом предлагаемых игр\n",
    "* Связь между оценками критиков и пользователей здесь больше, чем на всех остальных платформах "
   ]
  },
  {
   "cell_type": "markdown",
   "metadata": {},
   "source": [
    "Построим корреляции для всех платформ"
   ]
  },
  {
   "cell_type": "code",
   "execution_count": 59,
   "metadata": {},
   "outputs": [
    {
     "data": {
      "text/html": [
       "<div>\n",
       "<style scoped>\n",
       "    .dataframe tbody tr th:only-of-type {\n",
       "        vertical-align: middle;\n",
       "    }\n",
       "\n",
       "    .dataframe tbody tr th {\n",
       "        vertical-align: top;\n",
       "    }\n",
       "\n",
       "    .dataframe thead th {\n",
       "        text-align: right;\n",
       "    }\n",
       "</style>\n",
       "<table border=\"1\" class=\"dataframe\">\n",
       "  <thead>\n",
       "    <tr style=\"text-align: right;\">\n",
       "      <th></th>\n",
       "      <th>total_sales_mm</th>\n",
       "      <th>user_score</th>\n",
       "      <th>critic_score</th>\n",
       "    </tr>\n",
       "  </thead>\n",
       "  <tbody>\n",
       "    <tr>\n",
       "      <td>total_sales_mm</td>\n",
       "      <td>1.000000</td>\n",
       "      <td>0.082431</td>\n",
       "      <td>0.229250</td>\n",
       "    </tr>\n",
       "    <tr>\n",
       "      <td>user_score</td>\n",
       "      <td>0.082431</td>\n",
       "      <td>1.000000</td>\n",
       "      <td>0.570892</td>\n",
       "    </tr>\n",
       "    <tr>\n",
       "      <td>critic_score</td>\n",
       "      <td>0.229250</td>\n",
       "      <td>0.570892</td>\n",
       "      <td>1.000000</td>\n",
       "    </tr>\n",
       "  </tbody>\n",
       "</table>\n",
       "</div>"
      ],
      "text/plain": [
       "                total_sales_mm  user_score  critic_score\n",
       "total_sales_mm        1.000000    0.082431      0.229250\n",
       "user_score            0.082431    1.000000      0.570892\n",
       "critic_score          0.229250    0.570892      1.000000"
      ]
     },
     "metadata": {},
     "output_type": "display_data"
    },
    {
     "data": {
      "image/png": "[encoded data removed]",
      "text/plain": [
       "<Figure size 432x288 with 1 Axes>"
      ]
     },
     "metadata": {
      "needs_background": "light"
     },
     "output_type": "display_data"
    },
    {
     "data": {
      "image/png": "[encoded data removed]",
      "text/plain": [
       "<Figure size 432x288 with 1 Axes>"
      ]
     },
     "metadata": {
      "needs_background": "light"
     },
     "output_type": "display_data"
    }
   ],
   "source": [
    "compute_corr(games_actual_df)"
   ]
  },
  {
   "cell_type": "markdown",
   "metadata": {},
   "source": [
    "**Выводы**: \n",
    "* Отзывы пользователей не связаны с продажами\n",
    "* Отзывы критиков почти не связаны с продажами \n",
    "* Есть взаимосвязь между отзывами критиков и пользователей "
   ]
  },
  {
   "cell_type": "markdown",
   "metadata": {},
   "source": [
    "<div class=\"alert alert-success\">\n",
    "<h2> Комментарий ревьюера </h2>\n",
    "\n",
    "Результат получен. Подумай, чем он вызван. Почему мы получаем такие значения?\n",
    "\n",
    "</div>"
   ]
  },
  {
   "cell_type": "markdown",
   "metadata": {},
   "source": [
    "<div class=\"alert alert-danger\">\n",
    "<h2> Комментарий ревьюера </h2>\n",
    "\n",
    "Рассматривать стоит популярные платформы по-отдельности. Именно такой анализ поможет нам в построении прогноза на 2017 год. \n",
    "\n",
    "</div>"
   ]
  },
  {
   "cell_type": "markdown",
   "metadata": {},
   "source": [
    "<div class=\"alert alert-info\">\n",
    "Добавил анализ и выводы по другим популярным платформам\n",
    "\n",
    "</div>"
   ]
  },
  {
   "cell_type": "markdown",
   "metadata": {},
   "source": [
    "<div class=\"alert alert-success\">\n",
    "<h2> Комментарий ревьюера 2</h2>\n",
    "\n",
    "Молодец, что автоматизировал процесс построения графиков. Анализ других платформ выполнен. Так мы можем подтвердить выводы, сделанные ранее. \n",
    "\n",
    "</div>"
   ]
  },
  {
   "cell_type": "markdown",
   "metadata": {},
   "source": [
    "<a name=\"exploratory_data_analysis.games_by_genre\"></a>\n",
    "### Общее распределение игр по жанрам"
   ]
  },
  {
   "cell_type": "markdown",
   "metadata": {},
   "source": [
    "Построим сводную таблицу по жанрам"
   ]
  },
  {
   "cell_type": "code",
   "execution_count": 60,
   "metadata": {},
   "outputs": [
    {
     "data": {
      "text/html": [
       "<div>\n",
       "<style scoped>\n",
       "    .dataframe tbody tr th:only-of-type {\n",
       "        vertical-align: middle;\n",
       "    }\n",
       "\n",
       "    .dataframe tbody tr th {\n",
       "        vertical-align: top;\n",
       "    }\n",
       "\n",
       "    .dataframe thead th {\n",
       "        text-align: right;\n",
       "    }\n",
       "</style>\n",
       "<table border=\"1\" class=\"dataframe\">\n",
       "  <thead>\n",
       "    <tr style=\"text-align: right;\">\n",
       "      <th></th>\n",
       "      <th>total_sales_mm</th>\n",
       "    </tr>\n",
       "    <tr>\n",
       "      <th>genre</th>\n",
       "      <th></th>\n",
       "    </tr>\n",
       "  </thead>\n",
       "  <tbody>\n",
       "    <tr>\n",
       "      <td>Action</td>\n",
       "      <td>1116.65</td>\n",
       "    </tr>\n",
       "    <tr>\n",
       "      <td>Sports</td>\n",
       "      <td>793.85</td>\n",
       "    </tr>\n",
       "    <tr>\n",
       "      <td>Shooter</td>\n",
       "      <td>717.04</td>\n",
       "    </tr>\n",
       "    <tr>\n",
       "      <td>Misc</td>\n",
       "      <td>554.86</td>\n",
       "    </tr>\n",
       "    <tr>\n",
       "      <td>Role-Playing</td>\n",
       "      <td>522.40</td>\n",
       "    </tr>\n",
       "  </tbody>\n",
       "</table>\n",
       "</div>"
      ],
      "text/plain": [
       "              total_sales_mm\n",
       "genre                       \n",
       "Action               1116.65\n",
       "Sports                793.85\n",
       "Shooter               717.04\n",
       "Misc                  554.86\n",
       "Role-Playing          522.40"
      ]
     },
     "execution_count": 60,
     "metadata": {},
     "output_type": "execute_result"
    }
   ],
   "source": [
    "games_actual_genre_df = games_actual_df.pivot_table(index='genre', values='total_sales_mm', aggfunc='sum').sort_values('total_sales_mm', ascending=False)\n",
    "games_actual_genre_df.head(5)"
   ]
  },
  {
   "cell_type": "code",
   "execution_count": 61,
   "metadata": {},
   "outputs": [
    {
     "data": {
      "image/png": "[encoded data removed]",
      "text/plain": [
       "<Figure size 432x288 with 1 Axes>"
      ]
     },
     "metadata": {
      "needs_background": "light"
     },
     "output_type": "display_data"
    }
   ],
   "source": [
    "games_actual_genre_df.plot(kind='bar', grid=True, legend=False, title='Распределение игр по жанрам').set(xlabel='Платформа', ylabel='Продажи ($ млн)')\n",
    "plt.show()"
   ]
  },
  {
   "cell_type": "markdown",
   "metadata": {},
   "source": [
    "**Вывод**:\n",
    "* Самые популярные жанры: action, sports, shooter\n",
    "* Непопулярные: puzzle, strategy"
   ]
  },
  {
   "cell_type": "markdown",
   "metadata": {},
   "source": [
    "<div class=\"alert alert-success\">\n",
    "<h2> Комментарий ревьюера </h2>\n",
    "\n",
    "Анализ популярности жанров проведен. Однако не стоит забывать, что производство игр в жанрах Action или Shooter обходится сильно дороже, чем производство Puzzle-игр. \n",
    "\n",
    "</div>"
   ]
  },
  {
   "cell_type": "markdown",
   "metadata": {},
   "source": [
    "<a name=\"region_users\"></a>\n",
    "## Шаг 4. Портрет пользователя каждого региона"
   ]
  },
  {
   "cell_type": "code",
   "execution_count": 62,
   "metadata": {},
   "outputs": [],
   "source": [
    "from collections import namedtuple\n",
    "\n",
    "Region = namedtuple('Region', ['name', 'metrics'])\n",
    "\n",
    "class RegionAnalyser(object): \n",
    "    REGIONS = (\n",
    "        Region('NA', 'na_sales_mm'), \n",
    "        Region('EU', 'eu_sales_mm'), \n",
    "        Region('JP', 'jp_sales_mm'),\n",
    "    )\n",
    "    \n",
    "    def __init__(self, df):\n",
    "        self._df = df\n",
    "        \n",
    "    def top5(self, column):\n",
    "        fig, axes = plt.subplots(nrows=2, ncols=3)\n",
    "\n",
    "        for idx, region in enumerate(self.REGIONS):\n",
    "            top5_values = self._df.pivot_table(index=column, values=region.metrics, aggfunc='sum')\\\n",
    "                .sort_values(region.metrics, ascending=False).head(5)\n",
    "            top5_values.plot(\n",
    "                kind='pie', \n",
    "                y=region.metrics, \n",
    "                ax=axes[0, idx], \n",
    "                figsize=(20, 10), \n",
    "                legend=False, \n",
    "                title=region.name, \n",
    "                autopct='%1.0f%%'\n",
    "            ).set(ylabel='Продажи')\n",
    "            top5_values.plot(\n",
    "                kind='bar', \n",
    "                ax=axes[1, idx], \n",
    "                figsize=(20, 10), \n",
    "                legend=False, \n",
    "                title=region.name, \n",
    "            ).set(xlabel='Платформа', ylabel='Продажи ($ млн)')\n",
    "        plt.show()"
   ]
  },
  {
   "cell_type": "markdown",
   "metadata": {},
   "source": [
    "<a name=\"region_users.platform\"></a>\n",
    "### Самые популярные платформы"
   ]
  },
  {
   "cell_type": "markdown",
   "metadata": {},
   "source": [
    "Выведем график типа `pie` с популярностью платформ по 3 регионам"
   ]
  },
  {
   "cell_type": "code",
   "execution_count": 63,
   "metadata": {},
   "outputs": [
    {
     "data": {
      "image/png": "[encoded data removed]",
      "text/plain": [
       "<Figure size 1440x720 with 6 Axes>"
      ]
     },
     "metadata": {
      "needs_background": "light"
     },
     "output_type": "display_data"
    }
   ],
   "source": [
    "RegionAnalyser(games_actual_df).top5('platform')"
   ]
  },
  {
   "cell_type": "markdown",
   "metadata": {},
   "source": [
    "**Выводы**:\n",
    "* В США самая популярная консоль - Xbox 360, разработанная американской корпорацией Microsoft, PS3 только третья\n",
    "* В Европе самая популярная консоль - PS3, за ней идут Xbox 360 и Wii\n",
    "* В Японии пользователи предпочитвают портативные консоли, самые популярные - DS и 3DS. На 3 месте уже идет PS3"
   ]
  },
  {
   "cell_type": "markdown",
   "metadata": {},
   "source": [
    "<div class=\"alert alert-warning\">\n",
    "<h2> Комментарий ревьюера </h2>\n",
    "    \n",
    "Не советую использовать пироговые диаграммы (pie-charts). Такая диаграмма затрудняет понимание, особенно если сегментов будет больше 4х. Также, на этом типе диаграмм сложно визуально увидеть разницу между сегментами. Рекомендую использовать обычные столбчатые диаграммы вместо пироговых диаграмм.\n",
    "    \n",
    "</div>"
   ]
  },
  {
   "cell_type": "markdown",
   "metadata": {},
   "source": [
    "<div class=\"alert alert-info\">\n",
    "    \n",
    "Поменял отображение на столбчатые диаграммы \n",
    "    \n",
    "</div>"
   ]
  },
  {
   "cell_type": "markdown",
   "metadata": {},
   "source": [
    "<div class=\"alert alert-success\">\n",
    "<h2> Комментарий ревьюера 2</h2>\n",
    "\n",
    "Согласись, так графики становятся куда более информативны. \n",
    "\n",
    "</div>"
   ]
  },
  {
   "cell_type": "markdown",
   "metadata": {},
   "source": [
    "<a name=\"region_users.genre\"></a>\n",
    "### Самые популярные жанры"
   ]
  },
  {
   "cell_type": "code",
   "execution_count": 64,
   "metadata": {},
   "outputs": [
    {
     "data": {
      "image/png": "[encoded data removed]",
      "text/plain": [
       "<Figure size 1440x720 with 6 Axes>"
      ]
     },
     "metadata": {
      "needs_background": "light"
     },
     "output_type": "display_data"
    }
   ],
   "source": [
    "RegionAnalyser(games_actual_df).top5('genre')"
   ]
  },
  {
   "cell_type": "markdown",
   "metadata": {},
   "source": [
    "**Выводы**:\n",
    "* В США самые популярные жанры это экшены, спортивные игры и шутеры\n",
    "* В Европе ситуация та же самая, что в США\n",
    "* В Японии ситуация кардинально другая, там самые попрулярные игры - ролевые, после этого уже идут экшены, а шутеров в топе вообще нет"
   ]
  },
  {
   "cell_type": "markdown",
   "metadata": {},
   "source": [
    "<div class=\"alert alert-warning\">\n",
    "<h2> Комментарий ревьюера </h2>\n",
    " \n",
    "Из-за чего японский рынок игр так сильно отличается от других? \n",
    "\n",
    "</div>"
   ]
  },
  {
   "cell_type": "markdown",
   "metadata": {},
   "source": [
    "<div class=\"alert alert-info\">\n",
    "Из-за распространенности игр жанра JRPG \n",
    "\n",
    "</div>"
   ]
  },
  {
   "cell_type": "markdown",
   "metadata": {},
   "source": [
    "<div class=\"alert alert-success\">\n",
    "<h2> Комментарий ревьюера 2</h2>\n",
    "\n",
    "А жанр почему тогда там распространен?) Такое объяснение не совсем полностью объясняет полученные результаты.\n",
    "\n",
    "</div>"
   ]
  },
  {
   "cell_type": "markdown",
   "metadata": {},
   "source": [
    "<a name=\"region_users.rating\"></a>\n",
    "### Влияние рейтинга ESRB"
   ]
  },
  {
   "cell_type": "code",
   "execution_count": 65,
   "metadata": {},
   "outputs": [
    {
     "name": "stdout",
     "output_type": "stream",
     "text": [
      "Количество пропусков в столбце rating: 3487\n"
     ]
    }
   ],
   "source": [
    "print_nan_count(games_actual_df, 'rating')"
   ]
  },
  {
   "cell_type": "markdown",
   "metadata": {},
   "source": [
    "<div class=\"alert alert-info\">\n",
    "Заменим пропуски на рейтинг RP\n",
    "\n",
    "</div>"
   ]
  },
  {
   "cell_type": "code",
   "execution_count": 66,
   "metadata": {},
   "outputs": [
    {
     "data": {
      "image/png": "[encoded data removed]",
      "text/plain": [
       "<Figure size 1440x720 with 6 Axes>"
      ]
     },
     "metadata": {
      "needs_background": "light"
     },
     "output_type": "display_data"
    }
   ],
   "source": [
    "games_actual_df['rating'] = games_actual_df['rating'].replace(np.nan, 'RP')\n",
    "RegionAnalyser(games_actual_df).top5('rating')"
   ]
  },
  {
   "cell_type": "markdown",
   "metadata": {},
   "source": [
    "**Выводы**:\n",
    "* В США всего на взрослую аудиторию приходится 27% игр от общего количества оцененных игр, игр без рейтинга 10%\n",
    "* В Европе на взрослую аудиторию приходится больше продаж - 31%, игр без рейтинга примерно как в США - 13%\n",
    "* Япония опять сильно отличается, тут на взрослую аудиторию приходится всего 13% продаж, а на игры без рейтинга целых 48%. Связано это скорее всего с тем, что ESRB - [американская](https://en.wikipedia.org/wiki/Entertainment_Software_Rating_Board) организация и она не ставит рейтинги играм, выходящим эксклюзивно на рынке Японии."
   ]
  },
  {
   "cell_type": "markdown",
   "metadata": {},
   "source": [
    "<div class=\"alert alert-danger\">\n",
    "<h2> Комментарий ревьюера </h2>\n",
    "\n",
    "Обрати внимание - ты не учитываешь игры без рейтинга. В результате огромная часть игр просто выпадает из анализа. Найди способ учесть их при группировке значений по рейтингу.\n",
    "\n",
    "</div>"
   ]
  },
  {
   "cell_type": "markdown",
   "metadata": {},
   "source": [
    "<div class=\"alert alert-info\">\n",
    "Немного избавился от пропусков на этапе <a href=\"#data_preprocessing.missing.rating\">обработки пропусков</a>\n",
    "<br>\n",
    "Можешь подсказать, что ты имел ввиду? \n",
    "<br>\n",
    "Потому что я не понимаю, как можно группировать значения без рейтинга. \n",
    "<br>\n",
    "У нас их 38%, кажется это не так много. \n",
    "</div>"
   ]
  },
  {
   "cell_type": "markdown",
   "metadata": {},
   "source": [
    "<div class=\"alert alert-danger\">\n",
    "<h2> Комментарий ревьюера 2</h2>\n",
    "\n",
    "Но и не мало. Отсутствие рейтинга можно отметить в данных, например, значением RP, которое уже есть у нас и значит дословно, что рейтинг ожидается. Так вот игры без рейтинга также стоит включить в данный анализ. Без них мы получаем неполные результаты. \n",
    "\n",
    "</div>"
   ]
  },
  {
   "cell_type": "markdown",
   "metadata": {},
   "source": [
    "<div class=\"alert alert-info\">\n",
    "Понял, спасибо)\n",
    "<br>\n",
    "Поменял пропуски на RP и дополнил вывод\n",
    "</div>"
   ]
  },
  {
   "cell_type": "markdown",
   "metadata": {},
   "source": [
    "<div class=\"alert alert-success\">\n",
    "<h2> Комментарий ревьюера 3</h2>\n",
    "\n",
    "Круто, мы нашли особенность японского рынка игр - большая локальность изданий. Также это мы можем объяснить культурными особенностями данного региона. Остальной мир не понимает такие игры)\n",
    "\n",
    "</div>"
   ]
  },
  {
   "cell_type": "markdown",
   "metadata": {},
   "source": [
    "<a name=\"hypotheses\"></a>\n",
    "## Шаг 5. Проверка гипотез"
   ]
  },
  {
   "cell_type": "code",
   "execution_count": 67,
   "metadata": {},
   "outputs": [],
   "source": [
    "def print_stat(df, column):\n",
    "    print('Статистика для столбца {}:'.format(column))\n",
    "    print(df[column].agg(['mean','median','var','std']))"
   ]
  },
  {
   "cell_type": "markdown",
   "metadata": {},
   "source": [
    "<a name=\"hypotheses.platform\"></a>\n",
    "### Средние пользовательские рейтинги платформ Xbox One и PC одинаковые"
   ]
  },
  {
   "cell_type": "markdown",
   "metadata": {},
   "source": [
    "Сохраним данные по платформам XOne и PC для анализа"
   ]
  },
  {
   "cell_type": "code",
   "execution_count": 68,
   "metadata": {},
   "outputs": [],
   "source": [
    "games_actual_xone_df = games_actual_df.query('platform == \"XOne\" and user_score.notna()')\n",
    "games_actual_pc_df = games_actual_df.query('platform == \"PC\" and user_score.notna()')"
   ]
  },
  {
   "cell_type": "markdown",
   "metadata": {},
   "source": [
    "Посмотрим статистические данные по этим датасетам"
   ]
  },
  {
   "cell_type": "code",
   "execution_count": 69,
   "metadata": {},
   "outputs": [
    {
     "name": "stdout",
     "output_type": "stream",
     "text": [
      "Статистика для столбца user_score:\n",
      "mean      6.521429\n",
      "median    6.800000\n",
      "var       1.906997\n",
      "std       1.380941\n",
      "Name: user_score, dtype: float64\n",
      "Статистика для столбца user_score:\n",
      "mean      6.830081\n",
      "median    7.300000\n",
      "var       2.315234\n",
      "std       1.521589\n",
      "Name: user_score, dtype: float64\n"
     ]
    }
   ],
   "source": [
    "print_stat(games_actual_xone_df, 'user_score')\n",
    "print_stat(games_actual_pc_df, 'user_score')"
   ]
  },
  {
   "cell_type": "markdown",
   "metadata": {},
   "source": [
    "Дисперсии не равны, выставим `equal_var` раным False"
   ]
  },
  {
   "cell_type": "markdown",
   "metadata": {},
   "source": [
    "Нулевая гипотеза H<sub>0</sub>: \"cредние пользовательские рейтинги платформ Xbox One и PC **не различаются**\".  \n",
    "Из нее следует альтернативная гипотеза H<sub>1</sub>: \"cредние пользовательские рейтинги платформ Xbox One и PC **различаются**\".  \n",
    "Пороговое значение `alpha` (критический уровень статистической значимости) зададим равным `5%`."
   ]
  },
  {
   "cell_type": "code",
   "execution_count": 70,
   "metadata": {},
   "outputs": [
    {
     "name": "stdout",
     "output_type": "stream",
     "text": [
      "p-значение: 0.01014021353497224\n",
      "Отвергаем нулевую гипотезу\n"
     ]
    }
   ],
   "source": [
    "alpha = .05\n",
    "\n",
    "results = st.ttest_ind(\n",
    "    games_actual_xone_df['user_score'], \n",
    "    games_actual_pc_df['user_score'],\n",
    "    equal_var = False,\n",
    ")\n",
    "\n",
    "print('p-значение:', results.pvalue)\n",
    "\n",
    "if (results.pvalue < alpha):\n",
    "    print(\"Отвергаем нулевую гипотезу\")\n",
    "else:\n",
    "    print(\"Не получилось отвергнуть нулевую гипотезу\")"
   ]
  },
  {
   "cell_type": "markdown",
   "metadata": {},
   "source": [
    "**Вывод**: Наша H<sub>0</sub> гипотеза не подтвердилась, а значит средние пользовательские рейтинги платформ Xbox One и PC **различаются**"
   ]
  },
  {
   "cell_type": "markdown",
   "metadata": {},
   "source": [
    "<div class=\"alert alert-success\">\n",
    "<h2> Комментарий ревьюера </h2>\n",
    "\n",
    "Гипотезы сформулированы и проверены верно.\n",
    "\n",
    "</div>"
   ]
  },
  {
   "cell_type": "markdown",
   "metadata": {},
   "source": [
    "<a name=\"hypotheses.city\"></a>\n",
    "### Средние пользовательские рейтинги жанров Action и Sports разные"
   ]
  },
  {
   "cell_type": "markdown",
   "metadata": {},
   "source": [
    "Сохраним данные по жанрам Action и Sports для анализа"
   ]
  },
  {
   "cell_type": "code",
   "execution_count": 71,
   "metadata": {},
   "outputs": [],
   "source": [
    "games_actual_action_df = games_actual_df.query('genre == \"Action\" and user_score.notna()')\n",
    "games_actual_sports_df = games_actual_df.query('genre == \"Sports\" and user_score.notna()')"
   ]
  },
  {
   "cell_type": "markdown",
   "metadata": {},
   "source": [
    "Посмотрим статистические данные по этим датасетам"
   ]
  },
  {
   "cell_type": "code",
   "execution_count": 72,
   "metadata": {},
   "outputs": [
    {
     "name": "stdout",
     "output_type": "stream",
     "text": [
      "Статистика для столбца user_score:\n",
      "mean      6.878625\n",
      "median    7.200000\n",
      "var       1.859581\n",
      "std       1.363664\n",
      "Name: user_score, dtype: float64\n",
      "Статистика для столбца user_score:\n",
      "mean      6.416420\n",
      "median    6.800000\n",
      "var       2.732308\n",
      "std       1.652969\n",
      "Name: user_score, dtype: float64\n"
     ]
    }
   ],
   "source": [
    "print_stat(games_actual_action_df, 'user_score')\n",
    "print_stat(games_actual_sports_df, 'user_score')"
   ]
  },
  {
   "cell_type": "markdown",
   "metadata": {},
   "source": [
    "Дисперсии не равны, выставим `equal_var` раным False"
   ]
  },
  {
   "cell_type": "markdown",
   "metadata": {},
   "source": [
    "Нулевая гипотеза H<sub>0</sub>: \"cредние пользовательские рейтинги жанров Action и Sports **не различаются**\".  \n",
    "Из нее следует альтернативная гипотеза H<sub>1</sub>: \"cредние пользовательские рейтинги жанров Action и Sports **различаются**\".  \n",
    "Пороговое значение `alpha` (критический уровень статистической значимости) зададим равным `5%`."
   ]
  },
  {
   "cell_type": "code",
   "execution_count": 73,
   "metadata": {},
   "outputs": [
    {
     "name": "stdout",
     "output_type": "stream",
     "text": [
      "p-значение: 5.319061853268226e-10\n",
      "Отвергаем нулевую гипотезу\n"
     ]
    }
   ],
   "source": [
    "alpha = .05\n",
    "\n",
    "results = st.ttest_ind(\n",
    "    games_actual_action_df['user_score'], \n",
    "    games_actual_sports_df['user_score'],\n",
    "    equal_var = False,\n",
    ")\n",
    "\n",
    "print('p-значение:', results.pvalue)\n",
    "\n",
    "if (results.pvalue < alpha):\n",
    "    print(\"Отвергаем нулевую гипотезу\")\n",
    "else:\n",
    "    print(\"Не получилось отвергнуть нулевую гипотезу\")"
   ]
  },
  {
   "cell_type": "markdown",
   "metadata": {},
   "source": [
    "**Вывод**: Наша H<sub>0</sub> гипотеза не подтвердилась, а значит cредние пользовательские рейтинги жанров Action и Sports **различаются**. "
   ]
  },
  {
   "cell_type": "markdown",
   "metadata": {},
   "source": [
    "<div class=\"alert alert-success\">\n",
    "<h2> Комментарий ревьюера </h2>\n",
    "\n",
    "Проверка второй гипотезы также выполнена верно. \n",
    "\n",
    "</div>"
   ]
  },
  {
   "cell_type": "markdown",
   "metadata": {},
   "source": [
    "<a name=\"general_conclusion\"></a>\n",
    "\n",
    "## Шаг 6. Общий вывод"
   ]
  },
  {
   "cell_type": "markdown",
   "metadata": {},
   "source": [
    "Была проведена работа по анализу данных о продажах компьютерных игр в интренет-магазине «Стримчик»\n",
    "\n",
    "Сначала были заменены названия столбцов, изменены типы данных и в таблицу добавлены данные о суммарных продажах. \n",
    "После этого был произведен анализ следующих показателей:\n",
    "* изменение количества произведенных игр с течением времени\n",
    "* продажи на разных платформах \n",
    "* найдены и проанализированы лидеры по продажам среди платформ \n",
    "* изучены корреляции продаж от отценок пользователей и критиков на самой популярной платформе - ps4 \n",
    "* произведен анализ корреляций для других платформ и произведено сравнение с результатом предыдущего шага\n",
    "* вычисле топ жанров по продажам \n",
    "\n",
    "Затем был произведен анализ пользовательских предпочтений в 3-ех регионах: США, Европа, Япония. Была исследована влияние платформ, жанров и рейтина ESRB на продажи в регионе. \n",
    "\n",
    "После этого были проверен 2 гипотезы: \n",
    "* средние пользовательские рейтинги платформ Xbox One и PC одинаковые - эта гипотеза была опровергнута.\n",
    "* Средние пользовательские рейтинги жанров Action и Sports разные - эта гипотеза была подтверждена.\n",
    "\n",
    "Результаты:\n",
    "* самые урожайные года по количеству игр - 2008 и 2009, после этого наблюдается спад произведенных игр из-за распространения мобильного гейминга\n",
    "* самая прибыльная платформа за все время - PS2\n",
    "* среднее время жизни платформы - 10 лет \n",
    "* перспективные платформы, которые приносят деньги -  PS4, XOne, PC, 3DS\n",
    "* ретинги критиков немного влияют на продажи и связаны с рейтингом игроков. С другой стороны рейтинги игроков не влияют на продажн\n",
    "* самые популярные жанры: action, sports, shooter, непопулярные: puzzle, strategy\n",
    "* в США самая популярная консоль - Xbox 360, в Европе - PS3, а в Японии пользователи предпочитвают портативные консоли, самые популярные - DS и 3DS\n",
    "* в Европе и США самые популярные жанры это экшены, спортивные игры и шутеры, в Японии - ролевые игры \n",
    "* доля проданных игр для взрослых в США - 27%, в Европе - 31%, а в Японии всего 13%\n",
    "* гипотеза о том, что средние пользовательские рейтинги платформ Xbox One и PC одинаковые была опровергнута\n",
    "* гипотеза о том, что средние пользовательские рейтинги жанров Action и Sports разные была подтверждена"
   ]
  },
  {
   "cell_type": "markdown",
   "metadata": {},
   "source": [
    "<div class=\"alert alert-success\">\n",
    "<h2> Комментарий ревьюера </h2>\n",
    "\n",
    "Выводы описаны грамотно. Приведены ответы на главные вопросы проекта. В выводах можно приводить полученные ранее значения, правильно. Здорово, что по каждому пункту работы приведен вывод. Хорошо бы привести и рекомендации для компании по дальнйешим действиям. Это именно то, что от нас и ждут.  \n",
    "\n",
    "</div>"
   ]
  },
  {
   "cell_type": "markdown",
   "metadata": {},
   "source": [
    "<div class=\"alert alert-success\">\n",
    "<h2> Комментарий ревьюера 2</h2>\n",
    "\n",
    "Ты исправил многие помарки, молодец. Осталось только рассмотреть игры без рейтинга при построении портрета пользователей каждого из регионов. Как сделаешь это, присылай работу снова :)\n",
    "\n",
    "</div>"
   ]
  },
  {
   "cell_type": "markdown",
   "metadata": {},
   "source": [
    "<div class=\"alert alert-success\">\n",
    "<h2> Комментарий ревьюера 2</h2>\n",
    "\n",
    "Все помарки исправлены, и теперь работа выполнена хорошо. Поздравляю со сданным проектом. Надеюсь, он был интересен и познавателен. Я рад, что ты справился со всеми трудностями. Успехов в дальнейшем пути :)\n",
    "\n",
    "</div>"
   ]
  },
  {
   "cell_type": "markdown",
   "metadata": {},
   "source": [
    "<div class=\"alert alert-warning\">\n",
    "<h2> Комментарий ревьюера </h2>\n",
    "\n",
    "Если тебе нравится тема визуализации, то можешь изучить методы библиотеки seaborn. Она позволяет строить довольно презентабельные графики.\n",
    "\n",
    "Ты выполнил все пункты работы, молодец! Критических замечаний немного. Однако их важно устранить. Также в работе есть некоторое число желтых комментариев, которые стоит исправить. Думаю, ты справишься с этим быстро. Жду твою работу :)\n",
    "\n",
    "</div>"
   ]
  }
 ],
 "metadata": {
  "kernelspec": {
   "display_name": "Python 3",
   "language": "python",
   "name": "python3"
  },
  "language_info": {
   "codemirror_mode": {
    "name": "ipython",
    "version": 3
   },
   "file_extension": ".py",
   "mimetype": "text/x-python",
   "name": "python",
   "nbconvert_exporter": "python",
   "pygments_lexer": "ipython3",
   "version": "3.7.6"
  }
 },
 "nbformat": 4,
 "nbformat_minor": 4
}
