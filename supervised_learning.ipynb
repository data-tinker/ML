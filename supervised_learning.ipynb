{
 "cells": [
  {
   "cell_type": "markdown",
   "metadata": {},
   "source": [
    "Привет, меня зовут Люман Аблаев. Сегодня я проверю твой проект.\n",
    "<br> Дальнейшее общение будет происходить на \"ты\" если это не вызывает никаких проблем.\n",
    "<br> Желательно реагировать на каждый мой комментарий ('исправил', 'не понятно как исправить ошибку', ...)\n",
    "<br> Пожалуйста, не удаляй комментарии ревьюера, так как они повышают качество повторного ревью.\n",
    "\n",
    "Комментарии будут в <font color='green'>зеленой</font>, <font color='blue'>синей</font> или <font color='red'>красной</font> рамках:\n",
    "\n",
    "<div class=\"alert alert-block alert-success\">\n",
    "<b>Успех:</b> Если все сделано отлично\n",
    "</div>\n",
    "\n",
    "<div class=\"alert alert-block alert-info\">\n",
    "<b>Совет: </b> Если можно немного улучшить\n",
    "</div>\n",
    "\n",
    "<div class=\"alert alert-block alert-danger\">\n",
    "<b>Ошибка:</b> Если требуются исправления. Работа не может быть принята с красными комментариями.\n",
    "</div>\n",
    "\n",
    "### <font color='orange'>Общее впечатление</font>\n",
    "* Этот проект выполнен довольно отлично.\n",
    "* Молодец, что используешь классы и методы для более правильного и красивого написания кода.\n",
    "* Выводы основанные на работе сформулированны логично и понятно.\n",
    "* Ты получил высокое качество на тесте.\n",
    "* Есть небольшие моменты, которые хотелось бы исправить или дополнить. Я думаю ты легко с этим справишься, и проект будет зачтен!\n",
    "* Не забудь изменить выводы, если они того потребуют (если значения метрик изменятся)\n",
    "\n",
    "### <font color='orange'>Общее впечатление[2]</font>\n",
    "* Спасибо, что оперативно поправил все ошибки, и прислушился к советам!\n",
    "* У тебя отличная работа, продолжай в том же духе.\n",
    "* Твоя работа, принята. Удачи в следующих проектах!=)"
   ]
  },
  {
   "cell_type": "markdown",
   "metadata": {},
   "source": [
    "<div class=\"alert alert-info\">\n",
    "Привет) Спасибо за ревью\n",
    "    \n",
    "</div>"
   ]
  },
  {
   "cell_type": "markdown",
   "metadata": {},
   "source": [
    "# Отток клиентов"
   ]
  },
  {
   "cell_type": "markdown",
   "metadata": {},
   "source": [
    "## Описание проекта"
   ]
  },
  {
   "cell_type": "markdown",
   "metadata": {},
   "source": [
    "Из «Бета-Банка» стали уходить клиенты. Каждый месяц. Немного, но заметно. Банковские маркетологи посчитали: сохранять текущих клиентов дешевле, чем привлекать новых.\n",
    "\n",
    "Нужно спрогнозировать, уйдёт клиент из банка в ближайшее время или нет. Вам предоставлены исторические данные о поведении клиентов и расторжении договоров с банком. \n",
    "\n",
    "Постройте модель с предельно большим значением *F1*-меры. Чтобы сдать проект успешно, нужно довести метрику до 0.59. Проверьте *F1*-меру на тестовой выборке самостоятельно.\n",
    "\n",
    "Дополнительно измеряйте *AUC-ROC*, сравнивайте её значение с *F1*-мерой.\n",
    "\n",
    "Источник данных: [https://www.kaggle.com/barelydedicated/bank-customer-churn-modeling](https://www.kaggle.com/barelydedicated/bank-customer-churn-modeling)"
   ]
  },
  {
   "cell_type": "markdown",
   "metadata": {},
   "source": [
    "## Содержание \n",
    "* [Изучение файла](#open_file)\n",
    "* [Подготовка данных](#prepare_data)\n",
    "* [Исследование задачи](#research)\n",
    "  * [Кодирование категоральных признаков](#research.categorical_features)\n",
    "  * [Масштабирование количественных признаков](#research.numeric_features)\n",
    "  * [Разделение данных на выборки](#research.split_data)\n",
    "  * [Исследование моделей](#research.analyse_models)\n",
    "    * [Дерево решений](#research.analyse_models.decision_tree)\n",
    "    * [Случайный лес](#research.analyse_models.random_forest)\n",
    "    * [Логистическая регрессия](#research.analyse_models.logistic_regression)\n",
    "  * [Вывод](#research.conclusion)\n",
    "* [Борьба с дисбалансом](#imbalances)\n",
    "  * [Увеличение выборки](#imbalances.upsample)\n",
    "    * [Дерево решений](#imbalances.upsample.decision_tree)\n",
    "    * [Случайный лес](#imbalances.upsample.random_forest)\n",
    "    * [Логистическая регрессия](#imbalances.upsample.logistic_regression)\n",
    "  * [Уменьшение выборки](#imbalances.downsample)\n",
    "    * [Дерево решений](#imbalances.downsample.decision_tree)\n",
    "    * [Случайный лес](#imbalances.downsample.random_forest)\n",
    "    * [Логистическая регрессия](#imbalances.downsample.logistic_regression)\n",
    "  * [Взвешивание классов](#imbalances.class_weight)\n",
    "    * [Дерево решений](#imbalances.class_weight.decision_tree)\n",
    "    * [Случайный лес](#imbalances.class_weight.random_forest)\n",
    "    * [Логистическая регрессия](#imbalances.class_weight.logistic_regression)\n",
    "  * [Вывод](#imbalances.conclusion)\n",
    "* [Тестирование модели](#test_model)"
   ]
  },
  {
   "cell_type": "code",
   "execution_count": 1,
   "metadata": {},
   "outputs": [],
   "source": [
    "import pandas as pd \n",
    "import matplotlib.pyplot as plt\n",
    "\n",
    "from sklearn.model_selection import train_test_split\n",
    "\n",
    "from sklearn.utils import shuffle\n",
    "\n",
    "from sklearn.tree import DecisionTreeClassifier\n",
    "from sklearn.ensemble import RandomForestClassifier\n",
    "from sklearn.linear_model import LogisticRegression\n",
    "\n",
    "from sklearn.metrics import f1_score, roc_auc_score\n",
    "from sklearn.preprocessing import StandardScaler\n",
    "\n",
    "from collections import namedtuple \n",
    "from functools import partial\n",
    "\n",
    "RANDOM_STATE = 12345"
   ]
  },
  {
   "cell_type": "code",
   "execution_count": 2,
   "metadata": {},
   "outputs": [],
   "source": [
    "PredictionData = namedtuple('PredictionData', ('features_train', 'target_train', 'features_valid', 'target_valid'))\n",
    "\n",
    "class PredictionAndTestData(object):\n",
    "    __slots__ = (        \n",
    "        'features_train', \n",
    "        'target_train', \n",
    "        'features_valid', \n",
    "        'target_valid',\n",
    "        'features_test',\n",
    "        'target_test',\n",
    "    )\n",
    "    \n",
    "    def __init__(\n",
    "        self, features_train, target_train, features_valid, \n",
    "        target_valid, features_test, target_test,\n",
    "    ):\n",
    "        self.features_train = features_train\n",
    "        self.target_train = target_train \n",
    "        self.features_valid = features_valid\n",
    "        self.target_valid = target_valid\n",
    "        self.features_test = features_test\n",
    "        self.target_test = target_test\n",
    "        \n",
    "    def __str__(self):\n",
    "        return '\\n'.join('размер {}: {}'.format(name, data.shape) for name, data in (\n",
    "            ('features_train', self.features_train),\n",
    "            ('target_train', self.target_train),\n",
    "            ('features_valid', self.features_valid),\n",
    "            ('target_valid', self.target_valid),\n",
    "            ('features_test', self.features_test),\n",
    "            ('target_test', self.target_test),\n",
    "        ))\n",
    "    \n",
    "    def __iter__(self):\n",
    "        return iter((\n",
    "            self.features_train,\n",
    "            self.target_train,\n",
    "            self.features_valid,\n",
    "            self.target_valid,\n",
    "            self.features_test,\n",
    "            self.target_test,\n",
    "        ))\n",
    "\n",
    "class ScorePredictorFactory(object):\n",
    "    class ScorePredictor(object):\n",
    "        def __init__(self, prediction_data, model_class):\n",
    "            self._prediction_data = prediction_data\n",
    "            self._model_class = model_class\n",
    "            self._score = 0\n",
    "            self._auc_roc_score = 0\n",
    "            self._params = {}\n",
    "\n",
    "        def predict_score(self, **params):\n",
    "            model = self._model_class(random_state=RANDOM_STATE, **params)\n",
    "            model.fit(self._prediction_data.features_train, self._prediction_data.target_train)\n",
    "            predictions_valid = model.predict(self._prediction_data.features_valid)\n",
    "            score = f1_score(self._prediction_data.target_valid, predictions_valid)  \n",
    "            \n",
    "            if score > self._score: \n",
    "                self._score = score\n",
    "                self._params = params\n",
    "                self._auc_roc_score = get_auc_roc_score(model, features_valid, target_valid)\n",
    "            \n",
    "            return score\n",
    "        \n",
    "        @property\n",
    "        def score(self):\n",
    "            return self._score\n",
    "    \n",
    "        @property\n",
    "        def params(self):\n",
    "            return self._params\n",
    "        \n",
    "        @property\n",
    "        def auc_roc_score(self):\n",
    "            return self._auc_roc_score\n",
    "    \n",
    "        def __str__(self):\n",
    "            return 'Лучшее значение F1-меры: {} при параметрах {}\\nЗначение AUC-ROC: {}'.format(\n",
    "                self.score, self.params, self.auc_roc_score,\n",
    "            )\n",
    "    \n",
    "    def __init__(self, features_train, target_train, features_valid, target_valid):\n",
    "        self._prediction_data = PredictionData(features_train, target_train, features_valid, target_valid)\n",
    "        \n",
    "    def new_predictor(self, model_class):\n",
    "        return self.ScorePredictor(self._prediction_data, model_class)\n",
    "    "
   ]
  },
  {
   "cell_type": "code",
   "execution_count": 3,
   "metadata": {},
   "outputs": [],
   "source": [
    "def analyze_df(df):\n",
    "    rows_count, columns_count = df.shape\n",
    "    print('Количество стобцов:', columns_count)\n",
    "    print('Количество строк:', rows_count)\n",
    "    display(df.head(10))\n",
    "    display(df.describe())\n",
    "    df.info()\n",
    "\n",
    "def rows_ratio_for_dfs(first_df, second_df):\n",
    "    return first_df.shape[0] / second_df.shape[0]\n",
    "\n",
    "def scale(features_train, features_valid, numeric): \n",
    "    scaler = StandardScaler()\n",
    "    numeric = ['CreditScore', 'Age', 'Tenure', 'Balance', 'NumOfProducts', 'EstimatedSalary']\n",
    "\n",
    "    scaler.fit(df[numeric])\n",
    "\n",
    "    return scaler.transform(df[numeric])\n",
    "\n",
    "def split_df(df, balance_func=None):\n",
    "    # Выделим фичи и целевой показатель `Exited` \n",
    "    features = df.drop(columns=['Exited'])\n",
    "    target = df['Exited']\n",
    "    \n",
    "    # Спрятанной тестовой выборки нет. \n",
    "    # Значит, данные нужно разбить на три части: обучающую, валидационную и тестовую. \n",
    "    # Размеры тестового и валидационного наборов обычно равны. \n",
    "    # Исходные данные разбивают в соотношении 3:1:1\n",
    "    features_train, features_valid, target_train, target_valid = train_test_split(features, target, test_size=0.4, random_state=RANDOM_STATE)\n",
    "    features_valid, features_test, target_valid, target_test = train_test_split(features_valid, target_valid, test_size=0.5, random_state=RANDOM_STATE)\n",
    "    \n",
    "    # Проведем масштабирование количественных признаков\n",
    "    scaler = StandardScaler()\n",
    "    numeric = ['CreditScore', 'Age', 'Tenure', 'Balance', 'NumOfProducts', 'EstimatedSalary']\n",
    "    \n",
    "    scaler.fit(features_train[numeric])\n",
    "\n",
    "    features_train = features_train.copy()\n",
    "    features_train[numeric] = scaler.transform(features_train[numeric])\n",
    "\n",
    "    features_valid = features_valid.copy()\n",
    "    features_valid[numeric] = scaler.transform(features_valid[numeric])\n",
    "\n",
    "    features_test = features_test.copy()\n",
    "    features_test[numeric] = scaler.transform(features_test[numeric])\n",
    "    \n",
    "    # Применим функцию samplefunc, чтобы сбалансировать классы\n",
    "    if balance_func:\n",
    "        features_train, target_train = balance_func(features_train, target_train)\n",
    "    \n",
    "    data = PredictionAndTestData(\n",
    "        features_train,\n",
    "        target_train,\n",
    "        features_valid,\n",
    "        target_valid, \n",
    "        features_test,\n",
    "        target_test,\n",
    "    )\n",
    "    \n",
    "    print(data)\n",
    "        \n",
    "    return data\n",
    "\n",
    "def plot_classes_disbalance(df, title):\n",
    "    df.value_counts(normalize=True).plot(kind='bar', title=title)\n",
    "    plt.show()\n",
    "    \n",
    "\n",
    "def get_auc_roc_score(model, features_valid, target_valid):\n",
    "    probabilities_valid = model.predict_proba(features_valid)\n",
    "    probabilities_one_valid = probabilities_valid[:, 1]\n",
    "\n",
    "    return roc_auc_score(target_valid, probabilities_one_valid)"
   ]
  },
  {
   "cell_type": "markdown",
   "metadata": {},
   "source": [
    "<div class=\"alert alert-block alert-success\">\n",
    "<b>Успех:</b> Отлично, что ты владеешь знаниями о классах и их методах, и умеешь корректно их применять!\n",
    "</div>\n",
    "\n",
    "<div class=\"alert alert-block alert-info\">\n",
    "<b>Совет: </b> Хорошо было бы разделять такие большие ячейки на логические группы: <br>\n",
    "    1) Импорты в одну ячейку <br>\n",
    "    2) Классы в отдельную <br>\n",
    "    3) вспомогательные методы в другую <br>\n",
    "    и т.п.\n",
    "</div>"
   ]
  },
  {
   "cell_type": "markdown",
   "metadata": {},
   "source": [
    "<div class=\"alert alert-info\">\n",
    "Разделил код на логические ячейки\n",
    "    \n",
    "</div>"
   ]
  },
  {
   "cell_type": "markdown",
   "metadata": {},
   "source": [
    "<a name=\"open_file\"></a>\n",
    "## Изучение файла"
   ]
  },
  {
   "cell_type": "markdown",
   "metadata": {},
   "source": [
    "**Описание данных**:\n",
    "- *RowNumber* — индекс строки в данных\n",
    "- *CustomerId* — уникальный идентификатор клиента\n",
    "- *Surname* — фамилия\n",
    "- *CreditScore* — кредитный рейтинг\n",
    "- *Geography* — страна проживания\n",
    "- *Gender* — пол\n",
    "- *Age* — возраст\n",
    "- *Tenure* — количество недвижимости у клиента\n",
    "- *Balance* — баланс на счёте\n",
    "- *NumOfProducts* — количество продуктов банка, используемых клиентом\n",
    "- *HasCrCard* — наличие кредитной карты\n",
    "- *IsActiveMember* — активность клиента\n",
    "- *EstimatedSalary* — предполагаемая зарплата"
   ]
  },
  {
   "cell_type": "code",
   "execution_count": 4,
   "metadata": {},
   "outputs": [
    {
     "name": "stdout",
     "output_type": "stream",
     "text": [
      "Количество стобцов: 14\n",
      "Количество строк: 10000\n"
     ]
    },
    {
     "data": {
      "text/html": [
       "<div>\n",
       "<style scoped>\n",
       "    .dataframe tbody tr th:only-of-type {\n",
       "        vertical-align: middle;\n",
       "    }\n",
       "\n",
       "    .dataframe tbody tr th {\n",
       "        vertical-align: top;\n",
       "    }\n",
       "\n",
       "    .dataframe thead th {\n",
       "        text-align: right;\n",
       "    }\n",
       "</style>\n",
       "<table border=\"1\" class=\"dataframe\">\n",
       "  <thead>\n",
       "    <tr style=\"text-align: right;\">\n",
       "      <th></th>\n",
       "      <th>RowNumber</th>\n",
       "      <th>CustomerId</th>\n",
       "      <th>Surname</th>\n",
       "      <th>CreditScore</th>\n",
       "      <th>Geography</th>\n",
       "      <th>Gender</th>\n",
       "      <th>Age</th>\n",
       "      <th>Tenure</th>\n",
       "      <th>Balance</th>\n",
       "      <th>NumOfProducts</th>\n",
       "      <th>HasCrCard</th>\n",
       "      <th>IsActiveMember</th>\n",
       "      <th>EstimatedSalary</th>\n",
       "      <th>Exited</th>\n",
       "    </tr>\n",
       "  </thead>\n",
       "  <tbody>\n",
       "    <tr>\n",
       "      <td>0</td>\n",
       "      <td>1</td>\n",
       "      <td>15634602</td>\n",
       "      <td>Hargrave</td>\n",
       "      <td>619</td>\n",
       "      <td>France</td>\n",
       "      <td>Female</td>\n",
       "      <td>42</td>\n",
       "      <td>2.0</td>\n",
       "      <td>0.00</td>\n",
       "      <td>1</td>\n",
       "      <td>1</td>\n",
       "      <td>1</td>\n",
       "      <td>101348.88</td>\n",
       "      <td>1</td>\n",
       "    </tr>\n",
       "    <tr>\n",
       "      <td>1</td>\n",
       "      <td>2</td>\n",
       "      <td>15647311</td>\n",
       "      <td>Hill</td>\n",
       "      <td>608</td>\n",
       "      <td>Spain</td>\n",
       "      <td>Female</td>\n",
       "      <td>41</td>\n",
       "      <td>1.0</td>\n",
       "      <td>83807.86</td>\n",
       "      <td>1</td>\n",
       "      <td>0</td>\n",
       "      <td>1</td>\n",
       "      <td>112542.58</td>\n",
       "      <td>0</td>\n",
       "    </tr>\n",
       "    <tr>\n",
       "      <td>2</td>\n",
       "      <td>3</td>\n",
       "      <td>15619304</td>\n",
       "      <td>Onio</td>\n",
       "      <td>502</td>\n",
       "      <td>France</td>\n",
       "      <td>Female</td>\n",
       "      <td>42</td>\n",
       "      <td>8.0</td>\n",
       "      <td>159660.80</td>\n",
       "      <td>3</td>\n",
       "      <td>1</td>\n",
       "      <td>0</td>\n",
       "      <td>113931.57</td>\n",
       "      <td>1</td>\n",
       "    </tr>\n",
       "    <tr>\n",
       "      <td>3</td>\n",
       "      <td>4</td>\n",
       "      <td>15701354</td>\n",
       "      <td>Boni</td>\n",
       "      <td>699</td>\n",
       "      <td>France</td>\n",
       "      <td>Female</td>\n",
       "      <td>39</td>\n",
       "      <td>1.0</td>\n",
       "      <td>0.00</td>\n",
       "      <td>2</td>\n",
       "      <td>0</td>\n",
       "      <td>0</td>\n",
       "      <td>93826.63</td>\n",
       "      <td>0</td>\n",
       "    </tr>\n",
       "    <tr>\n",
       "      <td>4</td>\n",
       "      <td>5</td>\n",
       "      <td>15737888</td>\n",
       "      <td>Mitchell</td>\n",
       "      <td>850</td>\n",
       "      <td>Spain</td>\n",
       "      <td>Female</td>\n",
       "      <td>43</td>\n",
       "      <td>2.0</td>\n",
       "      <td>125510.82</td>\n",
       "      <td>1</td>\n",
       "      <td>1</td>\n",
       "      <td>1</td>\n",
       "      <td>79084.10</td>\n",
       "      <td>0</td>\n",
       "    </tr>\n",
       "    <tr>\n",
       "      <td>5</td>\n",
       "      <td>6</td>\n",
       "      <td>15574012</td>\n",
       "      <td>Chu</td>\n",
       "      <td>645</td>\n",
       "      <td>Spain</td>\n",
       "      <td>Male</td>\n",
       "      <td>44</td>\n",
       "      <td>8.0</td>\n",
       "      <td>113755.78</td>\n",
       "      <td>2</td>\n",
       "      <td>1</td>\n",
       "      <td>0</td>\n",
       "      <td>149756.71</td>\n",
       "      <td>1</td>\n",
       "    </tr>\n",
       "    <tr>\n",
       "      <td>6</td>\n",
       "      <td>7</td>\n",
       "      <td>15592531</td>\n",
       "      <td>Bartlett</td>\n",
       "      <td>822</td>\n",
       "      <td>France</td>\n",
       "      <td>Male</td>\n",
       "      <td>50</td>\n",
       "      <td>7.0</td>\n",
       "      <td>0.00</td>\n",
       "      <td>2</td>\n",
       "      <td>1</td>\n",
       "      <td>1</td>\n",
       "      <td>10062.80</td>\n",
       "      <td>0</td>\n",
       "    </tr>\n",
       "    <tr>\n",
       "      <td>7</td>\n",
       "      <td>8</td>\n",
       "      <td>15656148</td>\n",
       "      <td>Obinna</td>\n",
       "      <td>376</td>\n",
       "      <td>Germany</td>\n",
       "      <td>Female</td>\n",
       "      <td>29</td>\n",
       "      <td>4.0</td>\n",
       "      <td>115046.74</td>\n",
       "      <td>4</td>\n",
       "      <td>1</td>\n",
       "      <td>0</td>\n",
       "      <td>119346.88</td>\n",
       "      <td>1</td>\n",
       "    </tr>\n",
       "    <tr>\n",
       "      <td>8</td>\n",
       "      <td>9</td>\n",
       "      <td>15792365</td>\n",
       "      <td>He</td>\n",
       "      <td>501</td>\n",
       "      <td>France</td>\n",
       "      <td>Male</td>\n",
       "      <td>44</td>\n",
       "      <td>4.0</td>\n",
       "      <td>142051.07</td>\n",
       "      <td>2</td>\n",
       "      <td>0</td>\n",
       "      <td>1</td>\n",
       "      <td>74940.50</td>\n",
       "      <td>0</td>\n",
       "    </tr>\n",
       "    <tr>\n",
       "      <td>9</td>\n",
       "      <td>10</td>\n",
       "      <td>15592389</td>\n",
       "      <td>H?</td>\n",
       "      <td>684</td>\n",
       "      <td>France</td>\n",
       "      <td>Male</td>\n",
       "      <td>27</td>\n",
       "      <td>2.0</td>\n",
       "      <td>134603.88</td>\n",
       "      <td>1</td>\n",
       "      <td>1</td>\n",
       "      <td>1</td>\n",
       "      <td>71725.73</td>\n",
       "      <td>0</td>\n",
       "    </tr>\n",
       "  </tbody>\n",
       "</table>\n",
       "</div>"
      ],
      "text/plain": [
       "   RowNumber  CustomerId   Surname  CreditScore Geography  Gender  Age  \\\n",
       "0          1    15634602  Hargrave          619    France  Female   42   \n",
       "1          2    15647311      Hill          608     Spain  Female   41   \n",
       "2          3    15619304      Onio          502    France  Female   42   \n",
       "3          4    15701354      Boni          699    France  Female   39   \n",
       "4          5    15737888  Mitchell          850     Spain  Female   43   \n",
       "5          6    15574012       Chu          645     Spain    Male   44   \n",
       "6          7    15592531  Bartlett          822    France    Male   50   \n",
       "7          8    15656148    Obinna          376   Germany  Female   29   \n",
       "8          9    15792365        He          501    France    Male   44   \n",
       "9         10    15592389        H?          684    France    Male   27   \n",
       "\n",
       "   Tenure    Balance  NumOfProducts  HasCrCard  IsActiveMember  \\\n",
       "0     2.0       0.00              1          1               1   \n",
       "1     1.0   83807.86              1          0               1   \n",
       "2     8.0  159660.80              3          1               0   \n",
       "3     1.0       0.00              2          0               0   \n",
       "4     2.0  125510.82              1          1               1   \n",
       "5     8.0  113755.78              2          1               0   \n",
       "6     7.0       0.00              2          1               1   \n",
       "7     4.0  115046.74              4          1               0   \n",
       "8     4.0  142051.07              2          0               1   \n",
       "9     2.0  134603.88              1          1               1   \n",
       "\n",
       "   EstimatedSalary  Exited  \n",
       "0        101348.88       1  \n",
       "1        112542.58       0  \n",
       "2        113931.57       1  \n",
       "3         93826.63       0  \n",
       "4         79084.10       0  \n",
       "5        149756.71       1  \n",
       "6         10062.80       0  \n",
       "7        119346.88       1  \n",
       "8         74940.50       0  \n",
       "9         71725.73       0  "
      ]
     },
     "metadata": {},
     "output_type": "display_data"
    },
    {
     "data": {
      "text/html": [
       "<div>\n",
       "<style scoped>\n",
       "    .dataframe tbody tr th:only-of-type {\n",
       "        vertical-align: middle;\n",
       "    }\n",
       "\n",
       "    .dataframe tbody tr th {\n",
       "        vertical-align: top;\n",
       "    }\n",
       "\n",
       "    .dataframe thead th {\n",
       "        text-align: right;\n",
       "    }\n",
       "</style>\n",
       "<table border=\"1\" class=\"dataframe\">\n",
       "  <thead>\n",
       "    <tr style=\"text-align: right;\">\n",
       "      <th></th>\n",
       "      <th>RowNumber</th>\n",
       "      <th>CustomerId</th>\n",
       "      <th>CreditScore</th>\n",
       "      <th>Age</th>\n",
       "      <th>Tenure</th>\n",
       "      <th>Balance</th>\n",
       "      <th>NumOfProducts</th>\n",
       "      <th>HasCrCard</th>\n",
       "      <th>IsActiveMember</th>\n",
       "      <th>EstimatedSalary</th>\n",
       "      <th>Exited</th>\n",
       "    </tr>\n",
       "  </thead>\n",
       "  <tbody>\n",
       "    <tr>\n",
       "      <td>count</td>\n",
       "      <td>10000.00000</td>\n",
       "      <td>1.000000e+04</td>\n",
       "      <td>10000.000000</td>\n",
       "      <td>10000.000000</td>\n",
       "      <td>9091.000000</td>\n",
       "      <td>10000.000000</td>\n",
       "      <td>10000.000000</td>\n",
       "      <td>10000.00000</td>\n",
       "      <td>10000.000000</td>\n",
       "      <td>10000.000000</td>\n",
       "      <td>10000.000000</td>\n",
       "    </tr>\n",
       "    <tr>\n",
       "      <td>mean</td>\n",
       "      <td>5000.50000</td>\n",
       "      <td>1.569094e+07</td>\n",
       "      <td>650.528800</td>\n",
       "      <td>38.921800</td>\n",
       "      <td>4.997690</td>\n",
       "      <td>76485.889288</td>\n",
       "      <td>1.530200</td>\n",
       "      <td>0.70550</td>\n",
       "      <td>0.515100</td>\n",
       "      <td>100090.239881</td>\n",
       "      <td>0.203700</td>\n",
       "    </tr>\n",
       "    <tr>\n",
       "      <td>std</td>\n",
       "      <td>2886.89568</td>\n",
       "      <td>7.193619e+04</td>\n",
       "      <td>96.653299</td>\n",
       "      <td>10.487806</td>\n",
       "      <td>2.894723</td>\n",
       "      <td>62397.405202</td>\n",
       "      <td>0.581654</td>\n",
       "      <td>0.45584</td>\n",
       "      <td>0.499797</td>\n",
       "      <td>57510.492818</td>\n",
       "      <td>0.402769</td>\n",
       "    </tr>\n",
       "    <tr>\n",
       "      <td>min</td>\n",
       "      <td>1.00000</td>\n",
       "      <td>1.556570e+07</td>\n",
       "      <td>350.000000</td>\n",
       "      <td>18.000000</td>\n",
       "      <td>0.000000</td>\n",
       "      <td>0.000000</td>\n",
       "      <td>1.000000</td>\n",
       "      <td>0.00000</td>\n",
       "      <td>0.000000</td>\n",
       "      <td>11.580000</td>\n",
       "      <td>0.000000</td>\n",
       "    </tr>\n",
       "    <tr>\n",
       "      <td>25%</td>\n",
       "      <td>2500.75000</td>\n",
       "      <td>1.562853e+07</td>\n",
       "      <td>584.000000</td>\n",
       "      <td>32.000000</td>\n",
       "      <td>2.000000</td>\n",
       "      <td>0.000000</td>\n",
       "      <td>1.000000</td>\n",
       "      <td>0.00000</td>\n",
       "      <td>0.000000</td>\n",
       "      <td>51002.110000</td>\n",
       "      <td>0.000000</td>\n",
       "    </tr>\n",
       "    <tr>\n",
       "      <td>50%</td>\n",
       "      <td>5000.50000</td>\n",
       "      <td>1.569074e+07</td>\n",
       "      <td>652.000000</td>\n",
       "      <td>37.000000</td>\n",
       "      <td>5.000000</td>\n",
       "      <td>97198.540000</td>\n",
       "      <td>1.000000</td>\n",
       "      <td>1.00000</td>\n",
       "      <td>1.000000</td>\n",
       "      <td>100193.915000</td>\n",
       "      <td>0.000000</td>\n",
       "    </tr>\n",
       "    <tr>\n",
       "      <td>75%</td>\n",
       "      <td>7500.25000</td>\n",
       "      <td>1.575323e+07</td>\n",
       "      <td>718.000000</td>\n",
       "      <td>44.000000</td>\n",
       "      <td>7.000000</td>\n",
       "      <td>127644.240000</td>\n",
       "      <td>2.000000</td>\n",
       "      <td>1.00000</td>\n",
       "      <td>1.000000</td>\n",
       "      <td>149388.247500</td>\n",
       "      <td>0.000000</td>\n",
       "    </tr>\n",
       "    <tr>\n",
       "      <td>max</td>\n",
       "      <td>10000.00000</td>\n",
       "      <td>1.581569e+07</td>\n",
       "      <td>850.000000</td>\n",
       "      <td>92.000000</td>\n",
       "      <td>10.000000</td>\n",
       "      <td>250898.090000</td>\n",
       "      <td>4.000000</td>\n",
       "      <td>1.00000</td>\n",
       "      <td>1.000000</td>\n",
       "      <td>199992.480000</td>\n",
       "      <td>1.000000</td>\n",
       "    </tr>\n",
       "  </tbody>\n",
       "</table>\n",
       "</div>"
      ],
      "text/plain": [
       "         RowNumber    CustomerId   CreditScore           Age       Tenure  \\\n",
       "count  10000.00000  1.000000e+04  10000.000000  10000.000000  9091.000000   \n",
       "mean    5000.50000  1.569094e+07    650.528800     38.921800     4.997690   \n",
       "std     2886.89568  7.193619e+04     96.653299     10.487806     2.894723   \n",
       "min        1.00000  1.556570e+07    350.000000     18.000000     0.000000   \n",
       "25%     2500.75000  1.562853e+07    584.000000     32.000000     2.000000   \n",
       "50%     5000.50000  1.569074e+07    652.000000     37.000000     5.000000   \n",
       "75%     7500.25000  1.575323e+07    718.000000     44.000000     7.000000   \n",
       "max    10000.00000  1.581569e+07    850.000000     92.000000    10.000000   \n",
       "\n",
       "             Balance  NumOfProducts    HasCrCard  IsActiveMember  \\\n",
       "count   10000.000000   10000.000000  10000.00000    10000.000000   \n",
       "mean    76485.889288       1.530200      0.70550        0.515100   \n",
       "std     62397.405202       0.581654      0.45584        0.499797   \n",
       "min         0.000000       1.000000      0.00000        0.000000   \n",
       "25%         0.000000       1.000000      0.00000        0.000000   \n",
       "50%     97198.540000       1.000000      1.00000        1.000000   \n",
       "75%    127644.240000       2.000000      1.00000        1.000000   \n",
       "max    250898.090000       4.000000      1.00000        1.000000   \n",
       "\n",
       "       EstimatedSalary        Exited  \n",
       "count     10000.000000  10000.000000  \n",
       "mean     100090.239881      0.203700  \n",
       "std       57510.492818      0.402769  \n",
       "min          11.580000      0.000000  \n",
       "25%       51002.110000      0.000000  \n",
       "50%      100193.915000      0.000000  \n",
       "75%      149388.247500      0.000000  \n",
       "max      199992.480000      1.000000  "
      ]
     },
     "metadata": {},
     "output_type": "display_data"
    },
    {
     "name": "stdout",
     "output_type": "stream",
     "text": [
      "<class 'pandas.core.frame.DataFrame'>\n",
      "RangeIndex: 10000 entries, 0 to 9999\n",
      "Data columns (total 14 columns):\n",
      "RowNumber          10000 non-null int64\n",
      "CustomerId         10000 non-null int64\n",
      "Surname            10000 non-null object\n",
      "CreditScore        10000 non-null int64\n",
      "Geography          10000 non-null object\n",
      "Gender             10000 non-null object\n",
      "Age                10000 non-null int64\n",
      "Tenure             9091 non-null float64\n",
      "Balance            10000 non-null float64\n",
      "NumOfProducts      10000 non-null int64\n",
      "HasCrCard          10000 non-null int64\n",
      "IsActiveMember     10000 non-null int64\n",
      "EstimatedSalary    10000 non-null float64\n",
      "Exited             10000 non-null int64\n",
      "dtypes: float64(3), int64(8), object(3)\n",
      "memory usage: 1.1+ MB\n"
     ]
    }
   ],
   "source": [
    "churn_df = pd.read_csv('/datasets/Churn.csv')\n",
    "analyze_df(churn_df)"
   ]
  },
  {
   "cell_type": "markdown",
   "metadata": {},
   "source": [
    "**Выводы**:\n",
    "* столбцы `RowNumber`, `Surname` не нужны для обучения модели, от них можно избавиться\n",
    "* в случае, если в столбце `CustomerId` находятся уникальные данные, то можно сделать этот столбец индексом \n",
    "* надо заполнить пропуски в `Tenure`, например заменив их на медиану, а затем поменять тип на *int*\n",
    "* целевой признак - `Exited`"
   ]
  },
  {
   "cell_type": "markdown",
   "metadata": {},
   "source": [
    "<div class=\"alert alert-block alert-success\">\n",
    "<b>Успех:</b> С выводом и планом действий согласен.\n",
    "</div>"
   ]
  },
  {
   "cell_type": "markdown",
   "metadata": {},
   "source": [
    "<a name=\"prepare_data\"></a>\n",
    "## Подготовка данных"
   ]
  },
  {
   "cell_type": "markdown",
   "metadata": {},
   "source": [
    "Избавимся от столбцов `RowNumber` и `Surname`"
   ]
  },
  {
   "cell_type": "code",
   "execution_count": 5,
   "metadata": {},
   "outputs": [],
   "source": [
    "churn_df = churn_df.drop(columns=['RowNumber', 'Surname'])"
   ]
  },
  {
   "cell_type": "markdown",
   "metadata": {},
   "source": [
    "Посмотрим сколько в датасете уникальных значений `CustomerId`"
   ]
  },
  {
   "cell_type": "code",
   "execution_count": 6,
   "metadata": {},
   "outputs": [
    {
     "name": "stdout",
     "output_type": "stream",
     "text": [
      "10000\n",
      "True\n"
     ]
    }
   ],
   "source": [
    "print(churn_df['CustomerId'].unique().shape[0])\n",
    "print(churn_df['CustomerId'].unique().shape[0] == churn_df.shape[0])"
   ]
  },
  {
   "cell_type": "markdown",
   "metadata": {},
   "source": [
    "Все значения уникальные, значит можно установить `CustomerId` в качестве индекса"
   ]
  },
  {
   "cell_type": "code",
   "execution_count": 7,
   "metadata": {},
   "outputs": [],
   "source": [
    "churn_df = churn_df.set_index('CustomerId')"
   ]
  },
  {
   "cell_type": "markdown",
   "metadata": {},
   "source": [
    "Заменим пропуски в столбце `Tenure` медианным значенем "
   ]
  },
  {
   "cell_type": "code",
   "execution_count": 8,
   "metadata": {},
   "outputs": [],
   "source": [
    "churn_df['Tenure'] = churn_df['Tenure'].fillna(churn_df['Tenure'].mean())"
   ]
  },
  {
   "cell_type": "markdown",
   "metadata": {},
   "source": [
    "Приведем значения в столбце `Tenure` к типу *int*"
   ]
  },
  {
   "cell_type": "code",
   "execution_count": 9,
   "metadata": {},
   "outputs": [],
   "source": [
    "churn_df['Tenure'] = churn_df['Tenure'].astype('int')"
   ]
  },
  {
   "cell_type": "markdown",
   "metadata": {},
   "source": [
    "Выведем общую информацию о датасете"
   ]
  },
  {
   "cell_type": "code",
   "execution_count": 10,
   "metadata": {
    "scrolled": true
   },
   "outputs": [
    {
     "name": "stdout",
     "output_type": "stream",
     "text": [
      "<class 'pandas.core.frame.DataFrame'>\n",
      "Int64Index: 10000 entries, 15634602 to 15628319\n",
      "Data columns (total 11 columns):\n",
      "CreditScore        10000 non-null int64\n",
      "Geography          10000 non-null object\n",
      "Gender             10000 non-null object\n",
      "Age                10000 non-null int64\n",
      "Tenure             10000 non-null int64\n",
      "Balance            10000 non-null float64\n",
      "NumOfProducts      10000 non-null int64\n",
      "HasCrCard          10000 non-null int64\n",
      "IsActiveMember     10000 non-null int64\n",
      "EstimatedSalary    10000 non-null float64\n",
      "Exited             10000 non-null int64\n",
      "dtypes: float64(2), int64(7), object(2)\n",
      "memory usage: 937.5+ KB\n"
     ]
    }
   ],
   "source": [
    "churn_df.info()"
   ]
  },
  {
   "cell_type": "markdown",
   "metadata": {},
   "source": [
    "<div class=\"alert alert-block alert-success\">\n",
    "<b>Успех:</b> Загрузка и подготовка данных выполнена корректно, все необходимые методы использованы.\n",
    "</div>"
   ]
  },
  {
   "cell_type": "markdown",
   "metadata": {},
   "source": [
    "<a name=\"research\"></a>\n",
    "## Исследование задачи"
   ]
  },
  {
   "cell_type": "markdown",
   "metadata": {},
   "source": [
    "<a name=\"research.categorical_features\"></a>\n",
    "### Кодирование категоральных признаков"
   ]
  },
  {
   "cell_type": "markdown",
   "metadata": {},
   "source": [
    "Закодируем категоральные признаки `Geography` и `Gender` при помощи метода OHE"
   ]
  },
  {
   "cell_type": "code",
   "execution_count": 11,
   "metadata": {},
   "outputs": [
    {
     "data": {
      "text/html": [
       "<div>\n",
       "<style scoped>\n",
       "    .dataframe tbody tr th:only-of-type {\n",
       "        vertical-align: middle;\n",
       "    }\n",
       "\n",
       "    .dataframe tbody tr th {\n",
       "        vertical-align: top;\n",
       "    }\n",
       "\n",
       "    .dataframe thead th {\n",
       "        text-align: right;\n",
       "    }\n",
       "</style>\n",
       "<table border=\"1\" class=\"dataframe\">\n",
       "  <thead>\n",
       "    <tr style=\"text-align: right;\">\n",
       "      <th></th>\n",
       "      <th>CreditScore</th>\n",
       "      <th>Age</th>\n",
       "      <th>Tenure</th>\n",
       "      <th>Balance</th>\n",
       "      <th>NumOfProducts</th>\n",
       "      <th>HasCrCard</th>\n",
       "      <th>IsActiveMember</th>\n",
       "      <th>EstimatedSalary</th>\n",
       "      <th>Exited</th>\n",
       "      <th>Geography_Germany</th>\n",
       "      <th>Geography_Spain</th>\n",
       "      <th>Gender_Male</th>\n",
       "    </tr>\n",
       "    <tr>\n",
       "      <th>CustomerId</th>\n",
       "      <th></th>\n",
       "      <th></th>\n",
       "      <th></th>\n",
       "      <th></th>\n",
       "      <th></th>\n",
       "      <th></th>\n",
       "      <th></th>\n",
       "      <th></th>\n",
       "      <th></th>\n",
       "      <th></th>\n",
       "      <th></th>\n",
       "      <th></th>\n",
       "    </tr>\n",
       "  </thead>\n",
       "  <tbody>\n",
       "    <tr>\n",
       "      <td>15634602</td>\n",
       "      <td>619</td>\n",
       "      <td>42</td>\n",
       "      <td>2</td>\n",
       "      <td>0.00</td>\n",
       "      <td>1</td>\n",
       "      <td>1</td>\n",
       "      <td>1</td>\n",
       "      <td>101348.88</td>\n",
       "      <td>1</td>\n",
       "      <td>0</td>\n",
       "      <td>0</td>\n",
       "      <td>0</td>\n",
       "    </tr>\n",
       "    <tr>\n",
       "      <td>15647311</td>\n",
       "      <td>608</td>\n",
       "      <td>41</td>\n",
       "      <td>1</td>\n",
       "      <td>83807.86</td>\n",
       "      <td>1</td>\n",
       "      <td>0</td>\n",
       "      <td>1</td>\n",
       "      <td>112542.58</td>\n",
       "      <td>0</td>\n",
       "      <td>0</td>\n",
       "      <td>1</td>\n",
       "      <td>0</td>\n",
       "    </tr>\n",
       "    <tr>\n",
       "      <td>15619304</td>\n",
       "      <td>502</td>\n",
       "      <td>42</td>\n",
       "      <td>8</td>\n",
       "      <td>159660.80</td>\n",
       "      <td>3</td>\n",
       "      <td>1</td>\n",
       "      <td>0</td>\n",
       "      <td>113931.57</td>\n",
       "      <td>1</td>\n",
       "      <td>0</td>\n",
       "      <td>0</td>\n",
       "      <td>0</td>\n",
       "    </tr>\n",
       "    <tr>\n",
       "      <td>15701354</td>\n",
       "      <td>699</td>\n",
       "      <td>39</td>\n",
       "      <td>1</td>\n",
       "      <td>0.00</td>\n",
       "      <td>2</td>\n",
       "      <td>0</td>\n",
       "      <td>0</td>\n",
       "      <td>93826.63</td>\n",
       "      <td>0</td>\n",
       "      <td>0</td>\n",
       "      <td>0</td>\n",
       "      <td>0</td>\n",
       "    </tr>\n",
       "    <tr>\n",
       "      <td>15737888</td>\n",
       "      <td>850</td>\n",
       "      <td>43</td>\n",
       "      <td>2</td>\n",
       "      <td>125510.82</td>\n",
       "      <td>1</td>\n",
       "      <td>1</td>\n",
       "      <td>1</td>\n",
       "      <td>79084.10</td>\n",
       "      <td>0</td>\n",
       "      <td>0</td>\n",
       "      <td>1</td>\n",
       "      <td>0</td>\n",
       "    </tr>\n",
       "    <tr>\n",
       "      <td>15574012</td>\n",
       "      <td>645</td>\n",
       "      <td>44</td>\n",
       "      <td>8</td>\n",
       "      <td>113755.78</td>\n",
       "      <td>2</td>\n",
       "      <td>1</td>\n",
       "      <td>0</td>\n",
       "      <td>149756.71</td>\n",
       "      <td>1</td>\n",
       "      <td>0</td>\n",
       "      <td>1</td>\n",
       "      <td>1</td>\n",
       "    </tr>\n",
       "    <tr>\n",
       "      <td>15592531</td>\n",
       "      <td>822</td>\n",
       "      <td>50</td>\n",
       "      <td>7</td>\n",
       "      <td>0.00</td>\n",
       "      <td>2</td>\n",
       "      <td>1</td>\n",
       "      <td>1</td>\n",
       "      <td>10062.80</td>\n",
       "      <td>0</td>\n",
       "      <td>0</td>\n",
       "      <td>0</td>\n",
       "      <td>1</td>\n",
       "    </tr>\n",
       "    <tr>\n",
       "      <td>15656148</td>\n",
       "      <td>376</td>\n",
       "      <td>29</td>\n",
       "      <td>4</td>\n",
       "      <td>115046.74</td>\n",
       "      <td>4</td>\n",
       "      <td>1</td>\n",
       "      <td>0</td>\n",
       "      <td>119346.88</td>\n",
       "      <td>1</td>\n",
       "      <td>1</td>\n",
       "      <td>0</td>\n",
       "      <td>0</td>\n",
       "    </tr>\n",
       "    <tr>\n",
       "      <td>15792365</td>\n",
       "      <td>501</td>\n",
       "      <td>44</td>\n",
       "      <td>4</td>\n",
       "      <td>142051.07</td>\n",
       "      <td>2</td>\n",
       "      <td>0</td>\n",
       "      <td>1</td>\n",
       "      <td>74940.50</td>\n",
       "      <td>0</td>\n",
       "      <td>0</td>\n",
       "      <td>0</td>\n",
       "      <td>1</td>\n",
       "    </tr>\n",
       "    <tr>\n",
       "      <td>15592389</td>\n",
       "      <td>684</td>\n",
       "      <td>27</td>\n",
       "      <td>2</td>\n",
       "      <td>134603.88</td>\n",
       "      <td>1</td>\n",
       "      <td>1</td>\n",
       "      <td>1</td>\n",
       "      <td>71725.73</td>\n",
       "      <td>0</td>\n",
       "      <td>0</td>\n",
       "      <td>0</td>\n",
       "      <td>1</td>\n",
       "    </tr>\n",
       "  </tbody>\n",
       "</table>\n",
       "</div>"
      ],
      "text/plain": [
       "            CreditScore  Age  Tenure    Balance  NumOfProducts  HasCrCard  \\\n",
       "CustomerId                                                                  \n",
       "15634602            619   42       2       0.00              1          1   \n",
       "15647311            608   41       1   83807.86              1          0   \n",
       "15619304            502   42       8  159660.80              3          1   \n",
       "15701354            699   39       1       0.00              2          0   \n",
       "15737888            850   43       2  125510.82              1          1   \n",
       "15574012            645   44       8  113755.78              2          1   \n",
       "15592531            822   50       7       0.00              2          1   \n",
       "15656148            376   29       4  115046.74              4          1   \n",
       "15792365            501   44       4  142051.07              2          0   \n",
       "15592389            684   27       2  134603.88              1          1   \n",
       "\n",
       "            IsActiveMember  EstimatedSalary  Exited  Geography_Germany  \\\n",
       "CustomerId                                                               \n",
       "15634602                 1        101348.88       1                  0   \n",
       "15647311                 1        112542.58       0                  0   \n",
       "15619304                 0        113931.57       1                  0   \n",
       "15701354                 0         93826.63       0                  0   \n",
       "15737888                 1         79084.10       0                  0   \n",
       "15574012                 0        149756.71       1                  0   \n",
       "15592531                 1         10062.80       0                  0   \n",
       "15656148                 0        119346.88       1                  1   \n",
       "15792365                 1         74940.50       0                  0   \n",
       "15592389                 1         71725.73       0                  0   \n",
       "\n",
       "            Geography_Spain  Gender_Male  \n",
       "CustomerId                                \n",
       "15634602                  0            0  \n",
       "15647311                  1            0  \n",
       "15619304                  0            0  \n",
       "15701354                  0            0  \n",
       "15737888                  1            0  \n",
       "15574012                  1            1  \n",
       "15592531                  0            1  \n",
       "15656148                  0            0  \n",
       "15792365                  0            1  \n",
       "15592389                  0            1  "
      ]
     },
     "execution_count": 11,
     "metadata": {},
     "output_type": "execute_result"
    }
   ],
   "source": [
    "churn_df = pd.get_dummies(churn_df, columns=['Geography', 'Gender'], drop_first=True)\n",
    "churn_df.head(10)"
   ]
  },
  {
   "cell_type": "markdown",
   "metadata": {},
   "source": [
    "<a name=\"research.numeric_features\"></a>\n",
    "### Масштабирование количественных признаков"
   ]
  },
  {
   "cell_type": "markdown",
   "metadata": {},
   "source": [
    "<div class=\"alert alert-block alert-danger\">\n",
    "<b>Ошибка:</b> Тут небольшая ошибка, не совсем корректно масштабировать признаки на всем датасете, а потом разбивать на трейн и тест. В этом случае возможна <a href=\"https://machinelearningmastery.com/data-preparation-without-data-leakage/\"> утечка данных. </a> <br> Scaler нужно стараться fit-ить только на трейне.\n",
    "</div>"
   ]
  },
  {
   "cell_type": "markdown",
   "metadata": {},
   "source": [
    "<div class=\"alert alert-info\">\n",
    "Добавил fit на трейне в метод <i>split_df</i>\n",
    "    \n",
    "</div>"
   ]
  },
  {
   "cell_type": "markdown",
   "metadata": {},
   "source": [
    "<a name=\"research.split_data\"></a>\n",
    "### Разделение данных на выборки"
   ]
  },
  {
   "cell_type": "markdown",
   "metadata": {},
   "source": [
    "Разделим данные на выборки"
   ]
  },
  {
   "cell_type": "code",
   "execution_count": 12,
   "metadata": {},
   "outputs": [
    {
     "name": "stdout",
     "output_type": "stream",
     "text": [
      "размер features_train: (6000, 11)\n",
      "размер target_train: (6000,)\n",
      "размер features_valid: (2000, 11)\n",
      "размер target_valid: (2000,)\n",
      "размер features_test: (2000, 11)\n",
      "размер target_test: (2000,)\n"
     ]
    }
   ],
   "source": [
    "features_train, target_train, features_valid, target_valid, features_test, target_test = split_df(churn_df)"
   ]
  },
  {
   "cell_type": "markdown",
   "metadata": {},
   "source": [
    "<div class=\"alert alert-block alert-success\">\n",
    "<b>Успех:</b> Разбиение данных на выборки выполнена корректно.\n",
    "</div>"
   ]
  },
  {
   "cell_type": "markdown",
   "metadata": {},
   "source": [
    "\n",
    "<div class=\"alert alert-block alert-info\">\n",
    "<b>Совет: </b> Хорошим тонном является, выводить размеры выборок. Это иногажда может предовтратить ошибки.\n",
    "</div>\n"
   ]
  },
  {
   "cell_type": "markdown",
   "metadata": {},
   "source": [
    "<div class=\"alert alert-info\">\n",
    "Добавил вывод рамеров выборок\n",
    "    \n",
    "</div>"
   ]
  },
  {
   "cell_type": "markdown",
   "metadata": {},
   "source": [
    "Проверим дисбаланс классов"
   ]
  },
  {
   "cell_type": "code",
   "execution_count": 13,
   "metadata": {},
   "outputs": [
    {
     "data": {
      "image/png": "[encoded data removed]",
      "text/plain": [
       "<Figure size 432x288 with 1 Axes>"
      ]
     },
     "metadata": {
      "needs_background": "light"
     },
     "output_type": "display_data"
    },
    {
     "data": {
      "image/png": "[encoded data removed]",
      "text/plain": [
       "<Figure size 432x288 with 1 Axes>"
      ]
     },
     "metadata": {
      "needs_background": "light"
     },
     "output_type": "display_data"
    }
   ],
   "source": [
    "plot_classes_disbalance(target_train, 'train')\n",
    "plot_classes_disbalance(target_train, 'test')"
   ]
  },
  {
   "cell_type": "markdown",
   "metadata": {},
   "source": [
    "**Вывод**: классы несбалансированы: 80% отрицательных и 20% положительных"
   ]
  },
  {
   "cell_type": "markdown",
   "metadata": {},
   "source": [
    "<a name=\"research.analyse_models\"></a>\n",
    "### Исследование моделей"
   ]
  },
  {
   "cell_type": "code",
   "execution_count": 14,
   "metadata": {},
   "outputs": [],
   "source": [
    "churn_score_predictor_factory = ScorePredictorFactory(features_train, target_train, features_valid, target_valid)"
   ]
  },
  {
   "cell_type": "markdown",
   "metadata": {},
   "source": [
    "<a name=\"research.analyse_models.decision_tree\"></a>\n",
    "#### Дерево решений "
   ]
  },
  {
   "cell_type": "code",
   "execution_count": 15,
   "metadata": {},
   "outputs": [
    {
     "data": {
      "image/png": "[encoded data removed]",
      "text/plain": [
       "<Figure size 720x360 with 1 Axes>"
      ]
     },
     "metadata": {
      "needs_background": "light"
     },
     "output_type": "display_data"
    },
    {
     "name": "stdout",
     "output_type": "stream",
     "text": [
      "Лучшее значение F1-меры: 0.5722300140252455 при параметрах {'max_depth': 9}\n",
      "Значение AUC-ROC: 0.78270041556022\n"
     ]
    }
   ],
   "source": [
    "decision_tree_predictor = churn_score_predictor_factory.new_predictor(DecisionTreeClassifier)\n",
    "decision_tree_data = []\n",
    "\n",
    "for max_depth in range(2, 21, 1):\n",
    "    score = decision_tree_predictor.predict_score(max_depth=max_depth)\n",
    "    decision_tree_data.append((max_depth, score))\n",
    "\n",
    "pd.DataFrame(decision_tree_data).plot(x=0, y=1, grid=True, legend=False, xticks=range(1, 21), figsize=(10, 5)).set(xlabel='max_depth', ylabel = 'score')\n",
    "plt.show()\n",
    "print(decision_tree_predictor)"
   ]
  },
  {
   "cell_type": "markdown",
   "metadata": {},
   "source": [
    "**Вывод**: Наилучшее значение F1-меры наблюдаем при значении `max_depth` = 9, после `max_depth` = 10 наблюдается переобучение."
   ]
  },
  {
   "cell_type": "markdown",
   "metadata": {},
   "source": [
    "<a name=\"research.analyse_models.random_forest\"></a>\n",
    "#### Случайный лес"
   ]
  },
  {
   "cell_type": "code",
   "execution_count": 16,
   "metadata": {},
   "outputs": [
    {
     "name": "stdout",
     "output_type": "stream",
     "text": [
      "Лучшее значение F1-меры: 0.5893129770992367 при параметрах {'n_estimators': 10, 'max_depth': 10}\n",
      "Значение AUC-ROC: 0.8490955365082054\n"
     ]
    }
   ],
   "source": [
    "random_forest_predictor = churn_score_predictor_factory.new_predictor(RandomForestClassifier)\n",
    "\n",
    "for max_depth in range(2, 11, 1):\n",
    "    for estim in range(10, 51, 10):\n",
    "        random_forest_predictor.predict_score(n_estimators=estim, max_depth=max_depth)\n",
    "\n",
    "print(random_forest_predictor)"
   ]
  },
  {
   "cell_type": "markdown",
   "metadata": {},
   "source": [
    "**Вывод**: модель случайного леса показывает лучшее значение F1-меры, чем дерево решений. "
   ]
  },
  {
   "cell_type": "markdown",
   "metadata": {},
   "source": [
    "<a name=\"research.analyse_models.logistic_regression\"></a>\n",
    "#### Логистическая регрессия"
   ]
  },
  {
   "cell_type": "code",
   "execution_count": 17,
   "metadata": {},
   "outputs": [
    {
     "name": "stdout",
     "output_type": "stream",
     "text": [
      "solver newton-cg : 0.33389544688026984\n",
      "solver lbfgs : 0.33389544688026984\n",
      "solver liblinear : 0.33389544688026984\n",
      "Лучшее значение F1-меры: 0.33389544688026984 при параметрах {'solver': 'newton-cg'}\n",
      "Значение AUC-ROC: 0.7588011662301369\n"
     ]
    }
   ],
   "source": [
    "logistic_regression_predictor = churn_score_predictor_factory.new_predictor(LogisticRegression)\n",
    "\n",
    "for solver in ('newton-cg', 'lbfgs', 'liblinear'):\n",
    "    score = logistic_regression_predictor.predict_score(solver=solver)\n",
    "    print('solver {} : {}'.format(solver, score))\n",
    "    \n",
    "print(logistic_regression_predictor)"
   ]
  },
  {
   "cell_type": "markdown",
   "metadata": {},
   "source": [
    "**Вывод**: модель логистической регрессии показывает худшее значение F1-меры, чем дерево решений или случайный лес "
   ]
  },
  {
   "cell_type": "markdown",
   "metadata": {},
   "source": [
    "<a name=\"research.conclusion\"></a>\n",
    "### Вывод"
   ]
  },
  {
   "cell_type": "markdown",
   "metadata": {},
   "source": [
    "Наилучшее значение F1-меры 0.59 наблюдаем у модели случайного леса при значении гиперпараметров `n_estimators` = 10 и `max_depth` = 10. Посмотрим можно ли улучшить это значение если принять во внимание дисбаланс классов"
   ]
  },
  {
   "cell_type": "markdown",
   "metadata": {},
   "source": [
    "<div class=\"alert alert-block alert-danger\">\n",
    "<b>Ошибка:</b> Шаг выполнен хорошо, однако хорошо было бы для моделей, посчитать AUC значения, для ROC кривой. <br> Сделай это пожалуйста и на следующем шаге.\n",
    "</div>"
   ]
  },
  {
   "cell_type": "markdown",
   "metadata": {},
   "source": [
    "<div class=\"alert alert-info\">\n",
    "Добавил вывод AUC-ROC в класс <b>ScorePredictor</b>\n",
    "    \n",
    "</div>"
   ]
  },
  {
   "cell_type": "markdown",
   "metadata": {},
   "source": [
    "<a name=\"imbalances\"></a>\n",
    "## Борьба с дисбалансом"
   ]
  },
  {
   "cell_type": "markdown",
   "metadata": {},
   "source": [
    "<a name=\"imbalances.upsample\"></a>\n",
    "### Увеличение выборки"
   ]
  },
  {
   "cell_type": "markdown",
   "metadata": {},
   "source": [
    "Чтобы сбалансировать классы увеличим число объектов меньшего класса путём их многократного копирования."
   ]
  },
  {
   "cell_type": "code",
   "execution_count": 18,
   "metadata": {},
   "outputs": [],
   "source": [
    "def upsample(features, target, repeat):     \n",
    "    features_zeros = features[target == 0]     \n",
    "    features_ones = features[target == 1]     \n",
    "    target_zeros = target[target == 0]     \n",
    "    target_ones = target[target == 1] \n",
    "\n",
    "    features_upsampled = pd.concat([features_zeros] + [features_ones] * repeat)     \n",
    "    target_upsampled = pd.concat([target_zeros] + [target_ones] * repeat)     \n",
    "    \n",
    "    features_upsampled, target_upsampled = shuffle(         \n",
    "        features_upsampled, target_upsampled, random_state=RANDOM_STATE)          \n",
    "    \n",
    "    return features_upsampled, target_upsampled"
   ]
  },
  {
   "cell_type": "markdown",
   "metadata": {},
   "source": [
    "Поскольку у нас в выборке значения имели соотношение 80% к 20%, то параметру `repeat` зададим значение 4 "
   ]
  },
  {
   "cell_type": "code",
   "execution_count": 19,
   "metadata": {},
   "outputs": [
    {
     "name": "stdout",
     "output_type": "stream",
     "text": [
      "размер features_train: (9588, 11)\n",
      "размер target_train: (9588,)\n",
      "размер features_valid: (2000, 11)\n",
      "размер target_valid: (2000,)\n",
      "размер features_test: (2000, 11)\n",
      "размер target_test: (2000,)\n"
     ]
    }
   ],
   "source": [
    "features_train, target_train, features_valid, target_valid, features_test, target_test = split_df(churn_df, partial(upsample, repeat=4))"
   ]
  },
  {
   "cell_type": "markdown",
   "metadata": {},
   "source": [
    "Проверим, что выровняли дисбаланс классов"
   ]
  },
  {
   "cell_type": "code",
   "execution_count": 20,
   "metadata": {},
   "outputs": [
    {
     "data": {
      "image/png": "[encoded data removed]",
      "text/plain": [
       "<Figure size 432x288 with 1 Axes>"
      ]
     },
     "metadata": {
      "needs_background": "light"
     },
     "output_type": "display_data"
    },
    {
     "data": {
      "text/plain": [
       "(9588,)"
      ]
     },
     "execution_count": 20,
     "metadata": {},
     "output_type": "execute_result"
    }
   ],
   "source": [
    "plot_classes_disbalance(target_train, 'train')\n",
    "target_train.shape"
   ]
  },
  {
   "cell_type": "code",
   "execution_count": 21,
   "metadata": {},
   "outputs": [],
   "source": [
    "churn_score_predictor_factory = ScorePredictorFactory(features_train, target_train, features_valid, target_valid)"
   ]
  },
  {
   "cell_type": "markdown",
   "metadata": {},
   "source": [
    "<a name=\"imbalances.upsample.decision_tree\"></a>\n",
    "#### Дерево решений "
   ]
  },
  {
   "cell_type": "code",
   "execution_count": 22,
   "metadata": {},
   "outputs": [
    {
     "name": "stdout",
     "output_type": "stream",
     "text": [
      "Лучшее значение F1-меры: 0.5963791267305644 при параметрах {'max_depth': 5}\n",
      "Значение AUC-ROC: 0.8310244134068074\n"
     ]
    }
   ],
   "source": [
    "decision_tree_predictor = churn_score_predictor_factory.new_predictor(DecisionTreeClassifier)\n",
    "\n",
    "for max_depth in range(2, 21, 1):\n",
    "    score = decision_tree_predictor.predict_score(max_depth=max_depth)\n",
    "\n",
    "print(decision_tree_predictor)"
   ]
  },
  {
   "cell_type": "markdown",
   "metadata": {},
   "source": [
    "**Вывод**: Наилучшее значение F1-меры 0.60 наблюдаем при значении `max_depth` = 5, это значение выше, чем для несбалансированных классов"
   ]
  },
  {
   "cell_type": "markdown",
   "metadata": {},
   "source": [
    "<a name=\"imbalances.upsample.random_forest\"></a>\n",
    "#### Случайный лес"
   ]
  },
  {
   "cell_type": "code",
   "execution_count": 23,
   "metadata": {},
   "outputs": [
    {
     "name": "stdout",
     "output_type": "stream",
     "text": [
      "Лучшее значение F1-меры: 0.6244635193133048 при параметрах {'n_estimators': 30, 'max_depth': 9}\n",
      "Значение AUC-ROC: 0.8515929808430973\n"
     ]
    }
   ],
   "source": [
    "random_forest_predictor = churn_score_predictor_factory.new_predictor(RandomForestClassifier)\n",
    "\n",
    "for max_depth in range(2, 11, 1):\n",
    "    for estim in range(10, 51, 10):\n",
    "        random_forest_predictor.predict_score(n_estimators=estim, max_depth=max_depth)\n",
    "\n",
    "print(random_forest_predictor)"
   ]
  },
  {
   "cell_type": "markdown",
   "metadata": {},
   "source": [
    "**Вывод**: Наилучшее значение F1-меры 0.63 наблюдаем при значении `max_depth` = 9  и `n_estimators` = 30, это значение выше, чем для несбалансированных классов "
   ]
  },
  {
   "cell_type": "markdown",
   "metadata": {},
   "source": [
    "<a name=\"imbalances.upsample.logistic_regression\"></a>\n",
    "#### Логистическая регрессия"
   ]
  },
  {
   "cell_type": "code",
   "execution_count": 24,
   "metadata": {},
   "outputs": [
    {
     "name": "stdout",
     "output_type": "stream",
     "text": [
      "Лучшее значение F1-меры: 0.48843187660668386 при параметрах {'solver': 'newton-cg'}\n",
      "Значение AUC-ROC: 0.7636024897319726\n"
     ]
    }
   ],
   "source": [
    "logistic_regression_predictor = churn_score_predictor_factory.new_predictor(LogisticRegression)\n",
    "\n",
    "for solver in ('newton-cg', 'lbfgs', 'liblinear'):\n",
    "    score = logistic_regression_predictor.predict_score(solver=solver)\n",
    "    \n",
    "print(logistic_regression_predictor)"
   ]
  },
  {
   "cell_type": "markdown",
   "metadata": {},
   "source": [
    "**Вывод**: Наилучшее значение F1-меры для линейной регрессии улучшилось сильно по сравенения со случаем дисбаланса классов, но оно все равно хуже, чем у остальных моделей "
   ]
  },
  {
   "cell_type": "markdown",
   "metadata": {},
   "source": [
    "<a name=\"imbalances.downsample\"></a>\n",
    "### Уменьшение выборки"
   ]
  },
  {
   "cell_type": "markdown",
   "metadata": {},
   "source": [
    "Чтобы сбалансировать классы уменьшим число объектов большего класса путём их случайного удаления."
   ]
  },
  {
   "cell_type": "code",
   "execution_count": 25,
   "metadata": {},
   "outputs": [],
   "source": [
    "def downsample(features, target, fraction):     \n",
    "    features_zeros = features[target == 0]     \n",
    "    features_ones = features[target == 1]     \n",
    "    target_zeros = target[target == 0]     \n",
    "    target_ones = target[target == 1]      \n",
    "    \n",
    "    features_downsampled = pd.concat(         \n",
    "        [features_zeros.sample(frac=fraction, random_state=RANDOM_STATE)] + [features_ones])     \n",
    "    \n",
    "    target_downsampled = pd.concat(         \n",
    "        [target_zeros.sample(frac=fraction, random_state=RANDOM_STATE)] + [target_ones])          \n",
    "    \n",
    "    features_downsampled, target_downsampled = shuffle(         \n",
    "        features_downsampled, target_downsampled, random_state=RANDOM_STATE)          \n",
    "    \n",
    "    return features_downsampled, target_downsampled"
   ]
  },
  {
   "cell_type": "code",
   "execution_count": 26,
   "metadata": {},
   "outputs": [
    {
     "name": "stdout",
     "output_type": "stream",
     "text": [
      "размер features_train: (2397, 11)\n",
      "размер target_train: (2397,)\n",
      "размер features_valid: (2000, 11)\n",
      "размер target_valid: (2000,)\n",
      "размер features_test: (2000, 11)\n",
      "размер target_test: (2000,)\n"
     ]
    }
   ],
   "source": [
    "features_train, target_train, features_valid, target_valid, features_test, target_test = split_df(churn_df, partial(downsample, fraction=0.25))"
   ]
  },
  {
   "cell_type": "markdown",
   "metadata": {},
   "source": [
    "Проверим, что выровняли дисбаланс классов"
   ]
  },
  {
   "cell_type": "code",
   "execution_count": 27,
   "metadata": {},
   "outputs": [
    {
     "data": {
      "image/png": "[encoded data removed]",
      "text/plain": [
       "<Figure size 432x288 with 1 Axes>"
      ]
     },
     "metadata": {
      "needs_background": "light"
     },
     "output_type": "display_data"
    },
    {
     "data": {
      "text/plain": [
       "(2397,)"
      ]
     },
     "execution_count": 27,
     "metadata": {},
     "output_type": "execute_result"
    }
   ],
   "source": [
    "plot_classes_disbalance(target_train, 'train')\n",
    "target_train.shape"
   ]
  },
  {
   "cell_type": "code",
   "execution_count": 28,
   "metadata": {},
   "outputs": [],
   "source": [
    "churn_score_predictor_factory = ScorePredictorFactory(features_train, target_train, features_valid, target_valid)"
   ]
  },
  {
   "cell_type": "markdown",
   "metadata": {},
   "source": [
    "<a name=\"imbalances.downsample.decision_tree\"></a>\n",
    "#### Дерево решений "
   ]
  },
  {
   "cell_type": "code",
   "execution_count": 29,
   "metadata": {},
   "outputs": [
    {
     "name": "stdout",
     "output_type": "stream",
     "text": [
      "Лучшее значение F1-меры: 0.5943204868154158 при параметрах {'max_depth': 5}\n",
      "Значение AUC-ROC: 0.8241029464247908\n"
     ]
    }
   ],
   "source": [
    "decision_tree_predictor = churn_score_predictor_factory.new_predictor(DecisionTreeClassifier)\n",
    "\n",
    "for max_depth in range(2, 21, 1):\n",
    "    score = decision_tree_predictor.predict_score(max_depth=max_depth)\n",
    "\n",
    "print(decision_tree_predictor)"
   ]
  },
  {
   "cell_type": "markdown",
   "metadata": {},
   "source": [
    "<a name=\"imbalances.downsample.random_forest\"></a>\n",
    "#### Случайный лес"
   ]
  },
  {
   "cell_type": "code",
   "execution_count": 30,
   "metadata": {},
   "outputs": [
    {
     "name": "stdout",
     "output_type": "stream",
     "text": [
      "Лучшее значение F1-меры: 0.6092184368737475 при параметрах {'n_estimators': 10, 'max_depth': 4}\n",
      "Значение AUC-ROC: 0.8354975834598564\n"
     ]
    }
   ],
   "source": [
    "random_forest_predictor = churn_score_predictor_factory.new_predictor(RandomForestClassifier)\n",
    "\n",
    "for max_depth in range(2, 11, 1):\n",
    "    for estim in range(10, 51, 10):\n",
    "        random_forest_predictor.predict_score(n_estimators=estim, max_depth=max_depth)\n",
    "\n",
    "print(random_forest_predictor)"
   ]
  },
  {
   "cell_type": "markdown",
   "metadata": {},
   "source": [
    "**Вывод**: Наилучшее значение F1-меры 0.61, что ниже, чем при upsampling"
   ]
  },
  {
   "cell_type": "markdown",
   "metadata": {},
   "source": [
    "<a name=\"imbalances.downsample.logistic_regression\"></a>\n",
    "#### Логистическая регрессия"
   ]
  },
  {
   "cell_type": "code",
   "execution_count": 31,
   "metadata": {},
   "outputs": [
    {
     "name": "stdout",
     "output_type": "stream",
     "text": [
      "Лучшее значение F1-меры: 0.48578811369509034 при параметрах {'solver': 'newton-cg'}\n",
      "Значение AUC-ROC: 0.7623186082664425\n"
     ]
    }
   ],
   "source": [
    "logistic_regression_predictor = churn_score_predictor_factory.new_predictor(LogisticRegression)\n",
    "\n",
    "for solver in ('newton-cg', 'lbfgs', 'liblinear'):\n",
    "    score = logistic_regression_predictor.predict_score(solver=solver)\n",
    "    \n",
    "print(logistic_regression_predictor)"
   ]
  },
  {
   "cell_type": "markdown",
   "metadata": {},
   "source": [
    "<a name=\"imbalances.class_weight\"></a>\n",
    "### Взвешивание классов"
   ]
  },
  {
   "cell_type": "markdown",
   "metadata": {},
   "source": [
    "Придадим больший вес объектам редкого класса 1 используя гиперпараметр `class_weight` = 'balanced'."
   ]
  },
  {
   "cell_type": "code",
   "execution_count": 32,
   "metadata": {},
   "outputs": [
    {
     "name": "stdout",
     "output_type": "stream",
     "text": [
      "размер features_train: (6000, 11)\n",
      "размер target_train: (6000,)\n",
      "размер features_valid: (2000, 11)\n",
      "размер target_valid: (2000,)\n",
      "размер features_test: (2000, 11)\n",
      "размер target_test: (2000,)\n"
     ]
    }
   ],
   "source": [
    "features_train, target_train, features_valid, target_valid, features_test, target_test = split_df(churn_df)\n",
    "churn_score_predictor_factory = ScorePredictorFactory(features_train, target_train, features_valid, target_valid)"
   ]
  },
  {
   "cell_type": "markdown",
   "metadata": {},
   "source": [
    "<a name=\"imbalances.class_weight.decision_tree\"></a>\n",
    "#### Дерево решений "
   ]
  },
  {
   "cell_type": "code",
   "execution_count": 33,
   "metadata": {},
   "outputs": [
    {
     "name": "stdout",
     "output_type": "stream",
     "text": [
      "Лучшее значение F1-меры: 0.5963791267305644 при параметрах {'max_depth': 5, 'class_weight': 'balanced'}\n",
      "Значение AUC-ROC: 0.8310244134068074\n"
     ]
    }
   ],
   "source": [
    "decision_tree_predictor = churn_score_predictor_factory.new_predictor(DecisionTreeClassifier)\n",
    "\n",
    "for max_depth in range(2, 21, 1):\n",
    "    score = decision_tree_predictor.predict_score(max_depth=max_depth, class_weight='balanced')\n",
    "\n",
    "print(decision_tree_predictor)"
   ]
  },
  {
   "cell_type": "markdown",
   "metadata": {},
   "source": [
    "**Вывод**: При гиперпараметрах `{'max_depth': 5, 'class_weight': 'balanced'}` наблюдаем наилучшее значение F1-меры 0.60 для  дерева решений"
   ]
  },
  {
   "cell_type": "markdown",
   "metadata": {},
   "source": [
    "<a name=\"imbalances.class_weight.random_forest\"></a>\n",
    "#### Случайный лес"
   ]
  },
  {
   "cell_type": "code",
   "execution_count": 34,
   "metadata": {},
   "outputs": [
    {
     "name": "stdout",
     "output_type": "stream",
     "text": [
      "Лучшее значение F1-меры: 0.6319526627218934 при параметрах {'n_estimators': 40, 'max_depth': 10, 'class_weight': 'balanced'}\n",
      "Значение AUC-ROC: 0.851251217343439\n"
     ]
    }
   ],
   "source": [
    "random_forest_predictor = churn_score_predictor_factory.new_predictor(RandomForestClassifier)\n",
    "\n",
    "for max_depth in range(2, 11, 1):\n",
    "    for estim in range(10, 51, 10):\n",
    "        random_forest_predictor.predict_score(n_estimators=estim, max_depth=max_depth, class_weight='balanced')\n",
    "\n",
    "print(random_forest_predictor)"
   ]
  },
  {
   "cell_type": "markdown",
   "metadata": {},
   "source": [
    "**Вывод**: При гиперпараметрах `{'n_estimators': 40, 'max_depth': 9, 'class_weight': 'balanced'}` наблюдаем наилучшее значение F1-меры 0.63 для случайного леса "
   ]
  },
  {
   "cell_type": "markdown",
   "metadata": {},
   "source": [
    "<a name=\"imbalances.class_weight.logistic_regression\"></a>\n",
    "#### Логистическая регрессия"
   ]
  },
  {
   "cell_type": "code",
   "execution_count": 35,
   "metadata": {},
   "outputs": [
    {
     "name": "stdout",
     "output_type": "stream",
     "text": [
      "Лучшее значение F1-меры: 0.48843187660668386 при параметрах {'solver': 'newton-cg', 'class_weight': 'balanced'}\n",
      "Значение AUC-ROC: 0.7636629788469564\n"
     ]
    }
   ],
   "source": [
    "logistic_regression_predictor = churn_score_predictor_factory.new_predictor(LogisticRegression)\n",
    "\n",
    "for solver in ('newton-cg', 'lbfgs', 'liblinear'):\n",
    "    score = logistic_regression_predictor.predict_score(solver=solver, class_weight='balanced')\n",
    "    \n",
    "print(logistic_regression_predictor)"
   ]
  },
  {
   "cell_type": "markdown",
   "metadata": {},
   "source": [
    "**Вывод**: При гиперпараметрах `{'solver': 'newton-cg', 'class_weight': 'balanced'}` наблюдаем наилучшее значение F1-меры 0.49 для логистической регрессии "
   ]
  },
  {
   "cell_type": "markdown",
   "metadata": {},
   "source": [
    "<a name=\"imbalances.conclusion\"></a>\n",
    "### Вывод"
   ]
  },
  {
   "cell_type": "markdown",
   "metadata": {},
   "source": [
    "Лучшим методом борьбы с дисбалансом классов оказалось взвешивание классов, т.е. выставление большего веса меньшему классу.  \n",
    "А самая лучшая модель - случайный лес с гиперпараметрами `{'n_estimators': 40, 'max_depth': 9, 'class_weight': 'balanced'}`.   \n",
    "Теперь осталось протестировать модель "
   ]
  },
  {
   "cell_type": "markdown",
   "metadata": {},
   "source": [
    "<div class=\"alert alert-block alert-success\">\n",
    "<b>Успех:</b> Отлично, все нужные практики для борьбы с дисбалансом были использованы корректно, выводы логичны.\n",
    "</div>"
   ]
  },
  {
   "cell_type": "markdown",
   "metadata": {},
   "source": [
    "<a name=\"test_model\"></a>\n",
    "## Тестирование модели"
   ]
  },
  {
   "cell_type": "markdown",
   "metadata": {},
   "source": [
    "Протестируем модель на тестовой выборке:"
   ]
  },
  {
   "cell_type": "code",
   "execution_count": 36,
   "metadata": {},
   "outputs": [
    {
     "name": "stdout",
     "output_type": "stream",
     "text": [
      "размер features_train: (6000, 11)\n",
      "размер target_train: (6000,)\n",
      "размер features_valid: (2000, 11)\n",
      "размер target_valid: (2000,)\n",
      "размер features_test: (2000, 11)\n",
      "размер target_test: (2000,)\n",
      "F1-score valid: 0.6348501664816871\n",
      "F1-score test: 0.6165577342047931\n"
     ]
    }
   ],
   "source": [
    "features_train, target_train, features_valid, target_valid, features_test, target_test = split_df(churn_df)\n",
    "\n",
    "model = RandomForestClassifier(n_estimators=100, max_depth=8, class_weight='balanced', random_state=RANDOM_STATE)\n",
    "model.fit(features_train, target_train)\n",
    "\n",
    "predictions_valid = model.predict(features_valid)\n",
    "print('F1-score valid:', f1_score(target_valid, predictions_valid))\n",
    "\n",
    "predictions_test = model.predict(features_test)\n",
    "print('F1-score test:', f1_score(target_test, predictions_test))"
   ]
  },
  {
   "cell_type": "markdown",
   "metadata": {},
   "source": [
    "Отлично, получили значение 0.62 на тестовой выборке, что выше, чем требования задания.  \n",
    "Посчитаем AUC-ROC для нашей модели и сравним со значением для случайной модели (0.5)"
   ]
  },
  {
   "cell_type": "code",
   "execution_count": 37,
   "metadata": {},
   "outputs": [
    {
     "name": "stdout",
     "output_type": "stream",
     "text": [
      "ROC-AUC score: 0.8557122895734912\n"
     ]
    }
   ],
   "source": [
    "print('ROC-AUC score: {}'.format(get_auc_roc_score(model, features_valid, target_valid)))"
   ]
  },
  {
   "cell_type": "markdown",
   "metadata": {},
   "source": [
    "Наша модель дает довольно большее значение AUC-ROC - 0.85, большее чем случайная модель"
   ]
  },
  {
   "cell_type": "markdown",
   "metadata": {},
   "source": [
    "<div class=\"alert alert-block alert-success\">\n",
    "<b>Успех:</b> Хорошая работа, тебе удалось достичь высокого качества!\n",
    " <br></div>\n",
    " "
   ]
  },
  {
   "cell_type": "markdown",
   "metadata": {},
   "source": [
    "# Чек-лист готовности проекта"
   ]
  },
  {
   "cell_type": "markdown",
   "metadata": {},
   "source": [
    "Поставьте 'x' в выполненных пунктах. Далее нажмите Shift+Enter."
   ]
  },
  {
   "cell_type": "markdown",
   "metadata": {},
   "source": [
    "- [x]  Jupyter Notebook открыт\n",
    "- [x]  Весь код выполняется без ошибок\n",
    "- [x]  Ячейки с кодом расположены в порядке исполнения\n",
    "- [x]  Выполнен шаг 1: данные подготовлены\n",
    "- [x]  Выполнен шаг 2: задача исследована\n",
    "    - [x]  Исследован баланс классов\n",
    "    - [x]  Изучены модели без учёта дисбаланса\n",
    "    - [x]  Написаны выводы по результатам исследования\n",
    "- [x]  Выполнен шаг 3: учтён дисбаланс\n",
    "    - [x]  Применено несколько способов борьбы с дисбалансом\n",
    "    - [x]  Написаны выводы по результатам исследования\n",
    "- [x]  Выполнен шаг 4: проведено тестирование\n",
    "- [x]  Удалось достичь *F1*-меры не менее 0.59\n",
    "- [x]  Исследована метрика *AUC-ROC*"
   ]
  },
  {
   "cell_type": "code",
   "execution_count": null,
   "metadata": {},
   "outputs": [],
   "source": []
  }
 ],
 "metadata": {
  "kernelspec": {
   "display_name": "Python 3",
   "language": "python",
   "name": "python3"
  },
  "language_info": {
   "codemirror_mode": {
    "name": "ipython",
    "version": 3
   },
   "file_extension": ".py",
   "mimetype": "text/x-python",
   "name": "python",
   "nbconvert_exporter": "python",
   "pygments_lexer": "ipython3",
   "version": "3.7.6"
  }
 },
 "nbformat": 4,
 "nbformat_minor": 2
}
